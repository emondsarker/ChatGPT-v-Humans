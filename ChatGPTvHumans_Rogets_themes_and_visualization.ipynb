{
  "nbformat": 4,
  "nbformat_minor": 0,
  "metadata": {
    "colab": {
      "provenance": []
    },
    "kernelspec": {
      "name": "python3",
      "display_name": "Python 3"
    },
    "language_info": {
      "name": "python"
    }
  },
  "cells": [
    {
      "cell_type": "code",
      "execution_count": 1,
      "metadata": {
        "id": "FnS03xwDD05E"
      },
      "outputs": [],
      "source": [
        "import pandas as pd"
      ]
    },
    {
      "cell_type": "code",
      "source": [
        "# df = pd.read_csv('/content/drive/MyDrive/ChatGPTvHumans/Uncle Rogets/clean_humans_v_davinci_rogets.csv')\n",
        "df = pd.read_csv('/content/drive/MyDrive/ChatGPTvHumans/Uncle Rogets/stackoverflow_v_chatgpt_rogets.csv')\n",
        "df.head()"
      ],
      "metadata": {
        "colab": {
          "base_uri": "https://localhost:8080/",
          "height": 354
        },
        "id": "28iW9zawKjoo",
        "outputId": "8e35de87-cbbb-4ad8-d3ba-524034ac7dd5"
      },
      "execution_count": 92,
      "outputs": [
        {
          "output_type": "execute_result",
          "data": {
            "text/plain": [
              "   Unnamed: 0                                              human  \\\n",
              "0           0  [There are several ways to solve a system of l...   \n",
              "1           1  In Visual Studio 2003, it is not possible to w...   \n",
              "2           2  Here's an equivalent LINQ query to the SQL que...   \n",
              "3           3  There are several ways to handle concurrent ed...   \n",
              "4           4  You can detect which font is being used in a w...   \n",
              "\n",
              "                                             chatgpt  \\\n",
              "0  A solution, albeit one that defers handling of...   \n",
              "1  If you expect infrequent collisions, Optimisti...   \n",
              "2  I've seen it done in a kind of iffy, but prett...   \n",
              "3  You're looking for SandcastleProject Page: San...   \n",
              "4  Git is not better than Subversion. But is also...   \n",
              "\n",
              "                                        rogets_human  \\\n",
              "0  {('WORDS RELATING TO SPACE', 'B'): 87, ('WORDS...   \n",
              "1  {('WORDS RELATING TO THE SENTIMENT AND MORAL P...   \n",
              "2  {('WORDS RELATING TO THE INTELECTUAL FACULTIES...   \n",
              "3  {('WORDS RELATING TO SPACE', 'B'): 64, ('WORDS...   \n",
              "4  {('WORDS RELATING TO SPACE', 'B'): 33, ('WORDS...   \n",
              "\n",
              "                                      rogets_chatgpt  \n",
              "0  {('WORDS RELATING TO THE INTELECTUAL FACULTIES...  \n",
              "1  {('WORDS EXPRESSING ABSTRACT RELATIONS', 'A'):...  \n",
              "2  {('WORDS RELATING TO THE VOLUNTARY POWERS', 'E...  \n",
              "3  {('WORDS EXPRESSING ABSTRACT RELATIONS', 'A'):...  \n",
              "4  {('WORDS RELATING TO THE INTELECTUAL FACULTIES...  "
            ],
            "text/html": [
              "\n",
              "  <div id=\"df-dee0868a-ea8d-48e2-953f-7206f23a8906\">\n",
              "    <div class=\"colab-df-container\">\n",
              "      <div>\n",
              "<style scoped>\n",
              "    .dataframe tbody tr th:only-of-type {\n",
              "        vertical-align: middle;\n",
              "    }\n",
              "\n",
              "    .dataframe tbody tr th {\n",
              "        vertical-align: top;\n",
              "    }\n",
              "\n",
              "    .dataframe thead th {\n",
              "        text-align: right;\n",
              "    }\n",
              "</style>\n",
              "<table border=\"1\" class=\"dataframe\">\n",
              "  <thead>\n",
              "    <tr style=\"text-align: right;\">\n",
              "      <th></th>\n",
              "      <th>Unnamed: 0</th>\n",
              "      <th>human</th>\n",
              "      <th>chatgpt</th>\n",
              "      <th>rogets_human</th>\n",
              "      <th>rogets_chatgpt</th>\n",
              "    </tr>\n",
              "  </thead>\n",
              "  <tbody>\n",
              "    <tr>\n",
              "      <th>0</th>\n",
              "      <td>0</td>\n",
              "      <td>[There are several ways to solve a system of l...</td>\n",
              "      <td>A solution, albeit one that defers handling of...</td>\n",
              "      <td>{('WORDS RELATING TO SPACE', 'B'): 87, ('WORDS...</td>\n",
              "      <td>{('WORDS RELATING TO THE INTELECTUAL FACULTIES...</td>\n",
              "    </tr>\n",
              "    <tr>\n",
              "      <th>1</th>\n",
              "      <td>1</td>\n",
              "      <td>In Visual Studio 2003, it is not possible to w...</td>\n",
              "      <td>If you expect infrequent collisions, Optimisti...</td>\n",
              "      <td>{('WORDS RELATING TO THE SENTIMENT AND MORAL P...</td>\n",
              "      <td>{('WORDS EXPRESSING ABSTRACT RELATIONS', 'A'):...</td>\n",
              "    </tr>\n",
              "    <tr>\n",
              "      <th>2</th>\n",
              "      <td>2</td>\n",
              "      <td>Here's an equivalent LINQ query to the SQL que...</td>\n",
              "      <td>I've seen it done in a kind of iffy, but prett...</td>\n",
              "      <td>{('WORDS RELATING TO THE INTELECTUAL FACULTIES...</td>\n",
              "      <td>{('WORDS RELATING TO THE VOLUNTARY POWERS', 'E...</td>\n",
              "    </tr>\n",
              "    <tr>\n",
              "      <th>3</th>\n",
              "      <td>3</td>\n",
              "      <td>There are several ways to handle concurrent ed...</td>\n",
              "      <td>You're looking for SandcastleProject Page: San...</td>\n",
              "      <td>{('WORDS RELATING TO SPACE', 'B'): 64, ('WORDS...</td>\n",
              "      <td>{('WORDS EXPRESSING ABSTRACT RELATIONS', 'A'):...</td>\n",
              "    </tr>\n",
              "    <tr>\n",
              "      <th>4</th>\n",
              "      <td>4</td>\n",
              "      <td>You can detect which font is being used in a w...</td>\n",
              "      <td>Git is not better than Subversion. But is also...</td>\n",
              "      <td>{('WORDS RELATING TO SPACE', 'B'): 33, ('WORDS...</td>\n",
              "      <td>{('WORDS RELATING TO THE INTELECTUAL FACULTIES...</td>\n",
              "    </tr>\n",
              "  </tbody>\n",
              "</table>\n",
              "</div>\n",
              "      <button class=\"colab-df-convert\" onclick=\"convertToInteractive('df-dee0868a-ea8d-48e2-953f-7206f23a8906')\"\n",
              "              title=\"Convert this dataframe to an interactive table.\"\n",
              "              style=\"display:none;\">\n",
              "        \n",
              "  <svg xmlns=\"http://www.w3.org/2000/svg\" height=\"24px\"viewBox=\"0 0 24 24\"\n",
              "       width=\"24px\">\n",
              "    <path d=\"M0 0h24v24H0V0z\" fill=\"none\"/>\n",
              "    <path d=\"M18.56 5.44l.94 2.06.94-2.06 2.06-.94-2.06-.94-.94-2.06-.94 2.06-2.06.94zm-11 1L8.5 8.5l.94-2.06 2.06-.94-2.06-.94L8.5 2.5l-.94 2.06-2.06.94zm10 10l.94 2.06.94-2.06 2.06-.94-2.06-.94-.94-2.06-.94 2.06-2.06.94z\"/><path d=\"M17.41 7.96l-1.37-1.37c-.4-.4-.92-.59-1.43-.59-.52 0-1.04.2-1.43.59L10.3 9.45l-7.72 7.72c-.78.78-.78 2.05 0 2.83L4 21.41c.39.39.9.59 1.41.59.51 0 1.02-.2 1.41-.59l7.78-7.78 2.81-2.81c.8-.78.8-2.07 0-2.86zM5.41 20L4 18.59l7.72-7.72 1.47 1.35L5.41 20z\"/>\n",
              "  </svg>\n",
              "      </button>\n",
              "      \n",
              "  <style>\n",
              "    .colab-df-container {\n",
              "      display:flex;\n",
              "      flex-wrap:wrap;\n",
              "      gap: 12px;\n",
              "    }\n",
              "\n",
              "    .colab-df-convert {\n",
              "      background-color: #E8F0FE;\n",
              "      border: none;\n",
              "      border-radius: 50%;\n",
              "      cursor: pointer;\n",
              "      display: none;\n",
              "      fill: #1967D2;\n",
              "      height: 32px;\n",
              "      padding: 0 0 0 0;\n",
              "      width: 32px;\n",
              "    }\n",
              "\n",
              "    .colab-df-convert:hover {\n",
              "      background-color: #E2EBFA;\n",
              "      box-shadow: 0px 1px 2px rgba(60, 64, 67, 0.3), 0px 1px 3px 1px rgba(60, 64, 67, 0.15);\n",
              "      fill: #174EA6;\n",
              "    }\n",
              "\n",
              "    [theme=dark] .colab-df-convert {\n",
              "      background-color: #3B4455;\n",
              "      fill: #D2E3FC;\n",
              "    }\n",
              "\n",
              "    [theme=dark] .colab-df-convert:hover {\n",
              "      background-color: #434B5C;\n",
              "      box-shadow: 0px 1px 3px 1px rgba(0, 0, 0, 0.15);\n",
              "      filter: drop-shadow(0px 1px 2px rgba(0, 0, 0, 0.3));\n",
              "      fill: #FFFFFF;\n",
              "    }\n",
              "  </style>\n",
              "\n",
              "      <script>\n",
              "        const buttonEl =\n",
              "          document.querySelector('#df-dee0868a-ea8d-48e2-953f-7206f23a8906 button.colab-df-convert');\n",
              "        buttonEl.style.display =\n",
              "          google.colab.kernel.accessAllowed ? 'block' : 'none';\n",
              "\n",
              "        async function convertToInteractive(key) {\n",
              "          const element = document.querySelector('#df-dee0868a-ea8d-48e2-953f-7206f23a8906');\n",
              "          const dataTable =\n",
              "            await google.colab.kernel.invokeFunction('convertToInteractive',\n",
              "                                                     [key], {});\n",
              "          if (!dataTable) return;\n",
              "\n",
              "          const docLinkHtml = 'Like what you see? Visit the ' +\n",
              "            '<a target=\"_blank\" href=https://colab.research.google.com/notebooks/data_table.ipynb>data table notebook</a>'\n",
              "            + ' to learn more about interactive tables.';\n",
              "          element.innerHTML = '';\n",
              "          dataTable['output_type'] = 'display_data';\n",
              "          await google.colab.output.renderOutput(dataTable, element);\n",
              "          const docLink = document.createElement('div');\n",
              "          docLink.innerHTML = docLinkHtml;\n",
              "          element.appendChild(docLink);\n",
              "        }\n",
              "      </script>\n",
              "    </div>\n",
              "  </div>\n",
              "  "
            ]
          },
          "metadata": {},
          "execution_count": 92
        }
      ]
    },
    {
      "cell_type": "code",
      "source": [
        "rogets_human = df['rogets_human']\n",
        "rogets_davinci = df['rogets_chatgpt']"
      ],
      "metadata": {
        "id": "z_eA_Ee6Kpn_"
      },
      "execution_count": 93,
      "outputs": []
    },
    {
      "cell_type": "code",
      "source": [
        "cleaned_rogets_human = []\n",
        "cleaned_rogets_davinci = []\n",
        "for value in rogets_human:\n",
        "  value = value[:len(value)-1]\n",
        "  cleaned_rogets_human.append(value)\n",
        "\n",
        "for value in rogets_davinci:\n",
        "  value = value[:len(value)-1]\n",
        "  cleaned_rogets_davinci.append(value)"
      ],
      "metadata": {
        "id": "5Xo1l1HJKzCq"
      },
      "execution_count": 94,
      "outputs": []
    },
    {
      "cell_type": "markdown",
      "source": [
        "## 6 rogets categories\n",
        "\n",
        "- WORDS EXPRESSING ABSTRACT RELATIONS\n",
        "- WORDS RELATING TO SPACE\n",
        "- WORDS RELATING TO MATTER\n",
        "- WORDS RELATING TO THE INTELLECTUAL FACULTIES\n",
        "- WORDS RELATING TO THE VOLUNTARY POWERS\n",
        "- WORDS RELATING TO THE SENTIMENT AND MORAL POWERS"
      ],
      "metadata": {
        "id": "yTC3_cWKPi9p"
      }
    },
    {
      "cell_type": "code",
      "source": [
        "cleaned_rogets_human[8]"
      ],
      "metadata": {
        "colab": {
          "base_uri": "https://localhost:8080/",
          "height": 70
        },
        "id": "9oZzg9yHRxT5",
        "outputId": "9484f07d-5a93-465f-fb0d-dfec2996f442"
      },
      "execution_count": 95,
      "outputs": [
        {
          "output_type": "execute_result",
          "data": {
            "text/plain": [
              "\"{('ORGANIC MATTER', '15'): 29, ('WORDS EXPRESSING ABSTRACT RELATIONS', 'A'): 199, ('WORDS RELATING TO THE INTELECTUAL FACULTIES', 'D'): 77, ('WORDS RELATING TO THE SENTIMENT AND MORAL POWERS', 'F'): 119, ('WORDS RELATING TO THE VOLUNTARY POWERS', 'E'): 221, ('WORDS RELATING TO SPACE', 'B'): 151, ('WORDS RELATING TO MATTER', 'C'): 18, ('SENSATION', 'av'): 6}\""
            ],
            "application/vnd.google.colaboratory.intrinsic+json": {
              "type": "string"
            }
          },
          "metadata": {},
          "execution_count": 95
        }
      ]
    },
    {
      "cell_type": "code",
      "source": [
        "from abc import abstractstaticmethod\n",
        "import json\n",
        "import ast\n",
        "\n",
        "# Rogets themes\n",
        "abstract_relations = 0\n",
        "space = 0\n",
        "organic_matter = 0\n",
        "matter = 0\n",
        "intellectual_faculties = 0\n",
        "voluntary_powers = 0\n",
        "sentiment_moral_powers = 0\n",
        "sensation = 0\n",
        "others = 0\n",
        "\n",
        "i = 0\n",
        "for value in cleaned_rogets_human:\n",
        "  if cleaned_rogets_human[i] != 'Non':\n",
        "    json_value = ast.literal_eval(str(value))\n",
        "    list_value = list(json_value.items())\n",
        "    # print(list_value)\n",
        "    for j in range(len(list_value)):\n",
        "      theme = list_value[j][0][0]\n",
        "      count =  list_value[j][1]\n",
        "      \n",
        "      if theme == 'WORDS EXPRESSING ABSTRACT RELATIONS':\n",
        "        abstract_relations = abstract_relations + count\n",
        "      elif theme == 'WORDS RELATING TO SPACE':\n",
        "        space = space + count\n",
        "      elif theme == 'WORDS RELATING TO MATTER':\n",
        "        matter = matter + count\n",
        "      elif theme == 'ORGANIC MATTER':\n",
        "        organic_matter = organic_matter + count\n",
        "      elif theme == 'SENSATION':\n",
        "        sensation = sensation + count\n",
        "      elif theme == 'WORDS RELATING TO THE INTELECTUAL FACULTIES':\n",
        "        intellectual_faculties = intellectual_faculties + count\n",
        "      elif theme == 'WORDS RELATING TO THE VOLUNTARY POWERS':\n",
        "        voluntary_powers = voluntary_powers + count\n",
        "      elif theme == 'WORDS RELATING TO THE SENTIMENT AND MORAL POWERS':\n",
        "        sentiment_moral_powers = sentiment_moral_powers + count\n",
        "      else:\n",
        "        print(theme)\n",
        "        others = others + count\n",
        "  i = i + 1\n",
        "  # if i == 2:\n",
        "  #   break\n",
        "print(\"HUMAN categories\")\n",
        "print(\"abstract_relations\",abstract_relations)\n",
        "print(\"space\",space)\n",
        "print(\"matter\",matter)\n",
        "print(\"organic_matter\",organic_matter)\n",
        "print(\"Sensation\",sensation)\n",
        "print(\"intellectual_faculties\",intellectual_faculties)\n",
        "print(\"voluntary_powers\",voluntary_powers)\n",
        "print(\"sentiment_moral_powers\",sentiment_moral_powers)\n",
        "print(\"others\",others)"
      ],
      "metadata": {
        "colab": {
          "base_uri": "https://localhost:8080/"
        },
        "id": "wpzjSJqXO0n5",
        "outputId": "05fd5c47-4c39-424c-bd6c-fb9cda17459d"
      },
      "execution_count": 96,
      "outputs": [
        {
          "output_type": "stream",
          "name": "stdout",
          "text": [
            "HUMAN categories\n",
            "abstract_relations 172852\n",
            "space 75922\n",
            "matter 11967\n",
            "organic_matter 7751\n",
            "Sensation 4448\n",
            "intellectual_faculties 84249\n",
            "voluntary_powers 183499\n",
            "sentiment_moral_powers 94103\n",
            "others 0\n"
          ]
        }
      ]
    },
    {
      "cell_type": "code",
      "source": [
        "import matplotlib.pyplot as plt\n",
        "import numpy as np\n",
        "\n",
        "# create an array of values\n",
        "values = np.array([172852, 75922, 11967, 84249, 183499, 94103])\n",
        "\n",
        "# create an array of labels for the x-axis\n",
        "labels = ['abstract_relations', 'space', 'matter', 'intellectual_faculties', 'voluntary_powers', 'sentiment_moral_powers']\n",
        "\n",
        "# create a bar chart using matplotlib\n",
        "plt.bar(labels, values, color='purple')\n",
        "\n",
        "# set the title of the chart\n",
        "plt.title('Rogets Categories in HUMAN speech')\n",
        "\n",
        "# set the labels for the x-axis and y-axis\n",
        "plt.xlabel('X-axis Label')\n",
        "plt.ylabel('Y-axis Label')\n",
        "plt.xticks(rotation=45, ha='right')\n",
        "# display the chart\n",
        "plt.show()"
      ],
      "metadata": {
        "colab": {
          "base_uri": "https://localhost:8080/",
          "height": 382
        },
        "id": "abl3VK2JW13O",
        "outputId": "5f734228-1c88-4e32-c2b8-62f3aac1ce55"
      },
      "execution_count": 97,
      "outputs": [
        {
          "output_type": "display_data",
          "data": {
            "text/plain": [
              "<Figure size 432x288 with 1 Axes>"
            ],
            "image/png": "[encoded data removed]"
          },
          "metadata": {
            "needs_background": "light"
          }
        }
      ]
    },
    {
      "cell_type": "code",
      "source": [
        "from abc import abstractstaticmethod\n",
        "import json\n",
        "import ast\n",
        "\n",
        "# Rogets themes\n",
        "abstract_relations = 0\n",
        "space = 0\n",
        "organic_matter = 0\n",
        "matter = 0\n",
        "intellectual_faculties = 0\n",
        "voluntary_powers = 0\n",
        "sentiment_moral_powers = 0\n",
        "sensation = 0\n",
        "others = 0\n",
        "\n",
        "i = 0\n",
        "for value in cleaned_rogets_davinci:\n",
        "  if cleaned_rogets_davinci[i] != 'Non':\n",
        "    json_value = ast.literal_eval(str(value))\n",
        "    list_value = list(json_value.items())\n",
        "    # print(list_value)\n",
        "    for j in range(len(list_value)):\n",
        "      theme = list_value[j][0][0]\n",
        "      count =  list_value[j][1]\n",
        "      \n",
        "      if theme == 'WORDS EXPRESSING ABSTRACT RELATIONS':\n",
        "        abstract_relations = abstract_relations + count\n",
        "      elif theme == 'WORDS RELATING TO SPACE':\n",
        "        space = space + count\n",
        "      elif theme == 'WORDS RELATING TO MATTER':\n",
        "        matter = matter + count\n",
        "      elif theme == 'ORGANIC MATTER':\n",
        "        organic_matter = organic_matter + count\n",
        "      elif theme == 'SENSATION':\n",
        "        sensation = sensation + count\n",
        "      elif theme == 'WORDS RELATING TO THE INTELECTUAL FACULTIES':\n",
        "        intellectual_faculties = intellectual_faculties + count\n",
        "      elif theme == 'WORDS RELATING TO THE VOLUNTARY POWERS':\n",
        "        voluntary_powers = voluntary_powers + count\n",
        "      elif theme == 'WORDS RELATING TO THE SENTIMENT AND MORAL POWERS':\n",
        "        sentiment_moral_powers = sentiment_moral_powers + count\n",
        "      else:\n",
        "        print(theme)\n",
        "        others = others + count\n",
        "  i = i + 1\n",
        "  # if i == 2:\n",
        "  #   break\n",
        "print(\"HUMAN categories\")\n",
        "print(\"abstract_relations\",abstract_relations)\n",
        "print(\"space\",space)\n",
        "print(\"matter\",matter)\n",
        "print(\"organic_matter\",organic_matter)\n",
        "print(\"Sensation\",sensation)\n",
        "print(\"intellectual_faculties\",intellectual_faculties)\n",
        "print(\"voluntary_powers\",voluntary_powers)\n",
        "print(\"sentiment_moral_powers\",sentiment_moral_powers)\n",
        "print(\"others\",others)"
      ],
      "metadata": {
        "colab": {
          "base_uri": "https://localhost:8080/"
        },
        "id": "JJR2xyVCWe7J",
        "outputId": "adbea9ee-2c3c-4fc4-b46c-6e4b4276682d"
      },
      "execution_count": 98,
      "outputs": [
        {
          "output_type": "stream",
          "name": "stdout",
          "text": [
            "HUMAN categories\n",
            "abstract_relations 81776\n",
            "space 36436\n",
            "matter 7083\n",
            "organic_matter 3954\n",
            "Sensation 1589\n",
            "intellectual_faculties 45231\n",
            "voluntary_powers 82769\n",
            "sentiment_moral_powers 43832\n",
            "others 0\n"
          ]
        }
      ]
    },
    {
      "cell_type": "code",
      "source": [
        "import matplotlib.pyplot as plt\n",
        "import numpy as np\n",
        "\n",
        "# create an array of values\n",
        "values = np.array([81776, 36436, 7083, 45231, 82769, 43832])\n",
        "\n",
        "# create an array of labels for the x-axis\n",
        "['abstract_relations', 'space', 'matter', 'organic_matter','sensation', 'intellectual_faculties', 'voluntary_powers', 'sentiment_moral_powers']\n",
        "\n",
        "# create a bar chart using matplotlib\n",
        "plt.bar(labels, values, color='limegreen')\n",
        "\n",
        "# set the title of the chart\n",
        "plt.title('Rogets Categories in davinci speech')\n",
        "\n",
        "# set the labels for the x-axis and y-axis\n",
        "plt.xlabel('X-axis Label')\n",
        "plt.ylabel('Y-axis Label')\n",
        "plt.xticks(rotation=45, ha='right')\n",
        "# display the chart\n",
        "plt.show()"
      ],
      "metadata": {
        "colab": {
          "base_uri": "https://localhost:8080/",
          "height": 382
        },
        "id": "plIgu9Draz9j",
        "outputId": "494eb778-a7cf-4d85-e8cd-0c529483cd33"
      },
      "execution_count": 99,
      "outputs": [
        {
          "output_type": "display_data",
          "data": {
            "text/plain": [
              "<Figure size 432x288 with 1 Axes>"
            ],
            "image/png": "[encoded data removed]"
          },
          "metadata": {
            "needs_background": "light"
          }
        }
      ]
    },
    {
      "cell_type": "code",
      "source": [
        "import seaborn as sns\n",
        "import matplotlib.pyplot as plt\n",
        "import pandas as pd\n",
        "\n",
        "# Define the data\n",
        "data = {'Class': ['abstract_relations', 'space', 'matter', 'intellectual_faculties', 'voluntary_powers', 'sentiment_moral_powers'],\n",
        "        'Human': [172852, 75922, 11967, 84249, 183499, 94103],\n",
        "        'ChatGPT': [81776, 36436, 7083, 45231, 82769, 43832]}\n",
        "\n",
        "# Convert the data to a pandas DataFrame\n",
        "df = pd.DataFrame(data)\n",
        "\n",
        "# Set the index to be the 'Class' column\n",
        "df = df.set_index('Class')\n",
        "\n",
        "# Create the heatmap using seaborn\n",
        "sns.heatmap(df, cmap='coolwarm')\n",
        "\n",
        "# Add a title\n",
        "plt.title('Frequency of Rogets Themes')\n",
        "\n",
        "# Show the plot\n",
        "plt.show()"
      ],
      "metadata": {
        "colab": {
          "base_uri": "https://localhost:8080/",
          "height": 281
        },
        "id": "wH7J93Gx3VDG",
        "outputId": "f98ee455-7956-48e4-d118-eec96a8af9b5"
      },
      "execution_count": 100,
      "outputs": [
        {
          "output_type": "display_data",
          "data": {
            "text/plain": [
              "<Figure size 432x288 with 2 Axes>"
            ],
            "image/png": "[encoded data removed]"
          },
          "metadata": {
            "needs_background": "light"
          }
        }
      ]
    },
    {
      "cell_type": "markdown",
      "source": [
        "### Normalized Plots"
      ],
      "metadata": {
        "id": "9NsJHqpF5NU2"
      }
    },
    {
      "cell_type": "code",
      "source": [
        "import numpy as np\n",
        "\n",
        "arr = np.array([172852, 75922, 11967, 84249, 183499, 94103])\n",
        "min_value = np.min(arr)\n",
        "max_value = np.max(arr)\n",
        "normalized_arr = (arr - min_value) / (max_value - min_value)\n",
        "print('Original array:', arr)\n",
        "print('Normalized array:', normalized_arr)\n",
        "human_arr = normalized_arr\n",
        "\n",
        "arr = np.array([81776, 36436, 7083, 45231, 82769, 43832])\n",
        "min_value = np.min(arr)\n",
        "max_value = np.max(arr)\n",
        "normalized_arr = (arr - min_value) / (max_value - min_value)\n",
        "print('Original array:', arr)\n",
        "print('Normalized array:', normalized_arr)\n",
        "davinci_arr = normalized_arr\n",
        "\n",
        "\n",
        "# Define the data\n",
        "data = {'Class': ['abstract_relations', 'space', 'matter', 'intellectual_faculties', 'voluntary_powers', 'sentiment_moral_powers'],\n",
        "        'Human': human_arr,\n",
        "        'ChatGPT': davinci_arr}\n",
        "\n",
        "# Convert the data to a pandas DataFrame\n",
        "df = pd.DataFrame(data)\n",
        "\n",
        "# Set the index to be the 'Class' column\n",
        "df = df.set_index('Class')\n",
        "\n",
        "# Create the heatmap using seaborn\n",
        "sns.heatmap(df, cmap='coolwarm', annot=True)\n",
        "\n",
        "# Add a title\n",
        "plt.title('(Normalized) Frequency of Rogets Themes')\n",
        "\n",
        "# Show the plot\n",
        "plt.show()"
      ],
      "metadata": {
        "colab": {
          "base_uri": "https://localhost:8080/",
          "height": 350
        },
        "id": "PjmP5vVv5Pnj",
        "outputId": "efb627e7-d939-42f1-d929-2e17f77607b7"
      },
      "execution_count": 101,
      "outputs": [
        {
          "output_type": "stream",
          "name": "stdout",
          "text": [
            "Original array: [172852  75922  11967  84249 183499  94103]\n",
            "Normalized array: [0.93792995 0.37284588 0.         0.42139076 1.         0.47883777]\n",
            "Original array: [81776 36436  7083 45231 82769 43832]\n",
            "Normalized array: [0.98688    0.38782602 0.         0.50402981 1.         0.48554554]\n"
          ]
        },
        {
          "output_type": "display_data",
          "data": {
            "text/plain": [
              "<Figure size 432x288 with 2 Axes>"
            ],
            "image/png": "[encoded data removed]"
          },
          "metadata": {
            "needs_background": "light"
          }
        }
      ]
    }
  ]
}