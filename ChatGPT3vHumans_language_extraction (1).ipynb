{
  "nbformat": 4,
  "nbformat_minor": 0,
  "metadata": {
    "colab": {
      "provenance": [],
      "collapsed_sections": [
        "BILwi5E8L3fo",
        "RSTi7URXMctr"
      ],
      "toc_visible": true
    },
    "kernelspec": {
      "name": "python3",
      "display_name": "Python 3"
    },
    "language_info": {
      "name": "python"
    }
  },
  "cells": [
    {
      "cell_type": "markdown",
      "source": [
        "# ChatGPT-3 v Humans\n",
        "\n",
        "Performing lexical-semantical analysis of chatGPT-3 and humans"
      ],
      "metadata": {
        "id": "bnBpRRncUrIo"
      }
    },
    {
      "cell_type": "code",
      "source": [
        "# all imports \n",
        "import numpy as np\n",
        "import pandas as pd\n",
        "import nltk\n",
        "from nltk.stem import WordNetLemmatizer\n",
        "from sklearn.feature_extraction.text import CountVectorizer\n",
        "import matplotlib.pyplot as plt\n",
        "import re\n",
        "import unicodedata\n",
        "import time"
      ],
      "metadata": {
        "id": "NdPeaMfvsUaV"
      },
      "execution_count": 150,
      "outputs": []
    },
    {
      "cell_type": "code",
      "source": [
        "nltk.download('all')"
      ],
      "metadata": {
        "colab": {
          "base_uri": "https://localhost:8080/"
        },
        "id": "NEMwuu2PFN8f",
        "outputId": "80d9d546-dc6c-4cbb-b19f-f59b559794d1"
      },
      "execution_count": 2,
      "outputs": [
        {
          "output_type": "stream",
          "name": "stderr",
          "text": [
            "[nltk_data] Downloading collection 'all'\n",
            "[nltk_data]    | \n",
            "[nltk_data]    | Downloading package abc to /root/nltk_data...\n",
            "[nltk_data]    |   Unzipping corpora/abc.zip.\n",
            "[nltk_data]    | Downloading package alpino to /root/nltk_data...\n",
            "[nltk_data]    |   Unzipping corpora/alpino.zip.\n",
            "[nltk_data]    | Downloading package averaged_perceptron_tagger to\n",
            "[nltk_data]    |     /root/nltk_data...\n",
            "[nltk_data]    |   Unzipping taggers/averaged_perceptron_tagger.zip.\n",
            "[nltk_data]    | Downloading package averaged_perceptron_tagger_ru to\n",
            "[nltk_data]    |     /root/nltk_data...\n",
            "[nltk_data]    |   Unzipping\n",
            "[nltk_data]    |       taggers/averaged_perceptron_tagger_ru.zip.\n",
            "[nltk_data]    | Downloading package basque_grammars to\n",
            "[nltk_data]    |     /root/nltk_data...\n",
            "[nltk_data]    |   Unzipping grammars/basque_grammars.zip.\n",
            "[nltk_data]    | Downloading package bcp47 to /root/nltk_data...\n",
            "[nltk_data]    | Downloading package biocreative_ppi to\n",
            "[nltk_data]    |     /root/nltk_data...\n",
            "[nltk_data]    |   Unzipping corpora/biocreative_ppi.zip.\n",
            "[nltk_data]    | Downloading package bllip_wsj_no_aux to\n",
            "[nltk_data]    |     /root/nltk_data...\n",
            "[nltk_data]    |   Unzipping models/bllip_wsj_no_aux.zip.\n",
            "[nltk_data]    | Downloading package book_grammars to\n",
            "[nltk_data]    |     /root/nltk_data...\n",
            "[nltk_data]    |   Unzipping grammars/book_grammars.zip.\n",
            "[nltk_data]    | Downloading package brown to /root/nltk_data...\n",
            "[nltk_data]    |   Unzipping corpora/brown.zip.\n",
            "[nltk_data]    | Downloading package brown_tei to /root/nltk_data...\n",
            "[nltk_data]    |   Unzipping corpora/brown_tei.zip.\n",
            "[nltk_data]    | Downloading package cess_cat to /root/nltk_data...\n",
            "[nltk_data]    |   Unzipping corpora/cess_cat.zip.\n",
            "[nltk_data]    | Downloading package cess_esp to /root/nltk_data...\n",
            "[nltk_data]    |   Unzipping corpora/cess_esp.zip.\n",
            "[nltk_data]    | Downloading package chat80 to /root/nltk_data...\n",
            "[nltk_data]    |   Unzipping corpora/chat80.zip.\n",
            "[nltk_data]    | Downloading package city_database to\n",
            "[nltk_data]    |     /root/nltk_data...\n",
            "[nltk_data]    |   Unzipping corpora/city_database.zip.\n",
            "[nltk_data]    | Downloading package cmudict to /root/nltk_data...\n",
            "[nltk_data]    |   Unzipping corpora/cmudict.zip.\n",
            "[nltk_data]    | Downloading package comparative_sentences to\n",
            "[nltk_data]    |     /root/nltk_data...\n",
            "[nltk_data]    |   Unzipping corpora/comparative_sentences.zip.\n",
            "[nltk_data]    | Downloading package comtrans to /root/nltk_data...\n",
            "[nltk_data]    | Downloading package conll2000 to /root/nltk_data...\n",
            "[nltk_data]    |   Unzipping corpora/conll2000.zip.\n",
            "[nltk_data]    | Downloading package conll2002 to /root/nltk_data...\n",
            "[nltk_data]    |   Unzipping corpora/conll2002.zip.\n",
            "[nltk_data]    | Downloading package conll2007 to /root/nltk_data...\n",
            "[nltk_data]    | Downloading package crubadan to /root/nltk_data...\n",
            "[nltk_data]    |   Unzipping corpora/crubadan.zip.\n",
            "[nltk_data]    | Downloading package dependency_treebank to\n",
            "[nltk_data]    |     /root/nltk_data...\n",
            "[nltk_data]    |   Unzipping corpora/dependency_treebank.zip.\n",
            "[nltk_data]    | Downloading package dolch to /root/nltk_data...\n",
            "[nltk_data]    |   Unzipping corpora/dolch.zip.\n",
            "[nltk_data]    | Downloading package europarl_raw to\n",
            "[nltk_data]    |     /root/nltk_data...\n",
            "[nltk_data]    |   Unzipping corpora/europarl_raw.zip.\n",
            "[nltk_data]    | Downloading package extended_omw to\n",
            "[nltk_data]    |     /root/nltk_data...\n",
            "[nltk_data]    | Downloading package floresta to /root/nltk_data...\n",
            "[nltk_data]    |   Unzipping corpora/floresta.zip.\n",
            "[nltk_data]    | Downloading package framenet_v15 to\n",
            "[nltk_data]    |     /root/nltk_data...\n",
            "[nltk_data]    |   Unzipping corpora/framenet_v15.zip.\n",
            "[nltk_data]    | Downloading package framenet_v17 to\n",
            "[nltk_data]    |     /root/nltk_data...\n",
            "[nltk_data]    |   Unzipping corpora/framenet_v17.zip.\n",
            "[nltk_data]    | Downloading package gazetteers to /root/nltk_data...\n",
            "[nltk_data]    |   Unzipping corpora/gazetteers.zip.\n",
            "[nltk_data]    | Downloading package genesis to /root/nltk_data...\n",
            "[nltk_data]    |   Unzipping corpora/genesis.zip.\n",
            "[nltk_data]    | Downloading package gutenberg to /root/nltk_data...\n",
            "[nltk_data]    |   Unzipping corpora/gutenberg.zip.\n",
            "[nltk_data]    | Downloading package ieer to /root/nltk_data...\n",
            "[nltk_data]    |   Unzipping corpora/ieer.zip.\n",
            "[nltk_data]    | Downloading package inaugural to /root/nltk_data...\n",
            "[nltk_data]    |   Unzipping corpora/inaugural.zip.\n",
            "[nltk_data]    | Downloading package indian to /root/nltk_data...\n",
            "[nltk_data]    |   Unzipping corpora/indian.zip.\n",
            "[nltk_data]    | Downloading package jeita to /root/nltk_data...\n",
            "[nltk_data]    | Downloading package kimmo to /root/nltk_data...\n",
            "[nltk_data]    |   Unzipping corpora/kimmo.zip.\n",
            "[nltk_data]    | Downloading package knbc to /root/nltk_data...\n",
            "[nltk_data]    | Downloading package large_grammars to\n",
            "[nltk_data]    |     /root/nltk_data...\n",
            "[nltk_data]    |   Unzipping grammars/large_grammars.zip.\n",
            "[nltk_data]    | Downloading package lin_thesaurus to\n",
            "[nltk_data]    |     /root/nltk_data...\n",
            "[nltk_data]    |   Unzipping corpora/lin_thesaurus.zip.\n",
            "[nltk_data]    | Downloading package mac_morpho to /root/nltk_data...\n",
            "[nltk_data]    |   Unzipping corpora/mac_morpho.zip.\n",
            "[nltk_data]    | Downloading package machado to /root/nltk_data...\n",
            "[nltk_data]    | Downloading package masc_tagged to /root/nltk_data...\n",
            "[nltk_data]    | Downloading package maxent_ne_chunker to\n",
            "[nltk_data]    |     /root/nltk_data...\n",
            "[nltk_data]    |   Unzipping chunkers/maxent_ne_chunker.zip.\n",
            "[nltk_data]    | Downloading package maxent_treebank_pos_tagger to\n",
            "[nltk_data]    |     /root/nltk_data...\n",
            "[nltk_data]    |   Unzipping taggers/maxent_treebank_pos_tagger.zip.\n",
            "[nltk_data]    | Downloading package moses_sample to\n",
            "[nltk_data]    |     /root/nltk_data...\n",
            "[nltk_data]    |   Unzipping models/moses_sample.zip.\n",
            "[nltk_data]    | Downloading package movie_reviews to\n",
            "[nltk_data]    |     /root/nltk_data...\n",
            "[nltk_data]    |   Unzipping corpora/movie_reviews.zip.\n",
            "[nltk_data]    | Downloading package mte_teip5 to /root/nltk_data...\n",
            "[nltk_data]    |   Unzipping corpora/mte_teip5.zip.\n",
            "[nltk_data]    | Downloading package mwa_ppdb to /root/nltk_data...\n",
            "[nltk_data]    |   Unzipping misc/mwa_ppdb.zip.\n",
            "[nltk_data]    | Downloading package names to /root/nltk_data...\n",
            "[nltk_data]    |   Unzipping corpora/names.zip.\n",
            "[nltk_data]    | Downloading package nombank.1.0 to /root/nltk_data...\n",
            "[nltk_data]    | Downloading package nonbreaking_prefixes to\n",
            "[nltk_data]    |     /root/nltk_data...\n",
            "[nltk_data]    |   Unzipping corpora/nonbreaking_prefixes.zip.\n",
            "[nltk_data]    | Downloading package nps_chat to /root/nltk_data...\n",
            "[nltk_data]    |   Unzipping corpora/nps_chat.zip.\n",
            "[nltk_data]    | Downloading package omw to /root/nltk_data...\n",
            "[nltk_data]    | Downloading package omw-1.4 to /root/nltk_data...\n",
            "[nltk_data]    | Downloading package opinion_lexicon to\n",
            "[nltk_data]    |     /root/nltk_data...\n",
            "[nltk_data]    |   Unzipping corpora/opinion_lexicon.zip.\n",
            "[nltk_data]    | Downloading package panlex_swadesh to\n",
            "[nltk_data]    |     /root/nltk_data...\n",
            "[nltk_data]    | Downloading package paradigms to /root/nltk_data...\n",
            "[nltk_data]    |   Unzipping corpora/paradigms.zip.\n",
            "[nltk_data]    | Downloading package pe08 to /root/nltk_data...\n",
            "[nltk_data]    |   Unzipping corpora/pe08.zip.\n",
            "[nltk_data]    | Downloading package perluniprops to\n",
            "[nltk_data]    |     /root/nltk_data...\n",
            "[nltk_data]    |   Unzipping misc/perluniprops.zip.\n",
            "[nltk_data]    | Downloading package pil to /root/nltk_data...\n",
            "[nltk_data]    |   Unzipping corpora/pil.zip.\n",
            "[nltk_data]    | Downloading package pl196x to /root/nltk_data...\n",
            "[nltk_data]    |   Unzipping corpora/pl196x.zip.\n",
            "[nltk_data]    | Downloading package porter_test to /root/nltk_data...\n",
            "[nltk_data]    |   Unzipping stemmers/porter_test.zip.\n",
            "[nltk_data]    | Downloading package ppattach to /root/nltk_data...\n",
            "[nltk_data]    |   Unzipping corpora/ppattach.zip.\n",
            "[nltk_data]    | Downloading package problem_reports to\n",
            "[nltk_data]    |     /root/nltk_data...\n",
            "[nltk_data]    |   Unzipping corpora/problem_reports.zip.\n",
            "[nltk_data]    | Downloading package product_reviews_1 to\n",
            "[nltk_data]    |     /root/nltk_data...\n",
            "[nltk_data]    |   Unzipping corpora/product_reviews_1.zip.\n",
            "[nltk_data]    | Downloading package product_reviews_2 to\n",
            "[nltk_data]    |     /root/nltk_data...\n",
            "[nltk_data]    |   Unzipping corpora/product_reviews_2.zip.\n",
            "[nltk_data]    | Downloading package propbank to /root/nltk_data...\n",
            "[nltk_data]    | Downloading package pros_cons to /root/nltk_data...\n",
            "[nltk_data]    |   Unzipping corpora/pros_cons.zip.\n",
            "[nltk_data]    | Downloading package ptb to /root/nltk_data...\n",
            "[nltk_data]    |   Unzipping corpora/ptb.zip.\n",
            "[nltk_data]    | Downloading package punkt to /root/nltk_data...\n",
            "[nltk_data]    |   Unzipping tokenizers/punkt.zip.\n",
            "[nltk_data]    | Downloading package qc to /root/nltk_data...\n",
            "[nltk_data]    |   Unzipping corpora/qc.zip.\n",
            "[nltk_data]    | Downloading package reuters to /root/nltk_data...\n",
            "[nltk_data]    | Downloading package rslp to /root/nltk_data...\n",
            "[nltk_data]    |   Unzipping stemmers/rslp.zip.\n",
            "[nltk_data]    | Downloading package rte to /root/nltk_data...\n",
            "[nltk_data]    |   Unzipping corpora/rte.zip.\n",
            "[nltk_data]    | Downloading package sample_grammars to\n",
            "[nltk_data]    |     /root/nltk_data...\n",
            "[nltk_data]    |   Unzipping grammars/sample_grammars.zip.\n",
            "[nltk_data]    | Downloading package semcor to /root/nltk_data...\n",
            "[nltk_data]    | Downloading package senseval to /root/nltk_data...\n",
            "[nltk_data]    |   Unzipping corpora/senseval.zip.\n",
            "[nltk_data]    | Downloading package sentence_polarity to\n",
            "[nltk_data]    |     /root/nltk_data...\n",
            "[nltk_data]    |   Unzipping corpora/sentence_polarity.zip.\n",
            "[nltk_data]    | Downloading package sentiwordnet to\n",
            "[nltk_data]    |     /root/nltk_data...\n",
            "[nltk_data]    |   Unzipping corpora/sentiwordnet.zip.\n",
            "[nltk_data]    | Downloading package shakespeare to /root/nltk_data...\n",
            "[nltk_data]    |   Unzipping corpora/shakespeare.zip.\n",
            "[nltk_data]    | Downloading package sinica_treebank to\n",
            "[nltk_data]    |     /root/nltk_data...\n",
            "[nltk_data]    |   Unzipping corpora/sinica_treebank.zip.\n",
            "[nltk_data]    | Downloading package smultron to /root/nltk_data...\n",
            "[nltk_data]    |   Unzipping corpora/smultron.zip.\n",
            "[nltk_data]    | Downloading package snowball_data to\n",
            "[nltk_data]    |     /root/nltk_data...\n",
            "[nltk_data]    | Downloading package spanish_grammars to\n",
            "[nltk_data]    |     /root/nltk_data...\n",
            "[nltk_data]    |   Unzipping grammars/spanish_grammars.zip.\n",
            "[nltk_data]    | Downloading package state_union to /root/nltk_data...\n",
            "[nltk_data]    |   Unzipping corpora/state_union.zip.\n",
            "[nltk_data]    | Downloading package stopwords to /root/nltk_data...\n",
            "[nltk_data]    |   Unzipping corpora/stopwords.zip.\n",
            "[nltk_data]    | Downloading package subjectivity to\n",
            "[nltk_data]    |     /root/nltk_data...\n",
            "[nltk_data]    |   Unzipping corpora/subjectivity.zip.\n",
            "[nltk_data]    | Downloading package swadesh to /root/nltk_data...\n",
            "[nltk_data]    |   Unzipping corpora/swadesh.zip.\n",
            "[nltk_data]    | Downloading package switchboard to /root/nltk_data...\n",
            "[nltk_data]    |   Unzipping corpora/switchboard.zip.\n",
            "[nltk_data]    | Downloading package tagsets to /root/nltk_data...\n",
            "[nltk_data]    |   Unzipping help/tagsets.zip.\n",
            "[nltk_data]    | Downloading package timit to /root/nltk_data...\n",
            "[nltk_data]    |   Unzipping corpora/timit.zip.\n",
            "[nltk_data]    | Downloading package toolbox to /root/nltk_data...\n",
            "[nltk_data]    |   Unzipping corpora/toolbox.zip.\n",
            "[nltk_data]    | Downloading package treebank to /root/nltk_data...\n",
            "[nltk_data]    |   Unzipping corpora/treebank.zip.\n",
            "[nltk_data]    | Downloading package twitter_samples to\n",
            "[nltk_data]    |     /root/nltk_data...\n",
            "[nltk_data]    |   Unzipping corpora/twitter_samples.zip.\n",
            "[nltk_data]    | Downloading package udhr to /root/nltk_data...\n",
            "[nltk_data]    |   Unzipping corpora/udhr.zip.\n",
            "[nltk_data]    | Downloading package udhr2 to /root/nltk_data...\n",
            "[nltk_data]    |   Unzipping corpora/udhr2.zip.\n",
            "[nltk_data]    | Downloading package unicode_samples to\n",
            "[nltk_data]    |     /root/nltk_data...\n",
            "[nltk_data]    |   Unzipping corpora/unicode_samples.zip.\n",
            "[nltk_data]    | Downloading package universal_tagset to\n",
            "[nltk_data]    |     /root/nltk_data...\n",
            "[nltk_data]    |   Unzipping taggers/universal_tagset.zip.\n",
            "[nltk_data]    | Downloading package universal_treebanks_v20 to\n",
            "[nltk_data]    |     /root/nltk_data...\n",
            "[nltk_data]    | Downloading package vader_lexicon to\n",
            "[nltk_data]    |     /root/nltk_data...\n",
            "[nltk_data]    | Downloading package verbnet to /root/nltk_data...\n",
            "[nltk_data]    |   Unzipping corpora/verbnet.zip.\n",
            "[nltk_data]    | Downloading package verbnet3 to /root/nltk_data...\n",
            "[nltk_data]    |   Unzipping corpora/verbnet3.zip.\n",
            "[nltk_data]    | Downloading package webtext to /root/nltk_data...\n",
            "[nltk_data]    |   Unzipping corpora/webtext.zip.\n",
            "[nltk_data]    | Downloading package wmt15_eval to /root/nltk_data...\n",
            "[nltk_data]    |   Unzipping models/wmt15_eval.zip.\n",
            "[nltk_data]    | Downloading package word2vec_sample to\n",
            "[nltk_data]    |     /root/nltk_data...\n",
            "[nltk_data]    |   Unzipping models/word2vec_sample.zip.\n",
            "[nltk_data]    | Downloading package wordnet to /root/nltk_data...\n",
            "[nltk_data]    | Downloading package wordnet2021 to /root/nltk_data...\n",
            "[nltk_data]    | Downloading package wordnet31 to /root/nltk_data...\n",
            "[nltk_data]    | Downloading package wordnet_ic to /root/nltk_data...\n",
            "[nltk_data]    |   Unzipping corpora/wordnet_ic.zip.\n",
            "[nltk_data]    | Downloading package words to /root/nltk_data...\n",
            "[nltk_data]    |   Unzipping corpora/words.zip.\n",
            "[nltk_data]    | Downloading package ycoe to /root/nltk_data...\n",
            "[nltk_data]    |   Unzipping corpora/ycoe.zip.\n",
            "[nltk_data]    | \n",
            "[nltk_data]  Done downloading collection all\n"
          ]
        },
        {
          "output_type": "execute_result",
          "data": {
            "text/plain": [
              "True"
            ]
          },
          "metadata": {},
          "execution_count": 2
        }
      ]
    },
    {
      "cell_type": "code",
      "source": [
        "# read dataset\n",
        "df = pd.read_csv('/content/drive/MyDrive/ChatGPTvHumans/cgpt_v_humans_dataset_test30.csv')\n",
        "df.head()"
      ],
      "metadata": {
        "colab": {
          "base_uri": "https://localhost:8080/",
          "height": 206
        },
        "id": "GoJmX5hmUqhg",
        "outputId": "6872b495-ced5-4b46-c613-1411515426dc"
      },
      "execution_count": 3,
      "outputs": [
        {
          "output_type": "execute_result",
          "data": {
            "text/plain": [
              "                                           Questions  \\\n",
              "0  can you tell me what the difference is between...   \n",
              "1  can you tell me what the difference is between...   \n",
              "2        What are some must-read books on economics?   \n",
              "3        What are some must-read books on economics?   \n",
              "4  What is the main reason why people start a bus...   \n",
              "\n",
              "                                                Text     Class  \n",
              "0  Left-wing politics typically involves support ...  chatgpt3  \n",
              "1  Left wing politics often focuses on social equ...     human  \n",
              "2  There are many sub-fields in Economics so it r...     human  \n",
              "3  Here are a few must-read books on economics th...  chatgpt3  \n",
              "4  Money. While most that have started a business...     human  "
            ],
            "text/html": [
              "\n",
              "  <div id=\"df-91a3418f-7b2f-4346-840b-eb72d91e2a99\">\n",
              "    <div class=\"colab-df-container\">\n",
              "      <div>\n",
              "<style scoped>\n",
              "    .dataframe tbody tr th:only-of-type {\n",
              "        vertical-align: middle;\n",
              "    }\n",
              "\n",
              "    .dataframe tbody tr th {\n",
              "        vertical-align: top;\n",
              "    }\n",
              "\n",
              "    .dataframe thead th {\n",
              "        text-align: right;\n",
              "    }\n",
              "</style>\n",
              "<table border=\"1\" class=\"dataframe\">\n",
              "  <thead>\n",
              "    <tr style=\"text-align: right;\">\n",
              "      <th></th>\n",
              "      <th>Questions</th>\n",
              "      <th>Text</th>\n",
              "      <th>Class</th>\n",
              "    </tr>\n",
              "  </thead>\n",
              "  <tbody>\n",
              "    <tr>\n",
              "      <th>0</th>\n",
              "      <td>can you tell me what the difference is between...</td>\n",
              "      <td>Left-wing politics typically involves support ...</td>\n",
              "      <td>chatgpt3</td>\n",
              "    </tr>\n",
              "    <tr>\n",
              "      <th>1</th>\n",
              "      <td>can you tell me what the difference is between...</td>\n",
              "      <td>Left wing politics often focuses on social equ...</td>\n",
              "      <td>human</td>\n",
              "    </tr>\n",
              "    <tr>\n",
              "      <th>2</th>\n",
              "      <td>What are some must-read books on economics?</td>\n",
              "      <td>There are many sub-fields in Economics so it r...</td>\n",
              "      <td>human</td>\n",
              "    </tr>\n",
              "    <tr>\n",
              "      <th>3</th>\n",
              "      <td>What are some must-read books on economics?</td>\n",
              "      <td>Here are a few must-read books on economics th...</td>\n",
              "      <td>chatgpt3</td>\n",
              "    </tr>\n",
              "    <tr>\n",
              "      <th>4</th>\n",
              "      <td>What is the main reason why people start a bus...</td>\n",
              "      <td>Money. While most that have started a business...</td>\n",
              "      <td>human</td>\n",
              "    </tr>\n",
              "  </tbody>\n",
              "</table>\n",
              "</div>\n",
              "      <button class=\"colab-df-convert\" onclick=\"convertToInteractive('df-91a3418f-7b2f-4346-840b-eb72d91e2a99')\"\n",
              "              title=\"Convert this dataframe to an interactive table.\"\n",
              "              style=\"display:none;\">\n",
              "        \n",
              "  <svg xmlns=\"http://www.w3.org/2000/svg\" height=\"24px\"viewBox=\"0 0 24 24\"\n",
              "       width=\"24px\">\n",
              "    <path d=\"M0 0h24v24H0V0z\" fill=\"none\"/>\n",
              "    <path d=\"M18.56 5.44l.94 2.06.94-2.06 2.06-.94-2.06-.94-.94-2.06-.94 2.06-2.06.94zm-11 1L8.5 8.5l.94-2.06 2.06-.94-2.06-.94L8.5 2.5l-.94 2.06-2.06.94zm10 10l.94 2.06.94-2.06 2.06-.94-2.06-.94-.94-2.06-.94 2.06-2.06.94z\"/><path d=\"M17.41 7.96l-1.37-1.37c-.4-.4-.92-.59-1.43-.59-.52 0-1.04.2-1.43.59L10.3 9.45l-7.72 7.72c-.78.78-.78 2.05 0 2.83L4 21.41c.39.39.9.59 1.41.59.51 0 1.02-.2 1.41-.59l7.78-7.78 2.81-2.81c.8-.78.8-2.07 0-2.86zM5.41 20L4 18.59l7.72-7.72 1.47 1.35L5.41 20z\"/>\n",
              "  </svg>\n",
              "      </button>\n",
              "      \n",
              "  <style>\n",
              "    .colab-df-container {\n",
              "      display:flex;\n",
              "      flex-wrap:wrap;\n",
              "      gap: 12px;\n",
              "    }\n",
              "\n",
              "    .colab-df-convert {\n",
              "      background-color: #E8F0FE;\n",
              "      border: none;\n",
              "      border-radius: 50%;\n",
              "      cursor: pointer;\n",
              "      display: none;\n",
              "      fill: #1967D2;\n",
              "      height: 32px;\n",
              "      padding: 0 0 0 0;\n",
              "      width: 32px;\n",
              "    }\n",
              "\n",
              "    .colab-df-convert:hover {\n",
              "      background-color: #E2EBFA;\n",
              "      box-shadow: 0px 1px 2px rgba(60, 64, 67, 0.3), 0px 1px 3px 1px rgba(60, 64, 67, 0.15);\n",
              "      fill: #174EA6;\n",
              "    }\n",
              "\n",
              "    [theme=dark] .colab-df-convert {\n",
              "      background-color: #3B4455;\n",
              "      fill: #D2E3FC;\n",
              "    }\n",
              "\n",
              "    [theme=dark] .colab-df-convert:hover {\n",
              "      background-color: #434B5C;\n",
              "      box-shadow: 0px 1px 3px 1px rgba(0, 0, 0, 0.15);\n",
              "      filter: drop-shadow(0px 1px 2px rgba(0, 0, 0, 0.3));\n",
              "      fill: #FFFFFF;\n",
              "    }\n",
              "  </style>\n",
              "\n",
              "      <script>\n",
              "        const buttonEl =\n",
              "          document.querySelector('#df-91a3418f-7b2f-4346-840b-eb72d91e2a99 button.colab-df-convert');\n",
              "        buttonEl.style.display =\n",
              "          google.colab.kernel.accessAllowed ? 'block' : 'none';\n",
              "\n",
              "        async function convertToInteractive(key) {\n",
              "          const element = document.querySelector('#df-91a3418f-7b2f-4346-840b-eb72d91e2a99');\n",
              "          const dataTable =\n",
              "            await google.colab.kernel.invokeFunction('convertToInteractive',\n",
              "                                                     [key], {});\n",
              "          if (!dataTable) return;\n",
              "\n",
              "          const docLinkHtml = 'Like what you see? Visit the ' +\n",
              "            '<a target=\"_blank\" href=https://colab.research.google.com/notebooks/data_table.ipynb>data table notebook</a>'\n",
              "            + ' to learn more about interactive tables.';\n",
              "          element.innerHTML = '';\n",
              "          dataTable['output_type'] = 'display_data';\n",
              "          await google.colab.output.renderOutput(dataTable, element);\n",
              "          const docLink = document.createElement('div');\n",
              "          docLink.innerHTML = docLinkHtml;\n",
              "          element.appendChild(docLink);\n",
              "        }\n",
              "      </script>\n",
              "    </div>\n",
              "  </div>\n",
              "  "
            ]
          },
          "metadata": {},
          "execution_count": 3
        }
      ]
    },
    {
      "cell_type": "code",
      "source": [
        "# drop questions\n",
        "df_text = df.drop('Questions', axis=1)\n",
        "df_text.head(10)"
      ],
      "metadata": {
        "colab": {
          "base_uri": "https://localhost:8080/",
          "height": 363
        },
        "id": "R3horFXEYh8R",
        "outputId": "412fce26-2ff3-4ec1-e821-78a1037edbd7"
      },
      "execution_count": 4,
      "outputs": [
        {
          "output_type": "execute_result",
          "data": {
            "text/plain": [
              "                                                Text     Class\n",
              "0  Left-wing politics typically involves support ...  chatgpt3\n",
              "1  Left wing politics often focuses on social equ...     human\n",
              "2  There are many sub-fields in Economics so it r...     human\n",
              "3  Here are a few must-read books on economics th...  chatgpt3\n",
              "4  Money. While most that have started a business...     human\n",
              "5  The main reason people start a business is to ...  chatgpt3\n",
              "6  Are you stuck on ‘Loves me, loves me not’? Her...     human\n",
              "7  There are many ways to tell if someone truly l...  chatgpt3\n",
              "8  Be careful … DO NOT shoot yourself in the foot...     human\n",
              "9  Starting your own business can be a challengin...  chatgpt3"
            ],
            "text/html": [
              "\n",
              "  <div id=\"df-76804b3d-ff72-4105-b2ce-0b04aaf0e8b3\">\n",
              "    <div class=\"colab-df-container\">\n",
              "      <div>\n",
              "<style scoped>\n",
              "    .dataframe tbody tr th:only-of-type {\n",
              "        vertical-align: middle;\n",
              "    }\n",
              "\n",
              "    .dataframe tbody tr th {\n",
              "        vertical-align: top;\n",
              "    }\n",
              "\n",
              "    .dataframe thead th {\n",
              "        text-align: right;\n",
              "    }\n",
              "</style>\n",
              "<table border=\"1\" class=\"dataframe\">\n",
              "  <thead>\n",
              "    <tr style=\"text-align: right;\">\n",
              "      <th></th>\n",
              "      <th>Text</th>\n",
              "      <th>Class</th>\n",
              "    </tr>\n",
              "  </thead>\n",
              "  <tbody>\n",
              "    <tr>\n",
              "      <th>0</th>\n",
              "      <td>Left-wing politics typically involves support ...</td>\n",
              "      <td>chatgpt3</td>\n",
              "    </tr>\n",
              "    <tr>\n",
              "      <th>1</th>\n",
              "      <td>Left wing politics often focuses on social equ...</td>\n",
              "      <td>human</td>\n",
              "    </tr>\n",
              "    <tr>\n",
              "      <th>2</th>\n",
              "      <td>There are many sub-fields in Economics so it r...</td>\n",
              "      <td>human</td>\n",
              "    </tr>\n",
              "    <tr>\n",
              "      <th>3</th>\n",
              "      <td>Here are a few must-read books on economics th...</td>\n",
              "      <td>chatgpt3</td>\n",
              "    </tr>\n",
              "    <tr>\n",
              "      <th>4</th>\n",
              "      <td>Money. While most that have started a business...</td>\n",
              "      <td>human</td>\n",
              "    </tr>\n",
              "    <tr>\n",
              "      <th>5</th>\n",
              "      <td>The main reason people start a business is to ...</td>\n",
              "      <td>chatgpt3</td>\n",
              "    </tr>\n",
              "    <tr>\n",
              "      <th>6</th>\n",
              "      <td>Are you stuck on ‘Loves me, loves me not’? Her...</td>\n",
              "      <td>human</td>\n",
              "    </tr>\n",
              "    <tr>\n",
              "      <th>7</th>\n",
              "      <td>There are many ways to tell if someone truly l...</td>\n",
              "      <td>chatgpt3</td>\n",
              "    </tr>\n",
              "    <tr>\n",
              "      <th>8</th>\n",
              "      <td>Be careful … DO NOT shoot yourself in the foot...</td>\n",
              "      <td>human</td>\n",
              "    </tr>\n",
              "    <tr>\n",
              "      <th>9</th>\n",
              "      <td>Starting your own business can be a challengin...</td>\n",
              "      <td>chatgpt3</td>\n",
              "    </tr>\n",
              "  </tbody>\n",
              "</table>\n",
              "</div>\n",
              "      <button class=\"colab-df-convert\" onclick=\"convertToInteractive('df-76804b3d-ff72-4105-b2ce-0b04aaf0e8b3')\"\n",
              "              title=\"Convert this dataframe to an interactive table.\"\n",
              "              style=\"display:none;\">\n",
              "        \n",
              "  <svg xmlns=\"http://www.w3.org/2000/svg\" height=\"24px\"viewBox=\"0 0 24 24\"\n",
              "       width=\"24px\">\n",
              "    <path d=\"M0 0h24v24H0V0z\" fill=\"none\"/>\n",
              "    <path d=\"M18.56 5.44l.94 2.06.94-2.06 2.06-.94-2.06-.94-.94-2.06-.94 2.06-2.06.94zm-11 1L8.5 8.5l.94-2.06 2.06-.94-2.06-.94L8.5 2.5l-.94 2.06-2.06.94zm10 10l.94 2.06.94-2.06 2.06-.94-2.06-.94-.94-2.06-.94 2.06-2.06.94z\"/><path d=\"M17.41 7.96l-1.37-1.37c-.4-.4-.92-.59-1.43-.59-.52 0-1.04.2-1.43.59L10.3 9.45l-7.72 7.72c-.78.78-.78 2.05 0 2.83L4 21.41c.39.39.9.59 1.41.59.51 0 1.02-.2 1.41-.59l7.78-7.78 2.81-2.81c.8-.78.8-2.07 0-2.86zM5.41 20L4 18.59l7.72-7.72 1.47 1.35L5.41 20z\"/>\n",
              "  </svg>\n",
              "      </button>\n",
              "      \n",
              "  <style>\n",
              "    .colab-df-container {\n",
              "      display:flex;\n",
              "      flex-wrap:wrap;\n",
              "      gap: 12px;\n",
              "    }\n",
              "\n",
              "    .colab-df-convert {\n",
              "      background-color: #E8F0FE;\n",
              "      border: none;\n",
              "      border-radius: 50%;\n",
              "      cursor: pointer;\n",
              "      display: none;\n",
              "      fill: #1967D2;\n",
              "      height: 32px;\n",
              "      padding: 0 0 0 0;\n",
              "      width: 32px;\n",
              "    }\n",
              "\n",
              "    .colab-df-convert:hover {\n",
              "      background-color: #E2EBFA;\n",
              "      box-shadow: 0px 1px 2px rgba(60, 64, 67, 0.3), 0px 1px 3px 1px rgba(60, 64, 67, 0.15);\n",
              "      fill: #174EA6;\n",
              "    }\n",
              "\n",
              "    [theme=dark] .colab-df-convert {\n",
              "      background-color: #3B4455;\n",
              "      fill: #D2E3FC;\n",
              "    }\n",
              "\n",
              "    [theme=dark] .colab-df-convert:hover {\n",
              "      background-color: #434B5C;\n",
              "      box-shadow: 0px 1px 3px 1px rgba(0, 0, 0, 0.15);\n",
              "      filter: drop-shadow(0px 1px 2px rgba(0, 0, 0, 0.3));\n",
              "      fill: #FFFFFF;\n",
              "    }\n",
              "  </style>\n",
              "\n",
              "      <script>\n",
              "        const buttonEl =\n",
              "          document.querySelector('#df-76804b3d-ff72-4105-b2ce-0b04aaf0e8b3 button.colab-df-convert');\n",
              "        buttonEl.style.display =\n",
              "          google.colab.kernel.accessAllowed ? 'block' : 'none';\n",
              "\n",
              "        async function convertToInteractive(key) {\n",
              "          const element = document.querySelector('#df-76804b3d-ff72-4105-b2ce-0b04aaf0e8b3');\n",
              "          const dataTable =\n",
              "            await google.colab.kernel.invokeFunction('convertToInteractive',\n",
              "                                                     [key], {});\n",
              "          if (!dataTable) return;\n",
              "\n",
              "          const docLinkHtml = 'Like what you see? Visit the ' +\n",
              "            '<a target=\"_blank\" href=https://colab.research.google.com/notebooks/data_table.ipynb>data table notebook</a>'\n",
              "            + ' to learn more about interactive tables.';\n",
              "          element.innerHTML = '';\n",
              "          dataTable['output_type'] = 'display_data';\n",
              "          await google.colab.output.renderOutput(dataTable, element);\n",
              "          const docLink = document.createElement('div');\n",
              "          docLink.innerHTML = docLinkHtml;\n",
              "          element.appendChild(docLink);\n",
              "        }\n",
              "      </script>\n",
              "    </div>\n",
              "  </div>\n",
              "  "
            ]
          },
          "metadata": {},
          "execution_count": 4
        }
      ]
    },
    {
      "cell_type": "code",
      "source": [
        "# change datatype to string\n",
        "df_text['Text'] = df_text['Text'].fillna('').astype(str)\n",
        "print(df_text.dtypes)"
      ],
      "metadata": {
        "colab": {
          "base_uri": "https://localhost:8080/"
        },
        "id": "-EWUP37ZZo29",
        "outputId": "f2e4d8e0-c7f6-4fdf-ba8b-96ed07559c20"
      },
      "execution_count": 5,
      "outputs": [
        {
          "output_type": "stream",
          "name": "stdout",
          "text": [
            "Text     object\n",
            "Class    object\n",
            "dtype: object\n"
          ]
        }
      ]
    },
    {
      "cell_type": "code",
      "source": [
        "# new DataFrame for no Stop Word (noSW)\n",
        "df_noSW = df_text"
      ],
      "metadata": {
        "id": "WWc7tiTUjHA4"
      },
      "execution_count": 6,
      "outputs": []
    },
    {
      "cell_type": "code",
      "source": [
        "# remove stopwords\n",
        "import nltk\n",
        "nltk.download('stopwords')\n",
        "from nltk.corpus import stopwords\n",
        "\n",
        "stop = stopwords.words(\"english\")\n",
        "\n",
        "def remove_stopwords(text):\n",
        "  filtered_words = [word.lower() for word in text.split() if word.lower() not in stop]\n",
        "  return \" \".join(filtered_words)"
      ],
      "metadata": {
        "colab": {
          "base_uri": "https://localhost:8080/"
        },
        "id": "Zp-Xgo1JdOjk",
        "outputId": "de548af5-fced-4db9-d03a-ed8b359f40b0"
      },
      "execution_count": 7,
      "outputs": [
        {
          "output_type": "stream",
          "name": "stderr",
          "text": [
            "[nltk_data] Downloading package stopwords to /root/nltk_data...\n",
            "[nltk_data]   Package stopwords is already up-to-date!\n"
          ]
        }
      ]
    },
    {
      "cell_type": "code",
      "source": [
        "# tested, works\n",
        "df_noSW[\"Text\"] = df_noSW.Text.map(remove_stopwords)\n",
        "df_noSW.head(10)"
      ],
      "metadata": {
        "colab": {
          "base_uri": "https://localhost:8080/",
          "height": 363
        },
        "id": "nE9C_xHkkzcU",
        "outputId": "f4cf5b65-cc1c-4112-c9e6-a7e48f85c707"
      },
      "execution_count": 8,
      "outputs": [
        {
          "output_type": "execute_result",
          "data": {
            "text/plain": [
              "                                                Text     Class\n",
              "0  left-wing politics typically involves support ...  chatgpt3\n",
              "1  left wing politics often focuses social equali...     human\n",
              "2  many sub-fields economics really depends keen ...     human\n",
              "3  must-read books economics considered classics ...  chatgpt3\n",
              "4  money. started business say make world better ...     human\n",
              "5  main reason people start business make profit ...  chatgpt3\n",
              "6  stuck ‘loves me, loves not’? signs someone rea...     human\n",
              "7  many ways tell someone truly loves you. signs ...  chatgpt3\n",
              "8  careful … shoot foot! want quit job start busi...     human\n",
              "9  starting business challenging rewarding experi...  chatgpt3"
            ],
            "text/html": [
              "\n",
              "  <div id=\"df-3953b71e-fb28-46c3-a95c-dd24c360a49b\">\n",
              "    <div class=\"colab-df-container\">\n",
              "      <div>\n",
              "<style scoped>\n",
              "    .dataframe tbody tr th:only-of-type {\n",
              "        vertical-align: middle;\n",
              "    }\n",
              "\n",
              "    .dataframe tbody tr th {\n",
              "        vertical-align: top;\n",
              "    }\n",
              "\n",
              "    .dataframe thead th {\n",
              "        text-align: right;\n",
              "    }\n",
              "</style>\n",
              "<table border=\"1\" class=\"dataframe\">\n",
              "  <thead>\n",
              "    <tr style=\"text-align: right;\">\n",
              "      <th></th>\n",
              "      <th>Text</th>\n",
              "      <th>Class</th>\n",
              "    </tr>\n",
              "  </thead>\n",
              "  <tbody>\n",
              "    <tr>\n",
              "      <th>0</th>\n",
              "      <td>left-wing politics typically involves support ...</td>\n",
              "      <td>chatgpt3</td>\n",
              "    </tr>\n",
              "    <tr>\n",
              "      <th>1</th>\n",
              "      <td>left wing politics often focuses social equali...</td>\n",
              "      <td>human</td>\n",
              "    </tr>\n",
              "    <tr>\n",
              "      <th>2</th>\n",
              "      <td>many sub-fields economics really depends keen ...</td>\n",
              "      <td>human</td>\n",
              "    </tr>\n",
              "    <tr>\n",
              "      <th>3</th>\n",
              "      <td>must-read books economics considered classics ...</td>\n",
              "      <td>chatgpt3</td>\n",
              "    </tr>\n",
              "    <tr>\n",
              "      <th>4</th>\n",
              "      <td>money. started business say make world better ...</td>\n",
              "      <td>human</td>\n",
              "    </tr>\n",
              "    <tr>\n",
              "      <th>5</th>\n",
              "      <td>main reason people start business make profit ...</td>\n",
              "      <td>chatgpt3</td>\n",
              "    </tr>\n",
              "    <tr>\n",
              "      <th>6</th>\n",
              "      <td>stuck ‘loves me, loves not’? signs someone rea...</td>\n",
              "      <td>human</td>\n",
              "    </tr>\n",
              "    <tr>\n",
              "      <th>7</th>\n",
              "      <td>many ways tell someone truly loves you. signs ...</td>\n",
              "      <td>chatgpt3</td>\n",
              "    </tr>\n",
              "    <tr>\n",
              "      <th>8</th>\n",
              "      <td>careful … shoot foot! want quit job start busi...</td>\n",
              "      <td>human</td>\n",
              "    </tr>\n",
              "    <tr>\n",
              "      <th>9</th>\n",
              "      <td>starting business challenging rewarding experi...</td>\n",
              "      <td>chatgpt3</td>\n",
              "    </tr>\n",
              "  </tbody>\n",
              "</table>\n",
              "</div>\n",
              "      <button class=\"colab-df-convert\" onclick=\"convertToInteractive('df-3953b71e-fb28-46c3-a95c-dd24c360a49b')\"\n",
              "              title=\"Convert this dataframe to an interactive table.\"\n",
              "              style=\"display:none;\">\n",
              "        \n",
              "  <svg xmlns=\"http://www.w3.org/2000/svg\" height=\"24px\"viewBox=\"0 0 24 24\"\n",
              "       width=\"24px\">\n",
              "    <path d=\"M0 0h24v24H0V0z\" fill=\"none\"/>\n",
              "    <path d=\"M18.56 5.44l.94 2.06.94-2.06 2.06-.94-2.06-.94-.94-2.06-.94 2.06-2.06.94zm-11 1L8.5 8.5l.94-2.06 2.06-.94-2.06-.94L8.5 2.5l-.94 2.06-2.06.94zm10 10l.94 2.06.94-2.06 2.06-.94-2.06-.94-.94-2.06-.94 2.06-2.06.94z\"/><path d=\"M17.41 7.96l-1.37-1.37c-.4-.4-.92-.59-1.43-.59-.52 0-1.04.2-1.43.59L10.3 9.45l-7.72 7.72c-.78.78-.78 2.05 0 2.83L4 21.41c.39.39.9.59 1.41.59.51 0 1.02-.2 1.41-.59l7.78-7.78 2.81-2.81c.8-.78.8-2.07 0-2.86zM5.41 20L4 18.59l7.72-7.72 1.47 1.35L5.41 20z\"/>\n",
              "  </svg>\n",
              "      </button>\n",
              "      \n",
              "  <style>\n",
              "    .colab-df-container {\n",
              "      display:flex;\n",
              "      flex-wrap:wrap;\n",
              "      gap: 12px;\n",
              "    }\n",
              "\n",
              "    .colab-df-convert {\n",
              "      background-color: #E8F0FE;\n",
              "      border: none;\n",
              "      border-radius: 50%;\n",
              "      cursor: pointer;\n",
              "      display: none;\n",
              "      fill: #1967D2;\n",
              "      height: 32px;\n",
              "      padding: 0 0 0 0;\n",
              "      width: 32px;\n",
              "    }\n",
              "\n",
              "    .colab-df-convert:hover {\n",
              "      background-color: #E2EBFA;\n",
              "      box-shadow: 0px 1px 2px rgba(60, 64, 67, 0.3), 0px 1px 3px 1px rgba(60, 64, 67, 0.15);\n",
              "      fill: #174EA6;\n",
              "    }\n",
              "\n",
              "    [theme=dark] .colab-df-convert {\n",
              "      background-color: #3B4455;\n",
              "      fill: #D2E3FC;\n",
              "    }\n",
              "\n",
              "    [theme=dark] .colab-df-convert:hover {\n",
              "      background-color: #434B5C;\n",
              "      box-shadow: 0px 1px 3px 1px rgba(0, 0, 0, 0.15);\n",
              "      filter: drop-shadow(0px 1px 2px rgba(0, 0, 0, 0.3));\n",
              "      fill: #FFFFFF;\n",
              "    }\n",
              "  </style>\n",
              "\n",
              "      <script>\n",
              "        const buttonEl =\n",
              "          document.querySelector('#df-3953b71e-fb28-46c3-a95c-dd24c360a49b button.colab-df-convert');\n",
              "        buttonEl.style.display =\n",
              "          google.colab.kernel.accessAllowed ? 'block' : 'none';\n",
              "\n",
              "        async function convertToInteractive(key) {\n",
              "          const element = document.querySelector('#df-3953b71e-fb28-46c3-a95c-dd24c360a49b');\n",
              "          const dataTable =\n",
              "            await google.colab.kernel.invokeFunction('convertToInteractive',\n",
              "                                                     [key], {});\n",
              "          if (!dataTable) return;\n",
              "\n",
              "          const docLinkHtml = 'Like what you see? Visit the ' +\n",
              "            '<a target=\"_blank\" href=https://colab.research.google.com/notebooks/data_table.ipynb>data table notebook</a>'\n",
              "            + ' to learn more about interactive tables.';\n",
              "          element.innerHTML = '';\n",
              "          dataTable['output_type'] = 'display_data';\n",
              "          await google.colab.output.renderOutput(dataTable, element);\n",
              "          const docLink = document.createElement('div');\n",
              "          docLink.innerHTML = docLinkHtml;\n",
              "          element.appendChild(docLink);\n",
              "        }\n",
              "      </script>\n",
              "    </div>\n",
              "  </div>\n",
              "  "
            ]
          },
          "metadata": {},
          "execution_count": 8
        }
      ]
    },
    {
      "cell_type": "code",
      "source": [
        "# df_human has only 'human' values\n",
        "df_human = df_noSW[df_noSW['Class'] == 'human']\n",
        "df_human.head()"
      ],
      "metadata": {
        "colab": {
          "base_uri": "https://localhost:8080/",
          "height": 206
        },
        "id": "3fmJoB5bKk3h",
        "outputId": "f9bdbbec-aded-4cca-ab05-8f26d3994f95"
      },
      "execution_count": 22,
      "outputs": [
        {
          "output_type": "execute_result",
          "data": {
            "text/plain": [
              "                                                Text  Class\n",
              "1  left wing politics often focuses social equali...  human\n",
              "2  many sub-fields economics really depends keen ...  human\n",
              "4  money. started business say make world better ...  human\n",
              "6  stuck ‘loves me, loves not’? signs someone rea...  human\n",
              "8  careful … shoot foot! want quit job start busi...  human"
            ],
            "text/html": [
              "\n",
              "  <div id=\"df-a6c8f004-b84e-4874-8b83-86cd4a1d6942\">\n",
              "    <div class=\"colab-df-container\">\n",
              "      <div>\n",
              "<style scoped>\n",
              "    .dataframe tbody tr th:only-of-type {\n",
              "        vertical-align: middle;\n",
              "    }\n",
              "\n",
              "    .dataframe tbody tr th {\n",
              "        vertical-align: top;\n",
              "    }\n",
              "\n",
              "    .dataframe thead th {\n",
              "        text-align: right;\n",
              "    }\n",
              "</style>\n",
              "<table border=\"1\" class=\"dataframe\">\n",
              "  <thead>\n",
              "    <tr style=\"text-align: right;\">\n",
              "      <th></th>\n",
              "      <th>Text</th>\n",
              "      <th>Class</th>\n",
              "    </tr>\n",
              "  </thead>\n",
              "  <tbody>\n",
              "    <tr>\n",
              "      <th>1</th>\n",
              "      <td>left wing politics often focuses social equali...</td>\n",
              "      <td>human</td>\n",
              "    </tr>\n",
              "    <tr>\n",
              "      <th>2</th>\n",
              "      <td>many sub-fields economics really depends keen ...</td>\n",
              "      <td>human</td>\n",
              "    </tr>\n",
              "    <tr>\n",
              "      <th>4</th>\n",
              "      <td>money. started business say make world better ...</td>\n",
              "      <td>human</td>\n",
              "    </tr>\n",
              "    <tr>\n",
              "      <th>6</th>\n",
              "      <td>stuck ‘loves me, loves not’? signs someone rea...</td>\n",
              "      <td>human</td>\n",
              "    </tr>\n",
              "    <tr>\n",
              "      <th>8</th>\n",
              "      <td>careful … shoot foot! want quit job start busi...</td>\n",
              "      <td>human</td>\n",
              "    </tr>\n",
              "  </tbody>\n",
              "</table>\n",
              "</div>\n",
              "      <button class=\"colab-df-convert\" onclick=\"convertToInteractive('df-a6c8f004-b84e-4874-8b83-86cd4a1d6942')\"\n",
              "              title=\"Convert this dataframe to an interactive table.\"\n",
              "              style=\"display:none;\">\n",
              "        \n",
              "  <svg xmlns=\"http://www.w3.org/2000/svg\" height=\"24px\"viewBox=\"0 0 24 24\"\n",
              "       width=\"24px\">\n",
              "    <path d=\"M0 0h24v24H0V0z\" fill=\"none\"/>\n",
              "    <path d=\"M18.56 5.44l.94 2.06.94-2.06 2.06-.94-2.06-.94-.94-2.06-.94 2.06-2.06.94zm-11 1L8.5 8.5l.94-2.06 2.06-.94-2.06-.94L8.5 2.5l-.94 2.06-2.06.94zm10 10l.94 2.06.94-2.06 2.06-.94-2.06-.94-.94-2.06-.94 2.06-2.06.94z\"/><path d=\"M17.41 7.96l-1.37-1.37c-.4-.4-.92-.59-1.43-.59-.52 0-1.04.2-1.43.59L10.3 9.45l-7.72 7.72c-.78.78-.78 2.05 0 2.83L4 21.41c.39.39.9.59 1.41.59.51 0 1.02-.2 1.41-.59l7.78-7.78 2.81-2.81c.8-.78.8-2.07 0-2.86zM5.41 20L4 18.59l7.72-7.72 1.47 1.35L5.41 20z\"/>\n",
              "  </svg>\n",
              "      </button>\n",
              "      \n",
              "  <style>\n",
              "    .colab-df-container {\n",
              "      display:flex;\n",
              "      flex-wrap:wrap;\n",
              "      gap: 12px;\n",
              "    }\n",
              "\n",
              "    .colab-df-convert {\n",
              "      background-color: #E8F0FE;\n",
              "      border: none;\n",
              "      border-radius: 50%;\n",
              "      cursor: pointer;\n",
              "      display: none;\n",
              "      fill: #1967D2;\n",
              "      height: 32px;\n",
              "      padding: 0 0 0 0;\n",
              "      width: 32px;\n",
              "    }\n",
              "\n",
              "    .colab-df-convert:hover {\n",
              "      background-color: #E2EBFA;\n",
              "      box-shadow: 0px 1px 2px rgba(60, 64, 67, 0.3), 0px 1px 3px 1px rgba(60, 64, 67, 0.15);\n",
              "      fill: #174EA6;\n",
              "    }\n",
              "\n",
              "    [theme=dark] .colab-df-convert {\n",
              "      background-color: #3B4455;\n",
              "      fill: #D2E3FC;\n",
              "    }\n",
              "\n",
              "    [theme=dark] .colab-df-convert:hover {\n",
              "      background-color: #434B5C;\n",
              "      box-shadow: 0px 1px 3px 1px rgba(0, 0, 0, 0.15);\n",
              "      filter: drop-shadow(0px 1px 2px rgba(0, 0, 0, 0.3));\n",
              "      fill: #FFFFFF;\n",
              "    }\n",
              "  </style>\n",
              "\n",
              "      <script>\n",
              "        const buttonEl =\n",
              "          document.querySelector('#df-a6c8f004-b84e-4874-8b83-86cd4a1d6942 button.colab-df-convert');\n",
              "        buttonEl.style.display =\n",
              "          google.colab.kernel.accessAllowed ? 'block' : 'none';\n",
              "\n",
              "        async function convertToInteractive(key) {\n",
              "          const element = document.querySelector('#df-a6c8f004-b84e-4874-8b83-86cd4a1d6942');\n",
              "          const dataTable =\n",
              "            await google.colab.kernel.invokeFunction('convertToInteractive',\n",
              "                                                     [key], {});\n",
              "          if (!dataTable) return;\n",
              "\n",
              "          const docLinkHtml = 'Like what you see? Visit the ' +\n",
              "            '<a target=\"_blank\" href=https://colab.research.google.com/notebooks/data_table.ipynb>data table notebook</a>'\n",
              "            + ' to learn more about interactive tables.';\n",
              "          element.innerHTML = '';\n",
              "          dataTable['output_type'] = 'display_data';\n",
              "          await google.colab.output.renderOutput(dataTable, element);\n",
              "          const docLink = document.createElement('div');\n",
              "          docLink.innerHTML = docLinkHtml;\n",
              "          element.appendChild(docLink);\n",
              "        }\n",
              "      </script>\n",
              "    </div>\n",
              "  </div>\n",
              "  "
            ]
          },
          "metadata": {},
          "execution_count": 22
        }
      ]
    },
    {
      "cell_type": "code",
      "source": [
        "# df_human has only 'chatgpt3' values\n",
        "df_chatgpt = df_noSW[df_noSW['Class'] == 'chatgpt3']\n",
        "df_chatgpt.head()"
      ],
      "metadata": {
        "colab": {
          "base_uri": "https://localhost:8080/",
          "height": 206
        },
        "id": "MFAxTURuLBKT",
        "outputId": "36fb1288-e384-4149-cde1-847a050a965c"
      },
      "execution_count": 23,
      "outputs": [
        {
          "output_type": "execute_result",
          "data": {
            "text/plain": [
              "                                                Text     Class\n",
              "0  left-wing politics typically involves support ...  chatgpt3\n",
              "3  must-read books economics considered classics ...  chatgpt3\n",
              "5  main reason people start business make profit ...  chatgpt3\n",
              "7  many ways tell someone truly loves you. signs ...  chatgpt3\n",
              "9  starting business challenging rewarding experi...  chatgpt3"
            ],
            "text/html": [
              "\n",
              "  <div id=\"df-6c34e517-bd15-45e2-b71c-90038168bdbe\">\n",
              "    <div class=\"colab-df-container\">\n",
              "      <div>\n",
              "<style scoped>\n",
              "    .dataframe tbody tr th:only-of-type {\n",
              "        vertical-align: middle;\n",
              "    }\n",
              "\n",
              "    .dataframe tbody tr th {\n",
              "        vertical-align: top;\n",
              "    }\n",
              "\n",
              "    .dataframe thead th {\n",
              "        text-align: right;\n",
              "    }\n",
              "</style>\n",
              "<table border=\"1\" class=\"dataframe\">\n",
              "  <thead>\n",
              "    <tr style=\"text-align: right;\">\n",
              "      <th></th>\n",
              "      <th>Text</th>\n",
              "      <th>Class</th>\n",
              "    </tr>\n",
              "  </thead>\n",
              "  <tbody>\n",
              "    <tr>\n",
              "      <th>0</th>\n",
              "      <td>left-wing politics typically involves support ...</td>\n",
              "      <td>chatgpt3</td>\n",
              "    </tr>\n",
              "    <tr>\n",
              "      <th>3</th>\n",
              "      <td>must-read books economics considered classics ...</td>\n",
              "      <td>chatgpt3</td>\n",
              "    </tr>\n",
              "    <tr>\n",
              "      <th>5</th>\n",
              "      <td>main reason people start business make profit ...</td>\n",
              "      <td>chatgpt3</td>\n",
              "    </tr>\n",
              "    <tr>\n",
              "      <th>7</th>\n",
              "      <td>many ways tell someone truly loves you. signs ...</td>\n",
              "      <td>chatgpt3</td>\n",
              "    </tr>\n",
              "    <tr>\n",
              "      <th>9</th>\n",
              "      <td>starting business challenging rewarding experi...</td>\n",
              "      <td>chatgpt3</td>\n",
              "    </tr>\n",
              "  </tbody>\n",
              "</table>\n",
              "</div>\n",
              "      <button class=\"colab-df-convert\" onclick=\"convertToInteractive('df-6c34e517-bd15-45e2-b71c-90038168bdbe')\"\n",
              "              title=\"Convert this dataframe to an interactive table.\"\n",
              "              style=\"display:none;\">\n",
              "        \n",
              "  <svg xmlns=\"http://www.w3.org/2000/svg\" height=\"24px\"viewBox=\"0 0 24 24\"\n",
              "       width=\"24px\">\n",
              "    <path d=\"M0 0h24v24H0V0z\" fill=\"none\"/>\n",
              "    <path d=\"M18.56 5.44l.94 2.06.94-2.06 2.06-.94-2.06-.94-.94-2.06-.94 2.06-2.06.94zm-11 1L8.5 8.5l.94-2.06 2.06-.94-2.06-.94L8.5 2.5l-.94 2.06-2.06.94zm10 10l.94 2.06.94-2.06 2.06-.94-2.06-.94-.94-2.06-.94 2.06-2.06.94z\"/><path d=\"M17.41 7.96l-1.37-1.37c-.4-.4-.92-.59-1.43-.59-.52 0-1.04.2-1.43.59L10.3 9.45l-7.72 7.72c-.78.78-.78 2.05 0 2.83L4 21.41c.39.39.9.59 1.41.59.51 0 1.02-.2 1.41-.59l7.78-7.78 2.81-2.81c.8-.78.8-2.07 0-2.86zM5.41 20L4 18.59l7.72-7.72 1.47 1.35L5.41 20z\"/>\n",
              "  </svg>\n",
              "      </button>\n",
              "      \n",
              "  <style>\n",
              "    .colab-df-container {\n",
              "      display:flex;\n",
              "      flex-wrap:wrap;\n",
              "      gap: 12px;\n",
              "    }\n",
              "\n",
              "    .colab-df-convert {\n",
              "      background-color: #E8F0FE;\n",
              "      border: none;\n",
              "      border-radius: 50%;\n",
              "      cursor: pointer;\n",
              "      display: none;\n",
              "      fill: #1967D2;\n",
              "      height: 32px;\n",
              "      padding: 0 0 0 0;\n",
              "      width: 32px;\n",
              "    }\n",
              "\n",
              "    .colab-df-convert:hover {\n",
              "      background-color: #E2EBFA;\n",
              "      box-shadow: 0px 1px 2px rgba(60, 64, 67, 0.3), 0px 1px 3px 1px rgba(60, 64, 67, 0.15);\n",
              "      fill: #174EA6;\n",
              "    }\n",
              "\n",
              "    [theme=dark] .colab-df-convert {\n",
              "      background-color: #3B4455;\n",
              "      fill: #D2E3FC;\n",
              "    }\n",
              "\n",
              "    [theme=dark] .colab-df-convert:hover {\n",
              "      background-color: #434B5C;\n",
              "      box-shadow: 0px 1px 3px 1px rgba(0, 0, 0, 0.15);\n",
              "      filter: drop-shadow(0px 1px 2px rgba(0, 0, 0, 0.3));\n",
              "      fill: #FFFFFF;\n",
              "    }\n",
              "  </style>\n",
              "\n",
              "      <script>\n",
              "        const buttonEl =\n",
              "          document.querySelector('#df-6c34e517-bd15-45e2-b71c-90038168bdbe button.colab-df-convert');\n",
              "        buttonEl.style.display =\n",
              "          google.colab.kernel.accessAllowed ? 'block' : 'none';\n",
              "\n",
              "        async function convertToInteractive(key) {\n",
              "          const element = document.querySelector('#df-6c34e517-bd15-45e2-b71c-90038168bdbe');\n",
              "          const dataTable =\n",
              "            await google.colab.kernel.invokeFunction('convertToInteractive',\n",
              "                                                     [key], {});\n",
              "          if (!dataTable) return;\n",
              "\n",
              "          const docLinkHtml = 'Like what you see? Visit the ' +\n",
              "            '<a target=\"_blank\" href=https://colab.research.google.com/notebooks/data_table.ipynb>data table notebook</a>'\n",
              "            + ' to learn more about interactive tables.';\n",
              "          element.innerHTML = '';\n",
              "          dataTable['output_type'] = 'display_data';\n",
              "          await google.colab.output.renderOutput(dataTable, element);\n",
              "          const docLink = document.createElement('div');\n",
              "          docLink.innerHTML = docLinkHtml;\n",
              "          element.appendChild(docLink);\n",
              "        }\n",
              "      </script>\n",
              "    </div>\n",
              "  </div>\n",
              "  "
            ]
          },
          "metadata": {},
          "execution_count": 23
        }
      ]
    },
    {
      "cell_type": "code",
      "source": [
        "# main df incase needed\n",
        "df_noSW.head()"
      ],
      "metadata": {
        "colab": {
          "base_uri": "https://localhost:8080/",
          "height": 206
        },
        "id": "Pdu4Fj6zLdSQ",
        "outputId": "70620bd6-7a43-43ef-9fb9-c634e1f53c35"
      },
      "execution_count": 26,
      "outputs": [
        {
          "output_type": "execute_result",
          "data": {
            "text/plain": [
              "                                                Text     Class\n",
              "0  left-wing politics typically involves support ...  chatgpt3\n",
              "1  left wing politics often focuses social equali...     human\n",
              "2  many sub-fields economics really depends keen ...     human\n",
              "3  must-read books economics considered classics ...  chatgpt3\n",
              "4  money. started business say make world better ...     human"
            ],
            "text/html": [
              "\n",
              "  <div id=\"df-668d0790-6f51-4d1a-b65c-de8d64edb318\">\n",
              "    <div class=\"colab-df-container\">\n",
              "      <div>\n",
              "<style scoped>\n",
              "    .dataframe tbody tr th:only-of-type {\n",
              "        vertical-align: middle;\n",
              "    }\n",
              "\n",
              "    .dataframe tbody tr th {\n",
              "        vertical-align: top;\n",
              "    }\n",
              "\n",
              "    .dataframe thead th {\n",
              "        text-align: right;\n",
              "    }\n",
              "</style>\n",
              "<table border=\"1\" class=\"dataframe\">\n",
              "  <thead>\n",
              "    <tr style=\"text-align: right;\">\n",
              "      <th></th>\n",
              "      <th>Text</th>\n",
              "      <th>Class</th>\n",
              "    </tr>\n",
              "  </thead>\n",
              "  <tbody>\n",
              "    <tr>\n",
              "      <th>0</th>\n",
              "      <td>left-wing politics typically involves support ...</td>\n",
              "      <td>chatgpt3</td>\n",
              "    </tr>\n",
              "    <tr>\n",
              "      <th>1</th>\n",
              "      <td>left wing politics often focuses social equali...</td>\n",
              "      <td>human</td>\n",
              "    </tr>\n",
              "    <tr>\n",
              "      <th>2</th>\n",
              "      <td>many sub-fields economics really depends keen ...</td>\n",
              "      <td>human</td>\n",
              "    </tr>\n",
              "    <tr>\n",
              "      <th>3</th>\n",
              "      <td>must-read books economics considered classics ...</td>\n",
              "      <td>chatgpt3</td>\n",
              "    </tr>\n",
              "    <tr>\n",
              "      <th>4</th>\n",
              "      <td>money. started business say make world better ...</td>\n",
              "      <td>human</td>\n",
              "    </tr>\n",
              "  </tbody>\n",
              "</table>\n",
              "</div>\n",
              "      <button class=\"colab-df-convert\" onclick=\"convertToInteractive('df-668d0790-6f51-4d1a-b65c-de8d64edb318')\"\n",
              "              title=\"Convert this dataframe to an interactive table.\"\n",
              "              style=\"display:none;\">\n",
              "        \n",
              "  <svg xmlns=\"http://www.w3.org/2000/svg\" height=\"24px\"viewBox=\"0 0 24 24\"\n",
              "       width=\"24px\">\n",
              "    <path d=\"M0 0h24v24H0V0z\" fill=\"none\"/>\n",
              "    <path d=\"M18.56 5.44l.94 2.06.94-2.06 2.06-.94-2.06-.94-.94-2.06-.94 2.06-2.06.94zm-11 1L8.5 8.5l.94-2.06 2.06-.94-2.06-.94L8.5 2.5l-.94 2.06-2.06.94zm10 10l.94 2.06.94-2.06 2.06-.94-2.06-.94-.94-2.06-.94 2.06-2.06.94z\"/><path d=\"M17.41 7.96l-1.37-1.37c-.4-.4-.92-.59-1.43-.59-.52 0-1.04.2-1.43.59L10.3 9.45l-7.72 7.72c-.78.78-.78 2.05 0 2.83L4 21.41c.39.39.9.59 1.41.59.51 0 1.02-.2 1.41-.59l7.78-7.78 2.81-2.81c.8-.78.8-2.07 0-2.86zM5.41 20L4 18.59l7.72-7.72 1.47 1.35L5.41 20z\"/>\n",
              "  </svg>\n",
              "      </button>\n",
              "      \n",
              "  <style>\n",
              "    .colab-df-container {\n",
              "      display:flex;\n",
              "      flex-wrap:wrap;\n",
              "      gap: 12px;\n",
              "    }\n",
              "\n",
              "    .colab-df-convert {\n",
              "      background-color: #E8F0FE;\n",
              "      border: none;\n",
              "      border-radius: 50%;\n",
              "      cursor: pointer;\n",
              "      display: none;\n",
              "      fill: #1967D2;\n",
              "      height: 32px;\n",
              "      padding: 0 0 0 0;\n",
              "      width: 32px;\n",
              "    }\n",
              "\n",
              "    .colab-df-convert:hover {\n",
              "      background-color: #E2EBFA;\n",
              "      box-shadow: 0px 1px 2px rgba(60, 64, 67, 0.3), 0px 1px 3px 1px rgba(60, 64, 67, 0.15);\n",
              "      fill: #174EA6;\n",
              "    }\n",
              "\n",
              "    [theme=dark] .colab-df-convert {\n",
              "      background-color: #3B4455;\n",
              "      fill: #D2E3FC;\n",
              "    }\n",
              "\n",
              "    [theme=dark] .colab-df-convert:hover {\n",
              "      background-color: #434B5C;\n",
              "      box-shadow: 0px 1px 3px 1px rgba(0, 0, 0, 0.15);\n",
              "      filter: drop-shadow(0px 1px 2px rgba(0, 0, 0, 0.3));\n",
              "      fill: #FFFFFF;\n",
              "    }\n",
              "  </style>\n",
              "\n",
              "      <script>\n",
              "        const buttonEl =\n",
              "          document.querySelector('#df-668d0790-6f51-4d1a-b65c-de8d64edb318 button.colab-df-convert');\n",
              "        buttonEl.style.display =\n",
              "          google.colab.kernel.accessAllowed ? 'block' : 'none';\n",
              "\n",
              "        async function convertToInteractive(key) {\n",
              "          const element = document.querySelector('#df-668d0790-6f51-4d1a-b65c-de8d64edb318');\n",
              "          const dataTable =\n",
              "            await google.colab.kernel.invokeFunction('convertToInteractive',\n",
              "                                                     [key], {});\n",
              "          if (!dataTable) return;\n",
              "\n",
              "          const docLinkHtml = 'Like what you see? Visit the ' +\n",
              "            '<a target=\"_blank\" href=https://colab.research.google.com/notebooks/data_table.ipynb>data table notebook</a>'\n",
              "            + ' to learn more about interactive tables.';\n",
              "          element.innerHTML = '';\n",
              "          dataTable['output_type'] = 'display_data';\n",
              "          await google.colab.output.renderOutput(dataTable, element);\n",
              "          const docLink = document.createElement('div');\n",
              "          docLink.innerHTML = docLinkHtml;\n",
              "          element.appendChild(docLink);\n",
              "        }\n",
              "      </script>\n",
              "    </div>\n",
              "  </div>\n",
              "  "
            ]
          },
          "metadata": {},
          "execution_count": 26
        }
      ]
    },
    {
      "cell_type": "code",
      "source": [
        "nltk.download('wordnet')"
      ],
      "metadata": {
        "colab": {
          "base_uri": "https://localhost:8080/"
        },
        "id": "pDiXNQtoFEum",
        "outputId": "22eeb515-b0f3-40a5-c348-73366b2cd1e9"
      },
      "execution_count": 9,
      "outputs": [
        {
          "output_type": "stream",
          "name": "stderr",
          "text": [
            "[nltk_data] Downloading package wordnet to /root/nltk_data...\n",
            "[nltk_data]   Package wordnet is already up-to-date!\n"
          ]
        },
        {
          "output_type": "execute_result",
          "data": {
            "text/plain": [
              "True"
            ]
          },
          "metadata": {},
          "execution_count": 9
        }
      ]
    },
    {
      "cell_type": "code",
      "source": [
        "def basic_clean(text):\n",
        "  \"\"\"\n",
        "  A simple function to clean up the data. All the words that\n",
        "  are not designated as a stop word is then lemmatized after\n",
        "  encoding and basic regex parsing are performed.\n",
        "  \"\"\"\n",
        "  wnl = nltk.stem.WordNetLemmatizer()\n",
        "  stopwords = nltk.corpus.stopwords.words('english')\n",
        "  text = (unicodedata.normalize('NFKD', text)\n",
        "    .encode('ascii', 'ignore')\n",
        "    .decode('utf-8', 'ignore')\n",
        "    .lower())\n",
        "  words = re.sub(r'[^\\w\\s]', '', text).split()\n",
        "  return [wnl.lemmatize(word) for word in words if word not in stopwords]"
      ],
      "metadata": {
        "id": "ffD3BScRrRYs"
      },
      "execution_count": 10,
      "outputs": []
    },
    {
      "cell_type": "markdown",
      "source": [
        "# Unigram model\n"
      ],
      "metadata": {
        "id": "GukKXjgQg6WG"
      }
    },
    {
      "cell_type": "code",
      "source": [
        "# run the clean function\n",
        "words = basic_clean(''.join(str(df_noSW['Text'].tolist())))\n",
        "human_words = basic_clean(''.join(str(df_human['Text'].tolist())))\n",
        "chatgpt_words = basic_clean(''.join(str(df_chatgpt['Text'].tolist())))"
      ],
      "metadata": {
        "id": "JF2av2e1EyXe"
      },
      "execution_count": 130,
      "outputs": []
    },
    {
      "cell_type": "markdown",
      "source": [
        "## Visualizing 'human words'"
      ],
      "metadata": {
        "id": "BILwi5E8L3fo"
      }
    },
    {
      "cell_type": "code",
      "source": [
        "unigram = (pd.Series(nltk.ngrams(human_words, 1)).value_counts())\n",
        "bigram = (pd.Series(nltk.ngrams(human_words, 2)).value_counts())\n",
        "trigram = (pd.Series(nltk.ngrams(human_words, 3)).value_counts())"
      ],
      "metadata": {
        "id": "FmMz5sp-FyR1"
      },
      "execution_count": 28,
      "outputs": []
    },
    {
      "cell_type": "code",
      "source": [
        "# create series of top 10 of n-gram\n",
        "unigrams_series = unigram[:10]\n",
        "bigrams_series = bigram[:10]\n",
        "trigrams_series = trigram[:10]"
      ],
      "metadata": {
        "id": "mroH8Kb7Hn3V"
      },
      "execution_count": 29,
      "outputs": []
    },
    {
      "cell_type": "code",
      "source": [
        "unigrams_series.sort_values().plot.barh(color='lightblue', width=.9, figsize=(12, 8))\n",
        "plt.title('10 Most Frequently Occuring Unigrams (HUMANS)')\n",
        "plt.ylabel('Unigram')\n",
        "plt.xlabel('# of Occurances')"
      ],
      "metadata": {
        "colab": {
          "base_uri": "https://localhost:8080/",
          "height": 462
        },
        "id": "fEkZx1bQGot_",
        "outputId": "6054a7f0-749d-431e-e05b-77735ff8cfa5"
      },
      "execution_count": 30,
      "outputs": [
        {
          "output_type": "execute_result",
          "data": {
            "text/plain": [
              "Text(0.5, 0, '# of Occurances')"
            ]
          },
          "metadata": {},
          "execution_count": 30
        },
        {
          "output_type": "display_data",
          "data": {
            "text/plain": [
              "<Figure size 864x576 with 1 Axes>"
            ],
            "image/png": "[encoded data removed]"
          },
          "metadata": {
            "needs_background": "light"
          }
        }
      ]
    },
    {
      "cell_type": "code",
      "source": [
        "bigrams_series.sort_values().plot.barh(color='blue', width=.9, figsize=(12, 8))\n",
        "plt.title('10 Most Frequently Occuring Bigrams (HUMANS)')\n",
        "plt.ylabel('Bigram')\n",
        "plt.xlabel('# of Occurances')"
      ],
      "metadata": {
        "colab": {
          "base_uri": "https://localhost:8080/",
          "height": 438
        },
        "id": "QptkT1IiHing",
        "outputId": "7666ed19-6c32-4e26-9517-ec82be61cd29"
      },
      "execution_count": 31,
      "outputs": [
        {
          "output_type": "execute_result",
          "data": {
            "text/plain": [
              "Text(0.5, 0, '# of Occurances')"
            ]
          },
          "metadata": {},
          "execution_count": 31
        },
        {
          "output_type": "display_data",
          "data": {
            "text/plain": [
              "<Figure size 864x576 with 1 Axes>"
            ],
            "image/png": "[encoded data removed]"
          },
          "metadata": {
            "needs_background": "light"
          }
        }
      ]
    },
    {
      "cell_type": "code",
      "source": [
        "trigrams_series.sort_values().plot.barh(color='darkblue', width=.9, figsize=(12, 8))\n",
        "plt.title('10 Most Frequently Occuring Bigrams (HUMANS)')\n",
        "plt.ylabel('Trigram')\n",
        "plt.xlabel('# of Occurances')"
      ],
      "metadata": {
        "colab": {
          "base_uri": "https://localhost:8080/",
          "height": 403
        },
        "id": "2VULZ5k_Hml1",
        "outputId": "4b6978fb-f482-4dc2-c24f-3d5fa87f3000"
      },
      "execution_count": 32,
      "outputs": [
        {
          "output_type": "execute_result",
          "data": {
            "text/plain": [
              "Text(0.5, 0, '# of Occurances')"
            ]
          },
          "metadata": {},
          "execution_count": 32
        },
        {
          "output_type": "display_data",
          "data": {
            "text/plain": [
              "<Figure size 864x576 with 1 Axes>"
            ],
            "image/png": "[encoded data removed]"
          },
          "metadata": {
            "needs_background": "light"
          }
        }
      ]
    },
    {
      "cell_type": "markdown",
      "source": [
        "## Visualizing 'chatgpt words'"
      ],
      "metadata": {
        "id": "RSTi7URXMctr"
      }
    },
    {
      "cell_type": "code",
      "source": [
        "unigram = (pd.Series(nltk.ngrams(chatgpt_words, 1)).value_counts())\n",
        "bigram = (pd.Series(nltk.ngrams(chatgpt_words, 2)).value_counts())\n",
        "trigram = (pd.Series(nltk.ngrams(chatgpt_words, 3)).value_counts())"
      ],
      "metadata": {
        "id": "Cw2nA9EgMcts"
      },
      "execution_count": 33,
      "outputs": []
    },
    {
      "cell_type": "code",
      "source": [
        "# create series of top 10 of n-gram\n",
        "unigrams_series = unigram[:10]\n",
        "bigrams_series = bigram[:10]\n",
        "trigrams_series = trigram[:10]"
      ],
      "metadata": {
        "id": "HOicwsEPMcts"
      },
      "execution_count": 34,
      "outputs": []
    },
    {
      "cell_type": "code",
      "source": [
        "unigrams_series.sort_values().plot.barh(color='lightblue', width=.9, figsize=(12, 8))\n",
        "plt.title('10 Most Frequently Occuring Unigrams (CHATGPT)')\n",
        "plt.ylabel('Unigram')\n",
        "plt.xlabel('# of Occurances')"
      ],
      "metadata": {
        "colab": {
          "base_uri": "https://localhost:8080/",
          "height": 459
        },
        "outputId": "c8ce958e-1879-4742-c978-fe6d47235105",
        "id": "Z2iYugh8Mcts"
      },
      "execution_count": 35,
      "outputs": [
        {
          "output_type": "execute_result",
          "data": {
            "text/plain": [
              "Text(0.5, 0, '# of Occurances')"
            ]
          },
          "metadata": {},
          "execution_count": 35
        },
        {
          "output_type": "display_data",
          "data": {
            "text/plain": [
              "<Figure size 864x576 with 1 Axes>"
            ],
            "image/png": "[encoded data removed]"
          },
          "metadata": {
            "needs_background": "light"
          }
        }
      ]
    },
    {
      "cell_type": "code",
      "source": [
        "bigrams_series.sort_values().plot.barh(color='blue', width=.9, figsize=(12, 8))\n",
        "plt.title('10 Most Frequently Occuring Bigrams (CHATGPT)')\n",
        "plt.ylabel('Bigram')\n",
        "plt.xlabel('# of Occurances')"
      ],
      "metadata": {
        "colab": {
          "base_uri": "https://localhost:8080/",
          "height": 429
        },
        "outputId": "fecbfb94-f36b-4ad8-89cf-5a4bc60df83f",
        "id": "wfbXXjNzMcts"
      },
      "execution_count": 36,
      "outputs": [
        {
          "output_type": "execute_result",
          "data": {
            "text/plain": [
              "Text(0.5, 0, '# of Occurances')"
            ]
          },
          "metadata": {},
          "execution_count": 36
        },
        {
          "output_type": "display_data",
          "data": {
            "text/plain": [
              "<Figure size 864x576 with 1 Axes>"
            ],
            "image/png": "[encoded data removed]"
          },
          "metadata": {
            "needs_background": "light"
          }
        }
      ]
    },
    {
      "cell_type": "code",
      "source": [
        "trigrams_series.sort_values().plot.barh(color='darkblue', width=.9, figsize=(12, 8))\n",
        "plt.title('10 Most Frequently Occuring Bigrams (CHATGPT)')\n",
        "plt.ylabel('Trigram')\n",
        "plt.xlabel('# of Occurances')"
      ],
      "metadata": {
        "colab": {
          "base_uri": "https://localhost:8080/",
          "height": 551
        },
        "outputId": "ef33987d-4595-4633-e399-c4a16492650f",
        "id": "RjkxUoeCMcts"
      },
      "execution_count": 37,
      "outputs": [
        {
          "output_type": "execute_result",
          "data": {
            "text/plain": [
              "Text(0.5, 0, '# of Occurances')"
            ]
          },
          "metadata": {},
          "execution_count": 37
        },
        {
          "output_type": "display_data",
          "data": {
            "text/plain": [
              "<Figure size 864x576 with 1 Axes>"
            ],
            "image/png": "[encoded data removed]"
          },
          "metadata": {
            "needs_background": "light"
          }
        }
      ]
    },
    {
      "cell_type": "markdown",
      "source": [
        "## It's SVM time (basic words)"
      ],
      "metadata": {
        "id": "7Th1HVe4hJnl"
      }
    },
    {
      "cell_type": "markdown",
      "source": [
        "### Data Preprocessing"
      ],
      "metadata": {
        "id": "y9ofrOkqvfLX"
      }
    },
    {
      "cell_type": "code",
      "source": [
        "from sklearn import preprocessing\n",
        "\n",
        "le = preprocessing.LabelEncoder()\n",
        "le.fit(df.Class)\n",
        "df['Class'] = le.transform(df.Class)"
      ],
      "metadata": {
        "id": "2gcG6KcLy32Z"
      },
      "execution_count": 169,
      "outputs": []
    },
    {
      "cell_type": "code",
      "source": [
        "cleanedData = []\n",
        "\n",
        "lemma = WordNetLemmatizer()\n",
        "swords = stopwords.words(\"english\")\n",
        "for text in df[\"Text\"]:\n",
        "    \n",
        "    # Cleaning links\n",
        "    text = re.sub(r'http\\S+', '', text)\n",
        "    \n",
        "    # Cleaning everything except alphabetical and numerical characters\n",
        "    text = re.sub(\"[^a-zA-Z0-9]\",\" \",text)\n",
        "    \n",
        "    # Tokenizing and lemmatizing\n",
        "    text = nltk.word_tokenize(text.lower())\n",
        "    text = [lemma.lemmatize(word) for word in text]\n",
        "    \n",
        "    # Removing stopwords\n",
        "    text = [word for word in text if word not in swords]\n",
        "    \n",
        "    # Joining\n",
        "    text = \" \".join(text)\n",
        "    \n",
        "    cleanedData.append(text)\n",
        "\n",
        "for i in range(0,5):\n",
        "    print(cleanedData[i],end=\"\\n\\n\")"
      ],
      "metadata": {
        "colab": {
          "base_uri": "https://localhost:8080/"
        },
        "id": "23a9BC4BpILQ",
        "outputId": "19369689-a456-4e9e-e8c6-8236722273f6"
      },
      "execution_count": 157,
      "outputs": [
        {
          "output_type": "stream",
          "name": "stdout",
          "text": [
            "left wing politics typically involves support policy prioritize need welfare marginalized oppressed group worker minority poor left wing ideology often advocate greater government intervention economy progressive taxation social program ensure equal distribution wealth opportunity also tend supportive environmental protection civil liberty international cooperation right wing politics hand generally prioritizes need interest traditional societal economic elite business owner wealthy right wing ideology tend advocate limited government intervention economy lower tax smaller social program also tend supportive strong national defense law order traditional social value summary left wing politics characterized emphasis equality social justice protection marginalized group right wing politics focus tradition personal responsibility smaller role government\n",
            "\n",
            "left wing politics often focus social equality right wing politics comparison motivated social hierarchy left wing politics encompasses liberal idea like right equality whereas right leaning politics motivated nationalistic idea tradition duty generally follow conservative school thought\n",
            "\n",
            "many sub field economics really depends keen getting started wish understand mainstream economist study human behavior could try logic life tim harford armchair economist steven e landsburg already understanding rationality paradigm typically employed economic analysis behavioural economics book might offer new contrasting insight thinking fast slow daniel kahneman predictably irrational dan ariely nudge richard thaler ca sunstein interested economic history wish delve deeper pioneering idea advanced founding father economics would recommend following new idea dead economist todd g buchholz worldly philosopher robert l heilbroner interested economics inequality specifically income wealth distribution certainly pick capital 21st century thomas piketty curious country rich others poor could done tackle poverty e development economics could turn nation fail daron acemoglu james robinson gun germ steel jared diamond end poverty jeffrey sachs white man burden william easterly list book offer exhaustive good start would like pick quality economics book\n",
            "\n",
            "must read book economics considered classic field wealth nation adam smith published 1776 considered first modern work economics still widely read today principle economics alfred marshall published 1890 considered one influential economics text late 19th early 20th century general theory employment interest money john maynard keynes published 1936 revolutionized macroeconomic thought continues influential today capital twenty first century thomas piketty published 2014 comprehensive study income wealth inequality cause nudge improving decision health wealth happiness richard thaler ca sunstein published 2008 popularized concept behavioral economics implication policy making book provide broad overview field economics evolution time considered essential reading anyone interested subject\n",
            "\n",
            "money started business say make world better place solve customer problem reality money easily biggest driver plenty evidence give one ha businessperson history sold business enough comfortably retire choice carried working full time business passionate problem business wa solving passion business go instant longer financially rewarded action speak much louder word\n",
            "\n"
          ]
        }
      ]
    },
    {
      "cell_type": "code",
      "source": [
        "vectorizer = CountVectorizer(max_features=10000)\n",
        "BOW = vectorizer.fit_transform(cleanedData)"
      ],
      "metadata": {
        "id": "n3eEG8zguA4W"
      },
      "execution_count": 158,
      "outputs": []
    },
    {
      "cell_type": "code",
      "source": [
        "from sklearn.model_selection import train_test_split\n",
        "x_train,x_test,y_train,y_test = train_test_split(BOW,np.asarray(df[\"Class\"]))\n",
        "\n",
        "print(x_train.shape)\n",
        "print(x_test.shape)\n",
        "print(y_train.shape)\n",
        "print(y_test.shape)"
      ],
      "metadata": {
        "colab": {
          "base_uri": "https://localhost:8080/"
        },
        "id": "nzdHDgsruMVs",
        "outputId": "64e184bd-1805-48c7-e933-d192acba758d"
      },
      "execution_count": 159,
      "outputs": [
        {
          "output_type": "stream",
          "name": "stdout",
          "text": [
            "(22, 1303)\n",
            "(8, 1303)\n",
            "(22,)\n",
            "(8,)\n"
          ]
        }
      ]
    },
    {
      "cell_type": "code",
      "source": [
        "from sklearn.svm import SVC\n",
        "start_time = time.time()\n",
        "\n",
        "model = SVC( verbose=True)\n",
        "model.fit(x_train,y_train)\n",
        "\n",
        "end_time = time.time()\n",
        "process_time = round(end_time-start_time,2)\n",
        "print(\"Fitting SVC took {} seconds\".format(process_time))"
      ],
      "metadata": {
        "colab": {
          "base_uri": "https://localhost:8080/"
        },
        "id": "fGtqGL_FuQzZ",
        "outputId": "a8700746-7a81-4179-9a68-a02a238925db"
      },
      "execution_count": 164,
      "outputs": [
        {
          "output_type": "stream",
          "name": "stdout",
          "text": [
            "[LibSVM]Fitting SVC took 0.01 seconds\n"
          ]
        }
      ]
    },
    {
      "cell_type": "code",
      "source": [
        "predictions = model.predict(x_test)"
      ],
      "metadata": {
        "id": "r5fv0XdMv6HO"
      },
      "execution_count": 161,
      "outputs": []
    },
    {
      "cell_type": "code",
      "source": [
        "training_predictions= model.predict(x_train)"
      ],
      "metadata": {
        "id": "i6esQp5CwLTP"
      },
      "execution_count": 162,
      "outputs": []
    },
    {
      "cell_type": "code",
      "source": [
        "from sklearn.metrics import accuracy_score,confusion_matrix,recall_score,precision_score\n",
        "from sklearn.metrics import classification_report\n",
        "from sklearn.metrics import f1_score\n",
        "\n",
        "print(\"Accuracy of model is {}%\".format(accuracy_score(y_train,training_predictions) * 100))\n",
        "print(\"Accuracy of model is {}%\".format(accuracy_score(y_test,predictions) * 100))\n",
        "print(\"Precision of model is {}%\".format(precision_score(y_test,predictions) * 100))\n",
        "print(\"recall of model is {}%\".format(recall_score(y_test,predictions) ))\n",
        "print(\"f1 of model is {}%\".format(f1_score(y_test,predictions) ))\n",
        "print((confusion_matrix(y_test,predictions) ))"
      ],
      "metadata": {
        "colab": {
          "base_uri": "https://localhost:8080/"
        },
        "id": "yz0GTybJwPiE",
        "outputId": "d31fe582-68ef-42c9-8c5d-d35eea799380"
      },
      "execution_count": 165,
      "outputs": [
        {
          "output_type": "stream",
          "name": "stdout",
          "text": [
            "Accuracy of model is 100.0%\n",
            "Accuracy of model is 62.5%\n",
            "Precision of model is 50.0%\n",
            "recall of model is 0.6666666666666666%\n",
            "f1 of model is 0.5714285714285715%\n",
            "[[3 2]\n",
            " [1 2]]\n"
          ]
        }
      ]
    },
    {
      "cell_type": "code",
      "source": [
        "import matplotlib.pyplot as plt\n",
        "from sklearn.datasets import make_classification\n",
        "from sklearn.metrics import confusion_matrix, ConfusionMatrixDisplay\n",
        "\n",
        "cm = confusion_matrix(y_test, predictions, labels=df.Class)\n",
        "ConfusionMatrixDisplay.from_predictions(y_test,predictions)\n"
      ],
      "metadata": {
        "colab": {
          "base_uri": "https://localhost:8080/",
          "height": 301
        },
        "id": "MmLVhyBCzE-B",
        "outputId": "d25cf225-4b5b-42e6-de19-206778014cc5"
      },
      "execution_count": 174,
      "outputs": [
        {
          "output_type": "execute_result",
          "data": {
            "text/plain": [
              "<sklearn.metrics._plot.confusion_matrix.ConfusionMatrixDisplay at 0x7f02f626b340>"
            ]
          },
          "metadata": {},
          "execution_count": 174
        },
        {
          "output_type": "display_data",
          "data": {
            "text/plain": [
              "<Figure size 432x288 with 2 Axes>"
            ],
            "image/png": "[encoded data removed]"
          },
          "metadata": {
            "needs_background": "light"
          }
        }
      ]
    },
    {
      "cell_type": "code",
      "source": [
        "from sklearn.metrics import roc_curve\n",
        "from sklearn.metrics import RocCurveDisplay\n",
        "RocCurveDisplay.from_estimator(model, x_test, y_test)\n",
        "RocCurveDisplay.from_predictions(y_test, predictions)"
      ],
      "metadata": {
        "colab": {
          "base_uri": "https://localhost:8080/",
          "height": 559
        },
        "id": "kGHDZzLE00t6",
        "outputId": "11893830-4a38-4828-9152-6edeaccc7172"
      },
      "execution_count": 176,
      "outputs": [
        {
          "output_type": "execute_result",
          "data": {
            "text/plain": [
              "<sklearn.metrics._plot.roc_curve.RocCurveDisplay at 0x7f02f37b5730>"
            ]
          },
          "metadata": {},
          "execution_count": 176
        },
        {
          "output_type": "display_data",
          "data": {
            "text/plain": [
              "<Figure size 432x288 with 1 Axes>"
            ],
            "image/png": "[encoded data removed]"
          },
          "metadata": {
            "needs_background": "light"
          }
        },
        {
          "output_type": "display_data",
          "data": {
            "text/plain": [
              "<Figure size 432x288 with 1 Axes>"
            ],
            "image/png": "[encoded data removed]"
          },
          "metadata": {
            "needs_background": "light"
          }
        }
      ]
    },
    {
      "cell_type": "markdown",
      "source": [
        "# Parts-Of-Speech tagging"
      ],
      "metadata": {
        "id": "1Hpi7v4HMwuw"
      }
    },
    {
      "cell_type": "markdown",
      "source": [
        "## Human POS"
      ],
      "metadata": {
        "id": "sSL9waidM3YC"
      }
    },
    {
      "cell_type": "code",
      "source": [
        "# nltk tagging\n",
        "human_pos = nltk.pos_tag(human_words)\n",
        "print(human_pos)"
      ],
      "metadata": {
        "colab": {
          "base_uri": "https://localhost:8080/"
        },
        "id": "Cdp3nrHvJOaH",
        "outputId": "f8f6839e-4670-48d8-c556-a1017552adb5"
      },
      "execution_count": 38,
      "outputs": [
        {
          "output_type": "stream",
          "name": "stdout",
          "text": [
            "[('left', 'JJ'), ('wing', 'NN'), ('politics', 'NNS'), ('often', 'RB'), ('focus', 'VBP'), ('social', 'JJ'), ('equality', 'NN'), ('right', 'RB'), ('wing', 'VBG'), ('politics', 'NNS'), ('comparison', 'NN'), ('motivated', 'VBN'), ('social', 'JJ'), ('hierarchy', 'NN'), ('left', 'VBD'), ('wing', 'VBG'), ('politics', 'NNS'), ('encompasses', 'VBZ'), ('liberal', 'JJ'), ('idea', 'NN'), ('like', 'IN'), ('right', 'JJ'), ('equality', 'NN'), ('whereas', 'RB'), ('right', 'JJ'), ('leaning', 'VBG'), ('politics', 'NNS'), ('motivated', 'VBD'), ('nationalistic', 'JJ'), ('idea', 'NN'), ('tradition', 'NN'), ('duty', 'NN'), ('generally', 'RB'), ('follow', 'VBP'), ('conservative', 'JJ'), ('school', 'NN'), ('thought', 'VBD'), ('many', 'JJ'), ('subfields', 'NNS'), ('economics', 'NNS'), ('really', 'RB'), ('depends', 'VBZ'), ('keen', 'JJ'), ('getting', 'VBG'), ('started', 'VBD'), ('wish', 'JJ'), ('understand', 'NN'), ('mainstream', 'NN'), ('economist', 'NN'), ('study', 'NN'), ('human', 'JJ'), ('behavior', 'NN'), ('could', 'MD'), ('try', 'VB'), ('logic', 'JJ'), ('life', 'NN'), ('tim', 'NN'), ('harford', 'NN'), ('armchair', 'NN'), ('economist', 'NN'), ('steven', 'JJ'), ('e', 'NN'), ('landsburg', 'NNS'), ('already', 'RB'), ('understanding', 'VBG'), ('rationality', 'NN'), ('paradigm', 'NN'), ('typically', 'RB'), ('employed', 'JJ'), ('economic', 'JJ'), ('analysis', 'NN'), ('behavioural', 'JJ'), ('economics', 'NNS'), ('book', 'NN'), ('might', 'MD'), ('offer', 'VB'), ('new', 'JJ'), ('contrasting', 'VBG'), ('insight', 'JJ'), ('thinking', 'VBG'), ('fast', 'RB'), ('slow', 'JJ'), ('daniel', 'NN'), ('kahneman', 'NN'), ('predictably', 'RB'), ('irrational', 'JJ'), ('dan', 'NN'), ('ariely', 'RB'), ('nudge', 'JJ'), ('richard', 'NN'), ('thaler', 'NN'), ('ca', 'MD'), ('sunstein', 'VB'), ('interested', 'JJ'), ('economic', 'JJ'), ('history', 'NN'), ('wish', 'JJ'), ('delve', 'NN'), ('deeper', 'NN'), ('pioneering', 'VBG'), ('idea', 'NN'), ('advanced', 'VBD'), ('founding', 'VBG'), ('father', 'NN'), ('economics', 'NNS'), ('would', 'MD'), ('recommend', 'VB'), ('following', 'VBG'), ('new', 'JJ'), ('idea', 'NN'), ('dead', 'JJ'), ('economist', 'NN'), ('todd', 'NN'), ('g', 'NN'), ('buchholz', 'NN'), ('worldly', 'RB'), ('philosopher', 'RB'), ('robert', 'JJ'), ('l', 'NN'), ('heilbroner', 'NN'), ('interested', 'JJ'), ('economics', 'NNS'), ('inequality', 'NN'), ('specifically', 'RB'), ('income', 'NN'), ('wealth', 'NN'), ('distribution', 'NN'), ('certainly', 'RB'), ('pick', 'JJ'), ('capital', 'NN'), ('21st', 'JJ'), ('century', 'NN'), ('thomas', 'NN'), ('piketty', 'RB'), ('curious', 'JJ'), ('country', 'NN'), ('rich', 'JJ'), ('others', 'NNS'), ('poor', 'JJ'), ('could', 'MD'), ('done', 'VBN'), ('tackle', 'VB'), ('poverty', 'NN'), ('ie', 'NN'), ('development', 'NN'), ('economics', 'NNS'), ('could', 'MD'), ('turn', 'VB'), ('nation', 'NN'), ('fail', 'NN'), ('daron', 'NN'), ('acemoglu', 'NN'), ('james', 'NNS'), ('robinson', 'VBP'), ('gun', 'JJ'), ('germ', 'JJ'), ('steel', 'NN'), ('jared', 'VBD'), ('diamond', 'JJ'), ('end', 'NN'), ('poverty', 'NN'), ('jeffrey', 'NN'), ('sachs', 'JJ'), ('white', 'JJ'), ('man', 'NN'), ('burden', 'NN'), ('william', 'VBD'), ('easterly', 'JJ'), ('list', 'NN'), ('book', 'NN'), ('offer', 'VBP'), ('exhaustive', 'JJ'), ('good', 'JJ'), ('start', 'NN'), ('would', 'MD'), ('like', 'VB'), ('pick', 'JJ'), ('quality', 'NN'), ('economics', 'NNS'), ('book', 'NN'), ('money', 'NN'), ('started', 'VBN'), ('business', 'NN'), ('say', 'VBP'), ('make', 'VBP'), ('world', 'NN'), ('better', 'RBR'), ('place', 'NN'), ('solve', 'VBP'), ('customer', 'NN'), ('problem', 'NN'), ('reality', 'NN'), ('money', 'NN'), ('easily', 'RB'), ('biggest', 'JJS'), ('driver', 'NN'), ('plenty', 'JJ'), ('evidence', 'NN'), ('ill', 'RB'), ('give', 'VB'), ('one', 'CD'), ('businessperson', 'NN'), ('history', 'NN'), ('sold', 'VBN'), ('business', 'NN'), ('enough', 'JJ'), ('comfortably', 'RB'), ('retire', 'VB'), ('choice', 'NN'), ('carried', 'VBD'), ('working', 'JJ'), ('fulltime', 'NN'), ('business', 'NN'), ('passionate', 'NN'), ('problem', 'NN'), ('business', 'NN'), ('solving', 'VBG'), ('passion', 'NN'), ('business', 'NN'), ('go', 'VBP'), ('instant', 'JJ'), ('theyre', 'NN'), ('longer', 'RBR'), ('financially', 'RB'), ('rewarded', 'JJ'), ('action', 'NN'), ('speak', 'RB'), ('much', 'JJ'), ('louder', 'JJR'), ('word', 'NN'), ('stuck', 'VBN'), ('love', 'IN'), ('love', 'NN'), ('sign', 'NN'), ('someone', 'NN'), ('really', 'RB'), ('1', 'CD'), ('remember', 'NN'), ('everything', 'NN'), ('even', 'RB'), ('small', 'JJ'), ('detail', 'NN'), ('big', 'JJ'), ('sign', 'NN'), ('someone', 'NN'), ('love', 'VBD'), ('pick', 'RB'), ('small', 'JJ'), ('detail', 'NN'), ('might', 'MD'), ('latest', 'JJS'), ('haircut', 'NN'), ('got', 'VBD'), ('subtle', 'JJ'), ('change', 'NN'), ('mood', 'NN'), ('day', 'NN'), ('even', 'RB'), ('something', 'NN'), ('small', 'JJ'), ('new', 'JJ'), ('outfit', 'NN'), ('2', 'CD'), ('always', 'RB'), ('vent', 'JJ'), ('someone', 'NN'), ('doesnt', 'NN'), ('love', 'VBP'), ('wont', 'NN'), ('interested', 'JJ'), ('spending', 'NN'), ('time', 'NN'), ('listening', 'VBG'), ('problem', 'NN'), ('priority', 'NN'), ('love', 'VBP'), ('instead', 'RB'), ('want', 'VBP'), ('something', 'NN'), ('see', 'VBP'), ('struggling', 'VBG'), ('3', 'CD'), ('acknowledge', 'JJ'), ('difference', 'NN'), ('instead', 'RB'), ('trying', 'VBG'), ('change', 'NN'), ('someone', 'NN'), ('really', 'RB'), ('love', 'VB'), ('accept', 'JJ'), ('individual', 'JJ'), ('idea', 'NN'), ('feeling', 'VBG'), ('part', 'NN'), ('generally', 'RB'), ('speaking', 'VBG'), ('youll', 'PRP'), ('feel', 'VBP'), ('comfortable', 'JJ'), ('agreeing', 'VBG'), ('disagree', 'JJ'), ('4', 'CD'), ('make', 'VBP'), ('feel', 'NN'), ('special', 'JJ'), ('theyll', 'NN'), ('always', 'RB'), ('willing', 'JJ'), ('go', 'VB'), ('extra', 'JJ'), ('mile', 'RB'), ('make', 'VBP'), ('feel', 'VB'), ('special', 'JJ'), ('whether', 'IN'), ('surprising', 'JJ'), ('gift', 'NN'), ('planning', 'VBG'), ('special', 'JJ'), ('date', 'NN'), ('night', 'NN'), ('calling', 'VBG'), ('blue', 'JJ'), ('let', 'NN'), ('know', 'VB'), ('thinking', 'VBG'), ('5', 'CD'), ('even', 'RB'), ('normal', 'JJ'), ('mundane', 'NN'), ('activity', 'NN'), ('fun', 'NN'), ('someone', 'NN'), ('love', 'VB'), ('spending', 'NN'), ('time', 'NN'), ('always', 'RB'), ('considered', 'VBN'), ('fun', 'JJ'), ('even', 'RB'), ('activity', 'NN'), ('might', 'MD'), ('normally', 'RB'), ('considered', 'VBN'), ('boring', 'NN'), ('like', 'IN'), ('chore', 'NN'), ('grocery', 'NN'), ('shopping', 'NN'), ('turn', 'NN'), ('adventure', 'NN'), ('love', 'VBD'), ('6', 'CD'), ('never', 'RB'), ('go', 'VBP'), ('day', 'NN'), ('without', 'IN'), ('hearing', 'VBG'), ('someone', 'NN'), ('love', 'NN'), ('wont', 'NN'), ('able', 'JJ'), ('stand', 'NN'), ('going', 'VBG'), ('long', 'RB'), ('without', 'IN'), ('hearing', 'VBG'), ('whether', 'IN'), ('hearing', 'VBG'), ('voice', 'NN'), ('via', 'IN'), ('phone', 'NN'), ('call', 'NN'), ('even', 'RB'), ('checking', 'VBG'), ('quick', 'JJ'), ('text', 'NN'), ('wont', 'NN'), ('going', 'VBG'), ('entire', 'JJ'), ('day', 'NN'), ('without', 'IN'), ('hearing', 'VBG'), ('form', 'NN'), ('7', 'CD'), ('tell', 'NN'), ('love', 'RBR'), ('likely', 'RB'), ('obvious', 'JJ'), ('one', 'CD'), ('absolute', 'NN'), ('biggest', 'JJS'), ('sign', 'NN'), ('someone', 'NN'), ('love', 'NN'), ('tell', 'NN'), ('love', 'VB'), ('youll', 'NN'), ('know', 'VBP'), ('theyre', 'NN'), ('sincere', 'JJ'), ('action', 'NN'), ('match', 'NN'), ('theyre', 'NN'), ('telling', 'VBG'), ('hope', 'NN'), ('could', 'MD'), ('helpful', 'VB'), ('careful', 'JJ'), ('shoot', 'JJ'), ('foot', 'NN'), ('want', 'VBP'), ('quit', 'NN'), ('job', 'NN'), ('start', 'NN'), ('business', 'NN'), ('start', 'NN'), ('sharing', 'VBG'), ('idea', 'NN'), ('many', 'JJ'), ('people', 'NNS'), ('possible', 'JJ'), ('search', 'JJ'), ('potential', 'JJ'), ('user', 'NN'), ('product', 'NN'), ('service', 'NN'), ('find', 'VBP'), ('business', 'NN'), ('coach', 'NN'), ('investor', 'NN'), ('mentor', 'NN'), ('talk', 'NN'), ('listen', 'NNS'), ('say', 'VBP'), ('avoid', 'IN'), ('getting', 'VBG'), ('defensive', 'JJ'), ('getting', 'VBG'), ('feedback', 'NN'), ('business', 'NN'), ('idea', 'NN'), ('let', 'NN'), ('people', 'NNS'), ('say', 'VBP'), ('everything', 'NN'), ('want', 'VBP'), ('say', 'VBP'), ('interrupt', 'NNS'), ('make', 'VBP'), ('big', 'JJ'), ('effort', 'NN'), ('help', 'NN'), ('know', 'VB'), ('youre', 'NN'), ('hearing', 'VBG'), ('expect', 'JJ'), ('golden', 'JJ'), ('opportunity', 'NN'), ('listen', 'VBP'), ('carefully', 'RB'), ('theyre', 'JJ'), ('saying', 'VBG'), ('try', 'NN'), ('sell', 'NN'), ('idea', 'NN'), ('remember', 'VB'), ('convincing', 'JJ'), ('lead', 'NN'), ('many', 'JJ'), ('sale', 'NN'), ('today', 'NN'), ('excited', 'VBD'), ('every', 'DT'), ('entrepreneurial', 'JJ'), ('hormone', 'NN'), ('body', 'NN'), ('racing', 'VBG'), ('vein', 'JJ'), ('eager', 'JJ'), ('take', 'VB'), ('action', 'NN'), ('warned', 'VBD'), ('must', 'MD'), ('learn', 'VB'), ('get', 'VB'), ('emotion', 'JJ'), ('control', 'NN'), ('emotional', 'JJ'), ('process', 'NN'), ('passion', 'NN'), ('may', 'MD'), ('easily', 'RB'), ('take', 'VB'), ('rational', 'JJ'), ('thought', 'NN'), ('happens', 'VBZ'), ('easily', 'RB'), ('sell', 'VB'), ('business', 'NN'), ('idea', 'NN'), ('next', 'RB'), ('big', 'JJ'), ('thing', 'NN'), ('shoot', 'JJ'), ('foot', 'NN'), ('avoid', 'NN'), ('selling', 'VBG'), ('idea', 'NN'), ('1', 'CD'), ('want', 'JJ'), ('end', 'NN'), ('bad', 'JJ'), ('date', 'NN'), ('stare', 'NN'), ('hairline', 'NN'), ('someone', 'NN'), ('head', 'VBP'), ('dont', 'NN'), ('want', 'VBP'), ('listen', 'JJ'), ('make', 'VBP'), ('people', 'NNS'), ('uncomfortable', 'JJ'), ('2', 'CD'), ('want', 'VBP'), ('lie', 'NN'), ('believable', 'JJ'), ('add', 'NN'), ('embarrassing', 'VBG'), ('detail', 'JJ'), ('story', 'NN'), ('3', 'CD'), ('want', 'JJ'), ('open', 'JJ'), ('door', 'NN'), ('growth', 'NN'), ('conversation', 'NN'), ('dont', 'NNS'), ('say', 'VBP'), ('okay', 'IN'), ('someone', 'NN'), ('apologizes', 'NNS'), ('say', 'VBP'), ('something', 'NN'), ('like', 'IN'), ('thank', 'NN'), ('apologizing', 'VBG'), ('4', 'CD'), ('want', 'JJ'), ('someone', 'NN'), ('trait', 'NN'), ('thank', 'NN'), ('someone', 'NN'), ('trait', 'NN'), ('want', 'VBP'), ('instead', 'RB'), ('telling', 'VBG'), ('friend', 'NN'), ('sorry', 'JJ'), ('wait', 'NN'), ('tell', 'NN'), ('thank', 'VBD'), ('patience', 'NN'), ('understanding', 'VBG'), ('5', 'CD'), ('want', 'JJ'), ('people', 'NNS'), ('feel', 'VBP'), ('needed', 'VBN'), ('need', 'NN'), ('help', 'NN'), ('people', 'NNS'), ('want', 'VBP'), ('feel', 'NN'), ('needed', 'VBN'), ('like', 'IN'), ('making', 'VBG'), ('difference', 'NN'), ('expressing', 'VBG'), ('much', 'JJ'), ('make', 'NN'), ('difference', 'NN'), ('world', 'NN'), ('6', 'CD'), ('want', 'JJ'), ('people', 'NNS'), ('agree', 'VBP'), ('task', 'JJ'), ('start', 'NN'), ('something', 'NN'), ('simpler', 'NN'), ('first', 'JJ'), ('footinthedoor', 'NN'), ('phenomenon', 'NN'), ('people', 'NNS'), ('likely', 'JJ'), ('agree', 'JJ'), ('task', 'NN'), ('gradual', 'JJ'), ('commitment', 'NN'), ('7', 'CD'), ('dont', 'NN'), ('want', 'VBP'), ('lose', 'JJ'), ('friend', 'NN'), ('never', 'RB'), ('arguing', 'VBG'), ('text', 'NN'), ('arguing', 'VBG'), ('text', 'JJ'), ('worst', 'JJ'), ('way', 'NN'), ('argue', 'JJ'), ('lack', 'NN'), ('tone', 'NN'), ('decrease', 'NN'), ('meaning', 'NN'), ('word', 'NN'), ('8', 'CD'), ('really', 'RB'), ('need', 'JJ'), ('calm', 'NNS'), ('eat', 'VBP'), ('something', 'NN'), ('youre', 'NN'), ('eating', 'VBG'), ('something', 'NN'), ('brain', 'NN'), ('trip', 'NN'), ('reason', 'NN'), ('would', 'MD'), ('eating', 'VB'), ('danger', 'NN'), ('im', 'NN'), ('danger', 'NN'), ('one', 'CD'), ('thing', 'NN'), ('sphincter', 'NN'), ('junction', 'NN'), ('esophagus', 'FW'), ('stomach', 'NN'), ('thats', 'NNS'), ('normally', 'RB'), ('tightly', 'RB'), ('constricted', 'VBN'), ('keep', 'JJ'), ('stomach', 'NN'), ('content', 'NN'), ('reentering', 'VBG'), ('esophagus', 'JJ'), ('except', 'IN'), ('case', 'NN'), ('like', 'IN'), ('gerd', 'NN'), ('here', 'RB'), ('sphincter', 'JJ'), ('look', 'VBP'), ('like', 'IN'), ('endoscopy', 'NN'), ('another', 'DT'), ('esophagus', 'NN'), ('doesnt', 'NN'), ('enter', 'NN'), ('stomach', 'VBP'), ('top', 'JJ'), ('upper', 'JJ'), ('dome', 'NN'), ('stomach', 'NN'), ('called', 'VBN'), ('fundus', 'NN'), ('encloses', 'VBZ'), ('fairly', 'RB'), ('substantial', 'JJ'), ('space', 'NN'), ('higher', 'JJR'), ('esophagus', 'JJ'), ('people', 'NNS'), ('took', 'VBD'), ('drink', 'RP'), ('ate', 'JJ'), ('bit', 'NN'), ('food', 'NN'), ('stood', 'VBD'), ('head', 'NN'), ('stomach', 'NN'), ('content', 'NN'), ('fell', 'VBD'), ('force', 'JJ'), ('gravity', 'NN'), ('would', 'MD'), ('likely', 'RB'), ('fall', 'VB'), ('space', 'NN'), ('esophagus', 'NN'), ('here', 'RB'), ('upsidedown', 'JJ'), ('stomach', 'NN'), ('see', 'VB'), ('food', 'NN'), ('drink', 'VB'), ('would', 'MD'), ('fall', 'VB'), ('person', 'NN'), ('standing', 'VBG'), ('head', 'NN'), ('especially', 'RB'), ('sphincter', 'JJ'), ('blocking', 'VBG'), ('way', 'NN'), ('esophagus', 'JJ'), ('opinion', 'NN'), ('japanese', 'JJ'), ('committed', 'JJ'), ('atrocity', 'NN'), ('even', 'RB'), ('heinous', 'JJ'), ('committed', 'JJ'), ('german', 'JJ'), ('nazi', 'JJ'), ('world', 'NN'), ('war', 'NN'), ('ii', 'VBP'), ('one', 'CD'), ('particularly', 'RB'), ('disturbing', 'JJ'), ('example', 'NN'), ('unit', 'NN'), ('731', 'CD'), ('unit', 'NN'), ('conducted', 'VBD'), ('wide', 'JJ'), ('range', 'NN'), ('inhumane', 'NN'), ('experiment', 'JJ'), ('prisoner', 'NN'), ('among', 'IN'), ('horrifying', 'VBG'), ('practice', 'NN'), ('carried', 'VBD'), ('unit', 'NN'), ('731', 'CD'), ('vivisection', 'NN'), ('surgical', 'JJ'), ('examination', 'NN'), ('living', 'VBG'), ('body', 'NN'), ('performed', 'VBD'), ('prisoner', 'NN'), ('without', 'IN'), ('use', 'NN'), ('anesthesia', 'NN'), ('included', 'VBD'), ('experimenting', 'VBG'), ('child', 'NN'), ('whose', 'WP$'), ('parent', 'NN'), ('deemed', 'VBD'), ('spy', 'JJ'), ('reasoning', 'VBG'), ('behind', 'IN'), ('monstrous', 'JJ'), ('practice', 'NN'), ('anesthesia', 'NN'), ('could', 'MD'), ('alter', 'VB'), ('behavior', 'JJ'), ('organ', 'JJ'), ('vessel', 'NN'), ('studied', 'VBD'), ('chilling', 'VBG'), ('reminder', 'NN'), ('darkness', 'NN'), ('human', 'JJ'), ('capable', 'JJ'), ('unleashing', 'VBG'), ('fellow', 'JJ'), ('being', 'VBG'), ('congenital', 'JJ'), ('aganglionic', 'JJ'), ('megacolon', 'NN'), ('simply', 'RB'), ('hirschsprung', 'JJ'), ('disease', 'NN'), ('29yearold', 'CD'), ('man', 'NN'), ('owned', 'VBN'), ('dissected', 'JJ'), ('colon', 'NN'), ('picture', 'NN'), ('died', 'VBD'), ('called', 'VBN'), ('balloon', 'NN'), ('man', 'NN'), ('abdomen', 'NNS'), ('distended', 'VBD'), ('made', 'VBN'), ('perform', 'NN'), ('freak', 'NN'), ('show', 'NN'), ('20', 'CD'), ('year', 'NN'), ('old', 'JJ'), ('cell', 'NN'), ('colon', 'NN'), ('large', 'JJ'), ('intestine', 'JJ'), ('properly', 'RB'), ('developed', 'VBN'), ('therefore', 'NN'), ('could', 'MD'), ('move', 'VB'), ('feces', 'NNS'), ('along', 'IN'), ('child', 'JJ'), ('balloon', 'NN'), ('man', 'NN'), ('reasonably', 'RB'), ('well', 'RB'), ('time', 'NN'), ('16', 'CD'), ('year', 'NN'), ('old', 'JJ'), ('going', 'VBG'), ('month', 'NN'), ('defecate', 'NN'), ('born', 'JJ'), ('1865', 'CD'), ('doctor', 'NN'), ('already', 'RB'), ('knew', 'VBD'), ('tumor', 'JJ'), ('defective', 'JJ'), ('colon', 'NN'), ('plagued', 'VBD'), ('man', 'NN'), ('know', 'VB'), ('help', 'NN'), ('died', 'VBD'), ('29', 'CD'), ('year', 'NN'), ('found', 'VBD'), ('40', 'CD'), ('pound', 'NN'), ('feces', 'NNS'), ('colon', 'VBP'), ('intestinal', 'JJ'), ('defect', 'NN'), ('occurs', 'VBZ'), ('one', 'CD'), ('5000', 'CD'), ('child', 'NN'), ('today', 'NN'), ('possible', 'JJ'), ('remove', 'NN'), ('defective', 'JJ'), ('part', 'NN'), ('intestine', 'NN'), ('shortly', 'RB'), ('birth', 'JJ'), ('sew', 'NNS'), ('good', 'JJ'), ('part', 'NN'), ('together', 'RB'), ('people', 'NNS'), ('live', 'VBP'), ('normally', 'RB'), ('one', 'CD'), ('one', 'CD'), ('difference', 'NN'), ('mindset', 'NN'), ('exists', 'VBZ'), ('group', 'NN'), ('rich', 'JJ'), ('people', 'NNS'), ('think', 'VBP'), ('doesnt', 'JJ'), ('work', 'NN'), ('fall', 'NN'), ('back', 'RB'), ('resource', 'JJ'), ('resource', 'NN'), ('may', 'MD'), ('saving', 'VBG'), ('account', 'VB'), ('retirement', 'NN'), ('fund', 'NN'), ('wealthy', 'JJ'), ('parent', 'NN'), ('rich', 'JJ'), ('people', 'NNS'), ('often', 'RB'), ('loathe', 'VBP'), ('idea', 'NN'), ('using', 'VBG'), ('resource', 'JJ'), ('theyre', 'NN'), ('infinitely', 'RB'), ('replenishable', 'JJ'), ('may', 'MD'), ('stigma', 'VB'), ('shame', 'NN'), ('tapping', 'VBG'), ('certain', 'JJ'), ('family', 'NN'), ('community', 'NN'), ('fact', 'NN'), ('remains', 'VBZ'), ('business', 'NN'), ('venture', 'NN'), ('career', 'NN'), ('plan', 'NN'), ('relationship', 'NN'), ('go', 'VBP'), ('bellyup', 'JJ'), ('way', 'NN'), ('avoid', 'IN'), ('catastrophic', 'JJ'), ('result', 'NN'), ('like', 'IN'), ('starvation', 'NN'), ('homelessness', 'NN'), ('famine', 'NN'), ('ivan', 'NN'), ('vladimirov', 'VBZ'), ('public', 'JJ'), ('domain', 'NN'), ('poor', 'JJ'), ('none', 'NN'), ('tend', 'VBP'), ('much', 'JJ'), ('riskaverse', 'JJR'), ('consequence', 'NN'), ('rich', 'JJ'), ('person', 'NN'), ('fallback', 'JJ'), ('poor', 'JJ'), ('people', 'NNS'), ('large', 'JJ'), ('depth', 'NN'), ('loved', 'VBD'), ('one', 'CD'), ('coffer', 'NN'), ('directly', 'RB'), ('determines', 'VBZ'), ('much', 'RB'), ('risk', 'NN'), ('taking', 'VBG'), ('every', 'DT'), ('life', 'NN'), ('decision', 'NN'), ('make', 'VBP'), ('people', 'NNS'), ('without', 'IN'), ('fallback', 'NN'), ('taking', 'VBG'), ('significantly', 'RB'), ('bigger', 'JJR'), ('risk', 'NN'), ('every', 'DT'), ('single', 'JJ'), ('time', 'NN'), ('make', 'VB'), ('decision', 'NN'), ('extreme', 'NN'), ('poor', 'JJ'), ('often', 'RB'), ('facing', 'VBG'), ('prison', 'NN'), ('lifelong', 'JJ'), ('indigence', 'NN'), ('wealthy', 'JJ'), ('face', 'NN'), ('mere', 'RB'), ('social', 'JJ'), ('embarrassment', 'NN'), ('performing', 'VBG'), ('exact', 'JJ'), ('action', 'NN'), ('money', 'NN'), ('buy', 'VB'), ('safety', 'NN'), ('form', 'NN'), ('directly', 'RB'), ('impact', 'JJ'), ('decision', 'NN'), ('people', 'NNS'), ('make', 'VBP'), ('life', 'NN'), ('rightly', 'RB'), ('wealthy', 'JJ'), ('riskaverse', 'NN'), ('poor', 'JJ'), ('would', 'MD'), ('squandering', 'VBG'), ('opportunity', 'NN'), ('handful', 'NN'), ('contrast', 'NN'), ('poor', 'JJ'), ('risk', 'NN'), ('tolerant', 'NN'), ('wealthy', 'JJ'), ('people', 'NNS'), ('many', 'JJ'), ('would', 'MD'), ('starving', 'VBG'), ('street', 'NN'), ('mindset', 'VBD'), ('difference', 'NN'), ('unfortunately', 'RB'), ('mindset', 'VBD'), ('difference', 'NN'), ('reflects', 'VBZ'), ('genuinely', 'RB'), ('different', 'JJ'), ('circumstance', 'NN'), ('cant', 'NN'), ('corrected', 'VBD'), ('without', 'IN'), ('changing', 'VBG'), ('economic', 'JJ'), ('reality', 'NN'), ('one', 'CD'), ('group', 'NN'), ('teacher', 'CC'), ('head', 'NN'), ('government', 'NN'), ('agree', 'IN'), ('teacher', 'NN'), ('deserve', 'NN'), ('head', 'JJ'), ('government', 'NN'), ('controversial', 'JJ'), ('btw', 'NN'), ('im', 'NN'), ('using', 'VBG'), ('term', 'NN'), ('head', 'JJ'), ('government', 'NN'), ('loosely', 'RB'), ('really', 'RB'), ('mean', 'VB'), ('mac', 'NN'), ('daddy', 'JJ'), ('country', 'NN'), ('ok', 'NN'), ('left', 'VBD'), ('credit', 'NN'), ('suisse', 'NN'), ('paid', 'VBN'), ('multiple', 'JJ'), ('tony', 'JJ'), ('blair', 'NN'), ('uk', 'JJ'), ('prime', 'JJ'), ('minister', 'NN'), ('got', 'VBD'), ('absolutely', 'RB'), ('bonkers', 'NNS'), ('insane', 'JJ'), ('vice', 'NN'), ('president', 'NN'), ('late', 'RB'), ('20', 'CD'), ('investment', 'NN'), ('bank', 'NN'), ('get', 'VB'), ('paid', 'VBN'), ('multiple', 'JJ'), ('uk', 'JJ'), ('prime', 'JJ'), ('minister', 'NN'), ('relatively', 'RB'), ('low', 'JJ'), ('pay', 'NN'), ('prime', 'JJ'), ('minister', 'NN'), ('encourages', 'NNS'), ('corruption', 'NN'), ('could', 'MD'), ('mean', 'VB'), ('getting', 'VBG'), ('best', 'JJS'), ('person', 'NN'), ('job', 'NN'), ('absolutely', 'RB'), ('contradiction', 'NN'), ('wanting', 'VBG'), ('best', 'JJS'), ('family', 'NN'), ('well', 'RB'), ('country', 'NN'), ('fact', 'NN'), ('today', 'NN'), ('isnt', 'VBP'), ('one', 'CD'), ('head', 'NN'), ('government', 'NN'), ('get', 'NN'), ('paid', 'VBN'), ('us600k', 'JJ'), ('per', 'IN'), ('annum', 'NN'), ('except', 'IN'), ('singapore', 'NN'), ('get', 'NN'), ('us22m', 'JJ'), ('give', 'JJ'), ('perspective', 'NN'), ('average', 'JJ'), ('pay', 'NN'), ('ceo', 'NN'), ('500', 'CD'), ('revenue', 'NN'), ('generating', 'VBG'), ('company', 'NN'), ('u', 'JJ'), ('us11m1', 'JJ'), ('singapore', 'NN'), ('founding', 'VBG'), ('former', 'JJ'), ('prime', 'JJ'), ('minister', 'NN'), ('lee', 'NN'), ('kuan', 'JJ'), ('yew', 'NN'), ('man', 'NN'), ('put', 'VBD'), ('place', 'NN'), ('policy', 'NN'), ('high', 'JJ'), ('pay', 'NN'), ('government', 'NN'), ('official', 'NN'), ('gave', 'VBD'), ('massive', 'JJ'), ('pay', 'NN'), ('rise', 'NN'), ('helped', 'VBD'), ('clamp', 'VB'), ('corruption', 'NN'), ('minister', 'NN'), ('including', 'VBG'), ('could', 'MD'), ('focus', 'VB'), ('work', 'NN'), ('rather', 'RB'), ('trying', 'VBG'), ('make', 'VB'), ('corrupt', 'JJ'), ('money', 'NN'), ('see', 'NN'), ('asia', 'RB'), ('singapore', 'RB'), ('country', 'NN'), ('world', 'NN'), ('got', 'VBD'), ('minister', 'NN'), ('pay', 'NN'), ('right', 'RB'), ('enough', 'JJ'), ('money', 'NN'), ('buy', 'VB'), ('food', 'NN'), ('poor', 'JJ'), ('actually', 'RB'), ('work', 'VBP'), ('many', 'JJ'), ('work', 'NN'), ('multiple', 'JJ'), ('job', 'NN'), ('bad', 'JJ'), ('politics', 'NNS'), ('country', 'NN'), ('society', 'NN'), ('built', 'VBN'), ('keep', 'VB'), ('poor', 'JJ'), ('low', 'JJ'), ('possible', 'JJ'), ('continuing', 'VBG'), ('expect', 'JJ'), ('build', 'NN'), ('fortune', 'JJ'), ('keep', 'NN'), ('oppressed', 'VBD'), ('poor', 'JJ'), ('guy', 'NN'), ('working', 'VBG'), ('9hour', 'CD'), ('wife', 'NN'), ('work', 'NN'), ('making', 'VBG'), ('8hour', 'CD'), ('2', 'CD'), ('child', 'NN'), ('2', 'CD'), ('tax', 'NN'), ('bring', 'NN'), ('home', 'NN'), ('2100', 'CD'), ('month', 'NN'), ('cheapest', 'JJS'), ('apartment', 'NN'), ('find', 'VB'), ('small', 'JJ'), ('2', 'CD'), ('bedroom', 'NN'), ('bad', 'JJ'), ('area', 'NN'), ('1200mo', 'CD'), ('could', 'MD'), ('barely', 'RB'), ('afford', 'VB'), ('working', 'VBG'), ('different', 'JJ'), ('company', 'NN'), ('making', 'VBG'), ('significantly', 'RB'), ('company', 'NN'), ('shut', 'VBD'), ('pandemic', 'JJ'), ('able', 'JJ'), ('get', 'NN'), ('something', 'NN'), ('better', 'RBR'), ('rent', 'NN'), ('utility', 'NN'), ('car', 'NN'), ('payment', 'NN'), ('gas', 'NN'), ('insurance', 'NN'), ('kid', 'NN'), ('expense', 'NN'), ('simply', 'RB'), ('nothing', 'NN'), ('left', 'VBD'), ('problem', 'NN'), ('make', 'NN'), ('2100', 'CD'), ('qualify', 'NN'), ('100', 'CD'), ('food', 'NN'), ('stamp', 'NN'), ('one', 'CD'), ('hundred', 'VBD'), ('dollar', 'NN'), ('feed', 'NN'), ('4', 'CD'), ('people', 'NNS'), ('3', 'CD'), ('meal', 'JJ'), ('day', 'NN'), ('30', 'CD'), ('day', 'NN'), ('fair', 'VBD'), ('2', 'CD'), ('child', 'JJ'), ('school', 'NN'), ('get', 'VBP'), ('lunch', 'JJ'), ('school', 'NN'), ('youngest', 'JJS'), ('preschool', 'NN'), ('get', 'NN'), ('lunch', 'JJ'), ('part', 'NN'), ('cost', 'NN'), ('daycare', 'NN'), ('provide', 'VBP'), ('4', 'CD'), ('people', 'NNS'), ('food', 'NN'), ('300', 'CD'), ('meal', 'JJ'), ('month', 'NN'), ('great', 'JJ'), ('math', 'NN'), ('come', 'VBP'), ('033mealperson', 'CD'), ('let', 'NN'), ('see', 'VB'), ('fed', 'VBN'), ('family', 'NN'), ('4', 'CD'), ('thirty', 'NN'), ('three', 'CD'), ('cent', 'NN'), ('per', 'IN'), ('person', 'NN'), ('per', 'IN'), ('meal', 'NN'), ('per', 'IN'), ('day', 'NN'), ('really', 'RB'), ('important', 'JJ'), ('given', 'VBN'), ('increasing', 'VBG'), ('interest', 'NN'), ('rate', 'NN'), ('firstly', 'RB'), ('let', 'VB'), ('start', 'VB'), ('basic', 'JJ'), ('think', 'NN'), ('something', 'NN'), ('bank', 'NN'), ('give', 'JJ'), ('people', 'NNS'), ('interest', 'NN'), ('rate', 'NN'), ('money', 'NN'), ('make', 'VBP'), ('money', 'NN'), ('deposit', 'NN'), ('pocket', 'NN'), ('profit', 'NN'), ('country', 'NN'), ('fixed', 'VBD'), ('return', 'JJ'), ('investment', 'NN'), ('pay', 'NN'), ('higher', 'JJR'), ('normal', 'JJ'), ('rate', 'NN'), ('possible', 'JJ'), ('bank', 'NN'), ('making', 'NN'), ('profit', 'NN'), ('investing', 'VBG'), ('project', 'NN'), ('financing', 'NN'), ('project', 'NN'), ('course', 'NN'), ('bank', 'NN'), ('make', 'VB'), ('money', 'NN'), ('people', 'NNS'), ('saving', 'VBG'), ('depends', 'NNS'), ('country', 'NN'), ('regulation', 'VBP'), ('many', 'JJ'), ('thing', 'NN'), ('point', 'NN'), ('saving', 'VBG'), ('money', 'NN'), ('bank', 'NN'), ('losing', 'VBG'), ('game', 'NN'), ('compared', 'VBN'), ('investing', 'VBG'), ('forever', 'RB'), ('le', 'RB'), ('volatile', 'JJ'), ('per', 'IN'), ('graph', 'NN'), ('show', 'NN'), ('volatility', 'NN'), ('stock', 'NN'), ('lessor', 'NN'), ('extent', 'NN'), ('bond', 'NN'), ('thing', 'NN'), ('changed', 'VBD'), ('since', 'IN'), ('2008', 'CD'), ('interest', 'NN'), ('rate', 'NN'), ('low', 'JJ'), ('even', 'RB'), ('0', 'CD'), ('developed', 'VBD'), ('country', 'NN'), ('even', 'RB'), ('many', 'JJ'), ('developing', 'VBG'), ('country', 'NN'), ('interest', 'NN'), ('rate', 'NN'), ('consistently', 'RB'), ('inflation', 'NN'), ('whereas', 'NNS'), ('historically', 'RB'), ('u', 'JJ'), ('stock', 'NN'), ('market', 'NN'), ('done', 'VBN'), ('10', 'CD'), ('65', 'CD'), ('inflation', 'NN'), ('different', 'JJ'), ('period', 'NN'), ('better', 'RBR'), ('others', 'NNS'), ('cash', 'NN'), ('1', 'CD'), ('2', 'CD'), ('inflation', 'NN'), ('take', 'VB'), ('direct', 'JJ'), ('loss', 'NN'), ('inflation', 'NN'), ('got', 'VBD'), ('worse', 'JJR'), ('many', 'JJ'), ('people', 'NNS'), ('cheered', 'VBD'), ('increasing', 'VBG'), ('interest', 'NN'), ('rate', 'NN'), ('2022', 'CD'), ('real', 'JJ'), ('inflationadjusted', 'VBN'), ('rate', 'NN'), ('lower', 'RBR'), ('year', 'NN'), ('ago', 'RB'), ('could', 'MD'), ('get', 'VB'), ('01', 'CD'), ('bank', 'NN'), ('inflation', 'NN'), ('running', 'VBG'), ('3', 'CD'), ('29', 'CD'), ('loss', 'NN'), ('inflation', 'NN'), ('day', 'NN'), ('get', 'VB'), ('35', 'CD'), ('bank', 'NN'), ('inflation', 'NN'), ('running', 'VBG'), ('1011', 'CD'), ('uk', 'NN'), ('also', 'RB'), ('high', 'JJ'), ('elsewhere', 'RB'), ('much', 'JJ'), ('bigger', 'JJR'), ('loss', 'NN'), ('inflation', 'NN'), ('historically', 'RB'), ('people', 'NNS'), ('take', 'VBP'), ('relative', 'JJ'), ('loss', 'NN'), ('investing', 'VBG'), ('absolute', 'JJ'), ('loss', 'NN'), ('inflation', 'NN'), ('thing', 'NN'), ('compound', 'NN'), ('well', 'RB'), ('somebody', 'NN'), ('left', 'VBD'), ('money', 'NN'), ('bank', 'NN'), ('since', 'IN'), ('2008', 'CD'), ('lost', 'VBD'), ('13', 'CD'), ('per', 'IN'), ('year', 'NN'), ('inflation', 'NN'), ('12', 'CD'), ('year', 'NN'), ('compounded', 'VBD'), ('25', 'CD'), ('loss', 'NN'), ('case', 'NN'), ('isnt', 'JJ'), ('mention', 'NN'), ('loss', 'NN'), ('devaluation', 'NN'), ('happened', 'VBD'), ('currency', 'NN'), ('diverse', 'NN'), ('british', 'JJ'), ('pound', 'NN'), ('nigerian', 'JJ'), ('naira', 'NN'), ('south', 'JJ'), ('african', 'JJ'), ('rand', 'NN'), ('speaking', 'VBG'), ('friend', 'NN'), ('expat', 'JJ'), ('year', 'NN'), ('left', 'VBD'), ('20000', 'CD'), ('sterling', 'NN'), ('bank', 'NN'), ('20072008', 'CD'), ('worth', 'NN'), ('40000', 'CD'), ('worth', 'NN'), ('21700', 'CD'), ('pound', 'NN'), ('28690', 'CD'), ('today', 'NN'), ('30', 'CD'), ('loss', 'NN'), ('devaluation', 'NN'), ('25', 'CD'), ('loss', 'NN'), ('inflation', 'NN'), ('12', 'CD'), ('years28690', 'NN'), ('buy', 'VB'), ('much', 'JJ'), ('le', 'NN'), ('2020', 'CD'), ('20072008', 'CD'), ('said', 'VBD'), ('cash', 'NN'), ('serve', 'NN'), ('useful', 'JJ'), ('purpose', 'RB'), ('give', 'JJ'), ('cushion', 'NN'), ('case', 'NN'), ('unexpected', 'JJ'), ('emergency', 'NN'), ('cash', 'NN'), ('therefore', 'RB'), ('isnt', 'JJ'), ('investment', 'NN'), ('help', 'NN'), ('cashflow', 'VB'), ('situation', 'NN'), ('ultimately', 'RB'), ('people', 'NNS'), ('need', 'VBP'), ('put', 'VB'), ('money', 'NN'), ('work', 'NN'), ('one', 'CD'), ('reason', 'NN'), ('almost', 'RB'), ('wealthy', 'JJ'), ('people', 'NNS'), ('invest', 'VBP'), ('asset', 'NN'), ('investment', 'NN'), ('digital', 'JJ'), ('asset', 'NN'), ('private', 'JJ'), ('business', 'NN'), ('indeed', 'RB'), ('central', 'JJ'), ('theory', 'NN'), ('thomas', 'NN'), ('pikettys', 'VBP'), ('famous', 'JJ'), ('book', 'NN'), ('capital', 'NN'), ('21st', 'JJ'), ('century', 'NN'), ('one', 'CD'), ('biggest', 'JJS'), ('driver', 'NN'), ('inequality', 'NN'), ('asset', 'NN'), ('like', 'IN'), ('stock', 'NN'), ('go', 'VBP'), ('higher', 'JJR'), ('wage', 'NN'), ('cash', 'NN'), ('bank', 'NN'), ('time', 'NN'), ('compound', 'JJ'), ('despite', 'IN'), ('volatility', 'NN'), ('asset', 'NN'), ('middle', 'JJ'), ('people', 'NNS'), ('shouldnt', 'VBP'), ('fear', 'JJ'), ('volatility', 'NN'), ('though', 'IN'), ('look', 'JJ'), ('year', 'NN'), ('huge', 'JJ'), ('crash', 'NN'), ('recovery', 'NN'), ('happened', 'VBD'), ('even', 'RB'), ('20082009', 'CD'), ('took', 'VBD'), ('stock', 'NN'), ('market', 'NN'), ('3', 'CD'), ('year', 'NN'), ('recover', 'NN'), ('number', 'NN'), ('way', 'NN'), ('use', 'IN'), ('social', 'JJ'), ('medium', 'NN'), ('increase', 'NN'), ('brand', 'NN'), ('awareness', 'NN'), ('specific', 'JJ'), ('geographical', 'JJ'), ('location', 'NN'), ('obvious', 'JJ'), ('way', 'NN'), ('simply', 'RB'), ('target', 'VB'), ('content', 'JJ'), ('advertising', 'NN'), ('people', 'NNS'), ('location', 'VBP'), ('done', 'VBN'), ('targeting', 'VBG'), ('ad', 'NN'), ('platform', 'NN'), ('like', 'IN'), ('facebook', 'NN'), ('google', 'NN'), ('creating', 'VBG'), ('content', 'NN'), ('specifically', 'RB'), ('targeted', 'JJ'), ('people', 'NNS'), ('location', 'VBP'), ('another', 'DT'), ('way', 'NN'), ('increase', 'NN'), ('brand', 'NN'), ('awareness', 'NN'), ('specific', 'JJ'), ('geographical', 'JJ'), ('location', 'NN'), ('use', 'IN'), ('social', 'JJ'), ('medium', 'NN'), ('influencers', 'NNS'), ('identify', 'VBP'), ('influencers', 'NNS'), ('large', 'JJ'), ('following', 'VBG'), ('location', 'NN'), ('reach', 'NN'), ('see', 'NN'), ('would', 'MD'), ('interested', 'VB'), ('promoting', 'VBG'), ('brand', 'NN'), ('effective', 'JJ'), ('way', 'NN'), ('reach', 'VB'), ('large', 'JJ'), ('audience', 'NN'), ('specific', 'JJ'), ('location', 'NN'), ('finally', 'RB'), ('consider', 'VB'), ('running', 'VBG'), ('social', 'JJ'), ('medium', 'NN'), ('contest', 'NN'), ('promotion', 'NN'), ('specifically', 'RB'), ('targeted', 'JJ'), ('people', 'NNS'), ('particular', 'JJ'), ('location', 'NN'), ('great', 'JJ'), ('way', 'NN'), ('generate', 'JJ'), ('interest', 'NN'), ('awareness', 'NN'), ('brand', 'NN'), ('everything', 'NN'), ('risk', 'NN'), ('cash', 'NN'), ('full', 'JJ'), ('risk', 'NN'), ('inflation', 'NN'), ('currency', 'NN'), ('fall', 'VBP'), ('really', 'RB'), ('depends', 'VBZ'), ('invest', 'JJS'), ('major', 'JJ'), ('index', 'NN'), ('always', 'RB'), ('came', 'VBD'), ('back', 'RB'), ('nasdaq', 'NN'), ('fell', 'VBD'), ('76', 'CD'), ('2000', 'CD'), ('came', 'VBD'), ('back', 'RB'), ('german', 'JJ'), ('dax', 'NN'), ('also', 'RB'), ('recovering', 'VBG'), ('similar', 'JJ'), ('fall', 'NN'), ('even', 'RB'), ('japanese', 'JJ'), ('nikkei', 'NNS'), ('came', 'VBD'), ('back', 'RB'), ('dividend', 'NN'), ('reinvested', 'VBD'), ('comparison', 'JJ'), ('many', 'JJ'), ('individual', 'JJ'), ('stock', 'NN'), ('gone', 'VBN'), ('zero', 'CD'), ('never', 'RB'), ('came', 'VBD'), ('back', 'RB'), ('want', 'JJ'), ('little', 'JJ'), ('risk', 'NN'), ('possible', 'JJ'), ('need', 'NN'), ('globally', 'RB'), ('diversified', 'VBD'), ('stock', 'NN'), ('index', 'NN'), ('msci', 'VBD'), ('world', 'NN'), ('individual', 'JJ'), ('country', 'NN'), ('could', 'MD'), ('argue', 'VB'), ('u', 'JJ'), ('market', 'NN'), ('kind', 'NN'), ('global', 'JJ'), ('market', 'NN'), ('well', 'RB'), ('firm', 'JJ'), ('global', 'JJ'), ('reinvest', 'NN'), ('dividend', 'NN'), ('rely', 'JJ'), ('capital', 'NN'), ('growth', 'NN'), ('invest', 'VB'), ('different', 'JJ'), ('time', 'NN'), ('horizon', 'NN'), ('lump', 'NN'), ('sum', 'NN'), ('monthly', 'JJ'), ('injection', 'NN'), ('therefore', 'IN'), ('dont', 'NNS'), ('need', 'VBP'), ('worry', 'VBP'), ('whether', 'IN'), ('perfect', 'JJ'), ('time', 'NN'), ('invest', 'JJS'), ('smaller', 'JJR'), ('medium', 'NN'), ('large', 'JJ'), ('cap', 'NN'), ('stock', 'NN'), ('look', 'NN'), ('uk', 'JJ'), ('market', 'NN'), ('since', 'IN'), ('2000', 'CD'), ('ftse', 'NN'), ('done', 'VBN'), ('poorly', 'JJ'), ('capital', 'NN'), ('growth', 'NN'), ('term', 'NN'), ('ok', 'JJ'), ('dividend', 'NN'), ('reinvested', 'VBD'), ('ftse', 'JJ'), ('250', 'CD'), ('done', 'VBN'), ('better', 'RBR'), ('though', 'IN'), ('asset', 'NN'), ('bond', 'NN'), ('advanced', 'VBD'), ('technique', 'JJ'), ('downsideprotection', 'NN'), ('often', 'RB'), ('require', 'VBP'), ('advisor', 'NNS'), ('need', 'VBP'), ('certified', 'VBN'), ('investor', 'NN')]\n"
          ]
        }
      ]
    },
    {
      "cell_type": "code",
      "source": [
        "# extract the pos tags from human_pos\n",
        "human_pos_tags = []\n",
        "for pos in human_pos:\n",
        "  human_pos_tags.append(pos[1])\n",
        "\n",
        "print(human_pos_tags)"
      ],
      "metadata": {
        "colab": {
          "base_uri": "https://localhost:8080/"
        },
        "id": "NJKEIXeXOyc3",
        "outputId": "ef61a036-12d6-4904-ba24-97b33f7fa59c"
      },
      "execution_count": 43,
      "outputs": [
        {
          "output_type": "stream",
          "name": "stdout",
          "text": [
            "['JJ', 'NN', 'NNS', 'RB', 'VBP', 'JJ', 'NN', 'RB', 'VBG', 'NNS', 'NN', 'VBN', 'JJ', 'NN', 'VBD', 'VBG', 'NNS', 'VBZ', 'JJ', 'NN', 'IN', 'JJ', 'NN', 'RB', 'JJ', 'VBG', 'NNS', 'VBD', 'JJ', 'NN', 'NN', 'NN', 'RB', 'VBP', 'JJ', 'NN', 'VBD', 'JJ', 'NNS', 'NNS', 'RB', 'VBZ', 'JJ', 'VBG', 'VBD', 'JJ', 'NN', 'NN', 'NN', 'NN', 'JJ', 'NN', 'MD', 'VB', 'JJ', 'NN', 'NN', 'NN', 'NN', 'NN', 'JJ', 'NN', 'NNS', 'RB', 'VBG', 'NN', 'NN', 'RB', 'JJ', 'JJ', 'NN', 'JJ', 'NNS', 'NN', 'MD', 'VB', 'JJ', 'VBG', 'JJ', 'VBG', 'RB', 'JJ', 'NN', 'NN', 'RB', 'JJ', 'NN', 'RB', 'JJ', 'NN', 'NN', 'MD', 'VB', 'JJ', 'JJ', 'NN', 'JJ', 'NN', 'NN', 'VBG', 'NN', 'VBD', 'VBG', 'NN', 'NNS', 'MD', 'VB', 'VBG', 'JJ', 'NN', 'JJ', 'NN', 'NN', 'NN', 'NN', 'RB', 'RB', 'JJ', 'NN', 'NN', 'JJ', 'NNS', 'NN', 'RB', 'NN', 'NN', 'NN', 'RB', 'JJ', 'NN', 'JJ', 'NN', 'NN', 'RB', 'JJ', 'NN', 'JJ', 'NNS', 'JJ', 'MD', 'VBN', 'VB', 'NN', 'NN', 'NN', 'NNS', 'MD', 'VB', 'NN', 'NN', 'NN', 'NN', 'NNS', 'VBP', 'JJ', 'JJ', 'NN', 'VBD', 'JJ', 'NN', 'NN', 'NN', 'JJ', 'JJ', 'NN', 'NN', 'VBD', 'JJ', 'NN', 'NN', 'VBP', 'JJ', 'JJ', 'NN', 'MD', 'VB', 'JJ', 'NN', 'NNS', 'NN', 'NN', 'VBN', 'NN', 'VBP', 'VBP', 'NN', 'RBR', 'NN', 'VBP', 'NN', 'NN', 'NN', 'NN', 'RB', 'JJS', 'NN', 'JJ', 'NN', 'RB', 'VB', 'CD', 'NN', 'NN', 'VBN', 'NN', 'JJ', 'RB', 'VB', 'NN', 'VBD', 'JJ', 'NN', 'NN', 'NN', 'NN', 'NN', 'VBG', 'NN', 'NN', 'VBP', 'JJ', 'NN', 'RBR', 'RB', 'JJ', 'NN', 'RB', 'JJ', 'JJR', 'NN', 'VBN', 'IN', 'NN', 'NN', 'NN', 'RB', 'CD', 'NN', 'NN', 'RB', 'JJ', 'NN', 'JJ', 'NN', 'NN', 'VBD', 'RB', 'JJ', 'NN', 'MD', 'JJS', 'NN', 'VBD', 'JJ', 'NN', 'NN', 'NN', 'RB', 'NN', 'JJ', 'JJ', 'NN', 'CD', 'RB', 'JJ', 'NN', 'NN', 'VBP', 'NN', 'JJ', 'NN', 'NN', 'VBG', 'NN', 'NN', 'VBP', 'RB', 'VBP', 'NN', 'VBP', 'VBG', 'CD', 'JJ', 'NN', 'RB', 'VBG', 'NN', 'NN', 'RB', 'VB', 'JJ', 'JJ', 'NN', 'VBG', 'NN', 'RB', 'VBG', 'PRP', 'VBP', 'JJ', 'VBG', 'JJ', 'CD', 'VBP', 'NN', 'JJ', 'NN', 'RB', 'JJ', 'VB', 'JJ', 'RB', 'VBP', 'VB', 'JJ', 'IN', 'JJ', 'NN', 'VBG', 'JJ', 'NN', 'NN', 'VBG', 'JJ', 'NN', 'VB', 'VBG', 'CD', 'RB', 'JJ', 'NN', 'NN', 'NN', 'NN', 'VB', 'NN', 'NN', 'RB', 'VBN', 'JJ', 'RB', 'NN', 'MD', 'RB', 'VBN', 'NN', 'IN', 'NN', 'NN', 'NN', 'NN', 'NN', 'VBD', 'CD', 'RB', 'VBP', 'NN', 'IN', 'VBG', 'NN', 'NN', 'NN', 'JJ', 'NN', 'VBG', 'RB', 'IN', 'VBG', 'IN', 'VBG', 'NN', 'IN', 'NN', 'NN', 'RB', 'VBG', 'JJ', 'NN', 'NN', 'VBG', 'JJ', 'NN', 'IN', 'VBG', 'NN', 'CD', 'NN', 'RBR', 'RB', 'JJ', 'CD', 'NN', 'JJS', 'NN', 'NN', 'NN', 'NN', 'VB', 'NN', 'VBP', 'NN', 'JJ', 'NN', 'NN', 'NN', 'VBG', 'NN', 'MD', 'VB', 'JJ', 'JJ', 'NN', 'VBP', 'NN', 'NN', 'NN', 'NN', 'NN', 'VBG', 'NN', 'JJ', 'NNS', 'JJ', 'JJ', 'JJ', 'NN', 'NN', 'NN', 'VBP', 'NN', 'NN', 'NN', 'NN', 'NN', 'NNS', 'VBP', 'IN', 'VBG', 'JJ', 'VBG', 'NN', 'NN', 'NN', 'NN', 'NNS', 'VBP', 'NN', 'VBP', 'VBP', 'NNS', 'VBP', 'JJ', 'NN', 'NN', 'VB', 'NN', 'VBG', 'JJ', 'JJ', 'NN', 'VBP', 'RB', 'JJ', 'VBG', 'NN', 'NN', 'NN', 'VB', 'JJ', 'NN', 'JJ', 'NN', 'NN', 'VBD', 'DT', 'JJ', 'NN', 'NN', 'VBG', 'JJ', 'JJ', 'VB', 'NN', 'VBD', 'MD', 'VB', 'VB', 'JJ', 'NN', 'JJ', 'NN', 'NN', 'MD', 'RB', 'VB', 'JJ', 'NN', 'VBZ', 'RB', 'VB', 'NN', 'NN', 'RB', 'JJ', 'NN', 'JJ', 'NN', 'NN', 'VBG', 'NN', 'CD', 'JJ', 'NN', 'JJ', 'NN', 'NN', 'NN', 'NN', 'VBP', 'NN', 'VBP', 'JJ', 'VBP', 'NNS', 'JJ', 'CD', 'VBP', 'NN', 'JJ', 'NN', 'VBG', 'JJ', 'NN', 'CD', 'JJ', 'JJ', 'NN', 'NN', 'NN', 'NNS', 'VBP', 'IN', 'NN', 'NNS', 'VBP', 'NN', 'IN', 'NN', 'VBG', 'CD', 'JJ', 'NN', 'NN', 'NN', 'NN', 'NN', 'VBP', 'RB', 'VBG', 'NN', 'JJ', 'NN', 'NN', 'VBD', 'NN', 'VBG', 'CD', 'JJ', 'NNS', 'VBP', 'VBN', 'NN', 'NN', 'NNS', 'VBP', 'NN', 'VBN', 'IN', 'VBG', 'NN', 'VBG', 'JJ', 'NN', 'NN', 'NN', 'CD', 'JJ', 'NNS', 'VBP', 'JJ', 'NN', 'NN', 'NN', 'JJ', 'NN', 'NN', 'NNS', 'JJ', 'JJ', 'NN', 'JJ', 'NN', 'CD', 'NN', 'VBP', 'JJ', 'NN', 'RB', 'VBG', 'NN', 'VBG', 'JJ', 'JJ', 'NN', 'JJ', 'NN', 'NN', 'NN', 'NN', 'NN', 'CD', 'RB', 'JJ', 'NNS', 'VBP', 'NN', 'NN', 'VBG', 'NN', 'NN', 'NN', 'NN', 'MD', 'VB', 'NN', 'NN', 'NN', 'CD', 'NN', 'NN', 'NN', 'FW', 'NN', 'NNS', 'RB', 'RB', 'VBN', 'JJ', 'NN', 'NN', 'VBG', 'JJ', 'IN', 'NN', 'IN', 'NN', 'RB', 'JJ', 'VBP', 'IN', 'NN', 'DT', 'NN', 'NN', 'NN', 'VBP', 'JJ', 'JJ', 'NN', 'NN', 'VBN', 'NN', 'VBZ', 'RB', 'JJ', 'NN', 'JJR', 'JJ', 'NNS', 'VBD', 'RP', 'JJ', 'NN', 'NN', 'VBD', 'NN', 'NN', 'NN', 'VBD', 'JJ', 'NN', 'MD', 'RB', 'VB', 'NN', 'NN', 'RB', 'JJ', 'NN', 'VB', 'NN', 'VB', 'MD', 'VB', 'NN', 'VBG', 'NN', 'RB', 'JJ', 'VBG', 'NN', 'JJ', 'NN', 'JJ', 'JJ', 'NN', 'RB', 'JJ', 'JJ', 'JJ', 'JJ', 'NN', 'NN', 'VBP', 'CD', 'RB', 'JJ', 'NN', 'NN', 'CD', 'NN', 'VBD', 'JJ', 'NN', 'NN', 'JJ', 'NN', 'IN', 'VBG', 'NN', 'VBD', 'NN', 'CD', 'NN', 'JJ', 'NN', 'VBG', 'NN', 'VBD', 'NN', 'IN', 'NN', 'NN', 'VBD', 'VBG', 'NN', 'WP$', 'NN', 'VBD', 'JJ', 'VBG', 'IN', 'JJ', 'NN', 'NN', 'MD', 'VB', 'JJ', 'JJ', 'NN', 'VBD', 'VBG', 'NN', 'NN', 'JJ', 'JJ', 'VBG', 'JJ', 'VBG', 'JJ', 'JJ', 'NN', 'RB', 'JJ', 'NN', 'CD', 'NN', 'VBN', 'JJ', 'NN', 'NN', 'VBD', 'VBN', 'NN', 'NN', 'NNS', 'VBD', 'VBN', 'NN', 'NN', 'NN', 'CD', 'NN', 'JJ', 'NN', 'NN', 'JJ', 'JJ', 'RB', 'VBN', 'NN', 'MD', 'VB', 'NNS', 'IN', 'JJ', 'NN', 'NN', 'RB', 'RB', 'NN', 'CD', 'NN', 'JJ', 'VBG', 'NN', 'NN', 'JJ', 'CD', 'NN', 'RB', 'VBD', 'JJ', 'JJ', 'NN', 'VBD', 'NN', 'VB', 'NN', 'VBD', 'CD', 'NN', 'VBD', 'CD', 'NN', 'NNS', 'VBP', 'JJ', 'NN', 'VBZ', 'CD', 'CD', 'NN', 'NN', 'JJ', 'NN', 'JJ', 'NN', 'NN', 'RB', 'JJ', 'NNS', 'JJ', 'NN', 'RB', 'NNS', 'VBP', 'RB', 'CD', 'CD', 'NN', 'NN', 'VBZ', 'NN', 'JJ', 'NNS', 'VBP', 'JJ', 'NN', 'NN', 'RB', 'JJ', 'NN', 'MD', 'VBG', 'VB', 'NN', 'NN', 'JJ', 'NN', 'JJ', 'NNS', 'RB', 'VBP', 'NN', 'VBG', 'JJ', 'NN', 'RB', 'JJ', 'MD', 'VB', 'NN', 'VBG', 'JJ', 'NN', 'NN', 'NN', 'VBZ', 'NN', 'NN', 'NN', 'NN', 'NN', 'VBP', 'JJ', 'NN', 'IN', 'JJ', 'NN', 'IN', 'NN', 'NN', 'NN', 'NN', 'VBZ', 'JJ', 'NN', 'JJ', 'NN', 'VBP', 'JJ', 'JJR', 'NN', 'JJ', 'NN', 'JJ', 'JJ', 'NNS', 'JJ', 'NN', 'VBD', 'CD', 'NN', 'RB', 'VBZ', 'RB', 'NN', 'VBG', 'DT', 'NN', 'NN', 'VBP', 'NNS', 'IN', 'NN', 'VBG', 'RB', 'JJR', 'NN', 'DT', 'JJ', 'NN', 'VB', 'NN', 'NN', 'JJ', 'RB', 'VBG', 'NN', 'JJ', 'NN', 'JJ', 'NN', 'RB', 'JJ', 'NN', 'VBG', 'JJ', 'NN', 'NN', 'VB', 'NN', 'NN', 'RB', 'JJ', 'NN', 'NNS', 'VBP', 'NN', 'RB', 'JJ', 'NN', 'JJ', 'MD', 'VBG', 'NN', 'NN', 'NN', 'JJ', 'NN', 'NN', 'JJ', 'NNS', 'JJ', 'MD', 'VBG', 'NN', 'VBD', 'NN', 'RB', 'VBD', 'NN', 'VBZ', 'RB', 'JJ', 'NN', 'NN', 'VBD', 'IN', 'VBG', 'JJ', 'NN', 'CD', 'NN', 'CC', 'NN', 'NN', 'IN', 'NN', 'NN', 'JJ', 'NN', 'JJ', 'NN', 'NN', 'VBG', 'NN', 'JJ', 'NN', 'RB', 'RB', 'VB', 'NN', 'JJ', 'NN', 'NN', 'VBD', 'NN', 'NN', 'VBN', 'JJ', 'JJ', 'NN', 'JJ', 'JJ', 'NN', 'VBD', 'RB', 'NNS', 'JJ', 'NN', 'NN', 'RB', 'CD', 'NN', 'NN', 'VB', 'VBN', 'JJ', 'JJ', 'JJ', 'NN', 'RB', 'JJ', 'NN', 'JJ', 'NN', 'NNS', 'NN', 'MD', 'VB', 'VBG', 'JJS', 'NN', 'NN', 'RB', 'NN', 'VBG', 'JJS', 'NN', 'RB', 'NN', 'NN', 'NN', 'VBP', 'CD', 'NN', 'NN', 'NN', 'VBN', 'JJ', 'IN', 'NN', 'IN', 'NN', 'NN', 'JJ', 'JJ', 'NN', 'JJ', 'NN', 'NN', 'CD', 'NN', 'VBG', 'NN', 'JJ', 'JJ', 'NN', 'VBG', 'JJ', 'JJ', 'NN', 'NN', 'JJ', 'NN', 'NN', 'VBD', 'NN', 'NN', 'JJ', 'NN', 'NN', 'NN', 'VBD', 'JJ', 'NN', 'NN', 'VBD', 'VB', 'NN', 'NN', 'VBG', 'MD', 'VB', 'NN', 'RB', 'VBG', 'VB', 'JJ', 'NN', 'NN', 'RB', 'RB', 'NN', 'NN', 'VBD', 'NN', 'NN', 'RB', 'JJ', 'NN', 'VB', 'NN', 'JJ', 'RB', 'VBP', 'JJ', 'NN', 'JJ', 'NN', 'JJ', 'NNS', 'NN', 'NN', 'VBN', 'VB', 'JJ', 'JJ', 'JJ', 'VBG', 'JJ', 'NN', 'JJ', 'NN', 'VBD', 'JJ', 'NN', 'VBG', 'CD', 'NN', 'NN', 'VBG', 'CD', 'CD', 'NN', 'CD', 'NN', 'NN', 'NN', 'CD', 'NN', 'JJS', 'NN', 'VB', 'JJ', 'CD', 'NN', 'JJ', 'NN', 'CD', 'MD', 'RB', 'VB', 'VBG', 'JJ', 'NN', 'VBG', 'RB', 'NN', 'VBD', 'JJ', 'JJ', 'NN', 'NN', 'RBR', 'NN', 'NN', 'NN', 'NN', 'NN', 'NN', 'NN', 'NN', 'RB', 'NN', 'VBD', 'NN', 'NN', 'CD', 'NN', 'CD', 'NN', 'NN', 'CD', 'VBD', 'NN', 'NN', 'CD', 'NNS', 'CD', 'JJ', 'NN', 'CD', 'NN', 'VBD', 'CD', 'JJ', 'NN', 'VBP', 'JJ', 'NN', 'JJS', 'NN', 'NN', 'JJ', 'NN', 'NN', 'NN', 'VBP', 'CD', 'NNS', 'NN', 'CD', 'JJ', 'NN', 'JJ', 'NN', 'VBP', 'CD', 'NN', 'VB', 'VBN', 'NN', 'CD', 'NN', 'CD', 'NN', 'IN', 'NN', 'IN', 'NN', 'IN', 'NN', 'RB', 'JJ', 'VBN', 'VBG', 'NN', 'NN', 'RB', 'VB', 'VB', 'JJ', 'NN', 'NN', 'NN', 'JJ', 'NNS', 'NN', 'NN', 'NN', 'VBP', 'NN', 'NN', 'NN', 'NN', 'NN', 'VBD', 'JJ', 'NN', 'NN', 'JJR', 'JJ', 'NN', 'JJ', 'NN', 'NN', 'NN', 'VBG', 'NN', 'NN', 'NN', 'NN', 'NN', 'VB', 'NN', 'NNS', 'VBG', 'NNS', 'NN', 'VBP', 'JJ', 'NN', 'NN', 'VBG', 'NN', 'NN', 'VBG', 'NN', 'VBN', 'VBG', 'RB', 'RB', 'JJ', 'IN', 'NN', 'NN', 'NN', 'NN', 'NN', 'NN', 'NN', 'NN', 'VBD', 'IN', 'CD', 'NN', 'NN', 'JJ', 'RB', 'CD', 'VBD', 'NN', 'RB', 'JJ', 'VBG', 'NN', 'NN', 'NN', 'RB', 'NN', 'NNS', 'RB', 'JJ', 'NN', 'NN', 'VBN', 'CD', 'CD', 'NN', 'JJ', 'NN', 'RBR', 'NNS', 'NN', 'CD', 'CD', 'NN', 'VB', 'JJ', 'NN', 'NN', 'VBD', 'JJR', 'JJ', 'NNS', 'VBD', 'VBG', 'NN', 'NN', 'CD', 'JJ', 'VBN', 'NN', 'RBR', 'NN', 'RB', 'MD', 'VB', 'CD', 'NN', 'NN', 'VBG', 'CD', 'CD', 'NN', 'NN', 'NN', 'VB', 'CD', 'NN', 'NN', 'VBG', 'CD', 'NN', 'RB', 'JJ', 'RB', 'JJ', 'JJR', 'NN', 'NN', 'RB', 'NNS', 'VBP', 'JJ', 'NN', 'VBG', 'JJ', 'NN', 'NN', 'NN', 'NN', 'RB', 'NN', 'VBD', 'NN', 'NN', 'IN', 'CD', 'VBD', 'CD', 'IN', 'NN', 'NN', 'CD', 'NN', 'VBD', 'CD', 'NN', 'NN', 'JJ', 'NN', 'NN', 'NN', 'VBD', 'NN', 'NN', 'JJ', 'NN', 'JJ', 'NN', 'JJ', 'JJ', 'NN', 'VBG', 'NN', 'JJ', 'NN', 'VBD', 'CD', 'NN', 'NN', 'CD', 'NN', 'CD', 'NN', 'CD', 'NN', 'CD', 'NN', 'CD', 'NN', 'NN', 'CD', 'NN', 'NN', 'CD', 'NN', 'VB', 'JJ', 'NN', 'CD', 'CD', 'VBD', 'NN', 'NN', 'JJ', 'RB', 'JJ', 'NN', 'NN', 'JJ', 'NN', 'NN', 'RB', 'JJ', 'NN', 'NN', 'VB', 'NN', 'RB', 'NNS', 'VBP', 'VB', 'NN', 'NN', 'CD', 'NN', 'RB', 'JJ', 'NNS', 'VBP', 'NN', 'NN', 'JJ', 'NN', 'JJ', 'NN', 'RB', 'JJ', 'NN', 'NN', 'VBP', 'JJ', 'NN', 'NN', 'JJ', 'NN', 'CD', 'JJS', 'NN', 'NN', 'NN', 'IN', 'NN', 'VBP', 'JJR', 'NN', 'NN', 'NN', 'NN', 'JJ', 'IN', 'NN', 'NN', 'JJ', 'NNS', 'VBP', 'JJ', 'NN', 'IN', 'JJ', 'NN', 'JJ', 'NN', 'NN', 'VBD', 'RB', 'CD', 'VBD', 'NN', 'NN', 'CD', 'NN', 'NN', 'NN', 'NN', 'IN', 'JJ', 'NN', 'NN', 'NN', 'NN', 'JJ', 'JJ', 'NN', 'JJ', 'NN', 'RB', 'VB', 'JJ', 'NN', 'NNS', 'VBP', 'VBN', 'VBG', 'NN', 'NN', 'IN', 'NN', 'NN', 'VBG', 'NN', 'RB', 'JJ', 'NNS', 'VBP', 'DT', 'NN', 'NN', 'NN', 'NN', 'JJ', 'JJ', 'NN', 'IN', 'JJ', 'NN', 'NNS', 'VBP', 'NNS', 'JJ', 'VBG', 'NN', 'NN', 'NN', 'MD', 'VB', 'VBG', 'NN', 'JJ', 'NN', 'VB', 'JJ', 'NN', 'JJ', 'NN', 'RB', 'VB', 'VBG', 'JJ', 'NN', 'NN', 'NN', 'RB', 'JJ', 'NNS', 'JJ', 'NN', 'JJ', 'NN', 'JJ', 'NN', 'NN', 'NN', 'NN', 'NN', 'NN', 'JJ', 'NN', 'NN', 'NN', 'VBP', 'RB', 'VBZ', 'JJS', 'JJ', 'NN', 'RB', 'VBD', 'RB', 'NN', 'VBD', 'CD', 'CD', 'VBD', 'RB', 'JJ', 'NN', 'RB', 'VBG', 'JJ', 'NN', 'RB', 'JJ', 'NNS', 'VBD', 'RB', 'NN', 'VBD', 'JJ', 'JJ', 'JJ', 'NN', 'VBN', 'CD', 'RB', 'VBD', 'RB', 'JJ', 'JJ', 'NN', 'JJ', 'NN', 'RB', 'VBD', 'NN', 'NN', 'VBD', 'NN', 'JJ', 'NN', 'MD', 'VB', 'JJ', 'NN', 'NN', 'JJ', 'NN', 'RB', 'JJ', 'JJ', 'NN', 'NN', 'JJ', 'NN', 'NN', 'VB', 'JJ', 'NN', 'NN', 'NN', 'NN', 'JJ', 'NN', 'IN', 'NNS', 'VBP', 'VBP', 'IN', 'JJ', 'NN', 'JJS', 'JJR', 'NN', 'JJ', 'NN', 'NN', 'NN', 'JJ', 'NN', 'IN', 'CD', 'NN', 'VBN', 'JJ', 'NN', 'NN', 'NN', 'JJ', 'NN', 'VBD', 'JJ', 'CD', 'VBN', 'RBR', 'IN', 'NN', 'NN', 'VBD', 'JJ', 'NN', 'RB', 'VBP', 'NNS', 'VBP', 'VBN', 'NN']\n"
          ]
        }
      ]
    },
    {
      "cell_type": "markdown",
      "source": [],
      "metadata": {
        "id": "WT67DbtHQmi5"
      }
    },
    {
      "cell_type": "markdown",
      "source": [
        "## Visualizing 'human Part-Of-Speech Tags'"
      ],
      "metadata": {
        "id": "9L_QCHXjQm9h"
      }
    },
    {
      "cell_type": "code",
      "source": [
        "tags = (pd.Series(nltk.ngrams(human_pos_tags, 1)).value_counts())"
      ],
      "metadata": {
        "id": "0TTng561Qm9i"
      },
      "execution_count": 52,
      "outputs": []
    },
    {
      "cell_type": "code",
      "source": [
        "# create series of top 10\n",
        "tags_series = tags[:10]"
      ],
      "metadata": {
        "id": "4_qyC2pVQm9i"
      },
      "execution_count": 53,
      "outputs": []
    },
    {
      "cell_type": "code",
      "source": [
        "tags_series.sort_values().plot.barh(color='lightblue', width=.9, figsize=(12, 8))\n",
        "plt.title('10 Most Frequently Occuring Part-Of-Speech (HUMAN)')\n",
        "plt.ylabel('Part-Of-Speech Tag')\n",
        "plt.xlabel('# of Occurances')"
      ],
      "metadata": {
        "colab": {
          "base_uri": "https://localhost:8080/",
          "height": 531
        },
        "outputId": "59b59223-53f8-46c1-8334-3c662849ad12",
        "id": "eEl20QW2Qm9i"
      },
      "execution_count": 54,
      "outputs": [
        {
          "output_type": "execute_result",
          "data": {
            "text/plain": [
              "Text(0.5, 0, '# of Occurances')"
            ]
          },
          "metadata": {},
          "execution_count": 54
        },
        {
          "output_type": "display_data",
          "data": {
            "text/plain": [
              "<Figure size 864x576 with 1 Axes>"
            ],
            "image/png": "[encoded data removed]"
          },
          "metadata": {
            "needs_background": "light"
          }
        }
      ]
    },
    {
      "cell_type": "markdown",
      "source": [
        "## ChatGPT POS"
      ],
      "metadata": {
        "id": "c4bxPjcNfphL"
      }
    },
    {
      "cell_type": "code",
      "source": [
        "# nltk tagging\n",
        "chatgpt_pos = nltk.pos_tag(chatgpt_words)\n",
        "print(chatgpt_pos)"
      ],
      "metadata": {
        "colab": {
          "base_uri": "https://localhost:8080/"
        },
        "outputId": "765be8d6-8b10-4273-d941-e57036885254",
        "id": "gET41NgTfphT"
      },
      "execution_count": 55,
      "outputs": [
        {
          "output_type": "stream",
          "name": "stdout",
          "text": [
            "[('leftwing', 'VBG'), ('politics', 'NNS'), ('typically', 'RB'), ('involves', 'VBZ'), ('support', 'NN'), ('policy', 'NN'), ('prioritize', 'VBP'), ('need', 'NN'), ('welfare', 'NN'), ('marginalized', 'VBN'), ('oppressed', 'VBN'), ('group', 'NN'), ('worker', 'NN'), ('minority', 'NN'), ('poor', 'JJ'), ('leftwing', 'VBG'), ('ideology', 'NN'), ('often', 'RB'), ('advocate', 'JJ'), ('greater', 'JJR'), ('government', 'NN'), ('intervention', 'NN'), ('economy', 'NN'), ('progressive', 'JJ'), ('taxation', 'NN'), ('social', 'JJ'), ('program', 'NN'), ('ensure', 'VB'), ('equal', 'JJ'), ('distribution', 'NN'), ('wealth', 'NN'), ('opportunity', 'NN'), ('also', 'RB'), ('tend', 'VBP'), ('supportive', 'JJ'), ('environmental', 'JJ'), ('protection', 'NN'), ('civil', 'JJ'), ('liberty', 'NN'), ('international', 'JJ'), ('cooperation', 'NN'), ('rightwing', 'VBG'), ('politics', 'NNS'), ('hand', 'NN'), ('generally', 'RB'), ('prioritizes', 'VBZ'), ('need', 'JJ'), ('interest', 'NN'), ('traditional', 'JJ'), ('societal', 'JJ'), ('economic', 'JJ'), ('elite', 'NN'), ('business', 'NN'), ('owner', 'NN'), ('wealthy', 'JJ'), ('rightwing', 'VBG'), ('ideology', 'NN'), ('tend', 'VBP'), ('advocate', 'NN'), ('limited', 'JJ'), ('government', 'NN'), ('intervention', 'NN'), ('economy', 'NN'), ('lower', 'JJR'), ('tax', 'NN'), ('smaller', 'JJR'), ('social', 'JJ'), ('program', 'NN'), ('also', 'RB'), ('tend', 'VBP'), ('supportive', 'JJ'), ('strong', 'JJ'), ('national', 'JJ'), ('defense', 'NN'), ('law', 'NN'), ('order', 'NN'), ('traditional', 'JJ'), ('social', 'JJ'), ('value', 'NN'), ('summary', 'JJ'), ('leftwing', 'VBG'), ('politics', 'NNS'), ('characterized', 'VBN'), ('emphasis', 'NN'), ('equality', 'NN'), ('social', 'JJ'), ('justice', 'NN'), ('protection', 'NN'), ('marginalized', 'VBN'), ('group', 'NN'), ('rightwing', 'VBG'), ('politics', 'NNS'), ('focus', 'NN'), ('tradition', 'NN'), ('personal', 'JJ'), ('responsibility', 'NN'), ('smaller', 'JJR'), ('role', 'NN'), ('government', 'NN'), ('mustread', 'VBD'), ('book', 'NN'), ('economics', 'NNS'), ('considered', 'VBN'), ('classic', 'JJ'), ('field', 'NN'), ('wealth', 'NN'), ('nation', 'NN'), ('adam', 'IN'), ('smith', 'NN'), ('published', 'VBN'), ('1776', 'CD'), ('considered', 'VBN'), ('first', 'JJ'), ('modern', 'JJ'), ('work', 'NN'), ('economics', 'NNS'), ('still', 'RB'), ('widely', 'RB'), ('read', 'VBN'), ('today', 'NN'), ('principle', 'JJ'), ('economics', 'NNS'), ('alfred', 'VBD'), ('marshall', 'RB'), ('published', 'VBN'), ('1890', 'CD'), ('considered', 'VBD'), ('one', 'CD'), ('influential', 'JJ'), ('economics', 'NNS'), ('text', 'NN'), ('late', 'RB'), ('19th', 'CD'), ('early', 'JJ'), ('20th', 'JJ'), ('century', 'NN'), ('general', 'JJ'), ('theory', 'NN'), ('employment', 'NN'), ('interest', 'NN'), ('money', 'NN'), ('john', 'NN'), ('maynard', 'NN'), ('keynes', 'NNS'), ('published', 'VBN'), ('1936', 'CD'), ('revolutionized', 'JJ'), ('macroeconomic', 'JJ'), ('thought', 'NN'), ('continues', 'VBZ'), ('influential', 'JJ'), ('today', 'NN'), ('capital', 'NN'), ('twentyfirst', 'JJ'), ('century', 'NN'), ('thomas', 'NN'), ('piketty', 'RB'), ('published', 'VBN'), ('2014', 'CD'), ('comprehensive', 'JJ'), ('study', 'NN'), ('income', 'NN'), ('wealth', 'NN'), ('inequality', 'NN'), ('cause', 'NN'), ('nudge', 'NN'), ('improving', 'VBG'), ('decision', 'NN'), ('health', 'NN'), ('wealth', 'NN'), ('happiness', 'NN'), ('richard', 'NN'), ('thaler', 'NN'), ('ca', 'MD'), ('sunstein', 'VB'), ('published', 'JJ'), ('2008', 'CD'), ('popularized', 'JJ'), ('concept', 'NN'), ('behavioral', 'JJ'), ('economics', 'NNS'), ('implication', 'NN'), ('policymaking', 'VBG'), ('book', 'NN'), ('provide', 'VBP'), ('broad', 'JJ'), ('overview', 'NN'), ('field', 'NN'), ('economics', 'NNS'), ('evolution', 'NN'), ('time', 'NN'), ('considered', 'VBN'), ('essential', 'JJ'), ('reading', 'VBG'), ('anyone', 'NN'), ('interested', 'JJ'), ('subject', 'JJ'), ('main', 'JJ'), ('reason', 'NN'), ('people', 'NNS'), ('start', 'VBP'), ('business', 'NN'), ('make', 'VBP'), ('profit', 'NN'), ('providing', 'NN'), ('good', 'JJ'), ('service', 'NN'), ('customer', 'NN'), ('reason', 'NN'), ('include', 'VBP'), ('bos', 'NNS'), ('control', 'VB'), ('worklife', 'JJ'), ('balance', 'NN'), ('pursuing', 'VBG'), ('passion', 'NN'), ('interest', 'NN'), ('many', 'JJ'), ('way', 'NN'), ('tell', 'VBP'), ('someone', 'NN'), ('truly', 'RB'), ('love', 'JJ'), ('sign', 'NN'), ('include', 'VBP'), ('consistently', 'RB'), ('make', 'VBP'), ('effort', 'NN'), ('spend', 'NN'), ('time', 'NN'), ('prioritize', 'VB'), ('need', 'NN'), ('want', 'VBP'), ('listen', 'JJ'), ('support', 'NN'), ('good', 'JJ'), ('time', 'NN'), ('bad', 'JJ'), ('honest', 'JJS'), ('open', 'JJ'), ('feel', 'NN'), ('like', 'IN'), ('trust', 'NN'), ('show', 'VBP'), ('physical', 'JJ'), ('emotional', 'JJ'), ('affection', 'NN'), ('make', 'VBP'), ('sacrifice', 'NN'), ('willing', 'JJ'), ('compromise', 'NN'), ('order', 'NN'), ('make', 'VBP'), ('relationship', 'NN'), ('work', 'NN'), ('important', 'JJ'), ('keep', 'VB'), ('mind', 'NN'), ('everyone', 'NN'), ('express', 'JJ'), ('love', 'NN'), ('differently', 'RB'), ('may', 'MD'), ('sign', 'VB'), ('love', 'VB'), ('one', 'CD'), ('person', 'NN'), ('may', 'MD'), ('another', 'DT'), ('communication', 'NN'), ('partner', 'NN'), ('understanding', 'VBG'), ('others', 'NNS'), ('need', 'VBP'), ('want', 'JJ'), ('important', 'JJ'), ('healthy', 'JJ'), ('loving', 'NN'), ('relationship', 'NN'), ('starting', 'VBG'), ('business', 'NN'), ('challenging', 'VBG'), ('rewarding', 'VBG'), ('experience', 'JJ'), ('several', 'JJ'), ('step', 'NN'), ('take', 'VB'), ('get', 'NN'), ('started', 'VBN'), ('develop', 'NN'), ('business', 'NN'), ('plan', 'NN'), ('include', 'VBP'), ('detailed', 'JJ'), ('description', 'NN'), ('business', 'NN'), ('target', 'NN'), ('market', 'NN'), ('competition', 'NN'), ('also', 'RB'), ('include', 'VBP'), ('financial', 'JJ'), ('projection', 'NN'), ('projected', 'VBN'), ('income', 'NN'), ('expense', 'NN'), ('conduct', 'NN'), ('market', 'NN'), ('research', 'NN'), ('important', 'JJ'), ('understand', 'NN'), ('target', 'NN'), ('market', 'NN'), ('including', 'VBG'), ('need', 'NN'), ('preference', 'NN'), ('well', 'RB'), ('size', 'NN'), ('growth', 'NN'), ('market', 'NN'), ('help', 'NN'), ('determine', 'VB'), ('viability', 'NN'), ('business', 'NN'), ('idea', 'NN'), ('secure', 'NN'), ('funding', 'NN'), ('starting', 'VBG'), ('business', 'NN'), ('typically', 'RB'), ('requires', 'VBZ'), ('form', 'JJ'), ('investment', 'NN'), ('whether', 'IN'), ('personal', 'JJ'), ('saving', 'VBG'), ('business', 'NN'), ('loan', 'NN'), ('investment', 'NN'), ('others', 'NNS'), ('may', 'MD'), ('also', 'RB'), ('want', 'VB'), ('consider', 'JJR'), ('crowdfunding', 'VBG'), ('applying', 'VBG'), ('grant', 'NN'), ('build', 'NN'), ('strong', 'JJ'), ('team', 'NN'), ('business', 'NN'), ('owner', 'NN'), ('need', 'VBP'), ('wear', 'VBP'), ('many', 'JJ'), ('hat', 'WP'), ('handle', 'JJ'), ('variety', 'NN'), ('task', 'NN'), ('surrounding', 'VBG'), ('strong', 'JJ'), ('team', 'NN'), ('advisor', 'NN'), ('mentor', 'NN'), ('partner', 'NN'), ('help', 'NN'), ('ensure', 'VB'), ('success', 'NN'), ('register', 'NN'), ('business', 'NN'), ('obtain', 'VB'), ('necessary', 'JJ'), ('license', 'NN'), ('permit', 'NN'), ('varies', 'NNS'), ('depending', 'VBG'), ('type', 'NN'), ('business', 'NN'), ('starting', 'VBG'), ('regulation', 'NN'), ('area', 'NN'), ('establish', 'VB'), ('online', 'NN'), ('presence', 'NN'), ('today', 'NN'), ('digital', 'JJ'), ('age', 'NN'), ('website', 'JJ'), ('social', 'JJ'), ('medium', 'NN'), ('presence', 'NN'), ('crucial', 'JJ'), ('reaching', 'VBG'), ('engaging', 'VBG'), ('customer', 'NN'), ('starting', 'VBG'), ('business', 'NN'), ('big', 'JJ'), ('step', 'NN'), ('right', 'RB'), ('planning', 'VBG'), ('execution', 'NN'), ('fulfilling', 'VBG'), ('profitable', 'JJ'), ('endeavor', 'NN'), ('psychological', 'JJ'), ('hack', 'NN'), ('shown', 'VBN'), ('effective', 'JJ'), ('footinthedoor', 'NN'), ('technique', 'NN'), ('starting', 'VBG'), ('small', 'JJ'), ('request', 'NN'), ('make', 'VBP'), ('likely', 'JJ'), ('someone', 'NN'), ('comply', 'NN'), ('larger', 'JJR'), ('request', 'NN'), ('later', 'RB'), ('doorintheface', 'NN'), ('technique', 'NN'), ('making', 'VBG'), ('initial', 'JJ'), ('large', 'JJ'), ('request', 'NN'), ('likely', 'RB'), ('denied', 'VBD'), ('followed', 'VBN'), ('smaller', 'JJR'), ('request', 'NN'), ('increase', 'NN'), ('chance', 'NN'), ('smaller', 'JJR'), ('request', 'NN'), ('granted', 'VBN'), ('social', 'JJ'), ('proof', 'NN'), ('people', 'NNS'), ('likely', 'JJ'), ('take', 'VBP'), ('certain', 'JJ'), ('action', 'NN'), ('see', 'NN'), ('others', 'NNS'), ('around', 'IN'), ('taking', 'VBG'), ('action', 'NN'), ('ben', 'NN'), ('franklin', 'NN'), ('effect', 'NN'), ('favor', 'NN'), ('someone', 'NN'), ('make', 'VBP'), ('feel', 'NN'), ('positively', 'RB'), ('towards', 'IN'), ('anchoring', 'VBG'), ('effect', 'NN'), ('first', 'RB'), ('piece', 'JJ'), ('information', 'NN'), ('encountered', 'VBD'), ('anchor', 'JJ'), ('influence', 'NN'), ('way', 'NN'), ('subsequent', 'JJ'), ('information', 'NN'), ('perceived', 'VBD'), ('halo', 'JJ'), ('effect', 'NN'), ('person', 'NN'), ('overall', 'JJ'), ('positive', 'JJ'), ('impression', 'NN'), ('influence', 'NN'), ('specific', 'JJ'), ('trait', 'NN'), ('viewed', 'VBD'), ('framing', 'JJ'), ('effect', 'NN'), ('way', 'NN'), ('information', 'NN'), ('presented', 'VBD'), ('influence', 'NN'), ('perceived', 'VBN'), ('acted', 'VBN'), ('upon', 'IN'), ('zeigarnik', 'FW'), ('effect', 'NN'), ('uncompleted', 'JJ'), ('task', 'NN'), ('tend', 'VBP'), ('stay', 'NN'), ('mind', 'IN'), ('making', 'VBG'), ('u', 'JJ'), ('likely', 'JJ'), ('think', 'VBP'), ('finish', 'JJ'), ('example', 'NN'), ('important', 'JJ'), ('remember', 'VB'), ('psychological', 'JJ'), ('hack', 'NN'), ('used', 'VBN'), ('ethically', 'RB'), ('unethically', 'RB'), ('important', 'JJ'), ('use', 'NN'), ('responsibly', 'RB'), ('come', 'VBN'), ('mouth', 'NN'), ('swallowing', 'VBG'), ('involves', 'NNS'), ('muscle', 'NN'), ('esophagus', 'VBP'), ('move', 'NN'), ('food', 'NN'), ('stomach', 'NN'), ('hanging', 'VBG'), ('upside', 'JJ'), ('reverse', 'NN'), ('process', 'NN'), ('swallowing', 'VBG'), ('affect', 'JJ'), ('muscle', 'NN'), ('esophagus', 'NN'), ('food', 'NN'), ('stay', 'VB'), ('stomach', 'NN'), ('continue', 'NN'), ('digested', 'VBD'), ('terrifying', 'VBG'), ('experiment', 'JJ'), ('human', 'JJ'), ('history', 'NN'), ('include', 'VBP'), ('tuskegee', 'NN'), ('syphilis', 'NN'), ('study', 'NN'), ('u', 'JJ'), ('public', 'JJ'), ('health', 'NN'), ('service', 'NN'), ('withheld', 'VBD'), ('treatment', 'NN'), ('african', 'JJ'), ('american', 'JJ'), ('men', 'NNS'), ('syphilis', 'VBD'), ('decade', 'NN'), ('stanford', 'NN'), ('prison', 'NN'), ('experiment', 'JJ'), ('college', 'NN'), ('student', 'NN'), ('randomly', 'RB'), ('assigned', 'VBN'), ('role', 'NN'), ('guard', 'NN'), ('prisoner', 'NN'), ('simulated', 'VBD'), ('prison', 'NN'), ('resulting', 'VBG'), ('severe', 'JJ'), ('abuse', 'NN'), ('psychological', 'JJ'), ('trauma', 'NN'), ('prisoner', 'NN'), ('nazi', 'JJ'), ('experiment', 'JJ'), ('world', 'NN'), ('war', 'NN'), ('ii', 'NN'), ('prisoner', 'NN'), ('subjected', 'VBD'), ('inhumane', 'JJ'), ('medical', 'JJ'), ('experimentation', 'NN'), ('treatment', 'NN'), ('concentration', 'NN'), ('camp', 'NN'), ('cia', 'NN'), ('project', 'NN'), ('mkultra', 'NNP'), ('u', 'JJ'), ('government', 'NN'), ('conducted', 'VBD'), ('secret', 'JJ'), ('experiment', 'NN'), ('mind', 'NN'), ('control', 'NN'), ('interrogation', 'NN'), ('technique', 'NN'), ('using', 'VBG'), ('drug', 'NN'), ('method', 'NN'), ('unknowing', 'VBG'), ('subject', 'JJ'), ('monster', 'NN'), ('study', 'NN'), ('speech', 'VBD'), ('therapist', 'NN'), ('deliberately', 'RB'), ('induced', 'VBD'), ('stuttering', 'VBG'), ('child', 'NN'), ('order', 'NN'), ('study', 'NN'), ('effect', 'NN'), ('guatemala', 'NN'), ('syphilis', 'NN'), ('study', 'NN'), ('u', 'JJ'), ('government', 'NN'), ('official', 'NN'), ('intentionally', 'RB'), ('infected', 'VBD'), ('prisoner', 'JJ'), ('mental', 'JJ'), ('patient', 'NN'), ('syphilis', 'VBD'), ('1940s', 'CD'), ('1950s', 'CD'), ('disease', 'NN'), ('used', 'VBN'), ('extremely', 'RB'), ('bad', 'JJ'), ('hardly', 'RB'), ('problem', 'NN'), ('today', 'NN'), ('include', 'VBP'), ('smallpox', 'JJ'), ('disease', 'NN'), ('eradicated', 'VBD'), ('globally', 'RB'), ('1980', 'CD'), ('widespread', 'JJ'), ('vaccination', 'NN'), ('campaign', 'NN'), ('polio', 'NN'), ('number', 'NN'), ('case', 'NN'), ('polio', 'NN'), ('decreased', 'VBD'), ('99', 'CD'), ('since', 'IN'), ('1988', 'CD'), ('world', 'NN'), ('health', 'NN'), ('organization', 'NN'), ('aim', 'NN'), ('eradicate', 'NN'), ('disease', 'NN'), ('worldwide', 'IN'), ('end', 'NN'), ('2020', 'CD'), ('measles', 'NNS'), ('measles', 'VBZ'), ('case', 'NN'), ('death', 'NN'), ('decreased', 'VBD'), ('84', 'CD'), ('79', 'CD'), ('respectively', 'RB'), ('since', 'IN'), ('2000', 'CD'), ('due', 'JJ'), ('increased', 'VBN'), ('vaccination', 'NN'), ('rate', 'NN'), ('yellow', 'JJ'), ('fever', 'RB'), ('yellow', 'JJ'), ('fever', 'NN'), ('death', 'NN'), ('decreased', 'VBD'), ('88', 'CD'), ('since', 'IN'), ('2000', 'CD'), ('due', 'JJ'), ('increased', 'VBN'), ('vaccination', 'NN'), ('coverage', 'NN'), ('mosquito', 'NN'), ('control', 'NN'), ('measure', 'NN'), ('guinea', 'NN'), ('worm', 'NN'), ('disease', 'NN'), ('number', 'NN'), ('case', 'NN'), ('guinea', 'NN'), ('worm', 'VB'), ('disease', 'NN'), ('decreased', 'JJ'), ('9999', 'CD'), ('since', 'IN'), ('1986', 'CD'), ('combination', 'NN'), ('communitybased', 'VBN'), ('intervention', 'JJ'), ('mass', 'NN'), ('drug', 'NN'), ('administration', 'NN'), ('popular', 'JJ'), ('belief', 'NN'), ('wealthy', 'JJ'), ('people', 'NNS'), ('growth', 'NN'), ('mindset', 'VBP'), ('poor', 'JJ'), ('people', 'NNS'), ('fixed', 'VBN'), ('mindset', 'JJ'), ('growth', 'NN'), ('mindset', 'VBP'), ('belief', 'NN'), ('one', 'CD'), ('ability', 'NN'), ('intelligence', 'NN'), ('developed', 'VBD'), ('effort', 'NN'), ('learning', 'VBG'), ('fixed', 'VBN'), ('mindset', 'JJ'), ('belief', 'NN'), ('one', 'CD'), ('ability', 'NN'), ('intelligence', 'NN'), ('fixed', 'VBD'), ('cannot', 'NNS'), ('changed', 'VBN'), ('however', 'RB'), ('research', 'NN'), ('topic', 'NN'), ('mixed', 'VBD'), ('wealthy', 'JJ'), ('individual', 'JJ'), ('posse', 'NN'), ('growth', 'NN'), ('mindset', 'VBP'), ('additionally', 'RB'), ('growth', 'NN'), ('mindset', 'VBD'), ('necessarily', 'RB'), ('guarantee', 'NN'), ('success', 'NN'), ('wealth', 'NN'), ('important', 'JJ'), ('note', 'NN'), ('many', 'JJ'), ('factor', 'NN'), ('contribute', 'VBP'), ('individual', 'JJ'), ('wealth', 'NN'), ('mindset', 'NN'), ('accurate', 'VBP'), ('fair', 'JJ'), ('make', 'VBP'), ('sweeping', 'JJ'), ('generalization', 'NN'), ('mindset', 'VBN'), ('wealthy', 'JJ'), ('poor', 'JJ'), ('individual', 'JJ'), ('according', 'VBG'), ('data', 'NN'), ('bureau', 'NN'), ('labor', 'NN'), ('statistic', 'JJ'), ('commonly', 'RB'), ('underpaid', 'JJ'), ('job', 'NN'), ('united', 'JJ'), ('state', 'NN'), ('include', 'VBP'), ('home', 'NN'), ('health', 'NN'), ('aide', 'IN'), ('personal', 'JJ'), ('care', 'NN'), ('aide', 'NN'), ('worker', 'NN'), ('often', 'RB'), ('make', 'VBP'), ('around', 'IN'), ('1113', 'CD'), ('per', 'IN'), ('hour', 'NN'), ('fast', 'RB'), ('food', 'NN'), ('worker', 'NN'), ('worker', 'NN'), ('often', 'RB'), ('make', 'VBP'), ('around', 'RP'), ('810', 'CD'), ('per', 'IN'), ('hour', 'NN'), ('retail', 'JJ'), ('salesperson', 'NN'), ('worker', 'NN'), ('often', 'RB'), ('make', 'VBP'), ('around', 'IN'), ('1013', 'CD'), ('per', 'IN'), ('hour', 'NN'), ('office', 'NN'), ('clerk', 'NN'), ('worker', 'NN'), ('often', 'RB'), ('make', 'VBP'), ('around', 'IN'), ('1215', 'CD'), ('per', 'IN'), ('hour', 'NN'), ('administrative', 'JJ'), ('assistant', 'NN'), ('worker', 'NN'), ('often', 'RB'), ('make', 'VBP'), ('around', 'IN'), ('1417', 'CD'), ('per', 'IN'), ('hour', 'NN'), ('worth', 'IN'), ('noting', 'VBG'), ('pay', 'NN'), ('vary', 'JJ'), ('depending', 'VBG'), ('location', 'NN'), ('employer', 'NN'), ('additionally', 'RB'), ('job', 'NN'), ('typically', 'RB'), ('high', 'JJ'), ('turnover', 'NN'), ('rate', 'NN'), ('employer', 'NN'), ('may', 'MD'), ('provide', 'VB'), ('benefit', 'VB'), ('health', 'NN'), ('insurance', 'NN'), ('paid', 'VBD'), ('time', 'NN'), ('many', 'JJ'), ('reason', 'NN'), ('individual', 'JJ'), ('community', 'NN'), ('may', 'MD'), ('enough', 'VB'), ('food', 'NN'), ('possible', 'JJ'), ('cause', 'NN'), ('include', 'VBP'), ('poverty', 'JJ'), ('lack', 'NN'), ('access', 'NN'), ('affordable', 'JJ'), ('nutritious', 'JJ'), ('food', 'NN'), ('war', 'NN'), ('conflict', 'NN'), ('natural', 'JJ'), ('disaster', 'NN'), ('government', 'NN'), ('policy', 'NN'), ('additionally', 'RB'), ('systemic', 'JJ'), ('issue', 'NN'), ('inequality', 'NN'), ('discrimination', 'NN'), ('lack', 'NN'), ('resource', 'NN'), ('infrastructure', 'NN'), ('also', 'RB'), ('contribute', 'JJ'), ('food', 'NN'), ('insecurity', 'NN'), ('many', 'JJ'), ('reason', 'NN'), ('individual', 'JJ'), ('community', 'NN'), ('may', 'MD'), ('enough', 'VB'), ('food', 'NN'), ('possible', 'JJ'), ('cause', 'NN'), ('include', 'VBP'), ('poverty', 'JJ'), ('lack', 'NN'), ('access', 'NN'), ('affordable', 'JJ'), ('nutritious', 'JJ'), ('food', 'NN'), ('war', 'NN'), ('conflict', 'NN'), ('natural', 'JJ'), ('disaster', 'NN'), ('government', 'NN'), ('policy', 'NN'), ('additionally', 'RB'), ('systemic', 'JJ'), ('issue', 'NN'), ('inequality', 'NN'), ('discrimination', 'NN'), ('lack', 'NN'), ('resource', 'NN'), ('infrastructure', 'NN'), ('also', 'RB'), ('contribute', 'JJ'), ('food', 'NN'), ('insecurity', 'NN'), ('several', 'JJ'), ('way', 'NN'), ('use', 'IN'), ('social', 'JJ'), ('medium', 'NN'), ('increase', 'NN'), ('brand', 'NN'), ('awareness', 'NN'), ('specific', 'JJ'), ('geographical', 'JJ'), ('location', 'NN'), ('targeted', 'VBD'), ('advertising', 'NN'), ('use', 'NN'), ('social', 'JJ'), ('medium', 'NN'), ('platform', 'NN'), ('advertising', 'NN'), ('tool', 'NN'), ('target', 'NN'), ('user', 'NN'), ('specific', 'JJ'), ('geographical', 'JJ'), ('location', 'NN'), ('localized', 'VBD'), ('content', 'JJ'), ('create', 'NN'), ('share', 'NN'), ('content', 'JJ'), ('relevant', 'NN'), ('specific', 'JJ'), ('geographical', 'JJ'), ('location', 'NN'), ('event', 'NN'), ('promotion', 'NN'), ('news', 'NN'), ('influencer', 'NN'), ('marketing', 'NN'), ('partner', 'NN'), ('local', 'JJ'), ('influencers', 'NNS'), ('reach', 'VBP'), ('audience', 'NN'), ('specific', 'JJ'), ('geographical', 'JJ'), ('location', 'NN'), ('community', 'NN'), ('building', 'NN'), ('use', 'NN'), ('social', 'JJ'), ('medium', 'NN'), ('build', 'JJ'), ('engage', 'NN'), ('community', 'NN'), ('user', 'NN'), ('specific', 'JJ'), ('geographical', 'JJ'), ('location', 'NN'), ('participate', 'VB'), ('local', 'JJ'), ('hashtags', 'NNS'), ('use', 'VBP'), ('participate', 'JJ'), ('local', 'JJ'), ('hashtags', 'NNS'), ('specific', 'JJ'), ('geographical', 'JJ'), ('location', 'NN'), ('reach', 'NN'), ('people', 'NNS'), ('area', 'NN'), ('google', 'NN'), ('business', 'NN'), ('optimize', 'VB'), ('google', 'NN'), ('business', 'NN'), ('listing', 'VBG'), ('make', 'VB'), ('sure', 'JJ'), ('appears', 'VBZ'), ('people', 'NNS'), ('specific', 'JJ'), ('geographical', 'JJ'), ('location', 'NN'), ('search', 'NN'), ('business', 'NN'), ('like', 'IN'), ('important', 'JJ'), ('note', 'NN'), ('successful', 'JJ'), ('social', 'JJ'), ('medium', 'NN'), ('strategy', 'NN'), ('need', 'VBP'), ('clear', 'JJ'), ('understanding', 'JJ'), ('target', 'NN'), ('audience', 'NN'), ('well', 'RB'), ('regularly', 'RB'), ('create', 'JJ'), ('share', 'NN'), ('engaging', 'VBG'), ('content', 'JJ'), ('investing', 'VBG'), ('always', 'RB'), ('carry', 'VBP'), ('level', 'NN'), ('risk', 'NN'), ('guarantee', 'NN'), ('investment', 'NN'), ('pay', 'NN'), ('long', 'JJ'), ('run', 'RB'), ('even', 'RB'), ('perform', 'VB'), ('expected', 'VBN'), ('short', 'JJ'), ('term', 'NN'), ('different', 'JJ'), ('type', 'NN'), ('investment', 'NN'), ('carry', 'VBP'), ('different', 'JJ'), ('level', 'NN'), ('risk', 'NN'), ('example', 'NN'), ('stock', 'NN'), ('considered', 'VBN'), ('riskier', 'JJR'), ('bond', 'NN'), ('also', 'RB'), ('potential', 'JJ'), ('higher', 'JJR'), ('return', 'NN'), ('important', 'JJ'), ('consider', 'VBP'), ('personal', 'JJ'), ('risk', 'NN'), ('tolerance', 'NN'), ('investment', 'NN'), ('goal', 'NN'), ('investing', 'VBG'), ('diversify', 'NN'), ('portfolio', 'NN'), ('spread', 'NN'), ('risk', 'NN'), ('among', 'IN'), ('different', 'JJ'), ('type', 'NN'), ('investment', 'NN'), ('additionally', 'RB'), ('important', 'JJ'), ('keep', 'VB'), ('mind', 'NN'), ('value', 'NN'), ('investment', 'NN'), ('go', 'VBP'), ('well', 'RB'), ('past', 'JJ'), ('performance', 'NN'), ('guarantee', 'NN'), ('future', 'JJ'), ('result', 'NN')]\n"
          ]
        }
      ]
    },
    {
      "cell_type": "code",
      "source": [
        "# extract the pos tags from human_pos\n",
        "chatgpt_pos_tags = []\n",
        "for pos in chatgpt_pos:\n",
        "  chatgpt_pos_tags.append(pos[1])\n",
        "\n",
        "print(chatgpt_pos_tags)"
      ],
      "metadata": {
        "colab": {
          "base_uri": "https://localhost:8080/"
        },
        "outputId": "668eff62-e3b2-43a3-8313-64c7c058c832",
        "id": "E3SjPhXGfphT"
      },
      "execution_count": 56,
      "outputs": [
        {
          "output_type": "stream",
          "name": "stdout",
          "text": [
            "['VBG', 'NNS', 'RB', 'VBZ', 'NN', 'NN', 'VBP', 'NN', 'NN', 'VBN', 'VBN', 'NN', 'NN', 'NN', 'JJ', 'VBG', 'NN', 'RB', 'JJ', 'JJR', 'NN', 'NN', 'NN', 'JJ', 'NN', 'JJ', 'NN', 'VB', 'JJ', 'NN', 'NN', 'NN', 'RB', 'VBP', 'JJ', 'JJ', 'NN', 'JJ', 'NN', 'JJ', 'NN', 'VBG', 'NNS', 'NN', 'RB', 'VBZ', 'JJ', 'NN', 'JJ', 'JJ', 'JJ', 'NN', 'NN', 'NN', 'JJ', 'VBG', 'NN', 'VBP', 'NN', 'JJ', 'NN', 'NN', 'NN', 'JJR', 'NN', 'JJR', 'JJ', 'NN', 'RB', 'VBP', 'JJ', 'JJ', 'JJ', 'NN', 'NN', 'NN', 'JJ', 'JJ', 'NN', 'JJ', 'VBG', 'NNS', 'VBN', 'NN', 'NN', 'JJ', 'NN', 'NN', 'VBN', 'NN', 'VBG', 'NNS', 'NN', 'NN', 'JJ', 'NN', 'JJR', 'NN', 'NN', 'VBD', 'NN', 'NNS', 'VBN', 'JJ', 'NN', 'NN', 'NN', 'IN', 'NN', 'VBN', 'CD', 'VBN', 'JJ', 'JJ', 'NN', 'NNS', 'RB', 'RB', 'VBN', 'NN', 'JJ', 'NNS', 'VBD', 'RB', 'VBN', 'CD', 'VBD', 'CD', 'JJ', 'NNS', 'NN', 'RB', 'CD', 'JJ', 'JJ', 'NN', 'JJ', 'NN', 'NN', 'NN', 'NN', 'NN', 'NN', 'NNS', 'VBN', 'CD', 'JJ', 'JJ', 'NN', 'VBZ', 'JJ', 'NN', 'NN', 'JJ', 'NN', 'NN', 'RB', 'VBN', 'CD', 'JJ', 'NN', 'NN', 'NN', 'NN', 'NN', 'NN', 'VBG', 'NN', 'NN', 'NN', 'NN', 'NN', 'NN', 'MD', 'VB', 'JJ', 'CD', 'JJ', 'NN', 'JJ', 'NNS', 'NN', 'VBG', 'NN', 'VBP', 'JJ', 'NN', 'NN', 'NNS', 'NN', 'NN', 'VBN', 'JJ', 'VBG', 'NN', 'JJ', 'JJ', 'JJ', 'NN', 'NNS', 'VBP', 'NN', 'VBP', 'NN', 'NN', 'JJ', 'NN', 'NN', 'NN', 'VBP', 'NNS', 'VB', 'JJ', 'NN', 'VBG', 'NN', 'NN', 'JJ', 'NN', 'VBP', 'NN', 'RB', 'JJ', 'NN', 'VBP', 'RB', 'VBP', 'NN', 'NN', 'NN', 'VB', 'NN', 'VBP', 'JJ', 'NN', 'JJ', 'NN', 'JJ', 'JJS', 'JJ', 'NN', 'IN', 'NN', 'VBP', 'JJ', 'JJ', 'NN', 'VBP', 'NN', 'JJ', 'NN', 'NN', 'VBP', 'NN', 'NN', 'JJ', 'VB', 'NN', 'NN', 'JJ', 'NN', 'RB', 'MD', 'VB', 'VB', 'CD', 'NN', 'MD', 'DT', 'NN', 'NN', 'VBG', 'NNS', 'VBP', 'JJ', 'JJ', 'JJ', 'NN', 'NN', 'VBG', 'NN', 'VBG', 'VBG', 'JJ', 'JJ', 'NN', 'VB', 'NN', 'VBN', 'NN', 'NN', 'NN', 'VBP', 'JJ', 'NN', 'NN', 'NN', 'NN', 'NN', 'RB', 'VBP', 'JJ', 'NN', 'VBN', 'NN', 'NN', 'NN', 'NN', 'NN', 'JJ', 'NN', 'NN', 'NN', 'VBG', 'NN', 'NN', 'RB', 'NN', 'NN', 'NN', 'NN', 'VB', 'NN', 'NN', 'NN', 'NN', 'NN', 'VBG', 'NN', 'RB', 'VBZ', 'JJ', 'NN', 'IN', 'JJ', 'VBG', 'NN', 'NN', 'NN', 'NNS', 'MD', 'RB', 'VB', 'JJR', 'VBG', 'VBG', 'NN', 'NN', 'JJ', 'NN', 'NN', 'NN', 'VBP', 'VBP', 'JJ', 'WP', 'JJ', 'NN', 'NN', 'VBG', 'JJ', 'NN', 'NN', 'NN', 'NN', 'NN', 'VB', 'NN', 'NN', 'NN', 'VB', 'JJ', 'NN', 'NN', 'NNS', 'VBG', 'NN', 'NN', 'VBG', 'NN', 'NN', 'VB', 'NN', 'NN', 'NN', 'JJ', 'NN', 'JJ', 'JJ', 'NN', 'NN', 'JJ', 'VBG', 'VBG', 'NN', 'VBG', 'NN', 'JJ', 'NN', 'RB', 'VBG', 'NN', 'VBG', 'JJ', 'NN', 'JJ', 'NN', 'VBN', 'JJ', 'NN', 'NN', 'VBG', 'JJ', 'NN', 'VBP', 'JJ', 'NN', 'NN', 'JJR', 'NN', 'RB', 'NN', 'NN', 'VBG', 'JJ', 'JJ', 'NN', 'RB', 'VBD', 'VBN', 'JJR', 'NN', 'NN', 'NN', 'JJR', 'NN', 'VBN', 'JJ', 'NN', 'NNS', 'JJ', 'VBP', 'JJ', 'NN', 'NN', 'NNS', 'IN', 'VBG', 'NN', 'NN', 'NN', 'NN', 'NN', 'NN', 'VBP', 'NN', 'RB', 'IN', 'VBG', 'NN', 'RB', 'JJ', 'NN', 'VBD', 'JJ', 'NN', 'NN', 'JJ', 'NN', 'VBD', 'JJ', 'NN', 'NN', 'JJ', 'JJ', 'NN', 'NN', 'JJ', 'NN', 'VBD', 'JJ', 'NN', 'NN', 'NN', 'VBD', 'NN', 'VBN', 'VBN', 'IN', 'FW', 'NN', 'JJ', 'NN', 'VBP', 'NN', 'IN', 'VBG', 'JJ', 'JJ', 'VBP', 'JJ', 'NN', 'JJ', 'VB', 'JJ', 'NN', 'VBN', 'RB', 'RB', 'JJ', 'NN', 'RB', 'VBN', 'NN', 'VBG', 'NNS', 'NN', 'VBP', 'NN', 'NN', 'NN', 'VBG', 'JJ', 'NN', 'NN', 'VBG', 'JJ', 'NN', 'NN', 'NN', 'VB', 'NN', 'NN', 'VBD', 'VBG', 'JJ', 'JJ', 'NN', 'VBP', 'NN', 'NN', 'NN', 'JJ', 'JJ', 'NN', 'NN', 'VBD', 'NN', 'JJ', 'JJ', 'NNS', 'VBD', 'NN', 'NN', 'NN', 'JJ', 'NN', 'NN', 'RB', 'VBN', 'NN', 'NN', 'NN', 'VBD', 'NN', 'VBG', 'JJ', 'NN', 'JJ', 'NN', 'NN', 'JJ', 'JJ', 'NN', 'NN', 'NN', 'NN', 'VBD', 'JJ', 'JJ', 'NN', 'NN', 'NN', 'NN', 'NN', 'NN', 'NNP', 'JJ', 'NN', 'VBD', 'JJ', 'NN', 'NN', 'NN', 'NN', 'NN', 'VBG', 'NN', 'NN', 'VBG', 'JJ', 'NN', 'NN', 'VBD', 'NN', 'RB', 'VBD', 'VBG', 'NN', 'NN', 'NN', 'NN', 'NN', 'NN', 'NN', 'JJ', 'NN', 'NN', 'RB', 'VBD', 'JJ', 'JJ', 'NN', 'VBD', 'CD', 'CD', 'NN', 'VBN', 'RB', 'JJ', 'RB', 'NN', 'NN', 'VBP', 'JJ', 'NN', 'VBD', 'RB', 'CD', 'JJ', 'NN', 'NN', 'NN', 'NN', 'NN', 'NN', 'VBD', 'CD', 'IN', 'CD', 'NN', 'NN', 'NN', 'NN', 'NN', 'NN', 'IN', 'NN', 'CD', 'NNS', 'VBZ', 'NN', 'NN', 'VBD', 'CD', 'CD', 'RB', 'IN', 'CD', 'JJ', 'VBN', 'NN', 'NN', 'JJ', 'RB', 'JJ', 'NN', 'NN', 'VBD', 'CD', 'IN', 'CD', 'JJ', 'VBN', 'NN', 'NN', 'NN', 'NN', 'NN', 'NN', 'NN', 'NN', 'NN', 'NN', 'NN', 'VB', 'NN', 'JJ', 'CD', 'IN', 'CD', 'NN', 'VBN', 'JJ', 'NN', 'NN', 'NN', 'JJ', 'NN', 'JJ', 'NNS', 'NN', 'VBP', 'JJ', 'NNS', 'VBN', 'JJ', 'NN', 'VBP', 'NN', 'CD', 'NN', 'NN', 'VBD', 'NN', 'VBG', 'VBN', 'JJ', 'NN', 'CD', 'NN', 'NN', 'VBD', 'NNS', 'VBN', 'RB', 'NN', 'NN', 'VBD', 'JJ', 'JJ', 'NN', 'NN', 'VBP', 'RB', 'NN', 'VBD', 'RB', 'NN', 'NN', 'NN', 'JJ', 'NN', 'JJ', 'NN', 'VBP', 'JJ', 'NN', 'NN', 'VBP', 'JJ', 'VBP', 'JJ', 'NN', 'VBN', 'JJ', 'JJ', 'JJ', 'VBG', 'NN', 'NN', 'NN', 'JJ', 'RB', 'JJ', 'NN', 'JJ', 'NN', 'VBP', 'NN', 'NN', 'IN', 'JJ', 'NN', 'NN', 'NN', 'RB', 'VBP', 'IN', 'CD', 'IN', 'NN', 'RB', 'NN', 'NN', 'NN', 'RB', 'VBP', 'RP', 'CD', 'IN', 'NN', 'JJ', 'NN', 'NN', 'RB', 'VBP', 'IN', 'CD', 'IN', 'NN', 'NN', 'NN', 'NN', 'RB', 'VBP', 'IN', 'CD', 'IN', 'NN', 'JJ', 'NN', 'NN', 'RB', 'VBP', 'IN', 'CD', 'IN', 'NN', 'IN', 'VBG', 'NN', 'JJ', 'VBG', 'NN', 'NN', 'RB', 'NN', 'RB', 'JJ', 'NN', 'NN', 'NN', 'MD', 'VB', 'VB', 'NN', 'NN', 'VBD', 'NN', 'JJ', 'NN', 'JJ', 'NN', 'MD', 'VB', 'NN', 'JJ', 'NN', 'VBP', 'JJ', 'NN', 'NN', 'JJ', 'JJ', 'NN', 'NN', 'NN', 'JJ', 'NN', 'NN', 'NN', 'RB', 'JJ', 'NN', 'NN', 'NN', 'NN', 'NN', 'NN', 'RB', 'JJ', 'NN', 'NN', 'JJ', 'NN', 'JJ', 'NN', 'MD', 'VB', 'NN', 'JJ', 'NN', 'VBP', 'JJ', 'NN', 'NN', 'JJ', 'JJ', 'NN', 'NN', 'NN', 'JJ', 'NN', 'NN', 'NN', 'RB', 'JJ', 'NN', 'NN', 'NN', 'NN', 'NN', 'NN', 'RB', 'JJ', 'NN', 'NN', 'JJ', 'NN', 'IN', 'JJ', 'NN', 'NN', 'NN', 'NN', 'JJ', 'JJ', 'NN', 'VBD', 'NN', 'NN', 'JJ', 'NN', 'NN', 'NN', 'NN', 'NN', 'NN', 'JJ', 'JJ', 'NN', 'VBD', 'JJ', 'NN', 'NN', 'JJ', 'NN', 'JJ', 'JJ', 'NN', 'NN', 'NN', 'NN', 'NN', 'NN', 'NN', 'JJ', 'NNS', 'VBP', 'NN', 'JJ', 'JJ', 'NN', 'NN', 'NN', 'NN', 'JJ', 'NN', 'JJ', 'NN', 'NN', 'NN', 'JJ', 'JJ', 'NN', 'VB', 'JJ', 'NNS', 'VBP', 'JJ', 'JJ', 'NNS', 'JJ', 'JJ', 'NN', 'NN', 'NNS', 'NN', 'NN', 'NN', 'VB', 'NN', 'NN', 'VBG', 'VB', 'JJ', 'VBZ', 'NNS', 'JJ', 'JJ', 'NN', 'NN', 'NN', 'IN', 'JJ', 'NN', 'JJ', 'JJ', 'NN', 'NN', 'VBP', 'JJ', 'JJ', 'NN', 'NN', 'RB', 'RB', 'JJ', 'NN', 'VBG', 'JJ', 'VBG', 'RB', 'VBP', 'NN', 'NN', 'NN', 'NN', 'NN', 'JJ', 'RB', 'RB', 'VB', 'VBN', 'JJ', 'NN', 'JJ', 'NN', 'NN', 'VBP', 'JJ', 'NN', 'NN', 'NN', 'NN', 'VBN', 'JJR', 'NN', 'RB', 'JJ', 'JJR', 'NN', 'JJ', 'VBP', 'JJ', 'NN', 'NN', 'NN', 'NN', 'VBG', 'NN', 'NN', 'NN', 'NN', 'IN', 'JJ', 'NN', 'NN', 'RB', 'JJ', 'VB', 'NN', 'NN', 'NN', 'VBP', 'RB', 'JJ', 'NN', 'NN', 'JJ', 'NN']\n"
          ]
        }
      ]
    },
    {
      "cell_type": "markdown",
      "source": [
        "## Visualizing 'ChatGPT Part-Of-Speech Tags'"
      ],
      "metadata": {
        "id": "RW2TcPVsfphU"
      }
    },
    {
      "cell_type": "code",
      "source": [
        "tags = (pd.Series(nltk.ngrams(chatgpt_pos_tags, 1)).value_counts())"
      ],
      "metadata": {
        "id": "ddILnocBfphU"
      },
      "execution_count": 57,
      "outputs": []
    },
    {
      "cell_type": "code",
      "source": [
        "# create series of top 10\n",
        "tags_series = tags[:10]"
      ],
      "metadata": {
        "id": "9ZP1C4-ifphU"
      },
      "execution_count": 58,
      "outputs": []
    },
    {
      "cell_type": "code",
      "source": [
        "tags_series.sort_values().plot.barh(color='lightblue', width=.9, figsize=(12, 8))\n",
        "plt.title('10 Most Frequently Occuring Part-Of-Speech (CHATGPT)')\n",
        "plt.ylabel('Part-Of-Speech Tag')\n",
        "plt.xlabel('# of Occurances')"
      ],
      "metadata": {
        "colab": {
          "base_uri": "https://localhost:8080/",
          "height": 531
        },
        "outputId": "6d5a30a8-ccf0-4698-dbfc-4af51a96b878",
        "id": "tLvmUJuIfphU"
      },
      "execution_count": 59,
      "outputs": [
        {
          "output_type": "execute_result",
          "data": {
            "text/plain": [
              "Text(0.5, 0, '# of Occurances')"
            ]
          },
          "metadata": {},
          "execution_count": 59
        },
        {
          "output_type": "display_data",
          "data": {
            "text/plain": [
              "<Figure size 864x576 with 1 Axes>"
            ],
            "image/png": "[encoded data removed]"
          },
          "metadata": {
            "needs_background": "light"
          }
        }
      ]
    },
    {
      "cell_type": "markdown",
      "source": [
        "## It's SVM time"
      ],
      "metadata": {
        "id": "NXJdBLy61J6N"
      }
    },
    {
      "cell_type": "markdown",
      "source": [
        "### Data Preprocessing (POS)"
      ],
      "metadata": {
        "id": "HmjdDyX-1OdQ"
      }
    },
    {
      "cell_type": "code",
      "source": [
        "cleanedData = []\n",
        "\n",
        "lemma = WordNetLemmatizer()\n",
        "swords = stopwords.words(\"english\")\n",
        "for text in df[\"Text\"]:\n",
        "    \n",
        "    # Cleaning links\n",
        "    text = re.sub(r'http\\S+', '', text)\n",
        "    \n",
        "    # Cleaning everything except alphabetical and numerical characters\n",
        "    text = re.sub(\"[^a-zA-Z0-9]\",\" \",text)\n",
        "    \n",
        "    # Tokenizing and lemmatizing\n",
        "    text = nltk.word_tokenize(text.lower())\n",
        "    text = [lemma.lemmatize(word) for word in text]\n",
        "    \n",
        "    # Removing stopwords\n",
        "    text = [word for word in text if word not in swords]\n",
        "\n",
        "    temptxt = \"\"\n",
        "    for word in text:\n",
        "      temp = nltk.pos_tag([word])\n",
        "      # print(temp[0][1])\n",
        "      temptxt = temptxt + temp[0][1] + \" \"\n",
        "    \n",
        "    # Joining\n",
        "    text = \"\".join(temptxt)\n",
        "    \n",
        "    cleanedData.append(text)\n",
        "\n",
        "print(cleanedData)\n",
        "# for i in range(0,5):\n",
        "#     print(cleanedData[i],end=\"\\n\\n\")"
      ],
      "metadata": {
        "colab": {
          "base_uri": "https://localhost:8080/"
        },
        "outputId": "d04632ee-e315-4013-9a5d-b9444591a838",
        "id": "BpOwK9l91VF1"
      },
      "execution_count": 192,
      "outputs": [
        {
          "output_type": "stream",
          "name": "stdout",
          "text": [
            "['NN VBG NNS RB NNS NN NN NN NN NN VBN VBN NN NN NN JJ NN VBG NN RB NN JJR NN NN NN NN NN JJ NN VB JJ NN NN NN RB NN NN JJ NN JJ NN JJ NN NN VBG NNS NN RB NNS NN NN JJ NN JJ NN NN NN NN NN VBG NN NN NN JJ NN NN NN JJR NN JJR JJ NN RB NN NN JJ JJ NN NN NN JJ JJ NN NN NN VBG NNS VBN NN NN JJ NN NN VBN NN NN VBG NNS NN NN JJ NN JJR NN NN ', 'NN VBG NNS RB NN JJ NN NN VBG NNS NN VBN JJ NN NN VBG NNS NNS JJ NN IN NN NN NNS NN VBG NNS VBN JJ NN NN NN RB VB JJ NN NN ', 'JJ NN NN NNS RB NNS NN VBG VBN NN NN NN NN NN NN NN MD NN NN NN NN NN NN NN NN NN NN RB VBG NN NN RB VBN JJ NN JJ NNS NN MD NN JJ VBG NN VBG NN VB NN NN RB JJ NN RB NN NN NN MD NN JJ JJ NN NN NN NN VBG NN JJ VBG NN NNS MD NN VBG JJ NN JJ NN NN NN NN RB NN NN NN NN JJ NNS NN RB NN NN NN RB NN NN CD NN NN NN JJ NN JJ NNS JJ MD VBN NN NN NN NN NNS MD NN NN NN NN NN NNS NN NN NN NN NN NN NN NN NN NN JJ NN NN NN RB NN NN NN JJ JJ NN MD IN NN NN NNS NN ', 'MD NN NN NNS VBN JJ NN NN NN NN NN VBN CD VBN RB JJ NN NNS RB RB NN NN NN NNS VBN NN VBN CD VBN CD JJ NNS NN RB CD RB JJ NN JJ NN NN NN NN NN NN NNS VBN CD VBN JJ NN VBZ JJ NN NN NN RB NN NN NN VBN CD NN NN NN NN NN NN NN VBG NN NN NN NN NN NN MD NN VBN CD VBN NN JJ NNS NN NN VBG NN NN JJ NN NN NNS NN NN VBN JJ NN NN JJ NN ', 'NN VBN NN VB VB NN RBR NN NN NN NN NN NN RB JJS NN NN NN VB CD NN NN NN VBN NN RB RB NN NN VBN VBG JJ NN NN NN NN NN NN VBG NN NN VB NN NN RB VBN NN NN JJ NN NN ', 'JJ NN NNS NN NN VB NN VBG JJ NN NN NN NN NNS NN NN NN NN VBG NN NN ', 'NN NN NN NN NN RB CD VB NN RB JJ NN JJ NN NN NN NN JJ NN MD JJS NN VBD NN NN NN NN RB NN JJ JJ NN CD RB NN NN NN JJ NN NN VBG NN NN NN RB NN NN VB VBG CD NN NN RB VBG NN NN RB NN NN JJ NN VBG NN RB VBG NN JJ VBG NN CD VB NN JJ RB JJ VB JJ NN VB NN JJ IN NN NN NN JJ NN NN VBG NN VB VB VBG CD RB JJ NN NN NN NN NN NN NN RB VBN NN RB NN MD RB VBN NN IN NN NN NN NN NN NN CD RB VB NN IN NN NN NN JJ NN VBG RB IN NN IN NN NN IN NN NN RB VBG NN NN VBG JJ NN IN NN NN CD NN NN JJ JJ CD NN JJS NN NN NN NN NN VB RB NN NN VBG NN MD NN ', 'JJ NN NN NN RB NN NN NN RB VB NN NN NN NN NN NN NN NN JJ NN JJ NN JJ NN IN NN NN JJ JJ NN VB NN JJ NN NN VB NN NN JJ VB NN NN NN NN RB MD NN NN CD NN MD DT NN NN VBG NN NN JJ JJ VBG NN ', 'NN NN NN NN NN NN NN NN NN VBG NN JJ NNS JJ NN JJ NN NN NN VB NN NN NN NN NN NN VB NN VBG NN VBG NN NN NN VB NNS VB NN NN VB NN VB JJ NN NN VB NN VB JJ NN NN RB VBG NN NN NN VB NN NN JJ NN NN VBN DT JJ NN NN VBG NN NN VB NN VBD MD NN VB NN NN JJ NN NN MD RB VB JJ NN NNS RB NN NN NN JJ JJ NN NN NN NN VBG NN ', 'VBG NN VBG VBG NN JJ NN VB VB VBN VB NN NN NN JJ NN NN NN NN NN RB NN JJ NN VBN NN NN NN NN NN JJ NN NN NN VBG NN NN RB NN NN NN NN NN NN NN NN NN NN VBG NN RB VBZ NN NN IN JJ VBG NN NN NN NNS MD RB NN VB VBG VBG NN NN JJ NN NN NN NN NN JJ NN NN NN NN VBG JJ NN NN NN NN NN VB NN NN NN VB JJ NN NN NNS VBG NN NN VBG NN NN VB NN NN NN NN NN NN JJ NN NN JJ VBG VBG NN VBG NN JJ NN NN NN NN VBG JJ NN ', 'CD NN NN JJ NN NN NN NN NN NN NN VB NNS JJ CD NN NN JJ VB VBG NN NN CD NN JJ NN NN NN VB NN NN NNS VB NN IN NN VBG CD NN NN NN NN NN NN NN RB VBG NN NN NN NN NN NN VBG CD NN NNS NN VBN NN NN NNS NN NN VBN IN VBG NN VBG JJ VB NN NN CD NN NNS NN NN NN NN NN RB NN NN NN NNS JJ NN NN JJ NN CD NN VB NN RB VBG NN VBG NN JJS NN NN NN NN NN NN NN CD RB NN NN NN NN VBG NN NN NN NN MD VBG NN NN ', 'JJ NN VBN JJ NN NN NN VBG JJ NN VB JJ NN NN JJR NN RB NN NN NN VBG JJ JJ NN JJ VBD VBD JJR NN NN NN JJR NN VBN JJ NN NNS JJ VB JJ NN VB NNS IN VBG NN NN NN NN NN NN VB NN RB NNS VBG NN RB NN NN VBN NN NN NN NN NN VBN NN NN NN JJ JJ NN NN JJ NN VBN VBG NN NN NN VBN NN VBN VBN IN NN NN JJ NN NN NN NN VBG NN JJ NN NN NN JJ VB JJ NN VBN RB RB JJ NN RB ', 'CD NN NN NN NN NN RB RB VBN VB NN NN VBG NN IN NN IN NN NN NN IN NN DT NN NN NN NN JJ NN NN VBN NN NNS RB JJ NN JJR NN NNS VBD NN NN NN NN NN NN NN NN VBD NN NN MD JJ NN NN NN NN NN VB NN NN MD NN NN VBG NN RB NN VBG NN NN ', 'NN VB NN VBG NNS NN NN NN NN NN VBG NN NN NN NN VBG NN NN NN NN NN NN NN VBN ', 'NN JJ VBN NN RB JJ VBN JJ NN NN NN NN CD RB VBG NN NN NN CD NN VBN JJ NN NN NN NN IN VBG NN VBN NN CD NN NN JJ NN NN NN VBN NN IN NN NN VBD VBG NN WP$ NN VBN NN VBG IN JJ NN NN NN MD NN NN NN NN VBN VBG NN NN NN JJ VBG NN ', 'VBG NN NN NN NN NN NN NN NN NN NN NN NN NN JJ JJ NNS NN NN NN NN NN NN NN RB VBN NN NN NN JJ NN VBG JJ NN JJ NN NN NN NN NN NN NN NN VBN NN JJ NN NN NN NN NN NN NN NN NN VBN NN NN NN NN NN NN VBG NN NN VBG NN NN NN NN NN RB JJ VBG NN NN NN NN NN NN NN NN NN NN RB VBN NN NN NN NN NNS NNS ', 'NN NN NN RB NN NN CD NN JJ NN VBN VBN NN NN VBD NN VBN NN NN NNS NN VBN NN VBN NN NN NN NN CD NN JJ NN NN JJ NN RB NN RB MD NN NNS IN NN NN NN NN RB RB NN NN CD NN JJ NN VBG NN NN NN NN NN CD NN RB NNS NN NN JJ NN VBN NN VB NN VBD CD NN NN CD NN NNS NN JJ NN NNS CD CD NN NN JJ VB JJ NN NN RB NN NN JJ NN RB NNS JJ RB ', 'NN VBN RB JJ RB NN NN NN NN NN NN VBN RB CD JJ NN NN NN NN NN NN NN VBN CD IN CD NN NN NN NN NN NN NN NN CD NNS NNS NN NN VBN CD CD RB IN CD JJ VBN NN NN NN NN NN NN NN VBN CD IN CD JJ VBN NN NN NN NN NN NN NN NN NN NN NN NN NN NN VBN CD CD IN CD NN NN VBN NN NN NN NN ', 'CD CD NN NN NNS NN JJ NNS NN NN NN RB NN NN MD VBG NN NN NN NN NN JJ NNS RB NN NN VBG NN RB JJ MD NN NN VBG JJ NN NN NN NNS NN NN NN NN NN VB RB NN NN JJ NN IN NN NN NN NN NN NN NN JJ NN NN JJ NN NN NN JJ NN NN NN JJ NNS JJ NN VBN CD NN RB NNS JJ NN VBG DT NN NN VB NNS IN NN VBG RB JJR NN DT JJ NN VB NN NN JJ RB VBG NN NN NN NN NN RB JJ NN VBG NN NN NN VB NN NN RB NN NN NNS VB NN RB NN NN NN JJ MD VBG NN NN NN JJ NN NN NN NNS JJ MD VBG NN NN NN RB NN NN VBZ RB JJ NN VBN IN VBG JJ NN CD NN ', 'JJ NN NN NNS NN NN JJ NNS VBN NN NN NN NN CD NN NN NN NN VBG VBN NN NN CD NN NN VBN VBN RB NN NN JJ NN JJ NN NN NN RB NN NN NN RB NN NN NN JJ NN JJ NN NN JJ NN NN NN NN VB VBG NN NN NN JJ JJ ', 'NN NN NN NN NN NN NN NN JJ NN VBG NN NN NN RB RB NN NN NN NN NN NN NN NN NN NN NN NN NN NN NN NN VBD RB NNS NN NN NN RB CD NN NN VB NN NN NN NN NN RB JJ NN NN NN NNS NN MD NN VBG JJS NN NN RB NN VBG JJS NN RB NN NN NN CD NN NN VB NN NN CD IN NN IN NN VB NN CD CD VB NN JJ NN NN CD NN VBG NN NN NN CD CD NN VBG JJ NN NN NN NN NN NN NN NN NN JJ NN NN NN VBD JJ NN NN VBD NN NN NN VBG MD NN NN RB VBG VB NN NN VB NN NN NN NN NN VBD NN NN NN ', 'VBG NNS NN NN JJ RB NN NN JJ NN NN NN NN NN JJ NN NN NN RB VB IN CD CD IN NN NN NN NN NN RB VB IN CD CD IN NN JJ NN NN RB VB IN CD CD IN NN NN NN NN RB VB IN CD CD IN NN JJ NN NN RB VB IN CD CD IN NN NN VBG NN NN VBG NN NN RB NN RB JJ NN NN NN MD NN NN NN NN NN NN ', 'RB NN VB NN JJ RB NN JJ NN NN NN JJ NNS NN NN NN VB JJ JJ JJ VBG VB NN NN VB VBN JJ NN VBG CD NN NN NN VBG CD NN CD NN CD NN NN NN CD NN NN NN VB JJ CD NN JJ NN CD NN MD RB NN NN VBG JJ NN VBG RB NN NN NN JJ VB NN RBR NN NN NN NN NN NN NN NN RB NN NN NN VB CD VB CD NN NN CD VBN NN NN CD NNS CD NN NN CD NN NN CD NN NN VB NN NN JJS NN VB NN NN NN NN NN CD NNS NN CD NN NN JJ NN VB CD CD NN NN VB VB NN NN CD NN CD NN IN NN IN NN IN NN ', 'JJ NN JJ NN MD RB NN JJ NN NN NN NN NN JJ JJ NN NN NN JJ NN NN NN RB JJ NN NN NN NN NN NN RB NN NN NN ', 'RB JJ VBN VBG NN NN RB VB NN JJ NN NN NN VB NNS NN NN NN VB NN NN NN NN NN VBN NN NN NN JJR JJ NN JJ NN VBG NN VBG NN NN NN NN NN VB NN NNS VBG NNS NN NN JJ NN NN VBG NN NN NN VBG NN VBN VBG RB NN JJ IN NN NN NN NN NN NN NN NN NN VBN IN CD NN NN JJ RB CD NN NN RB JJ VBG NN NN NN RB NN NNS RB NN NN NN NN VBN CD CD CD NN JJ NN RBR NNS NN CD CD NN VB JJ NN NN NN VBD JJR JJ NNS VBN VBG NN NN CD JJ NN VBN NN JJR NN RB MD VB CD CD NN NN NN VBG CD CD CD NN NN NN VB CD CD NN NN VBG CD CD NN RB JJ RB JJ JJR NN NN RB NNS VB NN NN VBG NN NN NN NN NN RB NN NN NN NN NN IN CD NN VBN CD CD IN NN NN CD NN VBN CD NN NN NN NN NN NN VBD NN NN JJ NN JJ NN NN JJ NN NN VBG NN NN NN NN NN CD CD NN NN CD CD NN NN CD CD NN CD CD NN CD CD NN CD NN NN CD NN NN CD NN CD CD VB JJ NN CD CD CD VBD NN NN NN JJ NN VB NN NN JJ NN NN RB NN NN NN NN RB NNS NN NN NN NN CD NN RB NN NNS NN NN NN NN NN JJ NN RB NN JJ NN NN NN JJ NN NN CD NN CD JJS NN NN NN IN NN VB JJR NN NN NN NN NN IN NN NN NN NNS NN NN IN NN NN NN JJ NN NN VBD RB CD CD VBD NN NN CD NN NN ', 'JJ NN JJ NN MD RB NN JJ NN NN NN NN NN JJ JJ NN NN NN JJ NN NN NN RB JJ NN NN NN NN NN NN RB NN NN NN ', 'NN NN NN JJ NN NN NN NN JJ JJ NN JJ NN RB NN NN NN NNS NN VBN VBG NN NN IN NN NN VBG NN RB VBN NNS NN DT NN NN NN NN JJ JJ NN NN JJ NN NNS VB NNS JJ VBG NN NN VB MD JJ VBG NN JJ NN NN JJ NN JJ NN RB VB VBG JJ NN NN NN RB VBN NNS JJ NN JJ NN NN NN NN NN ', 'JJ NN NN JJ NN NN NN NN JJ JJ NN VBN NN NN JJ NN NN NN NN NN NN JJ JJ NN VBN NN NN NN NN NN JJ JJ NN NN NN NN NN NN NN JJ NNS NN NN JJ JJ NN NN NN NN JJ NN NN NN NN NN JJ JJ NN VB JJ NNS NN VB JJ NNS JJ JJ NN NN NNS NN NN NN VB NN NN NN VB NN VBZ NNS JJ JJ NN NN NN IN JJ NN JJ JJ NN NN NN JJ VBG NN NN RB RB NN NN VBG NN ', 'NN NN NN NN JJ NN NN NN NN RB NNS NN JJ NN RB VBD RB NN VBD CD CD VBD RB JJ NN RB VBG JJ NN RB JJ NN VBD RB NN VBN NN JJ JJ NN VBN NN RB VBD RB NN JJ NN JJ NN RB JJ NN NN NN NN JJ NN MD NN NN NN NN JJ NN RB NN JJ NN NN RB NN NN NN JJ NN NN NN NN RB NN RB NN NN IN NN NN NN JJR NN JJ NN NN NN NN NN IN CD NN NN VBN RB NN NN NN NN NN VBN NN CD NN VBN RBR IN NN NN JJ NN NN NN RB NN NN NN VBN NN ', 'VBG RB NN NN NN NN NN NN RB VB RB NN VBN JJ NN JJ NN NN NN JJ NN NN NN NN VBN NN NN RB JJ JJR NN JJ VB JJ NN NN NN NN VBG NN NN NN NN IN JJ NN NN RB JJ VB NN NN NN VB RB NN NN NN NN NN ']\n"
          ]
        }
      ]
    },
    {
      "cell_type": "code",
      "source": [
        "left wing politics typically involves support policy prioritize need welfare marginalized oppressed group worker minority poor left wing ideology often advocate greater government intervention economy progressive taxation social program ensure equal distribution wealth opportunity also tend supportive environmental protection civil liberty international cooperation right wing politics hand generally prioritizes need interest traditional societal economic elite business owner wealthy right wing ideology tend advocate limited government intervention economy lower tax smaller social program also tend supportive strong national defense law order traditional social value summary left wing politics characterized emphasis equality social justice protection marginalized group right wing politics focus tradition personal responsibility smaller role government\n",
        "\n",
        "left wing politics often focus social equality right wing politics comparison motivated social hierarchy left wing politics encompasses liberal idea like right equality whereas right leaning politics motivated nationalistic idea tradition duty generally follow conservative school thought\n",
        "\n",
        "many sub field economics really depends keen getting started wish understand mainstream economist study human behavior could try logic life tim harford armchair economist steven e landsburg already understanding rationality paradigm typically employed economic analysis behavioural economics book might offer new contrasting insight thinking fast slow daniel kahneman predictably irrational dan ariely nudge richard thaler ca sunstein interested economic history wish delve deeper pioneering idea advanced founding father economics would recommend following new idea dead economist todd g buchholz worldly philosopher robert l heilbroner interested economics inequality specifically income wealth distribution certainly pick capital 21st century thomas piketty curious country rich others poor could done tackle poverty e development economics could turn nation fail daron acemoglu james robinson gun germ steel jared diamond end poverty jeffrey sachs white man burden william easterly list book offer exhaustive good start would like pick quality economics book\n",
        "\n",
        "must read book economics considered classic field wealth nation adam smith published 1776 considered first modern work economics still widely read today principle economics alfred marshall published 1890 considered one influential economics text late 19th early 20th century general theory employment interest money john maynard keynes published 1936 revolutionized macroeconomic thought continues influential today capital twenty first century thomas piketty published 2014 comprehensive study income wealth inequality cause nudge improving decision health wealth happiness richard thaler ca sunstein published 2008 popularized concept behavioral economics implication policy making book provide broad overview field economics evolution time considered essential reading anyone interested subject\n",
        "\n",
        "money started business say make world better place solve customer problem reality money easily biggest driver plenty evidence give one ha businessperson history sold business enough comfortably retire choice carried working full time business passionate problem business wa solving passion business go instant longer financially rewarded action speak much louder word\n"
      ],
      "metadata": {
        "id": "3CrqOexJ4cc1"
      },
      "execution_count": null,
      "outputs": []
    },
    {
      "cell_type": "code",
      "source": [
        "vectorizer = CountVectorizer(max_features=10000)\n",
        "BOW = vectorizer.fit_transform(cleanedData)"
      ],
      "metadata": {
        "id": "dD-2ABNV1VF1"
      },
      "execution_count": 193,
      "outputs": []
    },
    {
      "cell_type": "code",
      "source": [
        "from sklearn.model_selection import train_test_split\n",
        "x_train,x_test,y_train,y_test = train_test_split(BOW,np.asarray(df[\"Class\"]))\n",
        "\n",
        "print(x_train.shape)\n",
        "print(x_test.shape)\n",
        "print(y_train.shape)\n",
        "print(y_test.shape)"
      ],
      "metadata": {
        "colab": {
          "base_uri": "https://localhost:8080/"
        },
        "outputId": "e7095819-22f0-43cd-b809-0a264b1a495f",
        "id": "wIvYm1Ot1VF1"
      },
      "execution_count": 194,
      "outputs": [
        {
          "output_type": "stream",
          "name": "stdout",
          "text": [
            "(22, 17)\n",
            "(8, 17)\n",
            "(22,)\n",
            "(8,)\n"
          ]
        }
      ]
    },
    {
      "cell_type": "code",
      "source": [
        "from sklearn.svm import SVC\n",
        "start_time = time.time()\n",
        "\n",
        "model = SVC( verbose=True)\n",
        "model.fit(x_train,y_train)\n",
        "\n",
        "end_time = time.time()\n",
        "process_time = round(end_time-start_time,2)\n",
        "print(\"Fitting SVC took {} seconds\".format(process_time))"
      ],
      "metadata": {
        "colab": {
          "base_uri": "https://localhost:8080/"
        },
        "outputId": "e49d29c0-92d3-4100-9b69-0f5c3f91864d",
        "id": "2iiAQKBr1VF1"
      },
      "execution_count": 195,
      "outputs": [
        {
          "output_type": "stream",
          "name": "stdout",
          "text": [
            "[LibSVM]Fitting SVC took 0.01 seconds\n"
          ]
        }
      ]
    },
    {
      "cell_type": "code",
      "source": [
        "predictions = model.predict(x_test)"
      ],
      "metadata": {
        "id": "QNYCzHLG1VF2"
      },
      "execution_count": 196,
      "outputs": []
    },
    {
      "cell_type": "code",
      "source": [
        "training_predictions= model.predict(x_train)"
      ],
      "metadata": {
        "id": "gKDUrZGR1VF2"
      },
      "execution_count": 197,
      "outputs": []
    },
    {
      "cell_type": "code",
      "source": [
        "from sklearn.metrics import accuracy_score,confusion_matrix,recall_score,precision_score\n",
        "from sklearn.metrics import classification_report\n",
        "from sklearn.metrics import f1_score\n",
        "\n",
        "print(\"Accuracy of model is {}%\".format(accuracy_score(y_train,training_predictions) * 100))\n",
        "print(\"Accuracy of model is {}%\".format(accuracy_score(y_test,predictions) * 100))\n",
        "print(\"Precision of model is {}%\".format(precision_score(y_test,predictions) * 100))\n",
        "print(\"recall of model is {}%\".format(recall_score(y_test,predictions) ))\n",
        "print(\"f1 of model is {}%\".format(f1_score(y_test,predictions) ))\n",
        "print((confusion_matrix(y_test,predictions) ))"
      ],
      "metadata": {
        "colab": {
          "base_uri": "https://localhost:8080/"
        },
        "outputId": "1391ca6f-51c7-484d-b56b-41244f941a90",
        "id": "_yb-iY3H1VF2"
      },
      "execution_count": 198,
      "outputs": [
        {
          "output_type": "stream",
          "name": "stdout",
          "text": [
            "Accuracy of model is 77.27272727272727%\n",
            "Accuracy of model is 62.5%\n",
            "Precision of model is 100.0%\n",
            "recall of model is 0.4%\n",
            "f1 of model is 0.5714285714285715%\n",
            "[[3 0]\n",
            " [3 2]]\n"
          ]
        }
      ]
    },
    {
      "cell_type": "code",
      "source": [
        "import matplotlib.pyplot as plt\n",
        "from sklearn.datasets import make_classification\n",
        "from sklearn.metrics import confusion_matrix, ConfusionMatrixDisplay\n",
        "\n",
        "cm = confusion_matrix(y_test, predictions, labels=df.Class)\n",
        "ConfusionMatrixDisplay.from_predictions(y_test,predictions)\n"
      ],
      "metadata": {
        "colab": {
          "base_uri": "https://localhost:8080/",
          "height": 301
        },
        "outputId": "9477ee19-260b-4588-912a-187b7210c1c3",
        "id": "1xtJjRIz1VF2"
      },
      "execution_count": 199,
      "outputs": [
        {
          "output_type": "execute_result",
          "data": {
            "text/plain": [
              "<sklearn.metrics._plot.confusion_matrix.ConfusionMatrixDisplay at 0x7f02f3766df0>"
            ]
          },
          "metadata": {},
          "execution_count": 199
        },
        {
          "output_type": "display_data",
          "data": {
            "text/plain": [
              "<Figure size 432x288 with 2 Axes>"
            ],
            "image/png": "[encoded data removed]"
          },
          "metadata": {
            "needs_background": "light"
          }
        }
      ]
    },
    {
      "cell_type": "code",
      "source": [
        "from sklearn.metrics import roc_curve\n",
        "from sklearn.metrics import RocCurveDisplay\n",
        "RocCurveDisplay.from_estimator(model, x_test, y_test)\n",
        "RocCurveDisplay.from_predictions(y_test, predictions)"
      ],
      "metadata": {
        "colab": {
          "base_uri": "https://localhost:8080/",
          "height": 559
        },
        "outputId": "5882b1b0-33af-48bd-b4b7-f9eeeb995f6a",
        "id": "KsTgisNk1VF2"
      },
      "execution_count": 200,
      "outputs": [
        {
          "output_type": "execute_result",
          "data": {
            "text/plain": [
              "<sklearn.metrics._plot.roc_curve.RocCurveDisplay at 0x7f02f37880d0>"
            ]
          },
          "metadata": {},
          "execution_count": 200
        },
        {
          "output_type": "display_data",
          "data": {
            "text/plain": [
              "<Figure size 432x288 with 1 Axes>"
            ],
            "image/png": "[encoded data removed]"
          },
          "metadata": {
            "needs_background": "light"
          }
        },
        {
          "output_type": "display_data",
          "data": {
            "text/plain": [
              "<Figure size 432x288 with 1 Axes>"
            ],
            "image/png": "[encoded data removed]"
          },
          "metadata": {
            "needs_background": "light"
          }
        }
      ]
    },
    {
      "cell_type": "markdown",
      "source": [
        "# WordNet to Roget's Thesaurus"
      ],
      "metadata": {
        "id": "TOQSHhUkgdbb"
      }
    },
    {
      "cell_type": "code",
      "source": [
        "# clone https://github.com/evanmiltenburg/roget.git\n",
        "! git clone https://github.com/evanmiltenburg/roget.git"
      ],
      "metadata": {
        "colab": {
          "base_uri": "https://localhost:8080/"
        },
        "id": "DCQVXmKqgguF",
        "outputId": "71533250-505b-49c4-f11c-594501819177"
      },
      "execution_count": 60,
      "outputs": [
        {
          "output_type": "stream",
          "name": "stdout",
          "text": [
            "Cloning into 'roget'...\n",
            "remote: Enumerating objects: 1051, done.\u001b[K\n",
            "remote: Total 1051 (delta 0), reused 0 (delta 0), pack-reused 1051\u001b[K\n",
            "Receiving objects: 100% (1051/1051), 861.47 KiB | 6.15 MiB/s, done.\n",
            "Resolving deltas: 100% (21/21), done.\n"
          ]
        }
      ]
    },
    {
      "cell_type": "code",
      "source": [
        "%cd /content/"
      ],
      "metadata": {
        "colab": {
          "base_uri": "https://localhost:8080/"
        },
        "id": "jCn-IM0bhFsN",
        "outputId": "b99c692d-1f24-45aa-8f06-adaa913860e4"
      },
      "execution_count": 114,
      "outputs": [
        {
          "output_type": "stream",
          "name": "stdout",
          "text": [
            "/content\n"
          ]
        }
      ]
    },
    {
      "cell_type": "code",
      "source": [
        "print(human_words)"
      ],
      "metadata": {
        "colab": {
          "base_uri": "https://localhost:8080/"
        },
        "id": "O9uPDhDs1-zs",
        "outputId": "57208ac5-2b94-48fe-f218-8ee9ce33be8e"
      },
      "execution_count": 109,
      "outputs": [
        {
          "output_type": "stream",
          "name": "stdout",
          "text": [
            "['left', 'wing', 'politics', 'often', 'focus', 'social', 'equality', 'right', 'wing', 'politics', 'comparison', 'motivated', 'social', 'hierarchy', 'left', 'wing', 'politics', 'encompasses', 'liberal', 'idea', 'like', 'right', 'equality', 'whereas', 'right', 'leaning', 'politics', 'motivated', 'nationalistic', 'idea', 'tradition', 'duty', 'generally', 'follow', 'conservative', 'school', 'thought', 'many', 'subfields', 'economics', 'really', 'depends', 'keen', 'getting', 'started', 'wish', 'understand', 'mainstream', 'economist', 'study', 'human', 'behavior', 'could', 'try', 'logic', 'life', 'tim', 'harford', 'armchair', 'economist', 'steven', 'e', 'landsburg', 'already', 'understanding', 'rationality', 'paradigm', 'typically', 'employed', 'economic', 'analysis', 'behavioural', 'economics', 'book', 'might', 'offer', 'new', 'contrasting', 'insight', 'thinking', 'fast', 'slow', 'daniel', 'kahneman', 'predictably', 'irrational', 'dan', 'ariely', 'nudge', 'richard', 'thaler', 'ca', 'sunstein', 'interested', 'economic', 'history', 'wish', 'delve', 'deeper', 'pioneering', 'idea', 'advanced', 'founding', 'father', 'economics', 'would', 'recommend', 'following', 'new', 'idea', 'dead', 'economist', 'todd', 'g', 'buchholz', 'worldly', 'philosopher', 'robert', 'l', 'heilbroner', 'interested', 'economics', 'inequality', 'specifically', 'income', 'wealth', 'distribution', 'certainly', 'pick', 'capital', '21st', 'century', 'thomas', 'piketty', 'curious', 'country', 'rich', 'others', 'poor', 'could', 'done', 'tackle', 'poverty', 'ie', 'development', 'economics', 'could', 'turn', 'nation', 'fail', 'daron', 'acemoglu', 'james', 'robinson', 'gun', 'germ', 'steel', 'jared', 'diamond', 'end', 'poverty', 'jeffrey', 'sachs', 'white', 'man', 'burden', 'william', 'easterly', 'list', 'book', 'offer', 'exhaustive', 'good', 'start', 'would', 'like', 'pick', 'quality', 'economics', 'book', 'money', 'started', 'business', 'say', 'make', 'world', 'better', 'place', 'solve', 'customer', 'problem', 'reality', 'money', 'easily', 'biggest', 'driver', 'plenty', 'evidence', 'ill', 'give', 'one', 'businessperson', 'history', 'sold', 'business', 'enough', 'comfortably', 'retire', 'choice', 'carried', 'working', 'fulltime', 'business', 'passionate', 'problem', 'business', 'solving', 'passion', 'business', 'go', 'instant', 'theyre', 'longer', 'financially', 'rewarded', 'action', 'speak', 'much', 'louder', 'word', 'stuck', 'love', 'love', 'sign', 'someone', 'really', '1', 'remember', 'everything', 'even', 'small', 'detail', 'big', 'sign', 'someone', 'love', 'pick', 'small', 'detail', 'might', 'latest', 'haircut', 'got', 'subtle', 'change', 'mood', 'day', 'even', 'something', 'small', 'new', 'outfit', '2', 'always', 'vent', 'someone', 'doesnt', 'love', 'wont', 'interested', 'spending', 'time', 'listening', 'problem', 'priority', 'love', 'instead', 'want', 'something', 'see', 'struggling', '3', 'acknowledge', 'difference', 'instead', 'trying', 'change', 'someone', 'really', 'love', 'accept', 'individual', 'idea', 'feeling', 'part', 'generally', 'speaking', 'youll', 'feel', 'comfortable', 'agreeing', 'disagree', '4', 'make', 'feel', 'special', 'theyll', 'always', 'willing', 'go', 'extra', 'mile', 'make', 'feel', 'special', 'whether', 'surprising', 'gift', 'planning', 'special', 'date', 'night', 'calling', 'blue', 'let', 'know', 'thinking', '5', 'even', 'normal', 'mundane', 'activity', 'fun', 'someone', 'love', 'spending', 'time', 'always', 'considered', 'fun', 'even', 'activity', 'might', 'normally', 'considered', 'boring', 'like', 'chore', 'grocery', 'shopping', 'turn', 'adventure', 'love', '6', 'never', 'go', 'day', 'without', 'hearing', 'someone', 'love', 'wont', 'able', 'stand', 'going', 'long', 'without', 'hearing', 'whether', 'hearing', 'voice', 'via', 'phone', 'call', 'even', 'checking', 'quick', 'text', 'wont', 'going', 'entire', 'day', 'without', 'hearing', 'form', '7', 'tell', 'love', 'likely', 'obvious', 'one', 'absolute', 'biggest', 'sign', 'someone', 'love', 'tell', 'love', 'youll', 'know', 'theyre', 'sincere', 'action', 'match', 'theyre', 'telling', 'hope', 'could', 'helpful', 'careful', 'shoot', 'foot', 'want', 'quit', 'job', 'start', 'business', 'start', 'sharing', 'idea', 'many', 'people', 'possible', 'search', 'potential', 'user', 'product', 'service', 'find', 'business', 'coach', 'investor', 'mentor', 'talk', 'listen', 'say', 'avoid', 'getting', 'defensive', 'getting', 'feedback', 'business', 'idea', 'let', 'people', 'say', 'everything', 'want', 'say', 'interrupt', 'make', 'big', 'effort', 'help', 'know', 'youre', 'hearing', 'expect', 'golden', 'opportunity', 'listen', 'carefully', 'theyre', 'saying', 'try', 'sell', 'idea', 'remember', 'convincing', 'lead', 'many', 'sale', 'today', 'excited', 'every', 'entrepreneurial', 'hormone', 'body', 'racing', 'vein', 'eager', 'take', 'action', 'warned', 'must', 'learn', 'get', 'emotion', 'control', 'emotional', 'process', 'passion', 'may', 'easily', 'take', 'rational', 'thought', 'happens', 'easily', 'sell', 'business', 'idea', 'next', 'big', 'thing', 'shoot', 'foot', 'avoid', 'selling', 'idea', '1', 'want', 'end', 'bad', 'date', 'stare', 'hairline', 'someone', 'head', 'dont', 'want', 'listen', 'make', 'people', 'uncomfortable', '2', 'want', 'lie', 'believable', 'add', 'embarrassing', 'detail', 'story', '3', 'want', 'open', 'door', 'growth', 'conversation', 'dont', 'say', 'okay', 'someone', 'apologizes', 'say', 'something', 'like', 'thank', 'apologizing', '4', 'want', 'someone', 'trait', 'thank', 'someone', 'trait', 'want', 'instead', 'telling', 'friend', 'sorry', 'wait', 'tell', 'thank', 'patience', 'understanding', '5', 'want', 'people', 'feel', 'needed', 'need', 'help', 'people', 'want', 'feel', 'needed', 'like', 'making', 'difference', 'expressing', 'much', 'make', 'difference', 'world', '6', 'want', 'people', 'agree', 'task', 'start', 'something', 'simpler', 'first', 'footinthedoor', 'phenomenon', 'people', 'likely', 'agree', 'task', 'gradual', 'commitment', '7', 'dont', 'want', 'lose', 'friend', 'never', 'arguing', 'text', 'arguing', 'text', 'worst', 'way', 'argue', 'lack', 'tone', 'decrease', 'meaning', 'word', '8', 'really', 'need', 'calm', 'eat', 'something', 'youre', 'eating', 'something', 'brain', 'trip', 'reason', 'would', 'eating', 'danger', 'im', 'danger', 'one', 'thing', 'sphincter', 'junction', 'esophagus', 'stomach', 'thats', 'normally', 'tightly', 'constricted', 'keep', 'stomach', 'content', 'reentering', 'esophagus', 'except', 'case', 'like', 'gerd', 'here', 'sphincter', 'look', 'like', 'endoscopy', 'another', 'esophagus', 'doesnt', 'enter', 'stomach', 'top', 'upper', 'dome', 'stomach', 'called', 'fundus', 'encloses', 'fairly', 'substantial', 'space', 'higher', 'esophagus', 'people', 'took', 'drink', 'ate', 'bit', 'food', 'stood', 'head', 'stomach', 'content', 'fell', 'force', 'gravity', 'would', 'likely', 'fall', 'space', 'esophagus', 'here', 'upsidedown', 'stomach', 'see', 'food', 'drink', 'would', 'fall', 'person', 'standing', 'head', 'especially', 'sphincter', 'blocking', 'way', 'esophagus', 'opinion', 'japanese', 'committed', 'atrocity', 'even', 'heinous', 'committed', 'german', 'nazi', 'world', 'war', 'ii', 'one', 'particularly', 'disturbing', 'example', 'unit', '731', 'unit', 'conducted', 'wide', 'range', 'inhumane', 'experiment', 'prisoner', 'among', 'horrifying', 'practice', 'carried', 'unit', '731', 'vivisection', 'surgical', 'examination', 'living', 'body', 'performed', 'prisoner', 'without', 'use', 'anesthesia', 'included', 'experimenting', 'child', 'whose', 'parent', 'deemed', 'spy', 'reasoning', 'behind', 'monstrous', 'practice', 'anesthesia', 'could', 'alter', 'behavior', 'organ', 'vessel', 'studied', 'chilling', 'reminder', 'darkness', 'human', 'capable', 'unleashing', 'fellow', 'being', 'congenital', 'aganglionic', 'megacolon', 'simply', 'hirschsprung', 'disease', '29yearold', 'man', 'owned', 'dissected', 'colon', 'picture', 'died', 'called', 'balloon', 'man', 'abdomen', 'distended', 'made', 'perform', 'freak', 'show', '20', 'year', 'old', 'cell', 'colon', 'large', 'intestine', 'properly', 'developed', 'therefore', 'could', 'move', 'feces', 'along', 'child', 'balloon', 'man', 'reasonably', 'well', 'time', '16', 'year', 'old', 'going', 'month', 'defecate', 'born', '1865', 'doctor', 'already', 'knew', 'tumor', 'defective', 'colon', 'plagued', 'man', 'know', 'help', 'died', '29', 'year', 'found', '40', 'pound', 'feces', 'colon', 'intestinal', 'defect', 'occurs', 'one', '5000', 'child', 'today', 'possible', 'remove', 'defective', 'part', 'intestine', 'shortly', 'birth', 'sew', 'good', 'part', 'together', 'people', 'live', 'normally', 'one', 'one', 'difference', 'mindset', 'exists', 'group', 'rich', 'people', 'think', 'doesnt', 'work', 'fall', 'back', 'resource', 'resource', 'may', 'saving', 'account', 'retirement', 'fund', 'wealthy', 'parent', 'rich', 'people', 'often', 'loathe', 'idea', 'using', 'resource', 'theyre', 'infinitely', 'replenishable', 'may', 'stigma', 'shame', 'tapping', 'certain', 'family', 'community', 'fact', 'remains', 'business', 'venture', 'career', 'plan', 'relationship', 'go', 'bellyup', 'way', 'avoid', 'catastrophic', 'result', 'like', 'starvation', 'homelessness', 'famine', 'ivan', 'vladimirov', 'public', 'domain', 'poor', 'none', 'tend', 'much', 'riskaverse', 'consequence', 'rich', 'person', 'fallback', 'poor', 'people', 'large', 'depth', 'loved', 'one', 'coffer', 'directly', 'determines', 'much', 'risk', 'taking', 'every', 'life', 'decision', 'make', 'people', 'without', 'fallback', 'taking', 'significantly', 'bigger', 'risk', 'every', 'single', 'time', 'make', 'decision', 'extreme', 'poor', 'often', 'facing', 'prison', 'lifelong', 'indigence', 'wealthy', 'face', 'mere', 'social', 'embarrassment', 'performing', 'exact', 'action', 'money', 'buy', 'safety', 'form', 'directly', 'impact', 'decision', 'people', 'make', 'life', 'rightly', 'wealthy', 'riskaverse', 'poor', 'would', 'squandering', 'opportunity', 'handful', 'contrast', 'poor', 'risk', 'tolerant', 'wealthy', 'people', 'many', 'would', 'starving', 'street', 'mindset', 'difference', 'unfortunately', 'mindset', 'difference', 'reflects', 'genuinely', 'different', 'circumstance', 'cant', 'corrected', 'without', 'changing', 'economic', 'reality', 'one', 'group', 'teacher', 'head', 'government', 'agree', 'teacher', 'deserve', 'head', 'government', 'controversial', 'btw', 'im', 'using', 'term', 'head', 'government', 'loosely', 'really', 'mean', 'mac', 'daddy', 'country', 'ok', 'left', 'credit', 'suisse', 'paid', 'multiple', 'tony', 'blair', 'uk', 'prime', 'minister', 'got', 'absolutely', 'bonkers', 'insane', 'vice', 'president', 'late', '20', 'investment', 'bank', 'get', 'paid', 'multiple', 'uk', 'prime', 'minister', 'relatively', 'low', 'pay', 'prime', 'minister', 'encourages', 'corruption', 'could', 'mean', 'getting', 'best', 'person', 'job', 'absolutely', 'contradiction', 'wanting', 'best', 'family', 'well', 'country', 'fact', 'today', 'isnt', 'one', 'head', 'government', 'get', 'paid', 'us600k', 'per', 'annum', 'except', 'singapore', 'get', 'us22m', 'give', 'perspective', 'average', 'pay', 'ceo', '500', 'revenue', 'generating', 'company', 'u', 'us11m1', 'singapore', 'founding', 'former', 'prime', 'minister', 'lee', 'kuan', 'yew', 'man', 'put', 'place', 'policy', 'high', 'pay', 'government', 'official', 'gave', 'massive', 'pay', 'rise', 'helped', 'clamp', 'corruption', 'minister', 'including', 'could', 'focus', 'work', 'rather', 'trying', 'make', 'corrupt', 'money', 'see', 'asia', 'singapore', 'country', 'world', 'got', 'minister', 'pay', 'right', 'enough', 'money', 'buy', 'food', 'poor', 'actually', 'work', 'many', 'work', 'multiple', 'job', 'bad', 'politics', 'country', 'society', 'built', 'keep', 'poor', 'low', 'possible', 'continuing', 'expect', 'build', 'fortune', 'keep', 'oppressed', 'poor', 'guy', 'working', '9hour', 'wife', 'work', 'making', '8hour', '2', 'child', '2', 'tax', 'bring', 'home', '2100', 'month', 'cheapest', 'apartment', 'find', 'small', '2', 'bedroom', 'bad', 'area', '1200mo', 'could', 'barely', 'afford', 'working', 'different', 'company', 'making', 'significantly', 'company', 'shut', 'pandemic', 'able', 'get', 'something', 'better', 'rent', 'utility', 'car', 'payment', 'gas', 'insurance', 'kid', 'expense', 'simply', 'nothing', 'left', 'problem', 'make', '2100', 'qualify', '100', 'food', 'stamp', 'one', 'hundred', 'dollar', 'feed', '4', 'people', '3', 'meal', 'day', '30', 'day', 'fair', '2', 'child', 'school', 'get', 'lunch', 'school', 'youngest', 'preschool', 'get', 'lunch', 'part', 'cost', 'daycare', 'provide', '4', 'people', 'food', '300', 'meal', 'month', 'great', 'math', 'come', '033mealperson', 'let', 'see', 'fed', 'family', '4', 'thirty', 'three', 'cent', 'per', 'person', 'per', 'meal', 'per', 'day', 'really', 'important', 'given', 'increasing', 'interest', 'rate', 'firstly', 'let', 'start', 'basic', 'think', 'something', 'bank', 'give', 'people', 'interest', 'rate', 'money', 'make', 'money', 'deposit', 'pocket', 'profit', 'country', 'fixed', 'return', 'investment', 'pay', 'higher', 'normal', 'rate', 'possible', 'bank', 'making', 'profit', 'investing', 'project', 'financing', 'project', 'course', 'bank', 'make', 'money', 'people', 'saving', 'depends', 'country', 'regulation', 'many', 'thing', 'point', 'saving', 'money', 'bank', 'losing', 'game', 'compared', 'investing', 'forever', 'le', 'volatile', 'per', 'graph', 'show', 'volatility', 'stock', 'lessor', 'extent', 'bond', 'thing', 'changed', 'since', '2008', 'interest', 'rate', 'low', 'even', '0', 'developed', 'country', 'even', 'many', 'developing', 'country', 'interest', 'rate', 'consistently', 'inflation', 'whereas', 'historically', 'u', 'stock', 'market', 'done', '10', '65', 'inflation', 'different', 'period', 'better', 'others', 'cash', '1', '2', 'inflation', 'take', 'direct', 'loss', 'inflation', 'got', 'worse', 'many', 'people', 'cheered', 'increasing', 'interest', 'rate', '2022', 'real', 'inflationadjusted', 'rate', 'lower', 'year', 'ago', 'could', 'get', '01', 'bank', 'inflation', 'running', '3', '29', 'loss', 'inflation', 'day', 'get', '35', 'bank', 'inflation', 'running', '1011', 'uk', 'also', 'high', 'elsewhere', 'much', 'bigger', 'loss', 'inflation', 'historically', 'people', 'take', 'relative', 'loss', 'investing', 'absolute', 'loss', 'inflation', 'thing', 'compound', 'well', 'somebody', 'left', 'money', 'bank', 'since', '2008', 'lost', '13', 'per', 'year', 'inflation', '12', 'year', 'compounded', '25', 'loss', 'case', 'isnt', 'mention', 'loss', 'devaluation', 'happened', 'currency', 'diverse', 'british', 'pound', 'nigerian', 'naira', 'south', 'african', 'rand', 'speaking', 'friend', 'expat', 'year', 'left', '20000', 'sterling', 'bank', '20072008', 'worth', '40000', 'worth', '21700', 'pound', '28690', 'today', '30', 'loss', 'devaluation', '25', 'loss', 'inflation', '12', 'years28690', 'buy', 'much', 'le', '2020', '20072008', 'said', 'cash', 'serve', 'useful', 'purpose', 'give', 'cushion', 'case', 'unexpected', 'emergency', 'cash', 'therefore', 'isnt', 'investment', 'help', 'cashflow', 'situation', 'ultimately', 'people', 'need', 'put', 'money', 'work', 'one', 'reason', 'almost', 'wealthy', 'people', 'invest', 'asset', 'investment', 'digital', 'asset', 'private', 'business', 'indeed', 'central', 'theory', 'thomas', 'pikettys', 'famous', 'book', 'capital', '21st', 'century', 'one', 'biggest', 'driver', 'inequality', 'asset', 'like', 'stock', 'go', 'higher', 'wage', 'cash', 'bank', 'time', 'compound', 'despite', 'volatility', 'asset', 'middle', 'people', 'shouldnt', 'fear', 'volatility', 'though', 'look', 'year', 'huge', 'crash', 'recovery', 'happened', 'even', '20082009', 'took', 'stock', 'market', '3', 'year', 'recover', 'number', 'way', 'use', 'social', 'medium', 'increase', 'brand', 'awareness', 'specific', 'geographical', 'location', 'obvious', 'way', 'simply', 'target', 'content', 'advertising', 'people', 'location', 'done', 'targeting', 'ad', 'platform', 'like', 'facebook', 'google', 'creating', 'content', 'specifically', 'targeted', 'people', 'location', 'another', 'way', 'increase', 'brand', 'awareness', 'specific', 'geographical', 'location', 'use', 'social', 'medium', 'influencers', 'identify', 'influencers', 'large', 'following', 'location', 'reach', 'see', 'would', 'interested', 'promoting', 'brand', 'effective', 'way', 'reach', 'large', 'audience', 'specific', 'location', 'finally', 'consider', 'running', 'social', 'medium', 'contest', 'promotion', 'specifically', 'targeted', 'people', 'particular', 'location', 'great', 'way', 'generate', 'interest', 'awareness', 'brand', 'everything', 'risk', 'cash', 'full', 'risk', 'inflation', 'currency', 'fall', 'really', 'depends', 'invest', 'major', 'index', 'always', 'came', 'back', 'nasdaq', 'fell', '76', '2000', 'came', 'back', 'german', 'dax', 'also', 'recovering', 'similar', 'fall', 'even', 'japanese', 'nikkei', 'came', 'back', 'dividend', 'reinvested', 'comparison', 'many', 'individual', 'stock', 'gone', 'zero', 'never', 'came', 'back', 'want', 'little', 'risk', 'possible', 'need', 'globally', 'diversified', 'stock', 'index', 'msci', 'world', 'individual', 'country', 'could', 'argue', 'u', 'market', 'kind', 'global', 'market', 'well', 'firm', 'global', 'reinvest', 'dividend', 'rely', 'capital', 'growth', 'invest', 'different', 'time', 'horizon', 'lump', 'sum', 'monthly', 'injection', 'therefore', 'dont', 'need', 'worry', 'whether', 'perfect', 'time', 'invest', 'smaller', 'medium', 'large', 'cap', 'stock', 'look', 'uk', 'market', 'since', '2000', 'ftse', 'done', 'poorly', 'capital', 'growth', 'term', 'ok', 'dividend', 'reinvested', 'ftse', '250', 'done', 'better', 'though', 'asset', 'bond', 'advanced', 'technique', 'downsideprotection', 'often', 'require', 'advisor', 'need', 'certified', 'investor']\n"
          ]
        }
      ]
    },
    {
      "cell_type": "code",
      "source": [
        "from nltk.corpus import wordnet\n",
        "syn = wordnet.synsets('left')\n",
        "\n",
        "for thing in syn:\n",
        "  print(thing.pos())\n",
        "print(syn)"
      ],
      "metadata": {
        "colab": {
          "base_uri": "https://localhost:8080/"
        },
        "id": "nA4aqDxs4tso",
        "outputId": "bfc2f323-d78d-498f-f989-520c7a10165e"
      },
      "execution_count": 129,
      "outputs": [
        {
          "output_type": "stream",
          "name": "stdout",
          "text": [
            "n\n",
            "n\n",
            "n\n",
            "n\n",
            "n\n",
            "v\n",
            "v\n",
            "v\n",
            "v\n",
            "v\n",
            "v\n",
            "v\n",
            "v\n",
            "v\n",
            "v\n",
            "v\n",
            "v\n",
            "v\n",
            "v\n",
            "a\n",
            "s\n",
            "s\n",
            "a\n",
            "r\n",
            "[Synset('left.n.01'), Synset('left.n.02'), Synset('left.n.03'), Synset('left_field.n.01'), Synset('left.n.05'), Synset('leave.v.01'), Synset('leave.v.02'), Synset('leave.v.03'), Synset('leave.v.04'), Synset('exit.v.01'), Synset('leave.v.06'), Synset('leave.v.07'), Synset('leave.v.08'), Synset('entrust.v.02'), Synset('bequeath.v.01'), Synset('leave.v.11'), Synset('leave.v.12'), Synset('impart.v.01'), Synset('forget.v.04'), Synset('left.a.01'), Synset('leftover.s.01'), Synset('left.s.03'), Synset('left.a.04'), Synset('left.r.01')]\n"
          ]
        }
      ]
    },
    {
      "cell_type": "code",
      "source": [
        "!python /content/roget/roget.py"
      ],
      "metadata": {
        "colab": {
          "base_uri": "https://localhost:8080/"
        },
        "id": "9rAFpGwomPHo",
        "outputId": "e6976423-a708-46e0-d588-41f38456c0d3"
      },
      "execution_count": 121,
      "outputs": [
        {
          "output_type": "stream",
          "name": "stdout",
          "text": [
            "set()\n"
          ]
        }
      ]
    },
    {
      "cell_type": "code",
      "source": [
        "!git clone https://github.com/MoserMichael/cstuff.git"
      ],
      "metadata": {
        "colab": {
          "base_uri": "https://localhost:8080/"
        },
        "id": "lUMZX2B7pAh6",
        "outputId": "bb2af495-7c7f-4322-fea5-e9bd93c161eb"
      },
      "execution_count": 87,
      "outputs": [
        {
          "output_type": "stream",
          "name": "stdout",
          "text": [
            "Cloning into 'cstuff'...\n",
            "remote: Enumerating objects: 16920, done.\u001b[K\n",
            "remote: Counting objects: 100% (196/196), done.\u001b[K\n",
            "remote: Compressing objects: 100% (148/148), done.\u001b[K\n",
            "remote: Total 16920 (delta 83), reused 58 (delta 30), pack-reused 16724\u001b[K\n",
            "Receiving objects: 100% (16920/16920), 29.96 MiB | 19.26 MiB/s, done.\n",
            "Resolving deltas: 100% (12406/12406), done.\n"
          ]
        }
      ]
    }
  ]
}