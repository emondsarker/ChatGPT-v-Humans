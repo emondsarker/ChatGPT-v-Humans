{
  "nbformat": 4,
  "nbformat_minor": 0,
  "metadata": {
    "colab": {
      "provenance": [],
      "collapsed_sections": [
        "BILwi5E8L3fo",
        "RSTi7URXMctr"
      ]
    },
    "kernelspec": {
      "name": "python3",
      "display_name": "Python 3"
    },
    "language_info": {
      "name": "python"
    }
  },
  "cells": [
    {
      "cell_type": "markdown",
      "source": [
        "# ChatGPT-3 v Humans\n",
        "\n",
        "Performing lexical-semantical analysis of chatGPT-3 and humans"
      ],
      "metadata": {
        "id": "bnBpRRncUrIo"
      }
    },
    {
      "cell_type": "code",
      "source": [
        "# all imports \n",
        "import numpy as np\n",
        "import pandas as pd\n",
        "import nltk\n",
        "from nltk.stem import WordNetLemmatizer\n",
        "from sklearn.feature_extraction.text import CountVectorizer\n",
        "import matplotlib.pyplot as plt\n",
        "import re\n",
        "import unicodedata\n",
        "import time\n",
        "from sklearn.feature_extraction.text import CountVectorizer\n",
        "from sklearn.model_selection import train_test_split\n",
        "from sklearn.naive_bayes import MultinomialNB\n"
      ],
      "metadata": {
        "id": "NdPeaMfvsUaV"
      },
      "execution_count": null,
      "outputs": []
    },
    {
      "cell_type": "code",
      "source": [
        "nltk.download('all')"
      ],
      "metadata": {
        "colab": {
          "base_uri": "https://localhost:8080/"
        },
        "id": "NEMwuu2PFN8f",
        "outputId": "3925d2ef-ec54-4c3d-d1ed-74f3cb8ffc7e"
      },
      "execution_count": null,
      "outputs": [
        {
          "output_type": "stream",
          "name": "stderr",
          "text": [
            "[nltk_data] Downloading collection 'all'\n",
            "[nltk_data]    | \n",
            "[nltk_data]    | Downloading package abc to /root/nltk_data...\n",
            "[nltk_data]    |   Unzipping corpora/abc.zip.\n",
            "[nltk_data]    | Downloading package alpino to /root/nltk_data...\n",
            "[nltk_data]    |   Unzipping corpora/alpino.zip.\n",
            "[nltk_data]    | Downloading package averaged_perceptron_tagger to\n",
            "[nltk_data]    |     /root/nltk_data...\n",
            "[nltk_data]    |   Unzipping taggers/averaged_perceptron_tagger.zip.\n",
            "[nltk_data]    | Downloading package averaged_perceptron_tagger_ru to\n",
            "[nltk_data]    |     /root/nltk_data...\n",
            "[nltk_data]    |   Unzipping\n",
            "[nltk_data]    |       taggers/averaged_perceptron_tagger_ru.zip.\n",
            "[nltk_data]    | Downloading package basque_grammars to\n",
            "[nltk_data]    |     /root/nltk_data...\n",
            "[nltk_data]    |   Unzipping grammars/basque_grammars.zip.\n",
            "[nltk_data]    | Downloading package bcp47 to /root/nltk_data...\n",
            "[nltk_data]    | Downloading package biocreative_ppi to\n",
            "[nltk_data]    |     /root/nltk_data...\n",
            "[nltk_data]    |   Unzipping corpora/biocreative_ppi.zip.\n",
            "[nltk_data]    | Downloading package bllip_wsj_no_aux to\n",
            "[nltk_data]    |     /root/nltk_data...\n",
            "[nltk_data]    |   Unzipping models/bllip_wsj_no_aux.zip.\n",
            "[nltk_data]    | Downloading package book_grammars to\n",
            "[nltk_data]    |     /root/nltk_data...\n",
            "[nltk_data]    |   Unzipping grammars/book_grammars.zip.\n",
            "[nltk_data]    | Downloading package brown to /root/nltk_data...\n",
            "[nltk_data]    |   Unzipping corpora/brown.zip.\n",
            "[nltk_data]    | Downloading package brown_tei to /root/nltk_data...\n",
            "[nltk_data]    |   Unzipping corpora/brown_tei.zip.\n",
            "[nltk_data]    | Downloading package cess_cat to /root/nltk_data...\n",
            "[nltk_data]    |   Unzipping corpora/cess_cat.zip.\n",
            "[nltk_data]    | Downloading package cess_esp to /root/nltk_data...\n",
            "[nltk_data]    |   Unzipping corpora/cess_esp.zip.\n",
            "[nltk_data]    | Downloading package chat80 to /root/nltk_data...\n",
            "[nltk_data]    |   Unzipping corpora/chat80.zip.\n",
            "[nltk_data]    | Downloading package city_database to\n",
            "[nltk_data]    |     /root/nltk_data...\n",
            "[nltk_data]    |   Unzipping corpora/city_database.zip.\n",
            "[nltk_data]    | Downloading package cmudict to /root/nltk_data...\n",
            "[nltk_data]    |   Unzipping corpora/cmudict.zip.\n",
            "[nltk_data]    | Downloading package comparative_sentences to\n",
            "[nltk_data]    |     /root/nltk_data...\n",
            "[nltk_data]    |   Unzipping corpora/comparative_sentences.zip.\n",
            "[nltk_data]    | Downloading package comtrans to /root/nltk_data...\n",
            "[nltk_data]    | Downloading package conll2000 to /root/nltk_data...\n",
            "[nltk_data]    |   Unzipping corpora/conll2000.zip.\n",
            "[nltk_data]    | Downloading package conll2002 to /root/nltk_data...\n",
            "[nltk_data]    |   Unzipping corpora/conll2002.zip.\n",
            "[nltk_data]    | Downloading package conll2007 to /root/nltk_data...\n",
            "[nltk_data]    | Downloading package crubadan to /root/nltk_data...\n",
            "[nltk_data]    |   Unzipping corpora/crubadan.zip.\n",
            "[nltk_data]    | Downloading package dependency_treebank to\n",
            "[nltk_data]    |     /root/nltk_data...\n",
            "[nltk_data]    |   Unzipping corpora/dependency_treebank.zip.\n",
            "[nltk_data]    | Downloading package dolch to /root/nltk_data...\n",
            "[nltk_data]    |   Unzipping corpora/dolch.zip.\n",
            "[nltk_data]    | Downloading package europarl_raw to\n",
            "[nltk_data]    |     /root/nltk_data...\n",
            "[nltk_data]    |   Unzipping corpora/europarl_raw.zip.\n",
            "[nltk_data]    | Downloading package extended_omw to\n",
            "[nltk_data]    |     /root/nltk_data...\n",
            "[nltk_data]    | Downloading package floresta to /root/nltk_data...\n",
            "[nltk_data]    |   Unzipping corpora/floresta.zip.\n",
            "[nltk_data]    | Downloading package framenet_v15 to\n",
            "[nltk_data]    |     /root/nltk_data...\n",
            "[nltk_data]    |   Unzipping corpora/framenet_v15.zip.\n",
            "[nltk_data]    | Downloading package framenet_v17 to\n",
            "[nltk_data]    |     /root/nltk_data...\n",
            "[nltk_data]    |   Unzipping corpora/framenet_v17.zip.\n",
            "[nltk_data]    | Downloading package gazetteers to /root/nltk_data...\n",
            "[nltk_data]    |   Unzipping corpora/gazetteers.zip.\n",
            "[nltk_data]    | Downloading package genesis to /root/nltk_data...\n",
            "[nltk_data]    |   Unzipping corpora/genesis.zip.\n",
            "[nltk_data]    | Downloading package gutenberg to /root/nltk_data...\n",
            "[nltk_data]    |   Unzipping corpora/gutenberg.zip.\n",
            "[nltk_data]    | Downloading package ieer to /root/nltk_data...\n",
            "[nltk_data]    |   Unzipping corpora/ieer.zip.\n",
            "[nltk_data]    | Downloading package inaugural to /root/nltk_data...\n",
            "[nltk_data]    |   Unzipping corpora/inaugural.zip.\n",
            "[nltk_data]    | Downloading package indian to /root/nltk_data...\n",
            "[nltk_data]    |   Unzipping corpora/indian.zip.\n",
            "[nltk_data]    | Downloading package jeita to /root/nltk_data...\n",
            "[nltk_data]    | Downloading package kimmo to /root/nltk_data...\n",
            "[nltk_data]    |   Unzipping corpora/kimmo.zip.\n",
            "[nltk_data]    | Downloading package knbc to /root/nltk_data...\n",
            "[nltk_data]    | Downloading package large_grammars to\n",
            "[nltk_data]    |     /root/nltk_data...\n",
            "[nltk_data]    |   Unzipping grammars/large_grammars.zip.\n",
            "[nltk_data]    | Downloading package lin_thesaurus to\n",
            "[nltk_data]    |     /root/nltk_data...\n",
            "[nltk_data]    |   Unzipping corpora/lin_thesaurus.zip.\n",
            "[nltk_data]    | Downloading package mac_morpho to /root/nltk_data...\n",
            "[nltk_data]    |   Unzipping corpora/mac_morpho.zip.\n",
            "[nltk_data]    | Downloading package machado to /root/nltk_data...\n",
            "[nltk_data]    | Downloading package masc_tagged to /root/nltk_data...\n",
            "[nltk_data]    | Downloading package maxent_ne_chunker to\n",
            "[nltk_data]    |     /root/nltk_data...\n",
            "[nltk_data]    |   Unzipping chunkers/maxent_ne_chunker.zip.\n",
            "[nltk_data]    | Downloading package maxent_treebank_pos_tagger to\n",
            "[nltk_data]    |     /root/nltk_data...\n",
            "[nltk_data]    |   Unzipping taggers/maxent_treebank_pos_tagger.zip.\n",
            "[nltk_data]    | Downloading package moses_sample to\n",
            "[nltk_data]    |     /root/nltk_data...\n",
            "[nltk_data]    |   Unzipping models/moses_sample.zip.\n",
            "[nltk_data]    | Downloading package movie_reviews to\n",
            "[nltk_data]    |     /root/nltk_data...\n",
            "[nltk_data]    |   Unzipping corpora/movie_reviews.zip.\n",
            "[nltk_data]    | Downloading package mte_teip5 to /root/nltk_data...\n",
            "[nltk_data]    |   Unzipping corpora/mte_teip5.zip.\n",
            "[nltk_data]    | Downloading package mwa_ppdb to /root/nltk_data...\n",
            "[nltk_data]    |   Unzipping misc/mwa_ppdb.zip.\n",
            "[nltk_data]    | Downloading package names to /root/nltk_data...\n",
            "[nltk_data]    |   Unzipping corpora/names.zip.\n",
            "[nltk_data]    | Downloading package nombank.1.0 to /root/nltk_data...\n",
            "[nltk_data]    | Downloading package nonbreaking_prefixes to\n",
            "[nltk_data]    |     /root/nltk_data...\n",
            "[nltk_data]    |   Unzipping corpora/nonbreaking_prefixes.zip.\n",
            "[nltk_data]    | Downloading package nps_chat to /root/nltk_data...\n",
            "[nltk_data]    |   Unzipping corpora/nps_chat.zip.\n",
            "[nltk_data]    | Downloading package omw to /root/nltk_data...\n",
            "[nltk_data]    | Downloading package omw-1.4 to /root/nltk_data...\n",
            "[nltk_data]    | Downloading package opinion_lexicon to\n",
            "[nltk_data]    |     /root/nltk_data...\n",
            "[nltk_data]    |   Unzipping corpora/opinion_lexicon.zip.\n",
            "[nltk_data]    | Downloading package panlex_swadesh to\n",
            "[nltk_data]    |     /root/nltk_data...\n",
            "[nltk_data]    | Downloading package paradigms to /root/nltk_data...\n",
            "[nltk_data]    |   Unzipping corpora/paradigms.zip.\n",
            "[nltk_data]    | Downloading package pe08 to /root/nltk_data...\n",
            "[nltk_data]    |   Unzipping corpora/pe08.zip.\n",
            "[nltk_data]    | Downloading package perluniprops to\n",
            "[nltk_data]    |     /root/nltk_data...\n",
            "[nltk_data]    |   Unzipping misc/perluniprops.zip.\n",
            "[nltk_data]    | Downloading package pil to /root/nltk_data...\n",
            "[nltk_data]    |   Unzipping corpora/pil.zip.\n",
            "[nltk_data]    | Downloading package pl196x to /root/nltk_data...\n",
            "[nltk_data]    |   Unzipping corpora/pl196x.zip.\n",
            "[nltk_data]    | Downloading package porter_test to /root/nltk_data...\n",
            "[nltk_data]    |   Unzipping stemmers/porter_test.zip.\n",
            "[nltk_data]    | Downloading package ppattach to /root/nltk_data...\n",
            "[nltk_data]    |   Unzipping corpora/ppattach.zip.\n",
            "[nltk_data]    | Downloading package problem_reports to\n",
            "[nltk_data]    |     /root/nltk_data...\n",
            "[nltk_data]    |   Unzipping corpora/problem_reports.zip.\n",
            "[nltk_data]    | Downloading package product_reviews_1 to\n",
            "[nltk_data]    |     /root/nltk_data...\n",
            "[nltk_data]    |   Unzipping corpora/product_reviews_1.zip.\n",
            "[nltk_data]    | Downloading package product_reviews_2 to\n",
            "[nltk_data]    |     /root/nltk_data...\n",
            "[nltk_data]    |   Unzipping corpora/product_reviews_2.zip.\n",
            "[nltk_data]    | Downloading package propbank to /root/nltk_data...\n",
            "[nltk_data]    | Downloading package pros_cons to /root/nltk_data...\n",
            "[nltk_data]    |   Unzipping corpora/pros_cons.zip.\n",
            "[nltk_data]    | Downloading package ptb to /root/nltk_data...\n",
            "[nltk_data]    |   Unzipping corpora/ptb.zip.\n",
            "[nltk_data]    | Downloading package punkt to /root/nltk_data...\n",
            "[nltk_data]    |   Unzipping tokenizers/punkt.zip.\n",
            "[nltk_data]    | Downloading package qc to /root/nltk_data...\n",
            "[nltk_data]    |   Unzipping corpora/qc.zip.\n",
            "[nltk_data]    | Downloading package reuters to /root/nltk_data...\n",
            "[nltk_data]    | Downloading package rslp to /root/nltk_data...\n",
            "[nltk_data]    |   Unzipping stemmers/rslp.zip.\n",
            "[nltk_data]    | Downloading package rte to /root/nltk_data...\n",
            "[nltk_data]    |   Unzipping corpora/rte.zip.\n",
            "[nltk_data]    | Downloading package sample_grammars to\n",
            "[nltk_data]    |     /root/nltk_data...\n",
            "[nltk_data]    |   Unzipping grammars/sample_grammars.zip.\n",
            "[nltk_data]    | Downloading package semcor to /root/nltk_data...\n",
            "[nltk_data]    | Downloading package senseval to /root/nltk_data...\n",
            "[nltk_data]    |   Unzipping corpora/senseval.zip.\n",
            "[nltk_data]    | Downloading package sentence_polarity to\n",
            "[nltk_data]    |     /root/nltk_data...\n",
            "[nltk_data]    |   Unzipping corpora/sentence_polarity.zip.\n",
            "[nltk_data]    | Downloading package sentiwordnet to\n",
            "[nltk_data]    |     /root/nltk_data...\n",
            "[nltk_data]    |   Unzipping corpora/sentiwordnet.zip.\n",
            "[nltk_data]    | Downloading package shakespeare to /root/nltk_data...\n",
            "[nltk_data]    |   Unzipping corpora/shakespeare.zip.\n",
            "[nltk_data]    | Downloading package sinica_treebank to\n",
            "[nltk_data]    |     /root/nltk_data...\n",
            "[nltk_data]    |   Unzipping corpora/sinica_treebank.zip.\n",
            "[nltk_data]    | Downloading package smultron to /root/nltk_data...\n",
            "[nltk_data]    |   Unzipping corpora/smultron.zip.\n",
            "[nltk_data]    | Downloading package snowball_data to\n",
            "[nltk_data]    |     /root/nltk_data...\n",
            "[nltk_data]    | Downloading package spanish_grammars to\n",
            "[nltk_data]    |     /root/nltk_data...\n",
            "[nltk_data]    |   Unzipping grammars/spanish_grammars.zip.\n",
            "[nltk_data]    | Downloading package state_union to /root/nltk_data...\n",
            "[nltk_data]    |   Unzipping corpora/state_union.zip.\n",
            "[nltk_data]    | Downloading package stopwords to /root/nltk_data...\n",
            "[nltk_data]    |   Unzipping corpora/stopwords.zip.\n",
            "[nltk_data]    | Downloading package subjectivity to\n",
            "[nltk_data]    |     /root/nltk_data...\n",
            "[nltk_data]    |   Unzipping corpora/subjectivity.zip.\n",
            "[nltk_data]    | Downloading package swadesh to /root/nltk_data...\n",
            "[nltk_data]    |   Unzipping corpora/swadesh.zip.\n",
            "[nltk_data]    | Downloading package switchboard to /root/nltk_data...\n",
            "[nltk_data]    |   Unzipping corpora/switchboard.zip.\n",
            "[nltk_data]    | Downloading package tagsets to /root/nltk_data...\n",
            "[nltk_data]    |   Unzipping help/tagsets.zip.\n",
            "[nltk_data]    | Downloading package timit to /root/nltk_data...\n",
            "[nltk_data]    |   Unzipping corpora/timit.zip.\n",
            "[nltk_data]    | Downloading package toolbox to /root/nltk_data...\n",
            "[nltk_data]    |   Unzipping corpora/toolbox.zip.\n",
            "[nltk_data]    | Downloading package treebank to /root/nltk_data...\n",
            "[nltk_data]    |   Unzipping corpora/treebank.zip.\n",
            "[nltk_data]    | Downloading package twitter_samples to\n",
            "[nltk_data]    |     /root/nltk_data...\n",
            "[nltk_data]    |   Unzipping corpora/twitter_samples.zip.\n",
            "[nltk_data]    | Downloading package udhr to /root/nltk_data...\n",
            "[nltk_data]    |   Unzipping corpora/udhr.zip.\n",
            "[nltk_data]    | Downloading package udhr2 to /root/nltk_data...\n",
            "[nltk_data]    |   Unzipping corpora/udhr2.zip.\n",
            "[nltk_data]    | Downloading package unicode_samples to\n",
            "[nltk_data]    |     /root/nltk_data...\n",
            "[nltk_data]    |   Unzipping corpora/unicode_samples.zip.\n",
            "[nltk_data]    | Downloading package universal_tagset to\n",
            "[nltk_data]    |     /root/nltk_data...\n",
            "[nltk_data]    |   Unzipping taggers/universal_tagset.zip.\n",
            "[nltk_data]    | Downloading package universal_treebanks_v20 to\n",
            "[nltk_data]    |     /root/nltk_data...\n",
            "[nltk_data]    | Downloading package vader_lexicon to\n",
            "[nltk_data]    |     /root/nltk_data...\n",
            "[nltk_data]    | Downloading package verbnet to /root/nltk_data...\n",
            "[nltk_data]    |   Unzipping corpora/verbnet.zip.\n",
            "[nltk_data]    | Downloading package verbnet3 to /root/nltk_data...\n",
            "[nltk_data]    |   Unzipping corpora/verbnet3.zip.\n",
            "[nltk_data]    | Downloading package webtext to /root/nltk_data...\n",
            "[nltk_data]    |   Unzipping corpora/webtext.zip.\n",
            "[nltk_data]    | Downloading package wmt15_eval to /root/nltk_data...\n",
            "[nltk_data]    |   Unzipping models/wmt15_eval.zip.\n",
            "[nltk_data]    | Downloading package word2vec_sample to\n",
            "[nltk_data]    |     /root/nltk_data...\n",
            "[nltk_data]    |   Unzipping models/word2vec_sample.zip.\n",
            "[nltk_data]    | Downloading package wordnet to /root/nltk_data...\n",
            "[nltk_data]    | Downloading package wordnet2021 to /root/nltk_data...\n",
            "[nltk_data]    | Downloading package wordnet2022 to /root/nltk_data...\n",
            "[nltk_data]    |   Unzipping corpora/wordnet2022.zip.\n",
            "[nltk_data]    | Downloading package wordnet31 to /root/nltk_data...\n",
            "[nltk_data]    | Downloading package wordnet_ic to /root/nltk_data...\n",
            "[nltk_data]    |   Unzipping corpora/wordnet_ic.zip.\n",
            "[nltk_data]    | Downloading package words to /root/nltk_data...\n",
            "[nltk_data]    |   Unzipping corpora/words.zip.\n",
            "[nltk_data]    | Downloading package ycoe to /root/nltk_data...\n",
            "[nltk_data]    |   Unzipping corpora/ycoe.zip.\n",
            "[nltk_data]    | \n",
            "[nltk_data]  Done downloading collection all\n"
          ]
        },
        {
          "output_type": "execute_result",
          "data": {
            "text/plain": [
              "True"
            ]
          },
          "metadata": {},
          "execution_count": 2
        }
      ]
    },
    {
      "cell_type": "code",
      "source": [
        "from google.colab import drive\n",
        "drive.mount('/content/drive')"
      ],
      "metadata": {
        "colab": {
          "base_uri": "https://localhost:8080/",
          "height": 336
        },
        "id": "uCrxbe2uwbf4",
        "outputId": "7d0bc2e6-ff11-44e6-d89a-5d58534b8ca5"
      },
      "execution_count": null,
      "outputs": [
        {
          "output_type": "error",
          "ename": "MessageError",
          "evalue": "ignored",
          "traceback": [
            "\u001b[0;31m---------------------------------------------------------------------------\u001b[0m",
            "\u001b[0;31mMessageError\u001b[0m                              Traceback (most recent call last)",
            "\u001b[0;32m<ipython-input-3-d5df0069828e>\u001b[0m in \u001b[0;36m<module>\u001b[0;34m\u001b[0m\n\u001b[1;32m      1\u001b[0m \u001b[0;32mfrom\u001b[0m \u001b[0mgoogle\u001b[0m\u001b[0;34m.\u001b[0m\u001b[0mcolab\u001b[0m \u001b[0;32mimport\u001b[0m \u001b[0mdrive\u001b[0m\u001b[0;34m\u001b[0m\u001b[0;34m\u001b[0m\u001b[0m\n\u001b[0;32m----> 2\u001b[0;31m \u001b[0mdrive\u001b[0m\u001b[0;34m.\u001b[0m\u001b[0mmount\u001b[0m\u001b[0;34m(\u001b[0m\u001b[0;34m'/content/drive'\u001b[0m\u001b[0;34m)\u001b[0m\u001b[0;34m\u001b[0m\u001b[0;34m\u001b[0m\u001b[0m\n\u001b[0m",
            "\u001b[0;32m/usr/local/lib/python3.8/dist-packages/google/colab/drive.py\u001b[0m in \u001b[0;36mmount\u001b[0;34m(mountpoint, force_remount, timeout_ms, readonly)\u001b[0m\n\u001b[1;32m     98\u001b[0m \u001b[0;32mdef\u001b[0m \u001b[0mmount\u001b[0m\u001b[0;34m(\u001b[0m\u001b[0mmountpoint\u001b[0m\u001b[0;34m,\u001b[0m \u001b[0mforce_remount\u001b[0m\u001b[0;34m=\u001b[0m\u001b[0;32mFalse\u001b[0m\u001b[0;34m,\u001b[0m \u001b[0mtimeout_ms\u001b[0m\u001b[0;34m=\u001b[0m\u001b[0;36m120000\u001b[0m\u001b[0;34m,\u001b[0m \u001b[0mreadonly\u001b[0m\u001b[0;34m=\u001b[0m\u001b[0;32mFalse\u001b[0m\u001b[0;34m)\u001b[0m\u001b[0;34m:\u001b[0m\u001b[0;34m\u001b[0m\u001b[0;34m\u001b[0m\u001b[0m\n\u001b[1;32m     99\u001b[0m   \u001b[0;34m\"\"\"Mount your Google Drive at the specified mountpoint path.\"\"\"\u001b[0m\u001b[0;34m\u001b[0m\u001b[0;34m\u001b[0m\u001b[0m\n\u001b[0;32m--> 100\u001b[0;31m   return _mount(\n\u001b[0m\u001b[1;32m    101\u001b[0m       \u001b[0mmountpoint\u001b[0m\u001b[0;34m,\u001b[0m\u001b[0;34m\u001b[0m\u001b[0;34m\u001b[0m\u001b[0m\n\u001b[1;32m    102\u001b[0m       \u001b[0mforce_remount\u001b[0m\u001b[0;34m=\u001b[0m\u001b[0mforce_remount\u001b[0m\u001b[0;34m,\u001b[0m\u001b[0;34m\u001b[0m\u001b[0;34m\u001b[0m\u001b[0m\n",
            "\u001b[0;32m/usr/local/lib/python3.8/dist-packages/google/colab/drive.py\u001b[0m in \u001b[0;36m_mount\u001b[0;34m(mountpoint, force_remount, timeout_ms, ephemeral, readonly)\u001b[0m\n\u001b[1;32m    121\u001b[0m       'TBE_EPHEM_CREDS_ADDR'] if ephemeral else _os.environ['TBE_CREDS_ADDR']\n\u001b[1;32m    122\u001b[0m   \u001b[0;32mif\u001b[0m \u001b[0mephemeral\u001b[0m\u001b[0;34m:\u001b[0m\u001b[0;34m\u001b[0m\u001b[0;34m\u001b[0m\u001b[0m\n\u001b[0;32m--> 123\u001b[0;31m     _message.blocking_request(\n\u001b[0m\u001b[1;32m    124\u001b[0m         'request_auth', request={'authType': 'dfs_ephemeral'}, timeout_sec=None)\n\u001b[1;32m    125\u001b[0m \u001b[0;34m\u001b[0m\u001b[0m\n",
            "\u001b[0;32m/usr/local/lib/python3.8/dist-packages/google/colab/_message.py\u001b[0m in \u001b[0;36mblocking_request\u001b[0;34m(request_type, request, timeout_sec, parent)\u001b[0m\n\u001b[1;32m    169\u001b[0m   request_id = send_request(\n\u001b[1;32m    170\u001b[0m       request_type, request, parent=parent, expect_reply=True)\n\u001b[0;32m--> 171\u001b[0;31m   \u001b[0;32mreturn\u001b[0m \u001b[0mread_reply_from_input\u001b[0m\u001b[0;34m(\u001b[0m\u001b[0mrequest_id\u001b[0m\u001b[0;34m,\u001b[0m \u001b[0mtimeout_sec\u001b[0m\u001b[0;34m)\u001b[0m\u001b[0;34m\u001b[0m\u001b[0;34m\u001b[0m\u001b[0m\n\u001b[0m",
            "\u001b[0;32m/usr/local/lib/python3.8/dist-packages/google/colab/_message.py\u001b[0m in \u001b[0;36mread_reply_from_input\u001b[0;34m(message_id, timeout_sec)\u001b[0m\n\u001b[1;32m    100\u001b[0m         reply.get('colab_msg_id') == message_id):\n\u001b[1;32m    101\u001b[0m       \u001b[0;32mif\u001b[0m \u001b[0;34m'error'\u001b[0m \u001b[0;32min\u001b[0m \u001b[0mreply\u001b[0m\u001b[0;34m:\u001b[0m\u001b[0;34m\u001b[0m\u001b[0;34m\u001b[0m\u001b[0m\n\u001b[0;32m--> 102\u001b[0;31m         \u001b[0;32mraise\u001b[0m \u001b[0mMessageError\u001b[0m\u001b[0;34m(\u001b[0m\u001b[0mreply\u001b[0m\u001b[0;34m[\u001b[0m\u001b[0;34m'error'\u001b[0m\u001b[0;34m]\u001b[0m\u001b[0;34m)\u001b[0m\u001b[0;34m\u001b[0m\u001b[0;34m\u001b[0m\u001b[0m\n\u001b[0m\u001b[1;32m    103\u001b[0m       \u001b[0;32mreturn\u001b[0m \u001b[0mreply\u001b[0m\u001b[0;34m.\u001b[0m\u001b[0mget\u001b[0m\u001b[0;34m(\u001b[0m\u001b[0;34m'data'\u001b[0m\u001b[0;34m,\u001b[0m \u001b[0;32mNone\u001b[0m\u001b[0;34m)\u001b[0m\u001b[0;34m\u001b[0m\u001b[0;34m\u001b[0m\u001b[0m\n\u001b[1;32m    104\u001b[0m \u001b[0;34m\u001b[0m\u001b[0m\n",
            "\u001b[0;31mMessageError\u001b[0m: Error: credential propagation was unsuccessful"
          ]
        }
      ]
    },
    {
      "cell_type": "code",
      "source": [
        "# read dataset: stackoverflow v tedx\n",
        "df = pd.read_csv('/content/drive/MyDrive/ChatGPTvHumans/dataset/yt_so_50:50.csv')\n",
        "df = df.loc[:, ~df.columns.str.contains('^Unnamed')]\n",
        "df.tail()"
      ],
      "metadata": {
        "colab": {
          "base_uri": "https://localhost:8080/",
          "height": 337
        },
        "id": "GoJmX5hmUqhg",
        "outputId": "286e8858-b23f-47e4-b1e4-edd64e942f29"
      },
      "execution_count": 3,
      "outputs": [
        {
          "output_type": "execute_result",
          "data": {
            "text/plain": [
              "                                                 Prompt  \\\n",
              "1941  Locking to handle concurrency-- a good idea? I...   \n",
              "1942  getting an Int/short/byte structure byte repre...   \n",
              "1943  Can I put a <style>...</style> tag within the ...   \n",
              "1944  Disposable singleton in C# I have a singleton ...   \n",
              "1945  How do you set the StartPosition of a Windows ...   \n",
              "\n",
              "                                                 Answer          Label  \n",
              "1941  If you believe Oracle, no, not at all. That's ...  StackOverflow  \n",
              "1942  You may also try code like the following if wh...  StackOverflow  \n",
              "1943  The short answer is no. Gmail strips the tag a...  StackOverflow  \n",
              "1944  Mark Release as internal and use the Internals...  StackOverflow  \n",
              "1945  If I do a ShowDialog() and pass the parent it ...  StackOverflow  "
            ],
            "text/html": [
              "\n",
              "  <div id=\"df-080d256e-0967-4c8d-b65a-a25c9d55cb1c\">\n",
              "    <div class=\"colab-df-container\">\n",
              "      <div>\n",
              "<style scoped>\n",
              "    .dataframe tbody tr th:only-of-type {\n",
              "        vertical-align: middle;\n",
              "    }\n",
              "\n",
              "    .dataframe tbody tr th {\n",
              "        vertical-align: top;\n",
              "    }\n",
              "\n",
              "    .dataframe thead th {\n",
              "        text-align: right;\n",
              "    }\n",
              "</style>\n",
              "<table border=\"1\" class=\"dataframe\">\n",
              "  <thead>\n",
              "    <tr style=\"text-align: right;\">\n",
              "      <th></th>\n",
              "      <th>Prompt</th>\n",
              "      <th>Answer</th>\n",
              "      <th>Label</th>\n",
              "    </tr>\n",
              "  </thead>\n",
              "  <tbody>\n",
              "    <tr>\n",
              "      <th>1941</th>\n",
              "      <td>Locking to handle concurrency-- a good idea? I...</td>\n",
              "      <td>If you believe Oracle, no, not at all. That's ...</td>\n",
              "      <td>StackOverflow</td>\n",
              "    </tr>\n",
              "    <tr>\n",
              "      <th>1942</th>\n",
              "      <td>getting an Int/short/byte structure byte repre...</td>\n",
              "      <td>You may also try code like the following if wh...</td>\n",
              "      <td>StackOverflow</td>\n",
              "    </tr>\n",
              "    <tr>\n",
              "      <th>1943</th>\n",
              "      <td>Can I put a &lt;style&gt;...&lt;/style&gt; tag within the ...</td>\n",
              "      <td>The short answer is no. Gmail strips the tag a...</td>\n",
              "      <td>StackOverflow</td>\n",
              "    </tr>\n",
              "    <tr>\n",
              "      <th>1944</th>\n",
              "      <td>Disposable singleton in C# I have a singleton ...</td>\n",
              "      <td>Mark Release as internal and use the Internals...</td>\n",
              "      <td>StackOverflow</td>\n",
              "    </tr>\n",
              "    <tr>\n",
              "      <th>1945</th>\n",
              "      <td>How do you set the StartPosition of a Windows ...</td>\n",
              "      <td>If I do a ShowDialog() and pass the parent it ...</td>\n",
              "      <td>StackOverflow</td>\n",
              "    </tr>\n",
              "  </tbody>\n",
              "</table>\n",
              "</div>\n",
              "      <button class=\"colab-df-convert\" onclick=\"convertToInteractive('df-080d256e-0967-4c8d-b65a-a25c9d55cb1c')\"\n",
              "              title=\"Convert this dataframe to an interactive table.\"\n",
              "              style=\"display:none;\">\n",
              "        \n",
              "  <svg xmlns=\"http://www.w3.org/2000/svg\" height=\"24px\"viewBox=\"0 0 24 24\"\n",
              "       width=\"24px\">\n",
              "    <path d=\"M0 0h24v24H0V0z\" fill=\"none\"/>\n",
              "    <path d=\"M18.56 5.44l.94 2.06.94-2.06 2.06-.94-2.06-.94-.94-2.06-.94 2.06-2.06.94zm-11 1L8.5 8.5l.94-2.06 2.06-.94-2.06-.94L8.5 2.5l-.94 2.06-2.06.94zm10 10l.94 2.06.94-2.06 2.06-.94-2.06-.94-.94-2.06-.94 2.06-2.06.94z\"/><path d=\"M17.41 7.96l-1.37-1.37c-.4-.4-.92-.59-1.43-.59-.52 0-1.04.2-1.43.59L10.3 9.45l-7.72 7.72c-.78.78-.78 2.05 0 2.83L4 21.41c.39.39.9.59 1.41.59.51 0 1.02-.2 1.41-.59l7.78-7.78 2.81-2.81c.8-.78.8-2.07 0-2.86zM5.41 20L4 18.59l7.72-7.72 1.47 1.35L5.41 20z\"/>\n",
              "  </svg>\n",
              "      </button>\n",
              "      \n",
              "  <style>\n",
              "    .colab-df-container {\n",
              "      display:flex;\n",
              "      flex-wrap:wrap;\n",
              "      gap: 12px;\n",
              "    }\n",
              "\n",
              "    .colab-df-convert {\n",
              "      background-color: #E8F0FE;\n",
              "      border: none;\n",
              "      border-radius: 50%;\n",
              "      cursor: pointer;\n",
              "      display: none;\n",
              "      fill: #1967D2;\n",
              "      height: 32px;\n",
              "      padding: 0 0 0 0;\n",
              "      width: 32px;\n",
              "    }\n",
              "\n",
              "    .colab-df-convert:hover {\n",
              "      background-color: #E2EBFA;\n",
              "      box-shadow: 0px 1px 2px rgba(60, 64, 67, 0.3), 0px 1px 3px 1px rgba(60, 64, 67, 0.15);\n",
              "      fill: #174EA6;\n",
              "    }\n",
              "\n",
              "    [theme=dark] .colab-df-convert {\n",
              "      background-color: #3B4455;\n",
              "      fill: #D2E3FC;\n",
              "    }\n",
              "\n",
              "    [theme=dark] .colab-df-convert:hover {\n",
              "      background-color: #434B5C;\n",
              "      box-shadow: 0px 1px 3px 1px rgba(0, 0, 0, 0.15);\n",
              "      filter: drop-shadow(0px 1px 2px rgba(0, 0, 0, 0.3));\n",
              "      fill: #FFFFFF;\n",
              "    }\n",
              "  </style>\n",
              "\n",
              "      <script>\n",
              "        const buttonEl =\n",
              "          document.querySelector('#df-080d256e-0967-4c8d-b65a-a25c9d55cb1c button.colab-df-convert');\n",
              "        buttonEl.style.display =\n",
              "          google.colab.kernel.accessAllowed ? 'block' : 'none';\n",
              "\n",
              "        async function convertToInteractive(key) {\n",
              "          const element = document.querySelector('#df-080d256e-0967-4c8d-b65a-a25c9d55cb1c');\n",
              "          const dataTable =\n",
              "            await google.colab.kernel.invokeFunction('convertToInteractive',\n",
              "                                                     [key], {});\n",
              "          if (!dataTable) return;\n",
              "\n",
              "          const docLinkHtml = 'Like what you see? Visit the ' +\n",
              "            '<a target=\"_blank\" href=https://colab.research.google.com/notebooks/data_table.ipynb>data table notebook</a>'\n",
              "            + ' to learn more about interactive tables.';\n",
              "          element.innerHTML = '';\n",
              "          dataTable['output_type'] = 'display_data';\n",
              "          await google.colab.output.renderOutput(dataTable, element);\n",
              "          const docLink = document.createElement('div');\n",
              "          docLink.innerHTML = docLinkHtml;\n",
              "          element.appendChild(docLink);\n",
              "        }\n",
              "      </script>\n",
              "    </div>\n",
              "  </div>\n",
              "  "
            ]
          },
          "metadata": {},
          "execution_count": 3
        }
      ]
    },
    {
      "cell_type": "code",
      "source": [
        "# drop Prompt\n",
        "df_text = df.drop('Prompt', axis=1)\n",
        "df_text.head()"
      ],
      "metadata": {
        "colab": {
          "base_uri": "https://localhost:8080/",
          "height": 206
        },
        "id": "R3horFXEYh8R",
        "outputId": "0d0b42e6-7c9a-4d25-b5cf-3b69518f80ce"
      },
      "execution_count": 4,
      "outputs": [
        {
          "output_type": "execute_result",
          "data": {
            "text/plain": [
              "                                              Answer    Label\n",
              "0  Hi. So today I'm going to talk about how our m...  YouTube\n",
              "1  So have I failed? Yes, of course and many time...  YouTube\n",
              "2  Humans love meat. Steak, fried chicken, bacon,...  YouTube\n",
              "3  Imagine if you could gather the energy from ev...  YouTube\n",
              "4  Humans are proud of a lot of things, from part...  YouTube"
            ],
            "text/html": [
              "\n",
              "  <div id=\"df-cfa9a23c-9b9f-4a72-b34b-84057af3085e\">\n",
              "    <div class=\"colab-df-container\">\n",
              "      <div>\n",
              "<style scoped>\n",
              "    .dataframe tbody tr th:only-of-type {\n",
              "        vertical-align: middle;\n",
              "    }\n",
              "\n",
              "    .dataframe tbody tr th {\n",
              "        vertical-align: top;\n",
              "    }\n",
              "\n",
              "    .dataframe thead th {\n",
              "        text-align: right;\n",
              "    }\n",
              "</style>\n",
              "<table border=\"1\" class=\"dataframe\">\n",
              "  <thead>\n",
              "    <tr style=\"text-align: right;\">\n",
              "      <th></th>\n",
              "      <th>Answer</th>\n",
              "      <th>Label</th>\n",
              "    </tr>\n",
              "  </thead>\n",
              "  <tbody>\n",
              "    <tr>\n",
              "      <th>0</th>\n",
              "      <td>Hi. So today I'm going to talk about how our m...</td>\n",
              "      <td>YouTube</td>\n",
              "    </tr>\n",
              "    <tr>\n",
              "      <th>1</th>\n",
              "      <td>So have I failed? Yes, of course and many time...</td>\n",
              "      <td>YouTube</td>\n",
              "    </tr>\n",
              "    <tr>\n",
              "      <th>2</th>\n",
              "      <td>Humans love meat. Steak, fried chicken, bacon,...</td>\n",
              "      <td>YouTube</td>\n",
              "    </tr>\n",
              "    <tr>\n",
              "      <th>3</th>\n",
              "      <td>Imagine if you could gather the energy from ev...</td>\n",
              "      <td>YouTube</td>\n",
              "    </tr>\n",
              "    <tr>\n",
              "      <th>4</th>\n",
              "      <td>Humans are proud of a lot of things, from part...</td>\n",
              "      <td>YouTube</td>\n",
              "    </tr>\n",
              "  </tbody>\n",
              "</table>\n",
              "</div>\n",
              "      <button class=\"colab-df-convert\" onclick=\"convertToInteractive('df-cfa9a23c-9b9f-4a72-b34b-84057af3085e')\"\n",
              "              title=\"Convert this dataframe to an interactive table.\"\n",
              "              style=\"display:none;\">\n",
              "        \n",
              "  <svg xmlns=\"http://www.w3.org/2000/svg\" height=\"24px\"viewBox=\"0 0 24 24\"\n",
              "       width=\"24px\">\n",
              "    <path d=\"M0 0h24v24H0V0z\" fill=\"none\"/>\n",
              "    <path d=\"M18.56 5.44l.94 2.06.94-2.06 2.06-.94-2.06-.94-.94-2.06-.94 2.06-2.06.94zm-11 1L8.5 8.5l.94-2.06 2.06-.94-2.06-.94L8.5 2.5l-.94 2.06-2.06.94zm10 10l.94 2.06.94-2.06 2.06-.94-2.06-.94-.94-2.06-.94 2.06-2.06.94z\"/><path d=\"M17.41 7.96l-1.37-1.37c-.4-.4-.92-.59-1.43-.59-.52 0-1.04.2-1.43.59L10.3 9.45l-7.72 7.72c-.78.78-.78 2.05 0 2.83L4 21.41c.39.39.9.59 1.41.59.51 0 1.02-.2 1.41-.59l7.78-7.78 2.81-2.81c.8-.78.8-2.07 0-2.86zM5.41 20L4 18.59l7.72-7.72 1.47 1.35L5.41 20z\"/>\n",
              "  </svg>\n",
              "      </button>\n",
              "      \n",
              "  <style>\n",
              "    .colab-df-container {\n",
              "      display:flex;\n",
              "      flex-wrap:wrap;\n",
              "      gap: 12px;\n",
              "    }\n",
              "\n",
              "    .colab-df-convert {\n",
              "      background-color: #E8F0FE;\n",
              "      border: none;\n",
              "      border-radius: 50%;\n",
              "      cursor: pointer;\n",
              "      display: none;\n",
              "      fill: #1967D2;\n",
              "      height: 32px;\n",
              "      padding: 0 0 0 0;\n",
              "      width: 32px;\n",
              "    }\n",
              "\n",
              "    .colab-df-convert:hover {\n",
              "      background-color: #E2EBFA;\n",
              "      box-shadow: 0px 1px 2px rgba(60, 64, 67, 0.3), 0px 1px 3px 1px rgba(60, 64, 67, 0.15);\n",
              "      fill: #174EA6;\n",
              "    }\n",
              "\n",
              "    [theme=dark] .colab-df-convert {\n",
              "      background-color: #3B4455;\n",
              "      fill: #D2E3FC;\n",
              "    }\n",
              "\n",
              "    [theme=dark] .colab-df-convert:hover {\n",
              "      background-color: #434B5C;\n",
              "      box-shadow: 0px 1px 3px 1px rgba(0, 0, 0, 0.15);\n",
              "      filter: drop-shadow(0px 1px 2px rgba(0, 0, 0, 0.3));\n",
              "      fill: #FFFFFF;\n",
              "    }\n",
              "  </style>\n",
              "\n",
              "      <script>\n",
              "        const buttonEl =\n",
              "          document.querySelector('#df-cfa9a23c-9b9f-4a72-b34b-84057af3085e button.colab-df-convert');\n",
              "        buttonEl.style.display =\n",
              "          google.colab.kernel.accessAllowed ? 'block' : 'none';\n",
              "\n",
              "        async function convertToInteractive(key) {\n",
              "          const element = document.querySelector('#df-cfa9a23c-9b9f-4a72-b34b-84057af3085e');\n",
              "          const dataTable =\n",
              "            await google.colab.kernel.invokeFunction('convertToInteractive',\n",
              "                                                     [key], {});\n",
              "          if (!dataTable) return;\n",
              "\n",
              "          const docLinkHtml = 'Like what you see? Visit the ' +\n",
              "            '<a target=\"_blank\" href=https://colab.research.google.com/notebooks/data_table.ipynb>data table notebook</a>'\n",
              "            + ' to learn more about interactive tables.';\n",
              "          element.innerHTML = '';\n",
              "          dataTable['output_type'] = 'display_data';\n",
              "          await google.colab.output.renderOutput(dataTable, element);\n",
              "          const docLink = document.createElement('div');\n",
              "          docLink.innerHTML = docLinkHtml;\n",
              "          element.appendChild(docLink);\n",
              "        }\n",
              "      </script>\n",
              "    </div>\n",
              "  </div>\n",
              "  "
            ]
          },
          "metadata": {},
          "execution_count": 4
        }
      ]
    },
    {
      "cell_type": "code",
      "source": [
        "# change datatype to string\n",
        "df_text['Answer'] = df_text['Answer'].fillna('').astype(str)\n",
        "print(df_text.dtypes)"
      ],
      "metadata": {
        "colab": {
          "base_uri": "https://localhost:8080/"
        },
        "id": "-EWUP37ZZo29",
        "outputId": "feb2dea3-ef34-4527-be27-f7c440dc9d59"
      },
      "execution_count": 5,
      "outputs": [
        {
          "output_type": "stream",
          "name": "stdout",
          "text": [
            "Answer    object\n",
            "Label     object\n",
            "dtype: object\n"
          ]
        }
      ]
    },
    {
      "cell_type": "code",
      "source": [
        "# new DataFrame for no Stop Word (noSW)\n",
        "df_noSW = df_text"
      ],
      "metadata": {
        "id": "WWc7tiTUjHA4"
      },
      "execution_count": 6,
      "outputs": []
    },
    {
      "cell_type": "code",
      "source": [
        "# remove stopwords\n",
        "import nltk\n",
        "nltk.download('stopwords')\n",
        "from nltk.corpus import stopwords\n",
        "\n",
        "stop = stopwords.words(\"english\")\n",
        "\n",
        "def remove_stopwords(text):\n",
        "  filtered_words = [word.lower() for word in text.split() if word.lower() not in stop]\n",
        "  return \" \".join(filtered_words)"
      ],
      "metadata": {
        "colab": {
          "base_uri": "https://localhost:8080/"
        },
        "id": "Zp-Xgo1JdOjk",
        "outputId": "68610a57-fd60-4137-c52b-fc4963417722"
      },
      "execution_count": 7,
      "outputs": [
        {
          "output_type": "stream",
          "name": "stderr",
          "text": [
            "[nltk_data] Downloading package stopwords to /root/nltk_data...\n",
            "[nltk_data]   Package stopwords is already up-to-date!\n"
          ]
        }
      ]
    },
    {
      "cell_type": "code",
      "source": [
        "# tested, works\n",
        "df_noSW[\"Answer\"] = df_noSW.Answer.map(remove_stopwords)\n",
        "df_noSW.head(10)"
      ],
      "metadata": {
        "colab": {
          "base_uri": "https://localhost:8080/",
          "height": 363
        },
        "id": "nE9C_xHkkzcU",
        "outputId": "5c92f52e-bdb9-41f5-b37d-65a486225c0e"
      },
      "execution_count": 8,
      "outputs": [
        {
          "output_type": "execute_result",
          "data": {
            "text/plain": [
              "                                              Answer    Label\n",
              "0  hi. today i'm going talk mindsets matter virtu...  YouTube\n",
              "1  failed? yes, course many times, many many time...  YouTube\n",
              "2  humans love meat. steak, fried chicken, bacon,...  YouTube\n",
              "3  imagine could gather energy every star within ...  YouTube\n",
              "4  humans proud lot things, particle accelerators...  YouTube\n",
              "5  casually watching video youtube computer power...  YouTube\n",
              "6  way home died. car accident. nothing particula...  YouTube\n",
              "7  would happen bring tiny piece sun earth? short...  YouTube\n",
              "8  human immune system complex biological system ...  YouTube\n",
              "9  one greatest illusions life continuity. 66 mil...  YouTube"
            ],
            "text/html": [
              "\n",
              "  <div id=\"df-7eb11051-5ccb-4c12-bb9b-5e7b5bf873af\">\n",
              "    <div class=\"colab-df-container\">\n",
              "      <div>\n",
              "<style scoped>\n",
              "    .dataframe tbody tr th:only-of-type {\n",
              "        vertical-align: middle;\n",
              "    }\n",
              "\n",
              "    .dataframe tbody tr th {\n",
              "        vertical-align: top;\n",
              "    }\n",
              "\n",
              "    .dataframe thead th {\n",
              "        text-align: right;\n",
              "    }\n",
              "</style>\n",
              "<table border=\"1\" class=\"dataframe\">\n",
              "  <thead>\n",
              "    <tr style=\"text-align: right;\">\n",
              "      <th></th>\n",
              "      <th>Answer</th>\n",
              "      <th>Label</th>\n",
              "    </tr>\n",
              "  </thead>\n",
              "  <tbody>\n",
              "    <tr>\n",
              "      <th>0</th>\n",
              "      <td>hi. today i'm going talk mindsets matter virtu...</td>\n",
              "      <td>YouTube</td>\n",
              "    </tr>\n",
              "    <tr>\n",
              "      <th>1</th>\n",
              "      <td>failed? yes, course many times, many many time...</td>\n",
              "      <td>YouTube</td>\n",
              "    </tr>\n",
              "    <tr>\n",
              "      <th>2</th>\n",
              "      <td>humans love meat. steak, fried chicken, bacon,...</td>\n",
              "      <td>YouTube</td>\n",
              "    </tr>\n",
              "    <tr>\n",
              "      <th>3</th>\n",
              "      <td>imagine could gather energy every star within ...</td>\n",
              "      <td>YouTube</td>\n",
              "    </tr>\n",
              "    <tr>\n",
              "      <th>4</th>\n",
              "      <td>humans proud lot things, particle accelerators...</td>\n",
              "      <td>YouTube</td>\n",
              "    </tr>\n",
              "    <tr>\n",
              "      <th>5</th>\n",
              "      <td>casually watching video youtube computer power...</td>\n",
              "      <td>YouTube</td>\n",
              "    </tr>\n",
              "    <tr>\n",
              "      <th>6</th>\n",
              "      <td>way home died. car accident. nothing particula...</td>\n",
              "      <td>YouTube</td>\n",
              "    </tr>\n",
              "    <tr>\n",
              "      <th>7</th>\n",
              "      <td>would happen bring tiny piece sun earth? short...</td>\n",
              "      <td>YouTube</td>\n",
              "    </tr>\n",
              "    <tr>\n",
              "      <th>8</th>\n",
              "      <td>human immune system complex biological system ...</td>\n",
              "      <td>YouTube</td>\n",
              "    </tr>\n",
              "    <tr>\n",
              "      <th>9</th>\n",
              "      <td>one greatest illusions life continuity. 66 mil...</td>\n",
              "      <td>YouTube</td>\n",
              "    </tr>\n",
              "  </tbody>\n",
              "</table>\n",
              "</div>\n",
              "      <button class=\"colab-df-convert\" onclick=\"convertToInteractive('df-7eb11051-5ccb-4c12-bb9b-5e7b5bf873af')\"\n",
              "              title=\"Convert this dataframe to an interactive table.\"\n",
              "              style=\"display:none;\">\n",
              "        \n",
              "  <svg xmlns=\"http://www.w3.org/2000/svg\" height=\"24px\"viewBox=\"0 0 24 24\"\n",
              "       width=\"24px\">\n",
              "    <path d=\"M0 0h24v24H0V0z\" fill=\"none\"/>\n",
              "    <path d=\"M18.56 5.44l.94 2.06.94-2.06 2.06-.94-2.06-.94-.94-2.06-.94 2.06-2.06.94zm-11 1L8.5 8.5l.94-2.06 2.06-.94-2.06-.94L8.5 2.5l-.94 2.06-2.06.94zm10 10l.94 2.06.94-2.06 2.06-.94-2.06-.94-.94-2.06-.94 2.06-2.06.94z\"/><path d=\"M17.41 7.96l-1.37-1.37c-.4-.4-.92-.59-1.43-.59-.52 0-1.04.2-1.43.59L10.3 9.45l-7.72 7.72c-.78.78-.78 2.05 0 2.83L4 21.41c.39.39.9.59 1.41.59.51 0 1.02-.2 1.41-.59l7.78-7.78 2.81-2.81c.8-.78.8-2.07 0-2.86zM5.41 20L4 18.59l7.72-7.72 1.47 1.35L5.41 20z\"/>\n",
              "  </svg>\n",
              "      </button>\n",
              "      \n",
              "  <style>\n",
              "    .colab-df-container {\n",
              "      display:flex;\n",
              "      flex-wrap:wrap;\n",
              "      gap: 12px;\n",
              "    }\n",
              "\n",
              "    .colab-df-convert {\n",
              "      background-color: #E8F0FE;\n",
              "      border: none;\n",
              "      border-radius: 50%;\n",
              "      cursor: pointer;\n",
              "      display: none;\n",
              "      fill: #1967D2;\n",
              "      height: 32px;\n",
              "      padding: 0 0 0 0;\n",
              "      width: 32px;\n",
              "    }\n",
              "\n",
              "    .colab-df-convert:hover {\n",
              "      background-color: #E2EBFA;\n",
              "      box-shadow: 0px 1px 2px rgba(60, 64, 67, 0.3), 0px 1px 3px 1px rgba(60, 64, 67, 0.15);\n",
              "      fill: #174EA6;\n",
              "    }\n",
              "\n",
              "    [theme=dark] .colab-df-convert {\n",
              "      background-color: #3B4455;\n",
              "      fill: #D2E3FC;\n",
              "    }\n",
              "\n",
              "    [theme=dark] .colab-df-convert:hover {\n",
              "      background-color: #434B5C;\n",
              "      box-shadow: 0px 1px 3px 1px rgba(0, 0, 0, 0.15);\n",
              "      filter: drop-shadow(0px 1px 2px rgba(0, 0, 0, 0.3));\n",
              "      fill: #FFFFFF;\n",
              "    }\n",
              "  </style>\n",
              "\n",
              "      <script>\n",
              "        const buttonEl =\n",
              "          document.querySelector('#df-7eb11051-5ccb-4c12-bb9b-5e7b5bf873af button.colab-df-convert');\n",
              "        buttonEl.style.display =\n",
              "          google.colab.kernel.accessAllowed ? 'block' : 'none';\n",
              "\n",
              "        async function convertToInteractive(key) {\n",
              "          const element = document.querySelector('#df-7eb11051-5ccb-4c12-bb9b-5e7b5bf873af');\n",
              "          const dataTable =\n",
              "            await google.colab.kernel.invokeFunction('convertToInteractive',\n",
              "                                                     [key], {});\n",
              "          if (!dataTable) return;\n",
              "\n",
              "          const docLinkHtml = 'Like what you see? Visit the ' +\n",
              "            '<a target=\"_blank\" href=https://colab.research.google.com/notebooks/data_table.ipynb>data table notebook</a>'\n",
              "            + ' to learn more about interactive tables.';\n",
              "          element.innerHTML = '';\n",
              "          dataTable['output_type'] = 'display_data';\n",
              "          await google.colab.output.renderOutput(dataTable, element);\n",
              "          const docLink = document.createElement('div');\n",
              "          docLink.innerHTML = docLinkHtml;\n",
              "          element.appendChild(docLink);\n",
              "        }\n",
              "      </script>\n",
              "    </div>\n",
              "  </div>\n",
              "  "
            ]
          },
          "metadata": {},
          "execution_count": 8
        }
      ]
    },
    {
      "cell_type": "code",
      "source": [
        "# df_stackoverflow has only 'stackoverflow' values\n",
        "df_stackoverflow = df_noSW[df_noSW['Label'] == 'YouTube']\n",
        "df_stackoverflow.head()"
      ],
      "metadata": {
        "colab": {
          "base_uri": "https://localhost:8080/",
          "height": 206
        },
        "id": "3fmJoB5bKk3h",
        "outputId": "ad2da449-98ba-4cc6-b43b-fdd2028c1e39"
      },
      "execution_count": 9,
      "outputs": [
        {
          "output_type": "execute_result",
          "data": {
            "text/plain": [
              "                                              Answer    Label\n",
              "0  hi. today i'm going talk mindsets matter virtu...  YouTube\n",
              "1  failed? yes, course many times, many many time...  YouTube\n",
              "2  humans love meat. steak, fried chicken, bacon,...  YouTube\n",
              "3  imagine could gather energy every star within ...  YouTube\n",
              "4  humans proud lot things, particle accelerators...  YouTube"
            ],
            "text/html": [
              "\n",
              "  <div id=\"df-4ad75614-a029-4f9e-b0ac-0b58fcd285dd\">\n",
              "    <div class=\"colab-df-container\">\n",
              "      <div>\n",
              "<style scoped>\n",
              "    .dataframe tbody tr th:only-of-type {\n",
              "        vertical-align: middle;\n",
              "    }\n",
              "\n",
              "    .dataframe tbody tr th {\n",
              "        vertical-align: top;\n",
              "    }\n",
              "\n",
              "    .dataframe thead th {\n",
              "        text-align: right;\n",
              "    }\n",
              "</style>\n",
              "<table border=\"1\" class=\"dataframe\">\n",
              "  <thead>\n",
              "    <tr style=\"text-align: right;\">\n",
              "      <th></th>\n",
              "      <th>Answer</th>\n",
              "      <th>Label</th>\n",
              "    </tr>\n",
              "  </thead>\n",
              "  <tbody>\n",
              "    <tr>\n",
              "      <th>0</th>\n",
              "      <td>hi. today i'm going talk mindsets matter virtu...</td>\n",
              "      <td>YouTube</td>\n",
              "    </tr>\n",
              "    <tr>\n",
              "      <th>1</th>\n",
              "      <td>failed? yes, course many times, many many time...</td>\n",
              "      <td>YouTube</td>\n",
              "    </tr>\n",
              "    <tr>\n",
              "      <th>2</th>\n",
              "      <td>humans love meat. steak, fried chicken, bacon,...</td>\n",
              "      <td>YouTube</td>\n",
              "    </tr>\n",
              "    <tr>\n",
              "      <th>3</th>\n",
              "      <td>imagine could gather energy every star within ...</td>\n",
              "      <td>YouTube</td>\n",
              "    </tr>\n",
              "    <tr>\n",
              "      <th>4</th>\n",
              "      <td>humans proud lot things, particle accelerators...</td>\n",
              "      <td>YouTube</td>\n",
              "    </tr>\n",
              "  </tbody>\n",
              "</table>\n",
              "</div>\n",
              "      <button class=\"colab-df-convert\" onclick=\"convertToInteractive('df-4ad75614-a029-4f9e-b0ac-0b58fcd285dd')\"\n",
              "              title=\"Convert this dataframe to an interactive table.\"\n",
              "              style=\"display:none;\">\n",
              "        \n",
              "  <svg xmlns=\"http://www.w3.org/2000/svg\" height=\"24px\"viewBox=\"0 0 24 24\"\n",
              "       width=\"24px\">\n",
              "    <path d=\"M0 0h24v24H0V0z\" fill=\"none\"/>\n",
              "    <path d=\"M18.56 5.44l.94 2.06.94-2.06 2.06-.94-2.06-.94-.94-2.06-.94 2.06-2.06.94zm-11 1L8.5 8.5l.94-2.06 2.06-.94-2.06-.94L8.5 2.5l-.94 2.06-2.06.94zm10 10l.94 2.06.94-2.06 2.06-.94-2.06-.94-.94-2.06-.94 2.06-2.06.94z\"/><path d=\"M17.41 7.96l-1.37-1.37c-.4-.4-.92-.59-1.43-.59-.52 0-1.04.2-1.43.59L10.3 9.45l-7.72 7.72c-.78.78-.78 2.05 0 2.83L4 21.41c.39.39.9.59 1.41.59.51 0 1.02-.2 1.41-.59l7.78-7.78 2.81-2.81c.8-.78.8-2.07 0-2.86zM5.41 20L4 18.59l7.72-7.72 1.47 1.35L5.41 20z\"/>\n",
              "  </svg>\n",
              "      </button>\n",
              "      \n",
              "  <style>\n",
              "    .colab-df-container {\n",
              "      display:flex;\n",
              "      flex-wrap:wrap;\n",
              "      gap: 12px;\n",
              "    }\n",
              "\n",
              "    .colab-df-convert {\n",
              "      background-color: #E8F0FE;\n",
              "      border: none;\n",
              "      border-radius: 50%;\n",
              "      cursor: pointer;\n",
              "      display: none;\n",
              "      fill: #1967D2;\n",
              "      height: 32px;\n",
              "      padding: 0 0 0 0;\n",
              "      width: 32px;\n",
              "    }\n",
              "\n",
              "    .colab-df-convert:hover {\n",
              "      background-color: #E2EBFA;\n",
              "      box-shadow: 0px 1px 2px rgba(60, 64, 67, 0.3), 0px 1px 3px 1px rgba(60, 64, 67, 0.15);\n",
              "      fill: #174EA6;\n",
              "    }\n",
              "\n",
              "    [theme=dark] .colab-df-convert {\n",
              "      background-color: #3B4455;\n",
              "      fill: #D2E3FC;\n",
              "    }\n",
              "\n",
              "    [theme=dark] .colab-df-convert:hover {\n",
              "      background-color: #434B5C;\n",
              "      box-shadow: 0px 1px 3px 1px rgba(0, 0, 0, 0.15);\n",
              "      filter: drop-shadow(0px 1px 2px rgba(0, 0, 0, 0.3));\n",
              "      fill: #FFFFFF;\n",
              "    }\n",
              "  </style>\n",
              "\n",
              "      <script>\n",
              "        const buttonEl =\n",
              "          document.querySelector('#df-4ad75614-a029-4f9e-b0ac-0b58fcd285dd button.colab-df-convert');\n",
              "        buttonEl.style.display =\n",
              "          google.colab.kernel.accessAllowed ? 'block' : 'none';\n",
              "\n",
              "        async function convertToInteractive(key) {\n",
              "          const element = document.querySelector('#df-4ad75614-a029-4f9e-b0ac-0b58fcd285dd');\n",
              "          const dataTable =\n",
              "            await google.colab.kernel.invokeFunction('convertToInteractive',\n",
              "                                                     [key], {});\n",
              "          if (!dataTable) return;\n",
              "\n",
              "          const docLinkHtml = 'Like what you see? Visit the ' +\n",
              "            '<a target=\"_blank\" href=https://colab.research.google.com/notebooks/data_table.ipynb>data table notebook</a>'\n",
              "            + ' to learn more about interactive tables.';\n",
              "          element.innerHTML = '';\n",
              "          dataTable['output_type'] = 'display_data';\n",
              "          await google.colab.output.renderOutput(dataTable, element);\n",
              "          const docLink = document.createElement('div');\n",
              "          docLink.innerHTML = docLinkHtml;\n",
              "          element.appendChild(docLink);\n",
              "        }\n",
              "      </script>\n",
              "    </div>\n",
              "  </div>\n",
              "  "
            ]
          },
          "metadata": {},
          "execution_count": 9
        }
      ]
    },
    {
      "cell_type": "code",
      "source": [
        "# df_human has only 'TedX' values\n",
        "df_tedx = df_noSW[df_noSW['Label'] == 'TedX']\n",
        "df_tedx.head()"
      ],
      "metadata": {
        "colab": {
          "base_uri": "https://localhost:8080/",
          "height": 49
        },
        "id": "MFAxTURuLBKT",
        "outputId": "e436a55f-cac1-46ce-bf75-e20e6c8b14de"
      },
      "execution_count": 10,
      "outputs": [
        {
          "output_type": "execute_result",
          "data": {
            "text/plain": [
              "Empty DataFrame\n",
              "Columns: [Answer, Label]\n",
              "Index: []"
            ],
            "text/html": [
              "\n",
              "  <div id=\"df-66843100-1d82-47d5-a228-c3dd073722dd\">\n",
              "    <div class=\"colab-df-container\">\n",
              "      <div>\n",
              "<style scoped>\n",
              "    .dataframe tbody tr th:only-of-type {\n",
              "        vertical-align: middle;\n",
              "    }\n",
              "\n",
              "    .dataframe tbody tr th {\n",
              "        vertical-align: top;\n",
              "    }\n",
              "\n",
              "    .dataframe thead th {\n",
              "        text-align: right;\n",
              "    }\n",
              "</style>\n",
              "<table border=\"1\" class=\"dataframe\">\n",
              "  <thead>\n",
              "    <tr style=\"text-align: right;\">\n",
              "      <th></th>\n",
              "      <th>Answer</th>\n",
              "      <th>Label</th>\n",
              "    </tr>\n",
              "  </thead>\n",
              "  <tbody>\n",
              "  </tbody>\n",
              "</table>\n",
              "</div>\n",
              "      <button class=\"colab-df-convert\" onclick=\"convertToInteractive('df-66843100-1d82-47d5-a228-c3dd073722dd')\"\n",
              "              title=\"Convert this dataframe to an interactive table.\"\n",
              "              style=\"display:none;\">\n",
              "        \n",
              "  <svg xmlns=\"http://www.w3.org/2000/svg\" height=\"24px\"viewBox=\"0 0 24 24\"\n",
              "       width=\"24px\">\n",
              "    <path d=\"M0 0h24v24H0V0z\" fill=\"none\"/>\n",
              "    <path d=\"M18.56 5.44l.94 2.06.94-2.06 2.06-.94-2.06-.94-.94-2.06-.94 2.06-2.06.94zm-11 1L8.5 8.5l.94-2.06 2.06-.94-2.06-.94L8.5 2.5l-.94 2.06-2.06.94zm10 10l.94 2.06.94-2.06 2.06-.94-2.06-.94-.94-2.06-.94 2.06-2.06.94z\"/><path d=\"M17.41 7.96l-1.37-1.37c-.4-.4-.92-.59-1.43-.59-.52 0-1.04.2-1.43.59L10.3 9.45l-7.72 7.72c-.78.78-.78 2.05 0 2.83L4 21.41c.39.39.9.59 1.41.59.51 0 1.02-.2 1.41-.59l7.78-7.78 2.81-2.81c.8-.78.8-2.07 0-2.86zM5.41 20L4 18.59l7.72-7.72 1.47 1.35L5.41 20z\"/>\n",
              "  </svg>\n",
              "      </button>\n",
              "      \n",
              "  <style>\n",
              "    .colab-df-container {\n",
              "      display:flex;\n",
              "      flex-wrap:wrap;\n",
              "      gap: 12px;\n",
              "    }\n",
              "\n",
              "    .colab-df-convert {\n",
              "      background-color: #E8F0FE;\n",
              "      border: none;\n",
              "      border-radius: 50%;\n",
              "      cursor: pointer;\n",
              "      display: none;\n",
              "      fill: #1967D2;\n",
              "      height: 32px;\n",
              "      padding: 0 0 0 0;\n",
              "      width: 32px;\n",
              "    }\n",
              "\n",
              "    .colab-df-convert:hover {\n",
              "      background-color: #E2EBFA;\n",
              "      box-shadow: 0px 1px 2px rgba(60, 64, 67, 0.3), 0px 1px 3px 1px rgba(60, 64, 67, 0.15);\n",
              "      fill: #174EA6;\n",
              "    }\n",
              "\n",
              "    [theme=dark] .colab-df-convert {\n",
              "      background-color: #3B4455;\n",
              "      fill: #D2E3FC;\n",
              "    }\n",
              "\n",
              "    [theme=dark] .colab-df-convert:hover {\n",
              "      background-color: #434B5C;\n",
              "      box-shadow: 0px 1px 3px 1px rgba(0, 0, 0, 0.15);\n",
              "      filter: drop-shadow(0px 1px 2px rgba(0, 0, 0, 0.3));\n",
              "      fill: #FFFFFF;\n",
              "    }\n",
              "  </style>\n",
              "\n",
              "      <script>\n",
              "        const buttonEl =\n",
              "          document.querySelector('#df-66843100-1d82-47d5-a228-c3dd073722dd button.colab-df-convert');\n",
              "        buttonEl.style.display =\n",
              "          google.colab.kernel.accessAllowed ? 'block' : 'none';\n",
              "\n",
              "        async function convertToInteractive(key) {\n",
              "          const element = document.querySelector('#df-66843100-1d82-47d5-a228-c3dd073722dd');\n",
              "          const dataTable =\n",
              "            await google.colab.kernel.invokeFunction('convertToInteractive',\n",
              "                                                     [key], {});\n",
              "          if (!dataTable) return;\n",
              "\n",
              "          const docLinkHtml = 'Like what you see? Visit the ' +\n",
              "            '<a target=\"_blank\" href=https://colab.research.google.com/notebooks/data_table.ipynb>data table notebook</a>'\n",
              "            + ' to learn more about interactive tables.';\n",
              "          element.innerHTML = '';\n",
              "          dataTable['output_type'] = 'display_data';\n",
              "          await google.colab.output.renderOutput(dataTable, element);\n",
              "          const docLink = document.createElement('div');\n",
              "          docLink.innerHTML = docLinkHtml;\n",
              "          element.appendChild(docLink);\n",
              "        }\n",
              "      </script>\n",
              "    </div>\n",
              "  </div>\n",
              "  "
            ]
          },
          "metadata": {},
          "execution_count": 10
        }
      ]
    },
    {
      "cell_type": "code",
      "source": [
        "# main df incase needed\n",
        "df_noSW.head()"
      ],
      "metadata": {
        "colab": {
          "base_uri": "https://localhost:8080/",
          "height": 206
        },
        "id": "Pdu4Fj6zLdSQ",
        "outputId": "832f192c-d6b7-476f-e40a-4870dfbb8a93"
      },
      "execution_count": 11,
      "outputs": [
        {
          "output_type": "execute_result",
          "data": {
            "text/plain": [
              "                                              Answer    Label\n",
              "0  hi. today i'm going talk mindsets matter virtu...  YouTube\n",
              "1  failed? yes, course many times, many many time...  YouTube\n",
              "2  humans love meat. steak, fried chicken, bacon,...  YouTube\n",
              "3  imagine could gather energy every star within ...  YouTube\n",
              "4  humans proud lot things, particle accelerators...  YouTube"
            ],
            "text/html": [
              "\n",
              "  <div id=\"df-ce09cc2a-f064-4486-aa19-c410ec2204a1\">\n",
              "    <div class=\"colab-df-container\">\n",
              "      <div>\n",
              "<style scoped>\n",
              "    .dataframe tbody tr th:only-of-type {\n",
              "        vertical-align: middle;\n",
              "    }\n",
              "\n",
              "    .dataframe tbody tr th {\n",
              "        vertical-align: top;\n",
              "    }\n",
              "\n",
              "    .dataframe thead th {\n",
              "        text-align: right;\n",
              "    }\n",
              "</style>\n",
              "<table border=\"1\" class=\"dataframe\">\n",
              "  <thead>\n",
              "    <tr style=\"text-align: right;\">\n",
              "      <th></th>\n",
              "      <th>Answer</th>\n",
              "      <th>Label</th>\n",
              "    </tr>\n",
              "  </thead>\n",
              "  <tbody>\n",
              "    <tr>\n",
              "      <th>0</th>\n",
              "      <td>hi. today i'm going talk mindsets matter virtu...</td>\n",
              "      <td>YouTube</td>\n",
              "    </tr>\n",
              "    <tr>\n",
              "      <th>1</th>\n",
              "      <td>failed? yes, course many times, many many time...</td>\n",
              "      <td>YouTube</td>\n",
              "    </tr>\n",
              "    <tr>\n",
              "      <th>2</th>\n",
              "      <td>humans love meat. steak, fried chicken, bacon,...</td>\n",
              "      <td>YouTube</td>\n",
              "    </tr>\n",
              "    <tr>\n",
              "      <th>3</th>\n",
              "      <td>imagine could gather energy every star within ...</td>\n",
              "      <td>YouTube</td>\n",
              "    </tr>\n",
              "    <tr>\n",
              "      <th>4</th>\n",
              "      <td>humans proud lot things, particle accelerators...</td>\n",
              "      <td>YouTube</td>\n",
              "    </tr>\n",
              "  </tbody>\n",
              "</table>\n",
              "</div>\n",
              "      <button class=\"colab-df-convert\" onclick=\"convertToInteractive('df-ce09cc2a-f064-4486-aa19-c410ec2204a1')\"\n",
              "              title=\"Convert this dataframe to an interactive table.\"\n",
              "              style=\"display:none;\">\n",
              "        \n",
              "  <svg xmlns=\"http://www.w3.org/2000/svg\" height=\"24px\"viewBox=\"0 0 24 24\"\n",
              "       width=\"24px\">\n",
              "    <path d=\"M0 0h24v24H0V0z\" fill=\"none\"/>\n",
              "    <path d=\"M18.56 5.44l.94 2.06.94-2.06 2.06-.94-2.06-.94-.94-2.06-.94 2.06-2.06.94zm-11 1L8.5 8.5l.94-2.06 2.06-.94-2.06-.94L8.5 2.5l-.94 2.06-2.06.94zm10 10l.94 2.06.94-2.06 2.06-.94-2.06-.94-.94-2.06-.94 2.06-2.06.94z\"/><path d=\"M17.41 7.96l-1.37-1.37c-.4-.4-.92-.59-1.43-.59-.52 0-1.04.2-1.43.59L10.3 9.45l-7.72 7.72c-.78.78-.78 2.05 0 2.83L4 21.41c.39.39.9.59 1.41.59.51 0 1.02-.2 1.41-.59l7.78-7.78 2.81-2.81c.8-.78.8-2.07 0-2.86zM5.41 20L4 18.59l7.72-7.72 1.47 1.35L5.41 20z\"/>\n",
              "  </svg>\n",
              "      </button>\n",
              "      \n",
              "  <style>\n",
              "    .colab-df-container {\n",
              "      display:flex;\n",
              "      flex-wrap:wrap;\n",
              "      gap: 12px;\n",
              "    }\n",
              "\n",
              "    .colab-df-convert {\n",
              "      background-color: #E8F0FE;\n",
              "      border: none;\n",
              "      border-radius: 50%;\n",
              "      cursor: pointer;\n",
              "      display: none;\n",
              "      fill: #1967D2;\n",
              "      height: 32px;\n",
              "      padding: 0 0 0 0;\n",
              "      width: 32px;\n",
              "    }\n",
              "\n",
              "    .colab-df-convert:hover {\n",
              "      background-color: #E2EBFA;\n",
              "      box-shadow: 0px 1px 2px rgba(60, 64, 67, 0.3), 0px 1px 3px 1px rgba(60, 64, 67, 0.15);\n",
              "      fill: #174EA6;\n",
              "    }\n",
              "\n",
              "    [theme=dark] .colab-df-convert {\n",
              "      background-color: #3B4455;\n",
              "      fill: #D2E3FC;\n",
              "    }\n",
              "\n",
              "    [theme=dark] .colab-df-convert:hover {\n",
              "      background-color: #434B5C;\n",
              "      box-shadow: 0px 1px 3px 1px rgba(0, 0, 0, 0.15);\n",
              "      filter: drop-shadow(0px 1px 2px rgba(0, 0, 0, 0.3));\n",
              "      fill: #FFFFFF;\n",
              "    }\n",
              "  </style>\n",
              "\n",
              "      <script>\n",
              "        const buttonEl =\n",
              "          document.querySelector('#df-ce09cc2a-f064-4486-aa19-c410ec2204a1 button.colab-df-convert');\n",
              "        buttonEl.style.display =\n",
              "          google.colab.kernel.accessAllowed ? 'block' : 'none';\n",
              "\n",
              "        async function convertToInteractive(key) {\n",
              "          const element = document.querySelector('#df-ce09cc2a-f064-4486-aa19-c410ec2204a1');\n",
              "          const dataTable =\n",
              "            await google.colab.kernel.invokeFunction('convertToInteractive',\n",
              "                                                     [key], {});\n",
              "          if (!dataTable) return;\n",
              "\n",
              "          const docLinkHtml = 'Like what you see? Visit the ' +\n",
              "            '<a target=\"_blank\" href=https://colab.research.google.com/notebooks/data_table.ipynb>data table notebook</a>'\n",
              "            + ' to learn more about interactive tables.';\n",
              "          element.innerHTML = '';\n",
              "          dataTable['output_type'] = 'display_data';\n",
              "          await google.colab.output.renderOutput(dataTable, element);\n",
              "          const docLink = document.createElement('div');\n",
              "          docLink.innerHTML = docLinkHtml;\n",
              "          element.appendChild(docLink);\n",
              "        }\n",
              "      </script>\n",
              "    </div>\n",
              "  </div>\n",
              "  "
            ]
          },
          "metadata": {},
          "execution_count": 11
        }
      ]
    },
    {
      "cell_type": "code",
      "source": [
        "def basic_clean(text):\n",
        "  \"\"\"\n",
        "  A simple function to clean up the data. All the words that\n",
        "  are not designated as a stop word is then lemmatized after\n",
        "  encoding and basic regex parsing are performed.\n",
        "  \"\"\"\n",
        "  wnl = nltk.stem.WordNetLemmatizer()\n",
        "  stopwords = nltk.corpus.stopwords.words('english')\n",
        "  text = (unicodedata.normalize('NFKD', text)\n",
        "    .encode('ascii', 'ignore')\n",
        "    .decode('utf-8', 'ignore')\n",
        "    .lower())\n",
        "  words = re.sub(r'[^\\w\\s]', '', text).split()\n",
        "  return [wnl.lemmatize(word) for word in words if word not in stopwords]"
      ],
      "metadata": {
        "id": "ffD3BScRrRYs"
      },
      "execution_count": 12,
      "outputs": []
    },
    {
      "cell_type": "markdown",
      "source": [
        "# Unigram model\n"
      ],
      "metadata": {
        "id": "GukKXjgQg6WG"
      }
    },
    {
      "cell_type": "code",
      "source": [
        "# run the clean function\n",
        "words = basic_clean(''.join(str(df_noSW['Answer'].tolist())))\n",
        "human_words = basic_clean(''.join(str(df_stackoverflow['Answer'].tolist())))\n",
        "chatgpt_words = basic_clean(''.join(str(df_tedx['Answer'].tolist())))"
      ],
      "metadata": {
        "id": "JF2av2e1EyXe"
      },
      "execution_count": 13,
      "outputs": []
    },
    {
      "cell_type": "markdown",
      "source": [
        "## Visualizing 'human words'"
      ],
      "metadata": {
        "id": "BILwi5E8L3fo"
      }
    },
    {
      "cell_type": "code",
      "source": [
        "unigram = (pd.Series(nltk.ngrams(human_words, 1)).value_counts())\n",
        "bigram = (pd.Series(nltk.ngrams(human_words, 2)).value_counts())\n",
        "trigram = (pd.Series(nltk.ngrams(human_words, 3)).value_counts())"
      ],
      "metadata": {
        "id": "FmMz5sp-FyR1"
      },
      "execution_count": 31,
      "outputs": []
    },
    {
      "cell_type": "code",
      "source": [
        "# create series of top 10 of n-gram\n",
        "unigrams_series = unigram[:10]\n",
        "bigrams_series = bigram[:10]\n",
        "trigrams_series = trigram[:10]"
      ],
      "metadata": {
        "id": "mroH8Kb7Hn3V"
      },
      "execution_count": 32,
      "outputs": []
    },
    {
      "cell_type": "code",
      "source": [
        "unigrams_series.sort_values().plot.barh(color='lightblue', width=.9, figsize=(12, 8))\n",
        "plt.title('10 Most Frequently Occuring Unigrams (HUMANS)')\n",
        "plt.ylabel('Unigram')\n",
        "plt.xlabel('# of Occurances')"
      ],
      "metadata": {
        "colab": {
          "base_uri": "https://localhost:8080/",
          "height": 499
        },
        "id": "fEkZx1bQGot_",
        "outputId": "400267dc-662d-4afa-f45e-41ecf20e1d2d"
      },
      "execution_count": 33,
      "outputs": [
        {
          "output_type": "execute_result",
          "data": {
            "text/plain": [
              "Text(0.5, 0, '# of Occurances')"
            ]
          },
          "metadata": {},
          "execution_count": 33
        },
        {
          "output_type": "display_data",
          "data": {
            "text/plain": [
              "<Figure size 864x576 with 1 Axes>"
            ],
            "image/png": "[encoded data removed]"
          },
          "metadata": {
            "needs_background": "light"
          }
        }
      ]
    },
    {
      "cell_type": "code",
      "source": [
        "bigrams_series.sort_values().plot.barh(color='blue', width=.9, figsize=(12, 8))\n",
        "plt.title('10 Most Frequently Occuring Bigrams (HUMANS)')\n",
        "plt.ylabel('Bigram')\n",
        "plt.xlabel('# of Occurances')"
      ],
      "metadata": {
        "colab": {
          "base_uri": "https://localhost:8080/",
          "height": 482
        },
        "id": "QptkT1IiHing",
        "outputId": "eba7d6a9-7db4-4d88-fbe4-40d6119cce08"
      },
      "execution_count": 34,
      "outputs": [
        {
          "output_type": "execute_result",
          "data": {
            "text/plain": [
              "Text(0.5, 0, '# of Occurances')"
            ]
          },
          "metadata": {},
          "execution_count": 34
        },
        {
          "output_type": "display_data",
          "data": {
            "text/plain": [
              "<Figure size 864x576 with 1 Axes>"
            ],
            "image/png": "[encoded data removed]"
          },
          "metadata": {
            "needs_background": "light"
          }
        }
      ]
    },
    {
      "cell_type": "code",
      "source": [
        "trigrams_series.sort_values().plot.barh(color='darkblue', width=.9, figsize=(12, 8))\n",
        "plt.title('10 Most Frequently Occuring Bigrams (HUMANS)')\n",
        "plt.ylabel('Trigram')\n",
        "plt.xlabel('# of Occurances')"
      ],
      "metadata": {
        "colab": {
          "base_uri": "https://localhost:8080/",
          "height": 413
        },
        "id": "2VULZ5k_Hml1",
        "outputId": "11daaf03-c576-46f8-f926-601e1be910c9"
      },
      "execution_count": 35,
      "outputs": [
        {
          "output_type": "execute_result",
          "data": {
            "text/plain": [
              "Text(0.5, 0, '# of Occurances')"
            ]
          },
          "metadata": {},
          "execution_count": 35
        },
        {
          "output_type": "display_data",
          "data": {
            "text/plain": [
              "<Figure size 864x576 with 1 Axes>"
            ],
            "image/png": "[encoded data removed]"
          },
          "metadata": {
            "needs_background": "light"
          }
        }
      ]
    },
    {
      "cell_type": "markdown",
      "source": [
        "## Visualizing 'chatgpt words'"
      ],
      "metadata": {
        "id": "RSTi7URXMctr"
      }
    },
    {
      "cell_type": "code",
      "source": [
        "unigram = (pd.Series(nltk.ngrams(chatgpt_words, 1)).value_counts())\n",
        "bigram = (pd.Series(nltk.ngrams(chatgpt_words, 2)).value_counts())\n",
        "trigram = (pd.Series(nltk.ngrams(chatgpt_words, 3)).value_counts())"
      ],
      "metadata": {
        "id": "Cw2nA9EgMcts"
      },
      "execution_count": 28,
      "outputs": []
    },
    {
      "cell_type": "code",
      "source": [
        "# create series of top 10 of n-gram\n",
        "unigrams_series = unigram[:10]\n",
        "bigrams_series = bigram[:10]\n",
        "trigrams_series = trigram[:10]"
      ],
      "metadata": {
        "id": "HOicwsEPMcts"
      },
      "execution_count": 29,
      "outputs": []
    },
    {
      "cell_type": "code",
      "source": [
        "unigrams_series.sort_values().plot.barh(color='lightblue', width=.9, figsize=(12, 8))\n",
        "plt.title('10 Most Frequently Occuring Unigrams (CHATGPT)')\n",
        "plt.ylabel('Unigram')\n",
        "plt.xlabel('# of Occurances')"
      ],
      "metadata": {
        "colab": {
          "base_uri": "https://localhost:8080/",
          "height": 499
        },
        "outputId": "14c85666-cc26-4c4c-f143-5b99975f7b12",
        "id": "Z2iYugh8Mcts"
      },
      "execution_count": 36,
      "outputs": [
        {
          "output_type": "execute_result",
          "data": {
            "text/plain": [
              "Text(0.5, 0, '# of Occurances')"
            ]
          },
          "metadata": {},
          "execution_count": 36
        },
        {
          "output_type": "display_data",
          "data": {
            "text/plain": [
              "<Figure size 864x576 with 1 Axes>"
            ],
            "image/png": "[encoded data removed]"
          },
          "metadata": {
            "needs_background": "light"
          }
        }
      ]
    },
    {
      "cell_type": "code",
      "source": [
        "bigrams_series.sort_values().plot.barh(color='blue', width=.9, figsize=(12, 8))\n",
        "plt.title('10 Most Frequently Occuring Bigrams (CHATGPT)')\n",
        "plt.ylabel('Bigram')\n",
        "plt.xlabel('# of Occurances')"
      ],
      "metadata": {
        "colab": {
          "base_uri": "https://localhost:8080/",
          "height": 482
        },
        "outputId": "478188a7-0f21-47d3-bf9e-4e2bb322cd76",
        "id": "wfbXXjNzMcts"
      },
      "execution_count": 37,
      "outputs": [
        {
          "output_type": "execute_result",
          "data": {
            "text/plain": [
              "Text(0.5, 0, '# of Occurances')"
            ]
          },
          "metadata": {},
          "execution_count": 37
        },
        {
          "output_type": "display_data",
          "data": {
            "text/plain": [
              "<Figure size 864x576 with 1 Axes>"
            ],
            "image/png": "[encoded data removed]"
          },
          "metadata": {
            "needs_background": "light"
          }
        }
      ]
    },
    {
      "cell_type": "code",
      "source": [
        "trigrams_series.sort_values().plot.barh(color='darkblue', width=.9, figsize=(12, 8))\n",
        "plt.title('10 Most Frequently Occuring Bigrams (CHATGPT)')\n",
        "plt.ylabel('Trigram')\n",
        "plt.xlabel('# of Occurances')"
      ],
      "metadata": {
        "colab": {
          "base_uri": "https://localhost:8080/",
          "height": 413
        },
        "outputId": "9ff8897b-301b-41f2-d5bd-2995e2859642",
        "id": "RjkxUoeCMcts"
      },
      "execution_count": 38,
      "outputs": [
        {
          "output_type": "execute_result",
          "data": {
            "text/plain": [
              "Text(0.5, 0, '# of Occurances')"
            ]
          },
          "metadata": {},
          "execution_count": 38
        },
        {
          "output_type": "display_data",
          "data": {
            "text/plain": [
              "<Figure size 864x576 with 1 Axes>"
            ],
            "image/png": "[encoded data removed]"
          },
          "metadata": {
            "needs_background": "light"
          }
        }
      ]
    },
    {
      "cell_type": "markdown",
      "source": [
        "## It's SVM time (basic words)"
      ],
      "metadata": {
        "id": "7Th1HVe4hJnl"
      }
    },
    {
      "cell_type": "markdown",
      "source": [
        "### Data Preprocessing"
      ],
      "metadata": {
        "id": "y9ofrOkqvfLX"
      }
    },
    {
      "cell_type": "code",
      "source": [
        "from sklearn import preprocessing\n",
        "\n",
        "le = preprocessing.LabelEncoder()\n",
        "le.fit(df.Label)\n",
        "df['Label'] = le.transform(df.Label)"
      ],
      "metadata": {
        "id": "2gcG6KcLy32Z"
      },
      "execution_count": 39,
      "outputs": []
    },
    {
      "cell_type": "code",
      "source": [
        "df[\"Answer\"] = df[\"Answer\"].astype(str)"
      ],
      "metadata": {
        "id": "LeiNBTxM1Pcu"
      },
      "execution_count": 40,
      "outputs": []
    },
    {
      "cell_type": "code",
      "source": [
        "cleanedData = []\n",
        "\n",
        "lemma = WordNetLemmatizer()\n",
        "swords = stopwords.words(\"english\")\n",
        "counter = 0\n",
        "for text in df[\"Answer\"]:\n",
        "    \n",
        "    # Track loop\n",
        "    counter = counter + 1\n",
        "    print(counter)\n",
        "\n",
        "    # Cleaning links\n",
        "    text = re.sub(r'http\\S+', '', text)\n",
        "    \n",
        "    # Cleaning everything except alphabetical and numerical characters\n",
        "    text = re.sub(\"[^a-zA-Z0-9]\",\" \",text)\n",
        "    \n",
        "    # Tokenizing and lemmatizing\n",
        "    text = nltk.word_tokenize(text.lower())\n",
        "    text = [lemma.lemmatize(word) for word in text]\n",
        "    \n",
        "    # Removing stopwords\n",
        "    text = [word for word in text if word not in swords]\n",
        "    \n",
        "    # Joining\n",
        "    text = \" \".join(text)\n",
        "    \n",
        "    cleanedData.append(text)\n",
        "\n",
        "for i in range(0,5):\n",
        "    print(cleanedData[i],end=\"\\n\\n\")"
      ],
      "metadata": {
        "colab": {
          "base_uri": "https://localhost:8080/"
        },
        "id": "23a9BC4BpILQ",
        "outputId": "2d5556d1-1392-405f-e9c1-dd3ed1acd39e"
      },
      "execution_count": 41,
      "outputs": [
        {
          "output_type": "stream",
          "name": "stdout",
          "text": [
            "1\n",
            "2\n",
            "3\n",
            "4\n",
            "5\n",
            "6\n",
            "7\n",
            "8\n",
            "9\n",
            "10\n",
            "11\n",
            "12\n",
            "13\n",
            "14\n",
            "15\n",
            "16\n",
            "17\n",
            "18\n",
            "19\n",
            "20\n",
            "21\n",
            "22\n",
            "23\n",
            "24\n",
            "25\n",
            "26\n",
            "27\n",
            "28\n",
            "29\n",
            "30\n",
            "31\n",
            "32\n",
            "33\n",
            "34\n",
            "35\n",
            "36\n",
            "37\n",
            "38\n",
            "39\n",
            "40\n",
            "41\n",
            "42\n",
            "43\n",
            "44\n",
            "45\n",
            "46\n",
            "47\n",
            "48\n",
            "49\n",
            "50\n",
            "51\n",
            "52\n",
            "53\n",
            "54\n",
            "55\n",
            "56\n",
            "57\n",
            "58\n",
            "59\n",
            "60\n",
            "61\n",
            "62\n",
            "63\n",
            "64\n",
            "65\n",
            "66\n",
            "67\n",
            "68\n",
            "69\n",
            "70\n",
            "71\n",
            "72\n",
            "73\n",
            "74\n",
            "75\n",
            "76\n",
            "77\n",
            "78\n",
            "79\n",
            "80\n",
            "81\n",
            "82\n",
            "83\n",
            "84\n",
            "85\n",
            "86\n",
            "87\n",
            "88\n",
            "89\n",
            "90\n",
            "91\n",
            "92\n",
            "93\n",
            "94\n",
            "95\n",
            "96\n",
            "97\n",
            "98\n",
            "99\n",
            "100\n",
            "101\n",
            "102\n",
            "103\n",
            "104\n",
            "105\n",
            "106\n",
            "107\n",
            "108\n",
            "109\n",
            "110\n",
            "111\n",
            "112\n",
            "113\n",
            "114\n",
            "115\n",
            "116\n",
            "117\n",
            "118\n",
            "119\n",
            "120\n",
            "121\n",
            "122\n",
            "123\n",
            "124\n",
            "125\n",
            "126\n",
            "127\n",
            "128\n",
            "129\n",
            "130\n",
            "131\n",
            "132\n",
            "133\n",
            "134\n",
            "135\n",
            "136\n",
            "137\n",
            "138\n",
            "139\n",
            "140\n",
            "141\n",
            "142\n",
            "143\n",
            "144\n",
            "145\n",
            "146\n",
            "147\n",
            "148\n",
            "149\n",
            "150\n",
            "151\n",
            "152\n",
            "153\n",
            "154\n",
            "155\n",
            "156\n",
            "157\n",
            "158\n",
            "159\n",
            "160\n",
            "161\n",
            "162\n",
            "163\n",
            "164\n",
            "165\n",
            "166\n",
            "167\n",
            "168\n",
            "169\n",
            "170\n",
            "171\n",
            "172\n",
            "173\n",
            "174\n",
            "175\n",
            "176\n",
            "177\n",
            "178\n",
            "179\n",
            "180\n",
            "181\n",
            "182\n",
            "183\n",
            "184\n",
            "185\n",
            "186\n",
            "187\n",
            "188\n",
            "189\n",
            "190\n",
            "191\n",
            "192\n",
            "193\n",
            "194\n",
            "195\n",
            "196\n",
            "197\n",
            "198\n",
            "199\n",
            "200\n",
            "201\n",
            "202\n",
            "203\n",
            "204\n",
            "205\n",
            "206\n",
            "207\n",
            "208\n",
            "209\n",
            "210\n",
            "211\n",
            "212\n",
            "213\n",
            "214\n",
            "215\n",
            "216\n",
            "217\n",
            "218\n",
            "219\n",
            "220\n",
            "221\n",
            "222\n",
            "223\n",
            "224\n",
            "225\n",
            "226\n",
            "227\n",
            "228\n",
            "229\n",
            "230\n",
            "231\n",
            "232\n",
            "233\n",
            "234\n",
            "235\n",
            "236\n",
            "237\n",
            "238\n",
            "239\n",
            "240\n",
            "241\n",
            "242\n",
            "243\n",
            "244\n",
            "245\n",
            "246\n",
            "247\n",
            "248\n",
            "249\n",
            "250\n",
            "251\n",
            "252\n",
            "253\n",
            "254\n",
            "255\n",
            "256\n",
            "257\n",
            "258\n",
            "259\n",
            "260\n",
            "261\n",
            "262\n",
            "263\n",
            "264\n",
            "265\n",
            "266\n",
            "267\n",
            "268\n",
            "269\n",
            "270\n",
            "271\n",
            "272\n",
            "273\n",
            "274\n",
            "275\n",
            "276\n",
            "277\n",
            "278\n",
            "279\n",
            "280\n",
            "281\n",
            "282\n",
            "283\n",
            "284\n",
            "285\n",
            "286\n",
            "287\n",
            "288\n",
            "289\n",
            "290\n",
            "291\n",
            "292\n",
            "293\n",
            "294\n",
            "295\n",
            "296\n",
            "297\n",
            "298\n",
            "299\n",
            "300\n",
            "301\n",
            "302\n",
            "303\n",
            "304\n",
            "305\n",
            "306\n",
            "307\n",
            "308\n",
            "309\n",
            "310\n",
            "311\n",
            "312\n",
            "313\n",
            "314\n",
            "315\n",
            "316\n",
            "317\n",
            "318\n",
            "319\n",
            "320\n",
            "321\n",
            "322\n",
            "323\n",
            "324\n",
            "325\n",
            "326\n",
            "327\n",
            "328\n",
            "329\n",
            "330\n",
            "331\n",
            "332\n",
            "333\n",
            "334\n",
            "335\n",
            "336\n",
            "337\n",
            "338\n",
            "339\n",
            "340\n",
            "341\n",
            "342\n",
            "343\n",
            "344\n",
            "345\n",
            "346\n",
            "347\n",
            "348\n",
            "349\n",
            "350\n",
            "351\n",
            "352\n",
            "353\n",
            "354\n",
            "355\n",
            "356\n",
            "357\n",
            "358\n",
            "359\n",
            "360\n",
            "361\n",
            "362\n",
            "363\n",
            "364\n",
            "365\n",
            "366\n",
            "367\n",
            "368\n",
            "369\n",
            "370\n",
            "371\n",
            "372\n",
            "373\n",
            "374\n",
            "375\n",
            "376\n",
            "377\n",
            "378\n",
            "379\n",
            "380\n",
            "381\n",
            "382\n",
            "383\n",
            "384\n",
            "385\n",
            "386\n",
            "387\n",
            "388\n",
            "389\n",
            "390\n",
            "391\n",
            "392\n",
            "393\n",
            "394\n",
            "395\n",
            "396\n",
            "397\n",
            "398\n",
            "399\n",
            "400\n",
            "401\n",
            "402\n",
            "403\n",
            "404\n",
            "405\n",
            "406\n",
            "407\n",
            "408\n",
            "409\n",
            "410\n",
            "411\n",
            "412\n",
            "413\n",
            "414\n",
            "415\n",
            "416\n",
            "417\n",
            "418\n",
            "419\n",
            "420\n",
            "421\n",
            "422\n",
            "423\n",
            "424\n",
            "425\n",
            "426\n",
            "427\n",
            "428\n",
            "429\n",
            "430\n",
            "431\n",
            "432\n",
            "433\n",
            "434\n",
            "435\n",
            "436\n",
            "437\n",
            "438\n",
            "439\n",
            "440\n",
            "441\n",
            "442\n",
            "443\n",
            "444\n",
            "445\n",
            "446\n",
            "447\n",
            "448\n",
            "449\n",
            "450\n",
            "451\n",
            "452\n",
            "453\n",
            "454\n",
            "455\n",
            "456\n",
            "457\n",
            "458\n",
            "459\n",
            "460\n",
            "461\n",
            "462\n",
            "463\n",
            "464\n",
            "465\n",
            "466\n",
            "467\n",
            "468\n",
            "469\n",
            "470\n",
            "471\n",
            "472\n",
            "473\n",
            "474\n",
            "475\n",
            "476\n",
            "477\n",
            "478\n",
            "479\n",
            "480\n",
            "481\n",
            "482\n",
            "483\n",
            "484\n",
            "485\n",
            "486\n",
            "487\n",
            "488\n",
            "489\n",
            "490\n",
            "491\n",
            "492\n",
            "493\n",
            "494\n",
            "495\n",
            "496\n",
            "497\n",
            "498\n",
            "499\n",
            "500\n",
            "501\n",
            "502\n",
            "503\n",
            "504\n",
            "505\n",
            "506\n",
            "507\n",
            "508\n",
            "509\n",
            "510\n",
            "511\n",
            "512\n",
            "513\n",
            "514\n",
            "515\n",
            "516\n",
            "517\n",
            "518\n",
            "519\n",
            "520\n",
            "521\n",
            "522\n",
            "523\n",
            "524\n",
            "525\n",
            "526\n",
            "527\n",
            "528\n",
            "529\n",
            "530\n",
            "531\n",
            "532\n",
            "533\n",
            "534\n",
            "535\n",
            "536\n",
            "537\n",
            "538\n",
            "539\n",
            "540\n",
            "541\n",
            "542\n",
            "543\n",
            "544\n",
            "545\n",
            "546\n",
            "547\n",
            "548\n",
            "549\n",
            "550\n",
            "551\n",
            "552\n",
            "553\n",
            "554\n",
            "555\n",
            "556\n",
            "557\n",
            "558\n",
            "559\n",
            "560\n",
            "561\n",
            "562\n",
            "563\n",
            "564\n",
            "565\n",
            "566\n",
            "567\n",
            "568\n",
            "569\n",
            "570\n",
            "571\n",
            "572\n",
            "573\n",
            "574\n",
            "575\n",
            "576\n",
            "577\n",
            "578\n",
            "579\n",
            "580\n",
            "581\n",
            "582\n",
            "583\n",
            "584\n",
            "585\n",
            "586\n",
            "587\n",
            "588\n",
            "589\n",
            "590\n",
            "591\n",
            "592\n",
            "593\n",
            "594\n",
            "595\n",
            "596\n",
            "597\n",
            "598\n",
            "599\n",
            "600\n",
            "601\n",
            "602\n",
            "603\n",
            "604\n",
            "605\n",
            "606\n",
            "607\n",
            "608\n",
            "609\n",
            "610\n",
            "611\n",
            "612\n",
            "613\n",
            "614\n",
            "615\n",
            "616\n",
            "617\n",
            "618\n",
            "619\n",
            "620\n",
            "621\n",
            "622\n",
            "623\n",
            "624\n",
            "625\n",
            "626\n",
            "627\n",
            "628\n",
            "629\n",
            "630\n",
            "631\n",
            "632\n",
            "633\n",
            "634\n",
            "635\n",
            "636\n",
            "637\n",
            "638\n",
            "639\n",
            "640\n",
            "641\n",
            "642\n",
            "643\n",
            "644\n",
            "645\n",
            "646\n",
            "647\n",
            "648\n",
            "649\n",
            "650\n",
            "651\n",
            "652\n",
            "653\n",
            "654\n",
            "655\n",
            "656\n",
            "657\n",
            "658\n",
            "659\n",
            "660\n",
            "661\n",
            "662\n",
            "663\n",
            "664\n",
            "665\n",
            "666\n",
            "667\n",
            "668\n",
            "669\n",
            "670\n",
            "671\n",
            "672\n",
            "673\n",
            "674\n",
            "675\n",
            "676\n",
            "677\n",
            "678\n",
            "679\n",
            "680\n",
            "681\n",
            "682\n",
            "683\n",
            "684\n",
            "685\n",
            "686\n",
            "687\n",
            "688\n",
            "689\n",
            "690\n",
            "691\n",
            "692\n",
            "693\n",
            "694\n",
            "695\n",
            "696\n",
            "697\n",
            "698\n",
            "699\n",
            "700\n",
            "701\n",
            "702\n",
            "703\n",
            "704\n",
            "705\n",
            "706\n",
            "707\n",
            "708\n",
            "709\n",
            "710\n",
            "711\n",
            "712\n",
            "713\n",
            "714\n",
            "715\n",
            "716\n",
            "717\n",
            "718\n",
            "719\n",
            "720\n",
            "721\n",
            "722\n",
            "723\n",
            "724\n",
            "725\n",
            "726\n",
            "727\n",
            "728\n",
            "729\n",
            "730\n",
            "731\n",
            "732\n",
            "733\n",
            "734\n",
            "735\n",
            "736\n",
            "737\n",
            "738\n",
            "739\n",
            "740\n",
            "741\n",
            "742\n",
            "743\n",
            "744\n",
            "745\n",
            "746\n",
            "747\n",
            "748\n",
            "749\n",
            "750\n",
            "751\n",
            "752\n",
            "753\n",
            "754\n",
            "755\n",
            "756\n",
            "757\n",
            "758\n",
            "759\n",
            "760\n",
            "761\n",
            "762\n",
            "763\n",
            "764\n",
            "765\n",
            "766\n",
            "767\n",
            "768\n",
            "769\n",
            "770\n",
            "771\n",
            "772\n",
            "773\n",
            "774\n",
            "775\n",
            "776\n",
            "777\n",
            "778\n",
            "779\n",
            "780\n",
            "781\n",
            "782\n",
            "783\n",
            "784\n",
            "785\n",
            "786\n",
            "787\n",
            "788\n",
            "789\n",
            "790\n",
            "791\n",
            "792\n",
            "793\n",
            "794\n",
            "795\n",
            "796\n",
            "797\n",
            "798\n",
            "799\n",
            "800\n",
            "801\n",
            "802\n",
            "803\n",
            "804\n",
            "805\n",
            "806\n",
            "807\n",
            "808\n",
            "809\n",
            "810\n",
            "811\n",
            "812\n",
            "813\n",
            "814\n",
            "815\n",
            "816\n",
            "817\n",
            "818\n",
            "819\n",
            "820\n",
            "821\n",
            "822\n",
            "823\n",
            "824\n",
            "825\n",
            "826\n",
            "827\n",
            "828\n",
            "829\n",
            "830\n",
            "831\n",
            "832\n",
            "833\n",
            "834\n",
            "835\n",
            "836\n",
            "837\n",
            "838\n",
            "839\n",
            "840\n",
            "841\n",
            "842\n",
            "843\n",
            "844\n",
            "845\n",
            "846\n",
            "847\n",
            "848\n",
            "849\n",
            "850\n",
            "851\n",
            "852\n",
            "853\n",
            "854\n",
            "855\n",
            "856\n",
            "857\n",
            "858\n",
            "859\n",
            "860\n",
            "861\n",
            "862\n",
            "863\n",
            "864\n",
            "865\n",
            "866\n",
            "867\n",
            "868\n",
            "869\n",
            "870\n",
            "871\n",
            "872\n",
            "873\n",
            "874\n",
            "875\n",
            "876\n",
            "877\n",
            "878\n",
            "879\n",
            "880\n",
            "881\n",
            "882\n",
            "883\n",
            "884\n",
            "885\n",
            "886\n",
            "887\n",
            "888\n",
            "889\n",
            "890\n",
            "891\n",
            "892\n",
            "893\n",
            "894\n",
            "895\n",
            "896\n",
            "897\n",
            "898\n",
            "899\n",
            "900\n",
            "901\n",
            "902\n",
            "903\n",
            "904\n",
            "905\n",
            "906\n",
            "907\n",
            "908\n",
            "909\n",
            "910\n",
            "911\n",
            "912\n",
            "913\n",
            "914\n",
            "915\n",
            "916\n",
            "917\n",
            "918\n",
            "919\n",
            "920\n",
            "921\n",
            "922\n",
            "923\n",
            "924\n",
            "925\n",
            "926\n",
            "927\n",
            "928\n",
            "929\n",
            "930\n",
            "931\n",
            "932\n",
            "933\n",
            "934\n",
            "935\n",
            "936\n",
            "937\n",
            "938\n",
            "939\n",
            "940\n",
            "941\n",
            "942\n",
            "943\n",
            "944\n",
            "945\n",
            "946\n",
            "947\n",
            "948\n",
            "949\n",
            "950\n",
            "951\n",
            "952\n",
            "953\n",
            "954\n",
            "955\n",
            "956\n",
            "957\n",
            "958\n",
            "959\n",
            "960\n",
            "961\n",
            "962\n",
            "963\n",
            "964\n",
            "965\n",
            "966\n",
            "967\n",
            "968\n",
            "969\n",
            "970\n",
            "971\n",
            "972\n",
            "973\n",
            "974\n",
            "975\n",
            "976\n",
            "977\n",
            "978\n",
            "979\n",
            "980\n",
            "981\n",
            "982\n",
            "983\n",
            "984\n",
            "985\n",
            "986\n",
            "987\n",
            "988\n",
            "989\n",
            "990\n",
            "991\n",
            "992\n",
            "993\n",
            "994\n",
            "995\n",
            "996\n",
            "997\n",
            "998\n",
            "999\n",
            "1000\n",
            "1001\n",
            "1002\n",
            "1003\n",
            "1004\n",
            "1005\n",
            "1006\n",
            "1007\n",
            "1008\n",
            "1009\n",
            "1010\n",
            "1011\n",
            "1012\n",
            "1013\n",
            "1014\n",
            "1015\n",
            "1016\n",
            "1017\n",
            "1018\n",
            "1019\n",
            "1020\n",
            "1021\n",
            "1022\n",
            "1023\n",
            "1024\n",
            "1025\n",
            "1026\n",
            "1027\n",
            "1028\n",
            "1029\n",
            "1030\n",
            "1031\n",
            "1032\n",
            "1033\n",
            "1034\n",
            "1035\n",
            "1036\n",
            "1037\n",
            "1038\n",
            "1039\n",
            "1040\n",
            "1041\n",
            "1042\n",
            "1043\n",
            "1044\n",
            "1045\n",
            "1046\n",
            "1047\n",
            "1048\n",
            "1049\n",
            "1050\n",
            "1051\n",
            "1052\n",
            "1053\n",
            "1054\n",
            "1055\n",
            "1056\n",
            "1057\n",
            "1058\n",
            "1059\n",
            "1060\n",
            "1061\n",
            "1062\n",
            "1063\n",
            "1064\n",
            "1065\n",
            "1066\n",
            "1067\n",
            "1068\n",
            "1069\n",
            "1070\n",
            "1071\n",
            "1072\n",
            "1073\n",
            "1074\n",
            "1075\n",
            "1076\n",
            "1077\n",
            "1078\n",
            "1079\n",
            "1080\n",
            "1081\n",
            "1082\n",
            "1083\n",
            "1084\n",
            "1085\n",
            "1086\n",
            "1087\n",
            "1088\n",
            "1089\n",
            "1090\n",
            "1091\n",
            "1092\n",
            "1093\n",
            "1094\n",
            "1095\n",
            "1096\n",
            "1097\n",
            "1098\n",
            "1099\n",
            "1100\n",
            "1101\n",
            "1102\n",
            "1103\n",
            "1104\n",
            "1105\n",
            "1106\n",
            "1107\n",
            "1108\n",
            "1109\n",
            "1110\n",
            "1111\n",
            "1112\n",
            "1113\n",
            "1114\n",
            "1115\n",
            "1116\n",
            "1117\n",
            "1118\n",
            "1119\n",
            "1120\n",
            "1121\n",
            "1122\n",
            "1123\n",
            "1124\n",
            "1125\n",
            "1126\n",
            "1127\n",
            "1128\n",
            "1129\n",
            "1130\n",
            "1131\n",
            "1132\n",
            "1133\n",
            "1134\n",
            "1135\n",
            "1136\n",
            "1137\n",
            "1138\n",
            "1139\n",
            "1140\n",
            "1141\n",
            "1142\n",
            "1143\n",
            "1144\n",
            "1145\n",
            "1146\n",
            "1147\n",
            "1148\n",
            "1149\n",
            "1150\n",
            "1151\n",
            "1152\n",
            "1153\n",
            "1154\n",
            "1155\n",
            "1156\n",
            "1157\n",
            "1158\n",
            "1159\n",
            "1160\n",
            "1161\n",
            "1162\n",
            "1163\n",
            "1164\n",
            "1165\n",
            "1166\n",
            "1167\n",
            "1168\n",
            "1169\n",
            "1170\n",
            "1171\n",
            "1172\n",
            "1173\n",
            "1174\n",
            "1175\n",
            "1176\n",
            "1177\n",
            "1178\n",
            "1179\n",
            "1180\n",
            "1181\n",
            "1182\n",
            "1183\n",
            "1184\n",
            "1185\n",
            "1186\n",
            "1187\n",
            "1188\n",
            "1189\n",
            "1190\n",
            "1191\n",
            "1192\n",
            "1193\n",
            "1194\n",
            "1195\n",
            "1196\n",
            "1197\n",
            "1198\n",
            "1199\n",
            "1200\n",
            "1201\n",
            "1202\n",
            "1203\n",
            "1204\n",
            "1205\n",
            "1206\n",
            "1207\n",
            "1208\n",
            "1209\n",
            "1210\n",
            "1211\n",
            "1212\n",
            "1213\n",
            "1214\n",
            "1215\n",
            "1216\n",
            "1217\n",
            "1218\n",
            "1219\n",
            "1220\n",
            "1221\n",
            "1222\n",
            "1223\n",
            "1224\n",
            "1225\n",
            "1226\n",
            "1227\n",
            "1228\n",
            "1229\n",
            "1230\n",
            "1231\n",
            "1232\n",
            "1233\n",
            "1234\n",
            "1235\n",
            "1236\n",
            "1237\n",
            "1238\n",
            "1239\n",
            "1240\n",
            "1241\n",
            "1242\n",
            "1243\n",
            "1244\n",
            "1245\n",
            "1246\n",
            "1247\n",
            "1248\n",
            "1249\n",
            "1250\n",
            "1251\n",
            "1252\n",
            "1253\n",
            "1254\n",
            "1255\n",
            "1256\n",
            "1257\n",
            "1258\n",
            "1259\n",
            "1260\n",
            "1261\n",
            "1262\n",
            "1263\n",
            "1264\n",
            "1265\n",
            "1266\n",
            "1267\n",
            "1268\n",
            "1269\n",
            "1270\n",
            "1271\n",
            "1272\n",
            "1273\n",
            "1274\n",
            "1275\n",
            "1276\n",
            "1277\n",
            "1278\n",
            "1279\n",
            "1280\n",
            "1281\n",
            "1282\n",
            "1283\n",
            "1284\n",
            "1285\n",
            "1286\n",
            "1287\n",
            "1288\n",
            "1289\n",
            "1290\n",
            "1291\n",
            "1292\n",
            "1293\n",
            "1294\n",
            "1295\n",
            "1296\n",
            "1297\n",
            "1298\n",
            "1299\n",
            "1300\n",
            "1301\n",
            "1302\n",
            "1303\n",
            "1304\n",
            "1305\n",
            "1306\n",
            "1307\n",
            "1308\n",
            "1309\n",
            "1310\n",
            "1311\n",
            "1312\n",
            "1313\n",
            "1314\n",
            "1315\n",
            "1316\n",
            "1317\n",
            "1318\n",
            "1319\n",
            "1320\n",
            "1321\n",
            "1322\n",
            "1323\n",
            "1324\n",
            "1325\n",
            "1326\n",
            "1327\n",
            "1328\n",
            "1329\n",
            "1330\n",
            "1331\n",
            "1332\n",
            "1333\n",
            "1334\n",
            "1335\n",
            "1336\n",
            "1337\n",
            "1338\n",
            "1339\n",
            "1340\n",
            "1341\n",
            "1342\n",
            "1343\n",
            "1344\n",
            "1345\n",
            "1346\n",
            "1347\n",
            "1348\n",
            "1349\n",
            "1350\n",
            "1351\n",
            "1352\n",
            "1353\n",
            "1354\n",
            "1355\n",
            "1356\n",
            "1357\n",
            "1358\n",
            "1359\n",
            "1360\n",
            "1361\n",
            "1362\n",
            "1363\n",
            "1364\n",
            "1365\n",
            "1366\n",
            "1367\n",
            "1368\n",
            "1369\n",
            "1370\n",
            "1371\n",
            "1372\n",
            "1373\n",
            "1374\n",
            "1375\n",
            "1376\n",
            "1377\n",
            "1378\n",
            "1379\n",
            "1380\n",
            "1381\n",
            "1382\n",
            "1383\n",
            "1384\n",
            "1385\n",
            "1386\n",
            "1387\n",
            "1388\n",
            "1389\n",
            "1390\n",
            "1391\n",
            "1392\n",
            "1393\n",
            "1394\n",
            "1395\n",
            "1396\n",
            "1397\n",
            "1398\n",
            "1399\n",
            "1400\n",
            "1401\n",
            "1402\n",
            "1403\n",
            "1404\n",
            "1405\n",
            "1406\n",
            "1407\n",
            "1408\n",
            "1409\n",
            "1410\n",
            "1411\n",
            "1412\n",
            "1413\n",
            "1414\n",
            "1415\n",
            "1416\n",
            "1417\n",
            "1418\n",
            "1419\n",
            "1420\n",
            "1421\n",
            "1422\n",
            "1423\n",
            "1424\n",
            "1425\n",
            "1426\n",
            "1427\n",
            "1428\n",
            "1429\n",
            "1430\n",
            "1431\n",
            "1432\n",
            "1433\n",
            "1434\n",
            "1435\n",
            "1436\n",
            "1437\n",
            "1438\n",
            "1439\n",
            "1440\n",
            "1441\n",
            "1442\n",
            "1443\n",
            "1444\n",
            "1445\n",
            "1446\n",
            "1447\n",
            "1448\n",
            "1449\n",
            "1450\n",
            "1451\n",
            "1452\n",
            "1453\n",
            "1454\n",
            "1455\n",
            "1456\n",
            "1457\n",
            "1458\n",
            "1459\n",
            "1460\n",
            "1461\n",
            "1462\n",
            "1463\n",
            "1464\n",
            "1465\n",
            "1466\n",
            "1467\n",
            "1468\n",
            "1469\n",
            "1470\n",
            "1471\n",
            "1472\n",
            "1473\n",
            "1474\n",
            "1475\n",
            "1476\n",
            "1477\n",
            "1478\n",
            "1479\n",
            "1480\n",
            "1481\n",
            "1482\n",
            "1483\n",
            "1484\n",
            "1485\n",
            "1486\n",
            "1487\n",
            "1488\n",
            "1489\n",
            "1490\n",
            "1491\n",
            "1492\n",
            "1493\n",
            "1494\n",
            "1495\n",
            "1496\n",
            "1497\n",
            "1498\n",
            "1499\n",
            "1500\n",
            "1501\n",
            "1502\n",
            "1503\n",
            "1504\n",
            "1505\n",
            "1506\n",
            "1507\n",
            "1508\n",
            "1509\n",
            "1510\n",
            "1511\n",
            "1512\n",
            "1513\n",
            "1514\n",
            "1515\n",
            "1516\n",
            "1517\n",
            "1518\n",
            "1519\n",
            "1520\n",
            "1521\n",
            "1522\n",
            "1523\n",
            "1524\n",
            "1525\n",
            "1526\n",
            "1527\n",
            "1528\n",
            "1529\n",
            "1530\n",
            "1531\n",
            "1532\n",
            "1533\n",
            "1534\n",
            "1535\n",
            "1536\n",
            "1537\n",
            "1538\n",
            "1539\n",
            "1540\n",
            "1541\n",
            "1542\n",
            "1543\n",
            "1544\n",
            "1545\n",
            "1546\n",
            "1547\n",
            "1548\n",
            "1549\n",
            "1550\n",
            "1551\n",
            "1552\n",
            "1553\n",
            "1554\n",
            "1555\n",
            "1556\n",
            "1557\n",
            "1558\n",
            "1559\n",
            "1560\n",
            "1561\n",
            "1562\n",
            "1563\n",
            "1564\n",
            "1565\n",
            "1566\n",
            "1567\n",
            "1568\n",
            "1569\n",
            "1570\n",
            "1571\n",
            "1572\n",
            "1573\n",
            "1574\n",
            "1575\n",
            "1576\n",
            "1577\n",
            "1578\n",
            "1579\n",
            "1580\n",
            "1581\n",
            "1582\n",
            "1583\n",
            "1584\n",
            "1585\n",
            "1586\n",
            "1587\n",
            "1588\n",
            "1589\n",
            "1590\n",
            "1591\n",
            "1592\n",
            "1593\n",
            "1594\n",
            "1595\n",
            "1596\n",
            "1597\n",
            "1598\n",
            "1599\n",
            "1600\n",
            "1601\n",
            "1602\n",
            "1603\n",
            "1604\n",
            "1605\n",
            "1606\n",
            "1607\n",
            "1608\n",
            "1609\n",
            "1610\n",
            "1611\n",
            "1612\n",
            "1613\n",
            "1614\n",
            "1615\n",
            "1616\n",
            "1617\n",
            "1618\n",
            "1619\n",
            "1620\n",
            "1621\n",
            "1622\n",
            "1623\n",
            "1624\n",
            "1625\n",
            "1626\n",
            "1627\n",
            "1628\n",
            "1629\n",
            "1630\n",
            "1631\n",
            "1632\n",
            "1633\n",
            "1634\n",
            "1635\n",
            "1636\n",
            "1637\n",
            "1638\n",
            "1639\n",
            "1640\n",
            "1641\n",
            "1642\n",
            "1643\n",
            "1644\n",
            "1645\n",
            "1646\n",
            "1647\n",
            "1648\n",
            "1649\n",
            "1650\n",
            "1651\n",
            "1652\n",
            "1653\n",
            "1654\n",
            "1655\n",
            "1656\n",
            "1657\n",
            "1658\n",
            "1659\n",
            "1660\n",
            "1661\n",
            "1662\n",
            "1663\n",
            "1664\n",
            "1665\n",
            "1666\n",
            "1667\n",
            "1668\n",
            "1669\n",
            "1670\n",
            "1671\n",
            "1672\n",
            "1673\n",
            "1674\n",
            "1675\n",
            "1676\n",
            "1677\n",
            "1678\n",
            "1679\n",
            "1680\n",
            "1681\n",
            "1682\n",
            "1683\n",
            "1684\n",
            "1685\n",
            "1686\n",
            "1687\n",
            "1688\n",
            "1689\n",
            "1690\n",
            "1691\n",
            "1692\n",
            "1693\n",
            "1694\n",
            "1695\n",
            "1696\n",
            "1697\n",
            "1698\n",
            "1699\n",
            "1700\n",
            "1701\n",
            "1702\n",
            "1703\n",
            "1704\n",
            "1705\n",
            "1706\n",
            "1707\n",
            "1708\n",
            "1709\n",
            "1710\n",
            "1711\n",
            "1712\n",
            "1713\n",
            "1714\n",
            "1715\n",
            "1716\n",
            "1717\n",
            "1718\n",
            "1719\n",
            "1720\n",
            "1721\n",
            "1722\n",
            "1723\n",
            "1724\n",
            "1725\n",
            "1726\n",
            "1727\n",
            "1728\n",
            "1729\n",
            "1730\n",
            "1731\n",
            "1732\n",
            "1733\n",
            "1734\n",
            "1735\n",
            "1736\n",
            "1737\n",
            "1738\n",
            "1739\n",
            "1740\n",
            "1741\n",
            "1742\n",
            "1743\n",
            "1744\n",
            "1745\n",
            "1746\n",
            "1747\n",
            "1748\n",
            "1749\n",
            "1750\n",
            "1751\n",
            "1752\n",
            "1753\n",
            "1754\n",
            "1755\n",
            "1756\n",
            "1757\n",
            "1758\n",
            "1759\n",
            "1760\n",
            "1761\n",
            "1762\n",
            "1763\n",
            "1764\n",
            "1765\n",
            "1766\n",
            "1767\n",
            "1768\n",
            "1769\n",
            "1770\n",
            "1771\n",
            "1772\n",
            "1773\n",
            "1774\n",
            "1775\n",
            "1776\n",
            "1777\n",
            "1778\n",
            "1779\n",
            "1780\n",
            "1781\n",
            "1782\n",
            "1783\n",
            "1784\n",
            "1785\n",
            "1786\n",
            "1787\n",
            "1788\n",
            "1789\n",
            "1790\n",
            "1791\n",
            "1792\n",
            "1793\n",
            "1794\n",
            "1795\n",
            "1796\n",
            "1797\n",
            "1798\n",
            "1799\n",
            "1800\n",
            "1801\n",
            "1802\n",
            "1803\n",
            "1804\n",
            "1805\n",
            "1806\n",
            "1807\n",
            "1808\n",
            "1809\n",
            "1810\n",
            "1811\n",
            "1812\n",
            "1813\n",
            "1814\n",
            "1815\n",
            "1816\n",
            "1817\n",
            "1818\n",
            "1819\n",
            "1820\n",
            "1821\n",
            "1822\n",
            "1823\n",
            "1824\n",
            "1825\n",
            "1826\n",
            "1827\n",
            "1828\n",
            "1829\n",
            "1830\n",
            "1831\n",
            "1832\n",
            "1833\n",
            "1834\n",
            "1835\n",
            "1836\n",
            "1837\n",
            "1838\n",
            "1839\n",
            "1840\n",
            "1841\n",
            "1842\n",
            "1843\n",
            "1844\n",
            "1845\n",
            "1846\n",
            "1847\n",
            "1848\n",
            "1849\n",
            "1850\n",
            "1851\n",
            "1852\n",
            "1853\n",
            "1854\n",
            "1855\n",
            "1856\n",
            "1857\n",
            "1858\n",
            "1859\n",
            "1860\n",
            "1861\n",
            "1862\n",
            "1863\n",
            "1864\n",
            "1865\n",
            "1866\n",
            "1867\n",
            "1868\n",
            "1869\n",
            "1870\n",
            "1871\n",
            "1872\n",
            "1873\n",
            "1874\n",
            "1875\n",
            "1876\n",
            "1877\n",
            "1878\n",
            "1879\n",
            "1880\n",
            "1881\n",
            "1882\n",
            "1883\n",
            "1884\n",
            "1885\n",
            "1886\n",
            "1887\n",
            "1888\n",
            "1889\n",
            "1890\n",
            "1891\n",
            "1892\n",
            "1893\n",
            "1894\n",
            "1895\n",
            "1896\n",
            "1897\n",
            "1898\n",
            "1899\n",
            "1900\n",
            "1901\n",
            "1902\n",
            "1903\n",
            "1904\n",
            "1905\n",
            "1906\n",
            "1907\n",
            "1908\n",
            "1909\n",
            "1910\n",
            "1911\n",
            "1912\n",
            "1913\n",
            "1914\n",
            "1915\n",
            "1916\n",
            "1917\n",
            "1918\n",
            "1919\n",
            "1920\n",
            "1921\n",
            "1922\n",
            "1923\n",
            "1924\n",
            "1925\n",
            "1926\n",
            "1927\n",
            "1928\n",
            "1929\n",
            "1930\n",
            "1931\n",
            "1932\n",
            "1933\n",
            "1934\n",
            "1935\n",
            "1936\n",
            "1937\n",
            "1938\n",
            "1939\n",
            "1940\n",
            "1941\n",
            "1942\n",
            "1943\n",
            "1944\n",
            "1945\n",
            "1946\n",
            "hi today going talk mindset matter virtually every facet life want begin telling story group researcher italy dr fabrizio benedetti colleague studied group patient undergoing thoracic surgery know thoracic surgery invasive procedure patient put anesthesia surgeon make major incision muscle side back order gain access heart lung hour anesthesia fade away pain start set fortunately patient given strong dos morphine sulfate powerful painkiller routine treatment thoracic surgery dr benedetti colleague made subtle tweak half patient given dose morphine doctor bedside half wa given exact dose morphine wa administered iv pre programmed pump would think group patient would experience relief wa case group received morphine doctor reported significant reduction pain level group group received exact amount morphine aware seem experience benefit dr benedetti colleague stop used procedure test effectiveness treatment treatment anxiety treatment parkinson disease treatment hypertension found wa remarkable consistent patient aware treatment expected receive benefit treatment wa highly effective drug pill procedure wa blunted case even effective read study wa student harvard university time wa heavily immersed literature placebo effect read started thinking true nature placebo placebo effect really well people discount placebo effect magical response fake pill faux procedure placebo effect placebo effect faux pill sugar pill fake procedure placebo effect really powerful robust consistent demonstration ability mindset case expectation heal recruit healing property body mindset mindset quite literally setting mind lens frame mind view world simplify infinite number potential interpretation given moment ability simplify world mindset natural part human want suggest today mindset inconsequential instead play dramatic role determining health well wa harvard opportunity work professor ellen langer professor psychologist heard wa also division athlete laughed said know exercise placebo right wa kind offended time spending four hour day training body optimal shape get thinking mindset might matter outside medical wall wa getting fitter stronger time energy wa putting training wa getting fitter stronger believed would extreme people getting extraordinary amount exercise aware would receive benefit decided test test found really unique group woman group 84 hotel housekeeper working seven different hotel across u woman woman foot day long using variety muscle burning extraordinary amount calorie job interesting woman seem view work light asked said exercise regularly two third said said okay well scale zero ten much exercise get third said zero get exercise wondered would happen could change mindset took woman split two group measured variety thing including weight blood pressure body fat satisfaction job took half gave simple 15 minute presentation gave poster said know work good exercise satisfies surgeon general requirement quite simply accumulate 30 minute moderate physical activity expect receive benefit 15 minute came back four week later measured surprisingly group receive information change look different dropped weight significant reduction systolic blood pressure dropped body fat reported liking job doe tell u well wa fascinating result simple 15 minute presentation whole game changed producing cascade effect health well presumably without even changing behavior might thinking well know change behavior right must produced effect well know work anymore room attendant assured u join sport club street course know sure know putting little oomph making bed question really plagued direct immediate connection mindset body test worked colleague yale kelly brownell corvin peter salovey making big batch milkshake made big batch milkshake invited people come lab try milkshake exchange would give 75 sound great right well le appealing aspect agreement wa drinking shake hooked iv could get blood sample measure ghrelin ghrelin peptide secreted gut medical expert call hunger hormone eaten ghrelin level start rise signaling brain time seek food slowing metabolism know case find food say go find devour milkshake hamburger french fry ghrelin level drop signaling brain time stop eating revving metabolism burn food wa consumed participant came hooked iv gave milkshake sense shake 0 fat 140 calorie 0 added sugar guilt free satisfaction drank shake response ghrelin level dropped slightly signaling brain food consumed whole lot week later came back lab hooked iv gave shake 620 calorie 30 gram fat 56 gram sugar decadence deserve response shake ghrelin level dropped time significantly steeper rate three time shake would make good sense metabolic nutritionist understands drop ghrelin proportional amount calorie consumed wa catch study even though participant thought consumed sensible shake indulgent shake reality gave exact shake time point doe tell u well case amount morphine produced le effect depending awareness case amount exercise produced le benefit depending wa construed mindset proved matter case suggesting might calorie calorie precise makeup fat nutrient believe expect think food eat determines body response light behooves u consider life mindset might begin shift alter beneficial take stress example mindset stress like people mindset stress bad bad bad bad bad stress surprising considering everywhere look warning label yelling u reminding u negative effect stress truth stress clear cut fact robust growing body research showing stress positive effect enhancing effect health well performance try persuade effect stress enhancing rather point truth stress like thing life uncertain therefore raise question mindset stress determine response test question worked sean aker peter salovey worked group 300 employee wa 2008 financial collapse decided stressed heard 10 workforce wa going laid overworked decided see could change mindset watch simple video clip going show simultaneously half participant saw one left half saw one right please understand iffin 0010 00 get point yes dark watching fact research anecdote true oriented towards one view found wa interesting watched simple three minute video clip bell rang job began course next week reported fewer negative health symptom fewer back ache le muscle tension le insomnia also reported higher level engagement performance work point presented four study four study demonstrate power mindset medicine exercise diet stress many talented scholar tackling phenomenon speak carol dweck research demonstrates u shift mindset intelligence talent something fixed something changeable time dramatically alter academic professional success yale epidemiologist becca levy research show u change mindset aging viewing aging inevitable process deterioration process gaining wisdom gaining growth shape course grow old even extends longevity ted katchuk group harvard program placebo study cutting edge work understanding begin harness ethically utilize placebo effect clinical practice though context different message mindset matter get wrong saying medicine work benefit exercise eat matter doe psychological physiological effect anything life influenced mindset power mindset limitless probably hope done today inspired reconsider limit really true task ahead begin reclaiming power acknowledge power mindset know like blink eye change game facet life quite simply changing mindset thank\n",
            "\n",
            "failed yes course many time many many time sometimes daily basis journey failure important important lesson taken failure try put 7 lesson learned first lesson failure social concept generally society tell failure success faced moment give entrance exam moment start business moment enter relationship people tell oh time clear exam oh started business failed oh goodness kind tag failure society put problem see consider failure society make failure success problem moment somebody trying put tag see decide whether failure success decide decide failure success nobody tell whether failure success second horizontal aspect life failure success govern people academic failure others career failure professional failure others emotional failure social failure identity failure identity failure know want act society set parameter marriage 25 career set 27 child 30 first house 35 society set moment go beyond timeline go beyond term failure horizontal aspect even important society important failing emotional person successful profession still failure important balance regret end rich successful person nobody else enjoy something regret loving good friend good family money problem therefore balance aspect life important talking career failure important look life holistically organically third thing analyzed failure vertical aspect failure imagine mountain 500 meter person quit 50 meter failure person quit 100 meter failure 490 meter still failure society person reach apex peak summit called success person quit 50 person quit 490 absolutely kind hard work person ha put kind learning person ha taken different compare failure person ha entered quit person ha tried done determination determination go compare failure failure important pursuit person ha failed 490 different person evolved ha learned lot journey ha lesson wisdom knowledge skill utilize another venture take another point consider failure reach peak peak one point people say door one door close many door open truth told door open prepared people person quit 490 door open person quit 50 learning different person ha learned along way ha door open take example amitabh bachchan wa rejected radio jockey husky voice voice ha become major know major interaction huskiness sincerity voice ha become major interaction course know ha failed many time yet succeeded door open keep learning keep pursuit lead fifth point important analyze failure many time seen somebody tell monkey next best thing market try become monkey better swimming fish play strength moment move beyond strength moment try become something person telling lose strength becomes inevitable failure inevitable prepared loving passionate failure life analyze something wrong trying achieve something wrong direction analyze never say obsessive one thing yes one ha determination passion time analysis whether direction right fish fish good fish bad monkey society judge always say bad monkey good fish always best tell sixth lesson regret failure painful yes painful know failure emotional moment fail emotional world come crashing onto u hurtful people criticize u fail people judge u fail like physical pain somebody hit painful fail painful trust pain failure still le pain regret many must many rather must heard mother saying would given chance would become life wa given chance father saying would bought property would made huge lot difference future see regret old people regret regret regret failing enough yes failure painful regret painful choose pain better something fail failing also lot lot learning go along way try put example steve job steve job wa academic failure know quit dropped college first year still stop learning know went calligraphy class designing class interest specific purpose kept learning 10 year later connected dot designed macintosh said academic failure would designing excel important even fail stop learning trying improve seventh point life big judge event parameter failed exam judge okay judge one relationship one event one success one business idea one entrepreneurial startup judge tell know einstein einstein wa termed failure could read wa four could speak wa four wa termed failure seven could read know scientific marvel wa similarly edison enjoying benefit invention edison edison wa termed failure learning disability know ha held 1000 patent name people tell feel particular moment important sometimes inevitable feel failure move beyond feeling realize life beautiful journey go long long way never know never know failure turn success definitely working towards success read every self help book earth path success laid brick failure yes word somehow essence also three takeaway last hour want whatever want analyze wish full passion vigor second quit learning failure small break keep learning focus deserving pursuit rather success failure success failure event brings pursuit learning last ever think failed remember f l mean fight life fight fighter thank\n",
            "\n",
            "human love meat steak fried chicken bacon pork belly sausage best thing eating meat ha become trivial many people consider something proper meal animal involved pretty amazing since decade ago meat wa luxury product today get cheeseburger dollar paradoxically meat pretty much inefficient way feeding human look global scale meaty diet literally eating planet without giving steak human keep lot animal food currently 23 billion chicken 1 5 billion cattle roughly 1 billion pig sheep lot mouth feed transformed earth giant feeding ground 83 farmland used livestock example pasture farm fodder crop like corn soy 26 earth total land area include water need plant meat dairy production account 27 global fresh water consumption unfortunately meat production like black hole resource since animal living thing food used keep alive grow tasty part fraction nutrient fodder crop end meat buy end cow example convert 4 protein 3 calorie plant feed beef 97 calorie lost u create 1 kilogram steak cow need eat 25 kilo grain us 15 000 liter water animal product guzzling ton food make 18 calorie human eat according projection could nourish additional 3 5 billion people ate stuff feed animal make favorite food group even unsustainable 15 greenhouse gas emission caused human created meat industry much ship plane truck car combined another aspect meat come actual living pig cattle chicken one writing history book human would appear rampant genocidal maniac thrive suffering globally kill 200 million animal every day 74 billion year mean every one half year kill animal people lived entire 200 000 year history humanity one could argue favor exist without u might eat end also provide food shelter gift existence unfortunately nice god lot meat come factory farm huge industrial system house thousand animal engineered efficient possible little regard thing like quality life pig raised gigantic windowless shed never get see sun sow kept pen small turn around give birth one litter piglet another turn turned bacon dairy cow forced breed continually ensure milk supply separated calf hour birth fasten beef cattle slaughter put feedlot confined pen roam put weight quickly make possible keep tightly together without dying disease majority antibiotic use livestock 80 u help short term also fuel antibiotic resistance one may got worst deal chicken factory farm kept vast number close form social structure nature start attacking stop cut beak claw male chicken deemed worthless since lay egg suitable meat production within minute birth usually gassed shredded grinder several hundred million baby chicken killed way year even personal score settle chicken treat beyond broken better buy organic meat animal treated nicely right organic farming regulation designed grant animal minimum comfort problem organic elastic term according eu regulation organic hen still might share one square metre space five others long way happy farmyard chicken farm sincerely best exist course meat still business organic label way charge money countless scandal revealed producer looking way cheat system organic meat might le cruel need even resource conventional meat production buying organic still preferable doe grant moral absolution truth suffering resource would create billion ton per year way treat animal probably one thing future generation look disgust thing true something else true steak amazing burger best food chicken wing taste great meat satisfies something buried deep lizard brain hardly ever see meat made eat love creates joy brings u together family meal barbecue party eating meat make bad person eating meat make good one life complicated world created deal fact meat extremely unsustainable sort horrible torture easiest option opting often taking meat free day per week already make difference want eat meat produced le suffering try buy trusted producer good track record even cost make impact environment go chicken pig rather lamb beef convert feed efficiently meat going steak eat average american throw nearly pound food per day lot meat future science could get u clean meat various start ups successfully grown meat lab working commercial scale solution like still year away enjoy steak also respect make something special something else also special taste even better steak get asked lot make video thought show kurzgesagt teamed skillshare favorite online tutorial service teach unique animation style released part three animation tutorial series learn animate scene video skillshare online learning community 20 000 class kind cool stuff like writing illustration animation premium membership get unlimited access high quality class skilled professional one u also snagged special offer first 1 000 people use link description get two month unlimited access free want learn animate video start today\n",
            "\n",
            "imagine could gather energy every star within hundred million light year thousand galaxy billion star imagine could take kind power use fire biggest super weapon universe imagine damage could turn need imagine exist called gamma ray burst cosmic sniper happens one take shot earth understand gamma ray burst first understand gamma ray gamma ray electromagnetic radiation wave carry energy like visible light visible light tiny part electromagnetic spectrum part eye see lower energy radio wave microwave infrared higher energy ultraviolet x ray gamma ray gamma ray incredibly powerful single gamma ray photon energetic million visible photon combined high energy make gamma ray form ionizing radiation meaning energetic enough break apart atomic bond make dangerous ionizing radiation disrupts delicate biochemical machinery keep u alive like 9mm bullet clock fortunately earth ozone layer block gamma ray filtering harm u atmosphere block gamma ray space gamma ray burst grbs space ever discovered cold war usa sent spy satellite could detect gamma ray soviet nuclear test space see bomb observe faint burst coming space lasting second date may major scientific discovery made spy satellite know anyway astronomer use telescope see different kind light make discovery spy satellite gave new pair eye mystery 30 year eventually discovered source grb galaxy 6 billion light year away grb seen distance must incredibly energetic releasing energy second sun entire 10 billion year lifetime making grbs brightest event universe come grbs accompany violent cataclysmic death universe birth black hole two type gamma ray burst short long ha source long grbs last minute scientist think produced supernova core massive star collapse become black hole short grbs last second produced two neutron star binary merge million year orbit decay emitting gravitational wave close enough touch crash splash forming black hole supernova neutron star merger make thing black hole surrounded magnetized disk gas left parent star environment rotation wind magnetic field funnel hot jet particle traveling nearly speed light gas funnel creates two tight jet high energy gamma ray like celestial laser gun unlike cosmic explosion spread fade grbs stay focused seen much detail would require much mathematics youtube video universe full cosmic sniper firing blindly randomly dark hitting u time average detect one per day fortunately harmless burst detected far originated outside milky way far away hurt u nearby grb could disastrous one go within light year u would totally cook surface earth least half facing even distant grb could still end life earth need score headshot kill u originating thousand light year away would hundred light year wide time reach u washing solar system like tidal wave ozone layer protects u better equipped handle trickle ultraviolet sun gamma ray burst would overwhelm leaving u exposed deadly solar radiation ozone take year replenish natural process enough time sun burn earth sterile least kill complex life fact may already happened grb ha suggested one possible cause ordovician extinction 450 million year ago eradicated almost 85 marine specie although pretty much impossible prove gamma ray burst could even one reason see life anywhere else universe might wiping clean huge chunk regular basis suggested grbs 10 galaxy might hospitable life similar u going kill u probably galaxy like may one grb per millennium harm u must close directed u since gamma ray travel speed light know headed way arrives could already grb way kill u know hit u dead\n",
            "\n",
            "human proud lot thing particle accelerator poetry pokemon made possible something human value extremely highly intelligence think intelligence trait like height strength try define thing get fuzzy nutshell intelligence mechanism solve problem especially problem staying alive involves finding food shelter fighting sexual competitor fleeing predator intelligence single thing includes ability gather knowledge learn creative form strategy engage critical thinking manifest huge variety behavior hardwired instinct like reaction different degree learning sort awareness scientist agree begin even count intelligence make even complicated intelligence also connected consciousness since awareness helpful problem solving exploring consciousness video today leave aside ok intelligence exactly clear cut maybe think like flexible set skill toolbox basic tool basic tool intelligence toolbox ability gather information save use learn information world gathered sens vision sound smell touch taste help u navigate react external world appropriately living thing also need keep track state body monitoring thing like hunger fatigue information basis action living thing without mercy surroundings unable react appropriately flexibly information much powerful keep save second tool memory memory ability save recall information living start scratch every time perceives something relevant memory event place association also behavior like hunting foraging method like flying repeated mastered call learning process putting together sequence thought action basically string repeatable behavior varied adapted three tool enable seemingly stupid creature act surprisingly intelligent way acellular slime mold basically single huge slimy cell show behavior similar animal simple brain put maze food one end slime mold explores surroundings mark path slime trail sort smearing memory ground continues exploring avoids marked pathway find way food instead blindly getting stuck dead end slime mold adapts behavior save time effort behavior hardwired scientist agree intelligent although doe give slime mold certain advantage example adaptive smart behavior scientist trained bumblebee move colored ball goalpost sugar reward bee skillful behavior natural got efficient time several ball available bee chose ball lay closest goal even wa different color ball trained challenging problem need even flexibility fancy tool building basic tool complex animal wider range problem solve memorize kind association connection mechanical trick call tool library knowledge take raccoon favorite kind food human food approach getting hold treat depends upon assortment theoretical practical skill make master burglar able open window pick lock study raccoon given box secured different kind lock like latch bolt plug push bar needed le 10 attempt figure open box even different lock put together increasingly difficult combination solved right order different amount strength year later raccoon still remembered open box fast first solved puzzle beyond library association skill impressive tool box creativity sort mental duct tape creative mean producing something new valuable apparently unrelated thing context intelligence mean making new unusual connection pairing input memory skill come unique solution problem another raccoon study researcher showed animal dropping pebble water tank could raise water level enough reach marshmallow floating top one raccoon came much better solution tipped tub another facet creativity applying new resource task physical tool like primate use stick fish termite tree octopus assemble collected coconut shell around sort portable armour hide enemy collecting material later use connected even advanced dimension problem solving planning planning mean considering activity required desired goal putting together plan unforeseen circumstance new possibility present need assessed according whether match plan example intelligent behaviour hoarding food eat later instinctive behaviour squirrel even though hiding food come instinctively still need use advanced thinking skill make best decision squirrel examine every nut weigh time effort would take hide benefit would get one damaged low fat nut eaten right away nut still need ripen go stockpile squirrel also pretend bury nut feel watched empty cache distract rival real treasure pretty advanced strategising make plan distract someone else first aware others like want thing complex problem tool needed combination solve tool flexibility ha solve challenge life throw even complex problem animal individual situation count squirrel omnivore defend territory fiercely make sense remember food different location trick enemy improve chance survival sheep refined trick sleeve need grazers live flock skill relevant social recognise remember many different sheep even human year completely different skill evolving retaining complex set mental ability might never use would waste resource human went opposite way invested unusually diverse intelligence toolkit wa helpful accident added another set tool top culture single person could ever build space rocket particle accelerator thanks ability work together share knowledge across generation overcome challenge beyond single individual ability allowed u shape planet liking also created new problem process sudoku tax form string theory also rapid climate change antibiotic resistance solve need look past short term survival think distant future toolbox need use speaking tool learning heard many teacher using infographic poster class asked would help made education edition teacher student everyone else slightly larger poster various thing expand time periodic table world map human body get shop support u want let u know poster topic want room classroom video wa part two three part video series relating big question life universe made possible thanks grant templeton world charity foundation find source reading video description\n",
            "\n"
          ]
        }
      ]
    },
    {
      "cell_type": "code",
      "source": [
        "vectorizer = CountVectorizer(max_features=100000)\n",
        "BOW = vectorizer.fit_transform(cleanedData)"
      ],
      "metadata": {
        "id": "n3eEG8zguA4W"
      },
      "execution_count": 42,
      "outputs": []
    },
    {
      "cell_type": "code",
      "source": [
        "from sklearn.model_selection import train_test_split\n",
        "x_train,x_test,y_train,y_test = train_test_split(BOW,np.asarray(df[\"Label\"]))\n",
        "\n",
        "print(x_train.shape)\n",
        "print(x_test.shape)\n",
        "print(y_train.shape)\n",
        "print(y_test.shape)"
      ],
      "metadata": {
        "colab": {
          "base_uri": "https://localhost:8080/"
        },
        "id": "nzdHDgsruMVs",
        "outputId": "784b3c96-ede4-45f1-8699-aaa6f87dbf33"
      },
      "execution_count": 43,
      "outputs": [
        {
          "output_type": "stream",
          "name": "stdout",
          "text": [
            "(1459, 42454)\n",
            "(487, 42454)\n",
            "(1459,)\n",
            "(487,)\n"
          ]
        }
      ]
    },
    {
      "cell_type": "code",
      "source": [
        "from sklearn.svm import SVC\n",
        "start_time = time.time()\n",
        "\n",
        "model = SVC( verbose=True)\n",
        "model.fit(x_train,y_train)\n",
        "\n",
        "end_time = time.time()\n",
        "process_time = round(end_time-start_time,2)\n",
        "print(\"Fitting SVC took {} seconds\".format(process_time))"
      ],
      "metadata": {
        "colab": {
          "base_uri": "https://localhost:8080/"
        },
        "id": "fGtqGL_FuQzZ",
        "outputId": "b23daee3-47be-4269-9e47-8bb0e1297004"
      },
      "execution_count": 44,
      "outputs": [
        {
          "output_type": "stream",
          "name": "stdout",
          "text": [
            "[LibSVM]Fitting SVC took 0.79 seconds\n"
          ]
        }
      ]
    },
    {
      "cell_type": "code",
      "source": [
        "predictions = model.predict(x_test)"
      ],
      "metadata": {
        "id": "r5fv0XdMv6HO"
      },
      "execution_count": 45,
      "outputs": []
    },
    {
      "cell_type": "code",
      "source": [
        "training_predictions= model.predict(x_train)"
      ],
      "metadata": {
        "id": "i6esQp5CwLTP"
      },
      "execution_count": 46,
      "outputs": []
    },
    {
      "cell_type": "code",
      "source": [
        "from sklearn.metrics import accuracy_score,confusion_matrix,recall_score,precision_score\n",
        "from sklearn.metrics import classification_report\n",
        "from sklearn.metrics import f1_score\n",
        "\n",
        "print(\"Training Accuracy of model is {}%\".format(accuracy_score(y_train,training_predictions) * 100))\n",
        "print(\"Testing Accuracy of model is {}%\".format(accuracy_score(y_test,predictions) * 100))\n",
        "print(\"Precision of model is {}%\".format(precision_score(y_test,predictions) * 100))\n",
        "print(\"recall of model is {}%\".format(recall_score(y_test,predictions) ))\n",
        "print(\"f1 of model is {}%\".format(f1_score(y_test,predictions) ))\n",
        "print((confusion_matrix(y_test,predictions) ))"
      ],
      "metadata": {
        "colab": {
          "base_uri": "https://localhost:8080/"
        },
        "id": "yz0GTybJwPiE",
        "outputId": "1e3c7817-83eb-4edb-88db-a5a8a9a7b7bb"
      },
      "execution_count": 47,
      "outputs": [
        {
          "output_type": "stream",
          "name": "stdout",
          "text": [
            "Training Accuracy of model is 93.55723098012338%\n",
            "Testing Accuracy of model is 92.81314168377823%\n",
            "Precision of model is 100.0%\n",
            "recall of model is 0.8497854077253219%\n",
            "f1 of model is 0.9187935034802784%\n",
            "[[254   0]\n",
            " [ 35 198]]\n"
          ]
        }
      ]
    },
    {
      "cell_type": "code",
      "source": [
        "import matplotlib.pyplot as plt\n",
        "from sklearn.datasets import make_classification\n",
        "from sklearn.metrics import confusion_matrix, ConfusionMatrixDisplay\n",
        "\n",
        "cm = confusion_matrix(y_test, predictions, labels=df.Label)\n",
        "ConfusionMatrixDisplay.from_predictions(y_test,predictions)\n"
      ],
      "metadata": {
        "colab": {
          "base_uri": "https://localhost:8080/",
          "height": 298
        },
        "id": "MmLVhyBCzE-B",
        "outputId": "134fd617-e522-4688-e745-efc8dc366546"
      },
      "execution_count": 48,
      "outputs": [
        {
          "output_type": "execute_result",
          "data": {
            "text/plain": [
              "<sklearn.metrics._plot.confusion_matrix.ConfusionMatrixDisplay at 0x7fbd1056dac0>"
            ]
          },
          "metadata": {},
          "execution_count": 48
        },
        {
          "output_type": "display_data",
          "data": {
            "text/plain": [
              "<Figure size 432x288 with 2 Axes>"
            ],
            "image/png": "[encoded data removed]"
          },
          "metadata": {
            "needs_background": "light"
          }
        }
      ]
    },
    {
      "cell_type": "code",
      "source": [
        "from sklearn.metrics import roc_curve\n",
        "from sklearn.metrics import RocCurveDisplay\n",
        "RocCurveDisplay.from_estimator(model, x_test, y_test)\n",
        "RocCurveDisplay.from_predictions(y_test, predictions)"
      ],
      "metadata": {
        "colab": {
          "base_uri": "https://localhost:8080/",
          "height": 559
        },
        "id": "kGHDZzLE00t6",
        "outputId": "de3c3076-aaea-4c63-bf7e-fa76e99c4757"
      },
      "execution_count": 49,
      "outputs": [
        {
          "output_type": "execute_result",
          "data": {
            "text/plain": [
              "<sklearn.metrics._plot.roc_curve.RocCurveDisplay at 0x7fbd11e0ad60>"
            ]
          },
          "metadata": {},
          "execution_count": 49
        },
        {
          "output_type": "display_data",
          "data": {
            "text/plain": [
              "<Figure size 432x288 with 1 Axes>"
            ],
            "image/png": "[encoded data removed]"
          },
          "metadata": {
            "needs_background": "light"
          }
        },
        {
          "output_type": "display_data",
          "data": {
            "text/plain": [
              "<Figure size 432x288 with 1 Axes>"
            ],
            "image/png": "[encoded data removed]"
          },
          "metadata": {
            "needs_background": "light"
          }
        }
      ]
    },
    {
      "cell_type": "markdown",
      "source": [
        "# Naive Bayes"
      ],
      "metadata": {
        "id": "FWL6rs3zt6MQ"
      }
    },
    {
      "cell_type": "code",
      "source": [
        "model = MultinomialNB().fit(x_train, y_train)"
      ],
      "metadata": {
        "id": "EELCwql3t9JM"
      },
      "execution_count": 50,
      "outputs": []
    },
    {
      "cell_type": "code",
      "source": [
        "y_pred = model.predict(x_test)"
      ],
      "metadata": {
        "id": "xiOamhO5ugum"
      },
      "execution_count": 51,
      "outputs": []
    },
    {
      "cell_type": "code",
      "source": [
        "a= model.predict(x_train)"
      ],
      "metadata": {
        "id": "DjJ20yWJui-O"
      },
      "execution_count": 52,
      "outputs": []
    },
    {
      "cell_type": "code",
      "source": [
        "print('NB :')\n",
        "print(\"Accuracy of model is {}%\".format(accuracy_score(y_train,a) * 100))\n",
        "print(\"Accuracy of model is {}%\".format(accuracy_score(y_test,y_pred) * 100))\n",
        "print(\"Precision of model is {}%\".format(precision_score(y_test,y_pred) * 100))\n",
        "print(\"recall of model is {}\".format(recall_score(y_test,y_pred) ))\n",
        "print(\"f1 of model is {}%\".format(f1_score(y_test,y_pred) ))"
      ],
      "metadata": {
        "colab": {
          "base_uri": "https://localhost:8080/"
        },
        "id": "5lBvY9acumOl",
        "outputId": "48488eda-c080-41b0-c555-469997641fd9"
      },
      "execution_count": 53,
      "outputs": [
        {
          "output_type": "stream",
          "name": "stdout",
          "text": [
            "NB :\n",
            "Accuracy of model is 96.9842357779301%\n",
            "Accuracy of model is 93.63449691991786%\n",
            "Precision of model is 92.43697478991596%\n",
            "recall of model is 0.944206008583691\n",
            "f1 of model is 0.9341825902335458%\n"
          ]
        }
      ]
    },
    {
      "cell_type": "code",
      "source": [
        "import matplotlib.pyplot as plt\n",
        "from sklearn.datasets import make_classification\n",
        "from sklearn.metrics import confusion_matrix, ConfusionMatrixDisplay\n",
        "cm = confusion_matrix(y_test, predictions, labels=df.Label)\n",
        "ConfusionMatrixDisplay.from_predictions(y_test,y_pred)"
      ],
      "metadata": {
        "colab": {
          "base_uri": "https://localhost:8080/",
          "height": 297
        },
        "id": "CJEVC3UWu0O4",
        "outputId": "05d2c6b5-38ec-4783-c36f-5c70756079f0"
      },
      "execution_count": 54,
      "outputs": [
        {
          "output_type": "execute_result",
          "data": {
            "text/plain": [
              "<sklearn.metrics._plot.confusion_matrix.ConfusionMatrixDisplay at 0x7fbd105749d0>"
            ]
          },
          "metadata": {},
          "execution_count": 54
        },
        {
          "output_type": "display_data",
          "data": {
            "text/plain": [
              "<Figure size 432x288 with 2 Axes>"
            ],
            "image/png": "[encoded data removed]"
          },
          "metadata": {
            "needs_background": "light"
          }
        }
      ]
    },
    {
      "cell_type": "code",
      "source": [
        "from sklearn.metrics import roc_curve\n",
        "from sklearn.metrics import RocCurveDisplay\n",
        "RocCurveDisplay.from_estimator(model, x_test, y_test)\n",
        "RocCurveDisplay.from_predictions(y_test, y_pred)"
      ],
      "metadata": {
        "colab": {
          "base_uri": "https://localhost:8080/",
          "height": 559
        },
        "id": "D0m5fSRmvC5L",
        "outputId": "670cbac6-d1f2-4238-90f6-6542aef6f83e"
      },
      "execution_count": 55,
      "outputs": [
        {
          "output_type": "execute_result",
          "data": {
            "text/plain": [
              "<sklearn.metrics._plot.roc_curve.RocCurveDisplay at 0x7fbd11df63d0>"
            ]
          },
          "metadata": {},
          "execution_count": 55
        },
        {
          "output_type": "display_data",
          "data": {
            "text/plain": [
              "<Figure size 432x288 with 1 Axes>"
            ],
            "image/png": "[encoded data removed]"
          },
          "metadata": {
            "needs_background": "light"
          }
        },
        {
          "output_type": "display_data",
          "data": {
            "text/plain": [
              "<Figure size 432x288 with 1 Axes>"
            ],
            "image/png": "[encoded data removed]"
          },
          "metadata": {
            "needs_background": "light"
          }
        }
      ]
    },
    {
      "cell_type": "markdown",
      "source": [
        "# Parts-Of-Speech tagging"
      ],
      "metadata": {
        "id": "1Hpi7v4HMwuw"
      }
    },
    {
      "cell_type": "markdown",
      "source": [
        "## Human POS"
      ],
      "metadata": {
        "id": "sSL9waidM3YC"
      }
    },
    {
      "cell_type": "code",
      "source": [
        "# nltk tagging\n",
        "human_pos = nltk.pos_tag(human_words)\n",
        "print(human_pos)"
      ],
      "metadata": {
        "colab": {
          "base_uri": "https://localhost:8080/"
        },
        "id": "Cdp3nrHvJOaH",
        "outputId": "f8f6839e-4670-48d8-c556-a1017552adb5"
      },
      "execution_count": null,
      "outputs": [
        {
          "output_type": "stream",
          "name": "stdout",
          "text": [
            "[('left', 'JJ'), ('wing', 'NN'), ('politics', 'NNS'), ('often', 'RB'), ('focus', 'VBP'), ('social', 'JJ'), ('equality', 'NN'), ('right', 'RB'), ('wing', 'VBG'), ('politics', 'NNS'), ('comparison', 'NN'), ('motivated', 'VBN'), ('social', 'JJ'), ('hierarchy', 'NN'), ('left', 'VBD'), ('wing', 'VBG'), ('politics', 'NNS'), ('encompasses', 'VBZ'), ('liberal', 'JJ'), ('idea', 'NN'), ('like', 'IN'), ('right', 'JJ'), ('equality', 'NN'), ('whereas', 'RB'), ('right', 'JJ'), ('leaning', 'VBG'), ('politics', 'NNS'), ('motivated', 'VBD'), ('nationalistic', 'JJ'), ('idea', 'NN'), ('tradition', 'NN'), ('duty', 'NN'), ('generally', 'RB'), ('follow', 'VBP'), ('conservative', 'JJ'), ('school', 'NN'), ('thought', 'VBD'), ('many', 'JJ'), ('subfields', 'NNS'), ('economics', 'NNS'), ('really', 'RB'), ('depends', 'VBZ'), ('keen', 'JJ'), ('getting', 'VBG'), ('started', 'VBD'), ('wish', 'JJ'), ('understand', 'NN'), ('mainstream', 'NN'), ('economist', 'NN'), ('study', 'NN'), ('human', 'JJ'), ('behavior', 'NN'), ('could', 'MD'), ('try', 'VB'), ('logic', 'JJ'), ('life', 'NN'), ('tim', 'NN'), ('harford', 'NN'), ('armchair', 'NN'), ('economist', 'NN'), ('steven', 'JJ'), ('e', 'NN'), ('landsburg', 'NNS'), ('already', 'RB'), ('understanding', 'VBG'), ('rationality', 'NN'), ('paradigm', 'NN'), ('typically', 'RB'), ('employed', 'JJ'), ('economic', 'JJ'), ('analysis', 'NN'), ('behavioural', 'JJ'), ('economics', 'NNS'), ('book', 'NN'), ('might', 'MD'), ('offer', 'VB'), ('new', 'JJ'), ('contrasting', 'VBG'), ('insight', 'JJ'), ('thinking', 'VBG'), ('fast', 'RB'), ('slow', 'JJ'), ('daniel', 'NN'), ('kahneman', 'NN'), ('predictably', 'RB'), ('irrational', 'JJ'), ('dan', 'NN'), ('ariely', 'RB'), ('nudge', 'JJ'), ('richard', 'NN'), ('thaler', 'NN'), ('ca', 'MD'), ('sunstein', 'VB'), ('interested', 'JJ'), ('economic', 'JJ'), ('history', 'NN'), ('wish', 'JJ'), ('delve', 'NN'), ('deeper', 'NN'), ('pioneering', 'VBG'), ('idea', 'NN'), ('advanced', 'VBD'), ('founding', 'VBG'), ('father', 'NN'), ('economics', 'NNS'), ('would', 'MD'), ('recommend', 'VB'), ('following', 'VBG'), ('new', 'JJ'), ('idea', 'NN'), ('dead', 'JJ'), ('economist', 'NN'), ('todd', 'NN'), ('g', 'NN'), ('buchholz', 'NN'), ('worldly', 'RB'), ('philosopher', 'RB'), ('robert', 'JJ'), ('l', 'NN'), ('heilbroner', 'NN'), ('interested', 'JJ'), ('economics', 'NNS'), ('inequality', 'NN'), ('specifically', 'RB'), ('income', 'NN'), ('wealth', 'NN'), ('distribution', 'NN'), ('certainly', 'RB'), ('pick', 'JJ'), ('capital', 'NN'), ('21st', 'JJ'), ('century', 'NN'), ('thomas', 'NN'), ('piketty', 'RB'), ('curious', 'JJ'), ('country', 'NN'), ('rich', 'JJ'), ('others', 'NNS'), ('poor', 'JJ'), ('could', 'MD'), ('done', 'VBN'), ('tackle', 'VB'), ('poverty', 'NN'), ('ie', 'NN'), ('development', 'NN'), ('economics', 'NNS'), ('could', 'MD'), ('turn', 'VB'), ('nation', 'NN'), ('fail', 'NN'), ('daron', 'NN'), ('acemoglu', 'NN'), ('james', 'NNS'), ('robinson', 'VBP'), ('gun', 'JJ'), ('germ', 'JJ'), ('steel', 'NN'), ('jared', 'VBD'), ('diamond', 'JJ'), ('end', 'NN'), ('poverty', 'NN'), ('jeffrey', 'NN'), ('sachs', 'JJ'), ('white', 'JJ'), ('man', 'NN'), ('burden', 'NN'), ('william', 'VBD'), ('easterly', 'JJ'), ('list', 'NN'), ('book', 'NN'), ('offer', 'VBP'), ('exhaustive', 'JJ'), ('good', 'JJ'), ('start', 'NN'), ('would', 'MD'), ('like', 'VB'), ('pick', 'JJ'), ('quality', 'NN'), ('economics', 'NNS'), ('book', 'NN'), ('money', 'NN'), ('started', 'VBN'), ('business', 'NN'), ('say', 'VBP'), ('make', 'VBP'), ('world', 'NN'), ('better', 'RBR'), ('place', 'NN'), ('solve', 'VBP'), ('customer', 'NN'), ('problem', 'NN'), ('reality', 'NN'), ('money', 'NN'), ('easily', 'RB'), ('biggest', 'JJS'), ('driver', 'NN'), ('plenty', 'JJ'), ('evidence', 'NN'), ('ill', 'RB'), ('give', 'VB'), ('one', 'CD'), ('businessperson', 'NN'), ('history', 'NN'), ('sold', 'VBN'), ('business', 'NN'), ('enough', 'JJ'), ('comfortably', 'RB'), ('retire', 'VB'), ('choice', 'NN'), ('carried', 'VBD'), ('working', 'JJ'), ('fulltime', 'NN'), ('business', 'NN'), ('passionate', 'NN'), ('problem', 'NN'), ('business', 'NN'), ('solving', 'VBG'), ('passion', 'NN'), ('business', 'NN'), ('go', 'VBP'), ('instant', 'JJ'), ('theyre', 'NN'), ('longer', 'RBR'), ('financially', 'RB'), ('rewarded', 'JJ'), ('action', 'NN'), ('speak', 'RB'), ('much', 'JJ'), ('louder', 'JJR'), ('word', 'NN'), ('stuck', 'VBN'), ('love', 'IN'), ('love', 'NN'), ('sign', 'NN'), ('someone', 'NN'), ('really', 'RB'), ('1', 'CD'), ('remember', 'NN'), ('everything', 'NN'), ('even', 'RB'), ('small', 'JJ'), ('detail', 'NN'), ('big', 'JJ'), ('sign', 'NN'), ('someone', 'NN'), ('love', 'VBD'), ('pick', 'RB'), ('small', 'JJ'), ('detail', 'NN'), ('might', 'MD'), ('latest', 'JJS'), ('haircut', 'NN'), ('got', 'VBD'), ('subtle', 'JJ'), ('change', 'NN'), ('mood', 'NN'), ('day', 'NN'), ('even', 'RB'), ('something', 'NN'), ('small', 'JJ'), ('new', 'JJ'), ('outfit', 'NN'), ('2', 'CD'), ('always', 'RB'), ('vent', 'JJ'), ('someone', 'NN'), ('doesnt', 'NN'), ('love', 'VBP'), ('wont', 'NN'), ('interested', 'JJ'), ('spending', 'NN'), ('time', 'NN'), ('listening', 'VBG'), ('problem', 'NN'), ('priority', 'NN'), ('love', 'VBP'), ('instead', 'RB'), ('want', 'VBP'), ('something', 'NN'), ('see', 'VBP'), ('struggling', 'VBG'), ('3', 'CD'), ('acknowledge', 'JJ'), ('difference', 'NN'), ('instead', 'RB'), ('trying', 'VBG'), ('change', 'NN'), ('someone', 'NN'), ('really', 'RB'), ('love', 'VB'), ('accept', 'JJ'), ('individual', 'JJ'), ('idea', 'NN'), ('feeling', 'VBG'), ('part', 'NN'), ('generally', 'RB'), ('speaking', 'VBG'), ('youll', 'PRP'), ('feel', 'VBP'), ('comfortable', 'JJ'), ('agreeing', 'VBG'), ('disagree', 'JJ'), ('4', 'CD'), ('make', 'VBP'), ('feel', 'NN'), ('special', 'JJ'), ('theyll', 'NN'), ('always', 'RB'), ('willing', 'JJ'), ('go', 'VB'), ('extra', 'JJ'), ('mile', 'RB'), ('make', 'VBP'), ('feel', 'VB'), ('special', 'JJ'), ('whether', 'IN'), ('surprising', 'JJ'), ('gift', 'NN'), ('planning', 'VBG'), ('special', 'JJ'), ('date', 'NN'), ('night', 'NN'), ('calling', 'VBG'), ('blue', 'JJ'), ('let', 'NN'), ('know', 'VB'), ('thinking', 'VBG'), ('5', 'CD'), ('even', 'RB'), ('normal', 'JJ'), ('mundane', 'NN'), ('activity', 'NN'), ('fun', 'NN'), ('someone', 'NN'), ('love', 'VB'), ('spending', 'NN'), ('time', 'NN'), ('always', 'RB'), ('considered', 'VBN'), ('fun', 'JJ'), ('even', 'RB'), ('activity', 'NN'), ('might', 'MD'), ('normally', 'RB'), ('considered', 'VBN'), ('boring', 'NN'), ('like', 'IN'), ('chore', 'NN'), ('grocery', 'NN'), ('shopping', 'NN'), ('turn', 'NN'), ('adventure', 'NN'), ('love', 'VBD'), ('6', 'CD'), ('never', 'RB'), ('go', 'VBP'), ('day', 'NN'), ('without', 'IN'), ('hearing', 'VBG'), ('someone', 'NN'), ('love', 'NN'), ('wont', 'NN'), ('able', 'JJ'), ('stand', 'NN'), ('going', 'VBG'), ('long', 'RB'), ('without', 'IN'), ('hearing', 'VBG'), ('whether', 'IN'), ('hearing', 'VBG'), ('voice', 'NN'), ('via', 'IN'), ('phone', 'NN'), ('call', 'NN'), ('even', 'RB'), ('checking', 'VBG'), ('quick', 'JJ'), ('text', 'NN'), ('wont', 'NN'), ('going', 'VBG'), ('entire', 'JJ'), ('day', 'NN'), ('without', 'IN'), ('hearing', 'VBG'), ('form', 'NN'), ('7', 'CD'), ('tell', 'NN'), ('love', 'RBR'), ('likely', 'RB'), ('obvious', 'JJ'), ('one', 'CD'), ('absolute', 'NN'), ('biggest', 'JJS'), ('sign', 'NN'), ('someone', 'NN'), ('love', 'NN'), ('tell', 'NN'), ('love', 'VB'), ('youll', 'NN'), ('know', 'VBP'), ('theyre', 'NN'), ('sincere', 'JJ'), ('action', 'NN'), ('match', 'NN'), ('theyre', 'NN'), ('telling', 'VBG'), ('hope', 'NN'), ('could', 'MD'), ('helpful', 'VB'), ('careful', 'JJ'), ('shoot', 'JJ'), ('foot', 'NN'), ('want', 'VBP'), ('quit', 'NN'), ('job', 'NN'), ('start', 'NN'), ('business', 'NN'), ('start', 'NN'), ('sharing', 'VBG'), ('idea', 'NN'), ('many', 'JJ'), ('people', 'NNS'), ('possible', 'JJ'), ('search', 'JJ'), ('potential', 'JJ'), ('user', 'NN'), ('product', 'NN'), ('service', 'NN'), ('find', 'VBP'), ('business', 'NN'), ('coach', 'NN'), ('investor', 'NN'), ('mentor', 'NN'), ('talk', 'NN'), ('listen', 'NNS'), ('say', 'VBP'), ('avoid', 'IN'), ('getting', 'VBG'), ('defensive', 'JJ'), ('getting', 'VBG'), ('feedback', 'NN'), ('business', 'NN'), ('idea', 'NN'), ('let', 'NN'), ('people', 'NNS'), ('say', 'VBP'), ('everything', 'NN'), ('want', 'VBP'), ('say', 'VBP'), ('interrupt', 'NNS'), ('make', 'VBP'), ('big', 'JJ'), ('effort', 'NN'), ('help', 'NN'), ('know', 'VB'), ('youre', 'NN'), ('hearing', 'VBG'), ('expect', 'JJ'), ('golden', 'JJ'), ('opportunity', 'NN'), ('listen', 'VBP'), ('carefully', 'RB'), ('theyre', 'JJ'), ('saying', 'VBG'), ('try', 'NN'), ('sell', 'NN'), ('idea', 'NN'), ('remember', 'VB'), ('convincing', 'JJ'), ('lead', 'NN'), ('many', 'JJ'), ('sale', 'NN'), ('today', 'NN'), ('excited', 'VBD'), ('every', 'DT'), ('entrepreneurial', 'JJ'), ('hormone', 'NN'), ('body', 'NN'), ('racing', 'VBG'), ('vein', 'JJ'), ('eager', 'JJ'), ('take', 'VB'), ('action', 'NN'), ('warned', 'VBD'), ('must', 'MD'), ('learn', 'VB'), ('get', 'VB'), ('emotion', 'JJ'), ('control', 'NN'), ('emotional', 'JJ'), ('process', 'NN'), ('passion', 'NN'), ('may', 'MD'), ('easily', 'RB'), ('take', 'VB'), ('rational', 'JJ'), ('thought', 'NN'), ('happens', 'VBZ'), ('easily', 'RB'), ('sell', 'VB'), ('business', 'NN'), ('idea', 'NN'), ('next', 'RB'), ('big', 'JJ'), ('thing', 'NN'), ('shoot', 'JJ'), ('foot', 'NN'), ('avoid', 'NN'), ('selling', 'VBG'), ('idea', 'NN'), ('1', 'CD'), ('want', 'JJ'), ('end', 'NN'), ('bad', 'JJ'), ('date', 'NN'), ('stare', 'NN'), ('hairline', 'NN'), ('someone', 'NN'), ('head', 'VBP'), ('dont', 'NN'), ('want', 'VBP'), ('listen', 'JJ'), ('make', 'VBP'), ('people', 'NNS'), ('uncomfortable', 'JJ'), ('2', 'CD'), ('want', 'VBP'), ('lie', 'NN'), ('believable', 'JJ'), ('add', 'NN'), ('embarrassing', 'VBG'), ('detail', 'JJ'), ('story', 'NN'), ('3', 'CD'), ('want', 'JJ'), ('open', 'JJ'), ('door', 'NN'), ('growth', 'NN'), ('conversation', 'NN'), ('dont', 'NNS'), ('say', 'VBP'), ('okay', 'IN'), ('someone', 'NN'), ('apologizes', 'NNS'), ('say', 'VBP'), ('something', 'NN'), ('like', 'IN'), ('thank', 'NN'), ('apologizing', 'VBG'), ('4', 'CD'), ('want', 'JJ'), ('someone', 'NN'), ('trait', 'NN'), ('thank', 'NN'), ('someone', 'NN'), ('trait', 'NN'), ('want', 'VBP'), ('instead', 'RB'), ('telling', 'VBG'), ('friend', 'NN'), ('sorry', 'JJ'), ('wait', 'NN'), ('tell', 'NN'), ('thank', 'VBD'), ('patience', 'NN'), ('understanding', 'VBG'), ('5', 'CD'), ('want', 'JJ'), ('people', 'NNS'), ('feel', 'VBP'), ('needed', 'VBN'), ('need', 'NN'), ('help', 'NN'), ('people', 'NNS'), ('want', 'VBP'), ('feel', 'NN'), ('needed', 'VBN'), ('like', 'IN'), ('making', 'VBG'), ('difference', 'NN'), ('expressing', 'VBG'), ('much', 'JJ'), ('make', 'NN'), ('difference', 'NN'), ('world', 'NN'), ('6', 'CD'), ('want', 'JJ'), ('people', 'NNS'), ('agree', 'VBP'), ('task', 'JJ'), ('start', 'NN'), ('something', 'NN'), ('simpler', 'NN'), ('first', 'JJ'), ('footinthedoor', 'NN'), ('phenomenon', 'NN'), ('people', 'NNS'), ('likely', 'JJ'), ('agree', 'JJ'), ('task', 'NN'), ('gradual', 'JJ'), ('commitment', 'NN'), ('7', 'CD'), ('dont', 'NN'), ('want', 'VBP'), ('lose', 'JJ'), ('friend', 'NN'), ('never', 'RB'), ('arguing', 'VBG'), ('text', 'NN'), ('arguing', 'VBG'), ('text', 'JJ'), ('worst', 'JJ'), ('way', 'NN'), ('argue', 'JJ'), ('lack', 'NN'), ('tone', 'NN'), ('decrease', 'NN'), ('meaning', 'NN'), ('word', 'NN'), ('8', 'CD'), ('really', 'RB'), ('need', 'JJ'), ('calm', 'NNS'), ('eat', 'VBP'), ('something', 'NN'), ('youre', 'NN'), ('eating', 'VBG'), ('something', 'NN'), ('brain', 'NN'), ('trip', 'NN'), ('reason', 'NN'), ('would', 'MD'), ('eating', 'VB'), ('danger', 'NN'), ('im', 'NN'), ('danger', 'NN'), ('one', 'CD'), ('thing', 'NN'), ('sphincter', 'NN'), ('junction', 'NN'), ('esophagus', 'FW'), ('stomach', 'NN'), ('thats', 'NNS'), ('normally', 'RB'), ('tightly', 'RB'), ('constricted', 'VBN'), ('keep', 'JJ'), ('stomach', 'NN'), ('content', 'NN'), ('reentering', 'VBG'), ('esophagus', 'JJ'), ('except', 'IN'), ('case', 'NN'), ('like', 'IN'), ('gerd', 'NN'), ('here', 'RB'), ('sphincter', 'JJ'), ('look', 'VBP'), ('like', 'IN'), ('endoscopy', 'NN'), ('another', 'DT'), ('esophagus', 'NN'), ('doesnt', 'NN'), ('enter', 'NN'), ('stomach', 'VBP'), ('top', 'JJ'), ('upper', 'JJ'), ('dome', 'NN'), ('stomach', 'NN'), ('called', 'VBN'), ('fundus', 'NN'), ('encloses', 'VBZ'), ('fairly', 'RB'), ('substantial', 'JJ'), ('space', 'NN'), ('higher', 'JJR'), ('esophagus', 'JJ'), ('people', 'NNS'), ('took', 'VBD'), ('drink', 'RP'), ('ate', 'JJ'), ('bit', 'NN'), ('food', 'NN'), ('stood', 'VBD'), ('head', 'NN'), ('stomach', 'NN'), ('content', 'NN'), ('fell', 'VBD'), ('force', 'JJ'), ('gravity', 'NN'), ('would', 'MD'), ('likely', 'RB'), ('fall', 'VB'), ('space', 'NN'), ('esophagus', 'NN'), ('here', 'RB'), ('upsidedown', 'JJ'), ('stomach', 'NN'), ('see', 'VB'), ('food', 'NN'), ('drink', 'VB'), ('would', 'MD'), ('fall', 'VB'), ('person', 'NN'), ('standing', 'VBG'), ('head', 'NN'), ('especially', 'RB'), ('sphincter', 'JJ'), ('blocking', 'VBG'), ('way', 'NN'), ('esophagus', 'JJ'), ('opinion', 'NN'), ('japanese', 'JJ'), ('committed', 'JJ'), ('atrocity', 'NN'), ('even', 'RB'), ('heinous', 'JJ'), ('committed', 'JJ'), ('german', 'JJ'), ('nazi', 'JJ'), ('world', 'NN'), ('war', 'NN'), ('ii', 'VBP'), ('one', 'CD'), ('particularly', 'RB'), ('disturbing', 'JJ'), ('example', 'NN'), ('unit', 'NN'), ('731', 'CD'), ('unit', 'NN'), ('conducted', 'VBD'), ('wide', 'JJ'), ('range', 'NN'), ('inhumane', 'NN'), ('experiment', 'JJ'), ('prisoner', 'NN'), ('among', 'IN'), ('horrifying', 'VBG'), ('practice', 'NN'), ('carried', 'VBD'), ('unit', 'NN'), ('731', 'CD'), ('vivisection', 'NN'), ('surgical', 'JJ'), ('examination', 'NN'), ('living', 'VBG'), ('body', 'NN'), ('performed', 'VBD'), ('prisoner', 'NN'), ('without', 'IN'), ('use', 'NN'), ('anesthesia', 'NN'), ('included', 'VBD'), ('experimenting', 'VBG'), ('child', 'NN'), ('whose', 'WP$'), ('parent', 'NN'), ('deemed', 'VBD'), ('spy', 'JJ'), ('reasoning', 'VBG'), ('behind', 'IN'), ('monstrous', 'JJ'), ('practice', 'NN'), ('anesthesia', 'NN'), ('could', 'MD'), ('alter', 'VB'), ('behavior', 'JJ'), ('organ', 'JJ'), ('vessel', 'NN'), ('studied', 'VBD'), ('chilling', 'VBG'), ('reminder', 'NN'), ('darkness', 'NN'), ('human', 'JJ'), ('capable', 'JJ'), ('unleashing', 'VBG'), ('fellow', 'JJ'), ('being', 'VBG'), ('congenital', 'JJ'), ('aganglionic', 'JJ'), ('megacolon', 'NN'), ('simply', 'RB'), ('hirschsprung', 'JJ'), ('disease', 'NN'), ('29yearold', 'CD'), ('man', 'NN'), ('owned', 'VBN'), ('dissected', 'JJ'), ('colon', 'NN'), ('picture', 'NN'), ('died', 'VBD'), ('called', 'VBN'), ('balloon', 'NN'), ('man', 'NN'), ('abdomen', 'NNS'), ('distended', 'VBD'), ('made', 'VBN'), ('perform', 'NN'), ('freak', 'NN'), ('show', 'NN'), ('20', 'CD'), ('year', 'NN'), ('old', 'JJ'), ('cell', 'NN'), ('colon', 'NN'), ('large', 'JJ'), ('intestine', 'JJ'), ('properly', 'RB'), ('developed', 'VBN'), ('therefore', 'NN'), ('could', 'MD'), ('move', 'VB'), ('feces', 'NNS'), ('along', 'IN'), ('child', 'JJ'), ('balloon', 'NN'), ('man', 'NN'), ('reasonably', 'RB'), ('well', 'RB'), ('time', 'NN'), ('16', 'CD'), ('year', 'NN'), ('old', 'JJ'), ('going', 'VBG'), ('month', 'NN'), ('defecate', 'NN'), ('born', 'JJ'), ('1865', 'CD'), ('doctor', 'NN'), ('already', 'RB'), ('knew', 'VBD'), ('tumor', 'JJ'), ('defective', 'JJ'), ('colon', 'NN'), ('plagued', 'VBD'), ('man', 'NN'), ('know', 'VB'), ('help', 'NN'), ('died', 'VBD'), ('29', 'CD'), ('year', 'NN'), ('found', 'VBD'), ('40', 'CD'), ('pound', 'NN'), ('feces', 'NNS'), ('colon', 'VBP'), ('intestinal', 'JJ'), ('defect', 'NN'), ('occurs', 'VBZ'), ('one', 'CD'), ('5000', 'CD'), ('child', 'NN'), ('today', 'NN'), ('possible', 'JJ'), ('remove', 'NN'), ('defective', 'JJ'), ('part', 'NN'), ('intestine', 'NN'), ('shortly', 'RB'), ('birth', 'JJ'), ('sew', 'NNS'), ('good', 'JJ'), ('part', 'NN'), ('together', 'RB'), ('people', 'NNS'), ('live', 'VBP'), ('normally', 'RB'), ('one', 'CD'), ('one', 'CD'), ('difference', 'NN'), ('mindset', 'NN'), ('exists', 'VBZ'), ('group', 'NN'), ('rich', 'JJ'), ('people', 'NNS'), ('think', 'VBP'), ('doesnt', 'JJ'), ('work', 'NN'), ('fall', 'NN'), ('back', 'RB'), ('resource', 'JJ'), ('resource', 'NN'), ('may', 'MD'), ('saving', 'VBG'), ('account', 'VB'), ('retirement', 'NN'), ('fund', 'NN'), ('wealthy', 'JJ'), ('parent', 'NN'), ('rich', 'JJ'), ('people', 'NNS'), ('often', 'RB'), ('loathe', 'VBP'), ('idea', 'NN'), ('using', 'VBG'), ('resource', 'JJ'), ('theyre', 'NN'), ('infinitely', 'RB'), ('replenishable', 'JJ'), ('may', 'MD'), ('stigma', 'VB'), ('shame', 'NN'), ('tapping', 'VBG'), ('certain', 'JJ'), ('family', 'NN'), ('community', 'NN'), ('fact', 'NN'), ('remains', 'VBZ'), ('business', 'NN'), ('venture', 'NN'), ('career', 'NN'), ('plan', 'NN'), ('relationship', 'NN'), ('go', 'VBP'), ('bellyup', 'JJ'), ('way', 'NN'), ('avoid', 'IN'), ('catastrophic', 'JJ'), ('result', 'NN'), ('like', 'IN'), ('starvation', 'NN'), ('homelessness', 'NN'), ('famine', 'NN'), ('ivan', 'NN'), ('vladimirov', 'VBZ'), ('public', 'JJ'), ('domain', 'NN'), ('poor', 'JJ'), ('none', 'NN'), ('tend', 'VBP'), ('much', 'JJ'), ('riskaverse', 'JJR'), ('consequence', 'NN'), ('rich', 'JJ'), ('person', 'NN'), ('fallback', 'JJ'), ('poor', 'JJ'), ('people', 'NNS'), ('large', 'JJ'), ('depth', 'NN'), ('loved', 'VBD'), ('one', 'CD'), ('coffer', 'NN'), ('directly', 'RB'), ('determines', 'VBZ'), ('much', 'RB'), ('risk', 'NN'), ('taking', 'VBG'), ('every', 'DT'), ('life', 'NN'), ('decision', 'NN'), ('make', 'VBP'), ('people', 'NNS'), ('without', 'IN'), ('fallback', 'NN'), ('taking', 'VBG'), ('significantly', 'RB'), ('bigger', 'JJR'), ('risk', 'NN'), ('every', 'DT'), ('single', 'JJ'), ('time', 'NN'), ('make', 'VB'), ('decision', 'NN'), ('extreme', 'NN'), ('poor', 'JJ'), ('often', 'RB'), ('facing', 'VBG'), ('prison', 'NN'), ('lifelong', 'JJ'), ('indigence', 'NN'), ('wealthy', 'JJ'), ('face', 'NN'), ('mere', 'RB'), ('social', 'JJ'), ('embarrassment', 'NN'), ('performing', 'VBG'), ('exact', 'JJ'), ('action', 'NN'), ('money', 'NN'), ('buy', 'VB'), ('safety', 'NN'), ('form', 'NN'), ('directly', 'RB'), ('impact', 'JJ'), ('decision', 'NN'), ('people', 'NNS'), ('make', 'VBP'), ('life', 'NN'), ('rightly', 'RB'), ('wealthy', 'JJ'), ('riskaverse', 'NN'), ('poor', 'JJ'), ('would', 'MD'), ('squandering', 'VBG'), ('opportunity', 'NN'), ('handful', 'NN'), ('contrast', 'NN'), ('poor', 'JJ'), ('risk', 'NN'), ('tolerant', 'NN'), ('wealthy', 'JJ'), ('people', 'NNS'), ('many', 'JJ'), ('would', 'MD'), ('starving', 'VBG'), ('street', 'NN'), ('mindset', 'VBD'), ('difference', 'NN'), ('unfortunately', 'RB'), ('mindset', 'VBD'), ('difference', 'NN'), ('reflects', 'VBZ'), ('genuinely', 'RB'), ('different', 'JJ'), ('circumstance', 'NN'), ('cant', 'NN'), ('corrected', 'VBD'), ('without', 'IN'), ('changing', 'VBG'), ('economic', 'JJ'), ('reality', 'NN'), ('one', 'CD'), ('group', 'NN'), ('teacher', 'CC'), ('head', 'NN'), ('government', 'NN'), ('agree', 'IN'), ('teacher', 'NN'), ('deserve', 'NN'), ('head', 'JJ'), ('government', 'NN'), ('controversial', 'JJ'), ('btw', 'NN'), ('im', 'NN'), ('using', 'VBG'), ('term', 'NN'), ('head', 'JJ'), ('government', 'NN'), ('loosely', 'RB'), ('really', 'RB'), ('mean', 'VB'), ('mac', 'NN'), ('daddy', 'JJ'), ('country', 'NN'), ('ok', 'NN'), ('left', 'VBD'), ('credit', 'NN'), ('suisse', 'NN'), ('paid', 'VBN'), ('multiple', 'JJ'), ('tony', 'JJ'), ('blair', 'NN'), ('uk', 'JJ'), ('prime', 'JJ'), ('minister', 'NN'), ('got', 'VBD'), ('absolutely', 'RB'), ('bonkers', 'NNS'), ('insane', 'JJ'), ('vice', 'NN'), ('president', 'NN'), ('late', 'RB'), ('20', 'CD'), ('investment', 'NN'), ('bank', 'NN'), ('get', 'VB'), ('paid', 'VBN'), ('multiple', 'JJ'), ('uk', 'JJ'), ('prime', 'JJ'), ('minister', 'NN'), ('relatively', 'RB'), ('low', 'JJ'), ('pay', 'NN'), ('prime', 'JJ'), ('minister', 'NN'), ('encourages', 'NNS'), ('corruption', 'NN'), ('could', 'MD'), ('mean', 'VB'), ('getting', 'VBG'), ('best', 'JJS'), ('person', 'NN'), ('job', 'NN'), ('absolutely', 'RB'), ('contradiction', 'NN'), ('wanting', 'VBG'), ('best', 'JJS'), ('family', 'NN'), ('well', 'RB'), ('country', 'NN'), ('fact', 'NN'), ('today', 'NN'), ('isnt', 'VBP'), ('one', 'CD'), ('head', 'NN'), ('government', 'NN'), ('get', 'NN'), ('paid', 'VBN'), ('us600k', 'JJ'), ('per', 'IN'), ('annum', 'NN'), ('except', 'IN'), ('singapore', 'NN'), ('get', 'NN'), ('us22m', 'JJ'), ('give', 'JJ'), ('perspective', 'NN'), ('average', 'JJ'), ('pay', 'NN'), ('ceo', 'NN'), ('500', 'CD'), ('revenue', 'NN'), ('generating', 'VBG'), ('company', 'NN'), ('u', 'JJ'), ('us11m1', 'JJ'), ('singapore', 'NN'), ('founding', 'VBG'), ('former', 'JJ'), ('prime', 'JJ'), ('minister', 'NN'), ('lee', 'NN'), ('kuan', 'JJ'), ('yew', 'NN'), ('man', 'NN'), ('put', 'VBD'), ('place', 'NN'), ('policy', 'NN'), ('high', 'JJ'), ('pay', 'NN'), ('government', 'NN'), ('official', 'NN'), ('gave', 'VBD'), ('massive', 'JJ'), ('pay', 'NN'), ('rise', 'NN'), ('helped', 'VBD'), ('clamp', 'VB'), ('corruption', 'NN'), ('minister', 'NN'), ('including', 'VBG'), ('could', 'MD'), ('focus', 'VB'), ('work', 'NN'), ('rather', 'RB'), ('trying', 'VBG'), ('make', 'VB'), ('corrupt', 'JJ'), ('money', 'NN'), ('see', 'NN'), ('asia', 'RB'), ('singapore', 'RB'), ('country', 'NN'), ('world', 'NN'), ('got', 'VBD'), ('minister', 'NN'), ('pay', 'NN'), ('right', 'RB'), ('enough', 'JJ'), ('money', 'NN'), ('buy', 'VB'), ('food', 'NN'), ('poor', 'JJ'), ('actually', 'RB'), ('work', 'VBP'), ('many', 'JJ'), ('work', 'NN'), ('multiple', 'JJ'), ('job', 'NN'), ('bad', 'JJ'), ('politics', 'NNS'), ('country', 'NN'), ('society', 'NN'), ('built', 'VBN'), ('keep', 'VB'), ('poor', 'JJ'), ('low', 'JJ'), ('possible', 'JJ'), ('continuing', 'VBG'), ('expect', 'JJ'), ('build', 'NN'), ('fortune', 'JJ'), ('keep', 'NN'), ('oppressed', 'VBD'), ('poor', 'JJ'), ('guy', 'NN'), ('working', 'VBG'), ('9hour', 'CD'), ('wife', 'NN'), ('work', 'NN'), ('making', 'VBG'), ('8hour', 'CD'), ('2', 'CD'), ('child', 'NN'), ('2', 'CD'), ('tax', 'NN'), ('bring', 'NN'), ('home', 'NN'), ('2100', 'CD'), ('month', 'NN'), ('cheapest', 'JJS'), ('apartment', 'NN'), ('find', 'VB'), ('small', 'JJ'), ('2', 'CD'), ('bedroom', 'NN'), ('bad', 'JJ'), ('area', 'NN'), ('1200mo', 'CD'), ('could', 'MD'), ('barely', 'RB'), ('afford', 'VB'), ('working', 'VBG'), ('different', 'JJ'), ('company', 'NN'), ('making', 'VBG'), ('significantly', 'RB'), ('company', 'NN'), ('shut', 'VBD'), ('pandemic', 'JJ'), ('able', 'JJ'), ('get', 'NN'), ('something', 'NN'), ('better', 'RBR'), ('rent', 'NN'), ('utility', 'NN'), ('car', 'NN'), ('payment', 'NN'), ('gas', 'NN'), ('insurance', 'NN'), ('kid', 'NN'), ('expense', 'NN'), ('simply', 'RB'), ('nothing', 'NN'), ('left', 'VBD'), ('problem', 'NN'), ('make', 'NN'), ('2100', 'CD'), ('qualify', 'NN'), ('100', 'CD'), ('food', 'NN'), ('stamp', 'NN'), ('one', 'CD'), ('hundred', 'VBD'), ('dollar', 'NN'), ('feed', 'NN'), ('4', 'CD'), ('people', 'NNS'), ('3', 'CD'), ('meal', 'JJ'), ('day', 'NN'), ('30', 'CD'), ('day', 'NN'), ('fair', 'VBD'), ('2', 'CD'), ('child', 'JJ'), ('school', 'NN'), ('get', 'VBP'), ('lunch', 'JJ'), ('school', 'NN'), ('youngest', 'JJS'), ('preschool', 'NN'), ('get', 'NN'), ('lunch', 'JJ'), ('part', 'NN'), ('cost', 'NN'), ('daycare', 'NN'), ('provide', 'VBP'), ('4', 'CD'), ('people', 'NNS'), ('food', 'NN'), ('300', 'CD'), ('meal', 'JJ'), ('month', 'NN'), ('great', 'JJ'), ('math', 'NN'), ('come', 'VBP'), ('033mealperson', 'CD'), ('let', 'NN'), ('see', 'VB'), ('fed', 'VBN'), ('family', 'NN'), ('4', 'CD'), ('thirty', 'NN'), ('three', 'CD'), ('cent', 'NN'), ('per', 'IN'), ('person', 'NN'), ('per', 'IN'), ('meal', 'NN'), ('per', 'IN'), ('day', 'NN'), ('really', 'RB'), ('important', 'JJ'), ('given', 'VBN'), ('increasing', 'VBG'), ('interest', 'NN'), ('rate', 'NN'), ('firstly', 'RB'), ('let', 'VB'), ('start', 'VB'), ('basic', 'JJ'), ('think', 'NN'), ('something', 'NN'), ('bank', 'NN'), ('give', 'JJ'), ('people', 'NNS'), ('interest', 'NN'), ('rate', 'NN'), ('money', 'NN'), ('make', 'VBP'), ('money', 'NN'), ('deposit', 'NN'), ('pocket', 'NN'), ('profit', 'NN'), ('country', 'NN'), ('fixed', 'VBD'), ('return', 'JJ'), ('investment', 'NN'), ('pay', 'NN'), ('higher', 'JJR'), ('normal', 'JJ'), ('rate', 'NN'), ('possible', 'JJ'), ('bank', 'NN'), ('making', 'NN'), ('profit', 'NN'), ('investing', 'VBG'), ('project', 'NN'), ('financing', 'NN'), ('project', 'NN'), ('course', 'NN'), ('bank', 'NN'), ('make', 'VB'), ('money', 'NN'), ('people', 'NNS'), ('saving', 'VBG'), ('depends', 'NNS'), ('country', 'NN'), ('regulation', 'VBP'), ('many', 'JJ'), ('thing', 'NN'), ('point', 'NN'), ('saving', 'VBG'), ('money', 'NN'), ('bank', 'NN'), ('losing', 'VBG'), ('game', 'NN'), ('compared', 'VBN'), ('investing', 'VBG'), ('forever', 'RB'), ('le', 'RB'), ('volatile', 'JJ'), ('per', 'IN'), ('graph', 'NN'), ('show', 'NN'), ('volatility', 'NN'), ('stock', 'NN'), ('lessor', 'NN'), ('extent', 'NN'), ('bond', 'NN'), ('thing', 'NN'), ('changed', 'VBD'), ('since', 'IN'), ('2008', 'CD'), ('interest', 'NN'), ('rate', 'NN'), ('low', 'JJ'), ('even', 'RB'), ('0', 'CD'), ('developed', 'VBD'), ('country', 'NN'), ('even', 'RB'), ('many', 'JJ'), ('developing', 'VBG'), ('country', 'NN'), ('interest', 'NN'), ('rate', 'NN'), ('consistently', 'RB'), ('inflation', 'NN'), ('whereas', 'NNS'), ('historically', 'RB'), ('u', 'JJ'), ('stock', 'NN'), ('market', 'NN'), ('done', 'VBN'), ('10', 'CD'), ('65', 'CD'), ('inflation', 'NN'), ('different', 'JJ'), ('period', 'NN'), ('better', 'RBR'), ('others', 'NNS'), ('cash', 'NN'), ('1', 'CD'), ('2', 'CD'), ('inflation', 'NN'), ('take', 'VB'), ('direct', 'JJ'), ('loss', 'NN'), ('inflation', 'NN'), ('got', 'VBD'), ('worse', 'JJR'), ('many', 'JJ'), ('people', 'NNS'), ('cheered', 'VBD'), ('increasing', 'VBG'), ('interest', 'NN'), ('rate', 'NN'), ('2022', 'CD'), ('real', 'JJ'), ('inflationadjusted', 'VBN'), ('rate', 'NN'), ('lower', 'RBR'), ('year', 'NN'), ('ago', 'RB'), ('could', 'MD'), ('get', 'VB'), ('01', 'CD'), ('bank', 'NN'), ('inflation', 'NN'), ('running', 'VBG'), ('3', 'CD'), ('29', 'CD'), ('loss', 'NN'), ('inflation', 'NN'), ('day', 'NN'), ('get', 'VB'), ('35', 'CD'), ('bank', 'NN'), ('inflation', 'NN'), ('running', 'VBG'), ('1011', 'CD'), ('uk', 'NN'), ('also', 'RB'), ('high', 'JJ'), ('elsewhere', 'RB'), ('much', 'JJ'), ('bigger', 'JJR'), ('loss', 'NN'), ('inflation', 'NN'), ('historically', 'RB'), ('people', 'NNS'), ('take', 'VBP'), ('relative', 'JJ'), ('loss', 'NN'), ('investing', 'VBG'), ('absolute', 'JJ'), ('loss', 'NN'), ('inflation', 'NN'), ('thing', 'NN'), ('compound', 'NN'), ('well', 'RB'), ('somebody', 'NN'), ('left', 'VBD'), ('money', 'NN'), ('bank', 'NN'), ('since', 'IN'), ('2008', 'CD'), ('lost', 'VBD'), ('13', 'CD'), ('per', 'IN'), ('year', 'NN'), ('inflation', 'NN'), ('12', 'CD'), ('year', 'NN'), ('compounded', 'VBD'), ('25', 'CD'), ('loss', 'NN'), ('case', 'NN'), ('isnt', 'JJ'), ('mention', 'NN'), ('loss', 'NN'), ('devaluation', 'NN'), ('happened', 'VBD'), ('currency', 'NN'), ('diverse', 'NN'), ('british', 'JJ'), ('pound', 'NN'), ('nigerian', 'JJ'), ('naira', 'NN'), ('south', 'JJ'), ('african', 'JJ'), ('rand', 'NN'), ('speaking', 'VBG'), ('friend', 'NN'), ('expat', 'JJ'), ('year', 'NN'), ('left', 'VBD'), ('20000', 'CD'), ('sterling', 'NN'), ('bank', 'NN'), ('20072008', 'CD'), ('worth', 'NN'), ('40000', 'CD'), ('worth', 'NN'), ('21700', 'CD'), ('pound', 'NN'), ('28690', 'CD'), ('today', 'NN'), ('30', 'CD'), ('loss', 'NN'), ('devaluation', 'NN'), ('25', 'CD'), ('loss', 'NN'), ('inflation', 'NN'), ('12', 'CD'), ('years28690', 'NN'), ('buy', 'VB'), ('much', 'JJ'), ('le', 'NN'), ('2020', 'CD'), ('20072008', 'CD'), ('said', 'VBD'), ('cash', 'NN'), ('serve', 'NN'), ('useful', 'JJ'), ('purpose', 'RB'), ('give', 'JJ'), ('cushion', 'NN'), ('case', 'NN'), ('unexpected', 'JJ'), ('emergency', 'NN'), ('cash', 'NN'), ('therefore', 'RB'), ('isnt', 'JJ'), ('investment', 'NN'), ('help', 'NN'), ('cashflow', 'VB'), ('situation', 'NN'), ('ultimately', 'RB'), ('people', 'NNS'), ('need', 'VBP'), ('put', 'VB'), ('money', 'NN'), ('work', 'NN'), ('one', 'CD'), ('reason', 'NN'), ('almost', 'RB'), ('wealthy', 'JJ'), ('people', 'NNS'), ('invest', 'VBP'), ('asset', 'NN'), ('investment', 'NN'), ('digital', 'JJ'), ('asset', 'NN'), ('private', 'JJ'), ('business', 'NN'), ('indeed', 'RB'), ('central', 'JJ'), ('theory', 'NN'), ('thomas', 'NN'), ('pikettys', 'VBP'), ('famous', 'JJ'), ('book', 'NN'), ('capital', 'NN'), ('21st', 'JJ'), ('century', 'NN'), ('one', 'CD'), ('biggest', 'JJS'), ('driver', 'NN'), ('inequality', 'NN'), ('asset', 'NN'), ('like', 'IN'), ('stock', 'NN'), ('go', 'VBP'), ('higher', 'JJR'), ('wage', 'NN'), ('cash', 'NN'), ('bank', 'NN'), ('time', 'NN'), ('compound', 'JJ'), ('despite', 'IN'), ('volatility', 'NN'), ('asset', 'NN'), ('middle', 'JJ'), ('people', 'NNS'), ('shouldnt', 'VBP'), ('fear', 'JJ'), ('volatility', 'NN'), ('though', 'IN'), ('look', 'JJ'), ('year', 'NN'), ('huge', 'JJ'), ('crash', 'NN'), ('recovery', 'NN'), ('happened', 'VBD'), ('even', 'RB'), ('20082009', 'CD'), ('took', 'VBD'), ('stock', 'NN'), ('market', 'NN'), ('3', 'CD'), ('year', 'NN'), ('recover', 'NN'), ('number', 'NN'), ('way', 'NN'), ('use', 'IN'), ('social', 'JJ'), ('medium', 'NN'), ('increase', 'NN'), ('brand', 'NN'), ('awareness', 'NN'), ('specific', 'JJ'), ('geographical', 'JJ'), ('location', 'NN'), ('obvious', 'JJ'), ('way', 'NN'), ('simply', 'RB'), ('target', 'VB'), ('content', 'JJ'), ('advertising', 'NN'), ('people', 'NNS'), ('location', 'VBP'), ('done', 'VBN'), ('targeting', 'VBG'), ('ad', 'NN'), ('platform', 'NN'), ('like', 'IN'), ('facebook', 'NN'), ('google', 'NN'), ('creating', 'VBG'), ('content', 'NN'), ('specifically', 'RB'), ('targeted', 'JJ'), ('people', 'NNS'), ('location', 'VBP'), ('another', 'DT'), ('way', 'NN'), ('increase', 'NN'), ('brand', 'NN'), ('awareness', 'NN'), ('specific', 'JJ'), ('geographical', 'JJ'), ('location', 'NN'), ('use', 'IN'), ('social', 'JJ'), ('medium', 'NN'), ('influencers', 'NNS'), ('identify', 'VBP'), ('influencers', 'NNS'), ('large', 'JJ'), ('following', 'VBG'), ('location', 'NN'), ('reach', 'NN'), ('see', 'NN'), ('would', 'MD'), ('interested', 'VB'), ('promoting', 'VBG'), ('brand', 'NN'), ('effective', 'JJ'), ('way', 'NN'), ('reach', 'VB'), ('large', 'JJ'), ('audience', 'NN'), ('specific', 'JJ'), ('location', 'NN'), ('finally', 'RB'), ('consider', 'VB'), ('running', 'VBG'), ('social', 'JJ'), ('medium', 'NN'), ('contest', 'NN'), ('promotion', 'NN'), ('specifically', 'RB'), ('targeted', 'JJ'), ('people', 'NNS'), ('particular', 'JJ'), ('location', 'NN'), ('great', 'JJ'), ('way', 'NN'), ('generate', 'JJ'), ('interest', 'NN'), ('awareness', 'NN'), ('brand', 'NN'), ('everything', 'NN'), ('risk', 'NN'), ('cash', 'NN'), ('full', 'JJ'), ('risk', 'NN'), ('inflation', 'NN'), ('currency', 'NN'), ('fall', 'VBP'), ('really', 'RB'), ('depends', 'VBZ'), ('invest', 'JJS'), ('major', 'JJ'), ('index', 'NN'), ('always', 'RB'), ('came', 'VBD'), ('back', 'RB'), ('nasdaq', 'NN'), ('fell', 'VBD'), ('76', 'CD'), ('2000', 'CD'), ('came', 'VBD'), ('back', 'RB'), ('german', 'JJ'), ('dax', 'NN'), ('also', 'RB'), ('recovering', 'VBG'), ('similar', 'JJ'), ('fall', 'NN'), ('even', 'RB'), ('japanese', 'JJ'), ('nikkei', 'NNS'), ('came', 'VBD'), ('back', 'RB'), ('dividend', 'NN'), ('reinvested', 'VBD'), ('comparison', 'JJ'), ('many', 'JJ'), ('individual', 'JJ'), ('stock', 'NN'), ('gone', 'VBN'), ('zero', 'CD'), ('never', 'RB'), ('came', 'VBD'), ('back', 'RB'), ('want', 'JJ'), ('little', 'JJ'), ('risk', 'NN'), ('possible', 'JJ'), ('need', 'NN'), ('globally', 'RB'), ('diversified', 'VBD'), ('stock', 'NN'), ('index', 'NN'), ('msci', 'VBD'), ('world', 'NN'), ('individual', 'JJ'), ('country', 'NN'), ('could', 'MD'), ('argue', 'VB'), ('u', 'JJ'), ('market', 'NN'), ('kind', 'NN'), ('global', 'JJ'), ('market', 'NN'), ('well', 'RB'), ('firm', 'JJ'), ('global', 'JJ'), ('reinvest', 'NN'), ('dividend', 'NN'), ('rely', 'JJ'), ('capital', 'NN'), ('growth', 'NN'), ('invest', 'VB'), ('different', 'JJ'), ('time', 'NN'), ('horizon', 'NN'), ('lump', 'NN'), ('sum', 'NN'), ('monthly', 'JJ'), ('injection', 'NN'), ('therefore', 'IN'), ('dont', 'NNS'), ('need', 'VBP'), ('worry', 'VBP'), ('whether', 'IN'), ('perfect', 'JJ'), ('time', 'NN'), ('invest', 'JJS'), ('smaller', 'JJR'), ('medium', 'NN'), ('large', 'JJ'), ('cap', 'NN'), ('stock', 'NN'), ('look', 'NN'), ('uk', 'JJ'), ('market', 'NN'), ('since', 'IN'), ('2000', 'CD'), ('ftse', 'NN'), ('done', 'VBN'), ('poorly', 'JJ'), ('capital', 'NN'), ('growth', 'NN'), ('term', 'NN'), ('ok', 'JJ'), ('dividend', 'NN'), ('reinvested', 'VBD'), ('ftse', 'JJ'), ('250', 'CD'), ('done', 'VBN'), ('better', 'RBR'), ('though', 'IN'), ('asset', 'NN'), ('bond', 'NN'), ('advanced', 'VBD'), ('technique', 'JJ'), ('downsideprotection', 'NN'), ('often', 'RB'), ('require', 'VBP'), ('advisor', 'NNS'), ('need', 'VBP'), ('certified', 'VBN'), ('investor', 'NN')]\n"
          ]
        }
      ]
    },
    {
      "cell_type": "code",
      "source": [
        "# extract the pos tags from human_pos\n",
        "human_pos_tags = []\n",
        "for pos in human_pos:\n",
        "  human_pos_tags.append(pos[1])\n",
        "\n",
        "print(human_pos_tags)"
      ],
      "metadata": {
        "colab": {
          "base_uri": "https://localhost:8080/"
        },
        "id": "NJKEIXeXOyc3",
        "outputId": "ef61a036-12d6-4904-ba24-97b33f7fa59c"
      },
      "execution_count": null,
      "outputs": [
        {
          "output_type": "stream",
          "name": "stdout",
          "text": [
            "['JJ', 'NN', 'NNS', 'RB', 'VBP', 'JJ', 'NN', 'RB', 'VBG', 'NNS', 'NN', 'VBN', 'JJ', 'NN', 'VBD', 'VBG', 'NNS', 'VBZ', 'JJ', 'NN', 'IN', 'JJ', 'NN', 'RB', 'JJ', 'VBG', 'NNS', 'VBD', 'JJ', 'NN', 'NN', 'NN', 'RB', 'VBP', 'JJ', 'NN', 'VBD', 'JJ', 'NNS', 'NNS', 'RB', 'VBZ', 'JJ', 'VBG', 'VBD', 'JJ', 'NN', 'NN', 'NN', 'NN', 'JJ', 'NN', 'MD', 'VB', 'JJ', 'NN', 'NN', 'NN', 'NN', 'NN', 'JJ', 'NN', 'NNS', 'RB', 'VBG', 'NN', 'NN', 'RB', 'JJ', 'JJ', 'NN', 'JJ', 'NNS', 'NN', 'MD', 'VB', 'JJ', 'VBG', 'JJ', 'VBG', 'RB', 'JJ', 'NN', 'NN', 'RB', 'JJ', 'NN', 'RB', 'JJ', 'NN', 'NN', 'MD', 'VB', 'JJ', 'JJ', 'NN', 'JJ', 'NN', 'NN', 'VBG', 'NN', 'VBD', 'VBG', 'NN', 'NNS', 'MD', 'VB', 'VBG', 'JJ', 'NN', 'JJ', 'NN', 'NN', 'NN', 'NN', 'RB', 'RB', 'JJ', 'NN', 'NN', 'JJ', 'NNS', 'NN', 'RB', 'NN', 'NN', 'NN', 'RB', 'JJ', 'NN', 'JJ', 'NN', 'NN', 'RB', 'JJ', 'NN', 'JJ', 'NNS', 'JJ', 'MD', 'VBN', 'VB', 'NN', 'NN', 'NN', 'NNS', 'MD', 'VB', 'NN', 'NN', 'NN', 'NN', 'NNS', 'VBP', 'JJ', 'JJ', 'NN', 'VBD', 'JJ', 'NN', 'NN', 'NN', 'JJ', 'JJ', 'NN', 'NN', 'VBD', 'JJ', 'NN', 'NN', 'VBP', 'JJ', 'JJ', 'NN', 'MD', 'VB', 'JJ', 'NN', 'NNS', 'NN', 'NN', 'VBN', 'NN', 'VBP', 'VBP', 'NN', 'RBR', 'NN', 'VBP', 'NN', 'NN', 'NN', 'NN', 'RB', 'JJS', 'NN', 'JJ', 'NN', 'RB', 'VB', 'CD', 'NN', 'NN', 'VBN', 'NN', 'JJ', 'RB', 'VB', 'NN', 'VBD', 'JJ', 'NN', 'NN', 'NN', 'NN', 'NN', 'VBG', 'NN', 'NN', 'VBP', 'JJ', 'NN', 'RBR', 'RB', 'JJ', 'NN', 'RB', 'JJ', 'JJR', 'NN', 'VBN', 'IN', 'NN', 'NN', 'NN', 'RB', 'CD', 'NN', 'NN', 'RB', 'JJ', 'NN', 'JJ', 'NN', 'NN', 'VBD', 'RB', 'JJ', 'NN', 'MD', 'JJS', 'NN', 'VBD', 'JJ', 'NN', 'NN', 'NN', 'RB', 'NN', 'JJ', 'JJ', 'NN', 'CD', 'RB', 'JJ', 'NN', 'NN', 'VBP', 'NN', 'JJ', 'NN', 'NN', 'VBG', 'NN', 'NN', 'VBP', 'RB', 'VBP', 'NN', 'VBP', 'VBG', 'CD', 'JJ', 'NN', 'RB', 'VBG', 'NN', 'NN', 'RB', 'VB', 'JJ', 'JJ', 'NN', 'VBG', 'NN', 'RB', 'VBG', 'PRP', 'VBP', 'JJ', 'VBG', 'JJ', 'CD', 'VBP', 'NN', 'JJ', 'NN', 'RB', 'JJ', 'VB', 'JJ', 'RB', 'VBP', 'VB', 'JJ', 'IN', 'JJ', 'NN', 'VBG', 'JJ', 'NN', 'NN', 'VBG', 'JJ', 'NN', 'VB', 'VBG', 'CD', 'RB', 'JJ', 'NN', 'NN', 'NN', 'NN', 'VB', 'NN', 'NN', 'RB', 'VBN', 'JJ', 'RB', 'NN', 'MD', 'RB', 'VBN', 'NN', 'IN', 'NN', 'NN', 'NN', 'NN', 'NN', 'VBD', 'CD', 'RB', 'VBP', 'NN', 'IN', 'VBG', 'NN', 'NN', 'NN', 'JJ', 'NN', 'VBG', 'RB', 'IN', 'VBG', 'IN', 'VBG', 'NN', 'IN', 'NN', 'NN', 'RB', 'VBG', 'JJ', 'NN', 'NN', 'VBG', 'JJ', 'NN', 'IN', 'VBG', 'NN', 'CD', 'NN', 'RBR', 'RB', 'JJ', 'CD', 'NN', 'JJS', 'NN', 'NN', 'NN', 'NN', 'VB', 'NN', 'VBP', 'NN', 'JJ', 'NN', 'NN', 'NN', 'VBG', 'NN', 'MD', 'VB', 'JJ', 'JJ', 'NN', 'VBP', 'NN', 'NN', 'NN', 'NN', 'NN', 'VBG', 'NN', 'JJ', 'NNS', 'JJ', 'JJ', 'JJ', 'NN', 'NN', 'NN', 'VBP', 'NN', 'NN', 'NN', 'NN', 'NN', 'NNS', 'VBP', 'IN', 'VBG', 'JJ', 'VBG', 'NN', 'NN', 'NN', 'NN', 'NNS', 'VBP', 'NN', 'VBP', 'VBP', 'NNS', 'VBP', 'JJ', 'NN', 'NN', 'VB', 'NN', 'VBG', 'JJ', 'JJ', 'NN', 'VBP', 'RB', 'JJ', 'VBG', 'NN', 'NN', 'NN', 'VB', 'JJ', 'NN', 'JJ', 'NN', 'NN', 'VBD', 'DT', 'JJ', 'NN', 'NN', 'VBG', 'JJ', 'JJ', 'VB', 'NN', 'VBD', 'MD', 'VB', 'VB', 'JJ', 'NN', 'JJ', 'NN', 'NN', 'MD', 'RB', 'VB', 'JJ', 'NN', 'VBZ', 'RB', 'VB', 'NN', 'NN', 'RB', 'JJ', 'NN', 'JJ', 'NN', 'NN', 'VBG', 'NN', 'CD', 'JJ', 'NN', 'JJ', 'NN', 'NN', 'NN', 'NN', 'VBP', 'NN', 'VBP', 'JJ', 'VBP', 'NNS', 'JJ', 'CD', 'VBP', 'NN', 'JJ', 'NN', 'VBG', 'JJ', 'NN', 'CD', 'JJ', 'JJ', 'NN', 'NN', 'NN', 'NNS', 'VBP', 'IN', 'NN', 'NNS', 'VBP', 'NN', 'IN', 'NN', 'VBG', 'CD', 'JJ', 'NN', 'NN', 'NN', 'NN', 'NN', 'VBP', 'RB', 'VBG', 'NN', 'JJ', 'NN', 'NN', 'VBD', 'NN', 'VBG', 'CD', 'JJ', 'NNS', 'VBP', 'VBN', 'NN', 'NN', 'NNS', 'VBP', 'NN', 'VBN', 'IN', 'VBG', 'NN', 'VBG', 'JJ', 'NN', 'NN', 'NN', 'CD', 'JJ', 'NNS', 'VBP', 'JJ', 'NN', 'NN', 'NN', 'JJ', 'NN', 'NN', 'NNS', 'JJ', 'JJ', 'NN', 'JJ', 'NN', 'CD', 'NN', 'VBP', 'JJ', 'NN', 'RB', 'VBG', 'NN', 'VBG', 'JJ', 'JJ', 'NN', 'JJ', 'NN', 'NN', 'NN', 'NN', 'NN', 'CD', 'RB', 'JJ', 'NNS', 'VBP', 'NN', 'NN', 'VBG', 'NN', 'NN', 'NN', 'NN', 'MD', 'VB', 'NN', 'NN', 'NN', 'CD', 'NN', 'NN', 'NN', 'FW', 'NN', 'NNS', 'RB', 'RB', 'VBN', 'JJ', 'NN', 'NN', 'VBG', 'JJ', 'IN', 'NN', 'IN', 'NN', 'RB', 'JJ', 'VBP', 'IN', 'NN', 'DT', 'NN', 'NN', 'NN', 'VBP', 'JJ', 'JJ', 'NN', 'NN', 'VBN', 'NN', 'VBZ', 'RB', 'JJ', 'NN', 'JJR', 'JJ', 'NNS', 'VBD', 'RP', 'JJ', 'NN', 'NN', 'VBD', 'NN', 'NN', 'NN', 'VBD', 'JJ', 'NN', 'MD', 'RB', 'VB', 'NN', 'NN', 'RB', 'JJ', 'NN', 'VB', 'NN', 'VB', 'MD', 'VB', 'NN', 'VBG', 'NN', 'RB', 'JJ', 'VBG', 'NN', 'JJ', 'NN', 'JJ', 'JJ', 'NN', 'RB', 'JJ', 'JJ', 'JJ', 'JJ', 'NN', 'NN', 'VBP', 'CD', 'RB', 'JJ', 'NN', 'NN', 'CD', 'NN', 'VBD', 'JJ', 'NN', 'NN', 'JJ', 'NN', 'IN', 'VBG', 'NN', 'VBD', 'NN', 'CD', 'NN', 'JJ', 'NN', 'VBG', 'NN', 'VBD', 'NN', 'IN', 'NN', 'NN', 'VBD', 'VBG', 'NN', 'WP$', 'NN', 'VBD', 'JJ', 'VBG', 'IN', 'JJ', 'NN', 'NN', 'MD', 'VB', 'JJ', 'JJ', 'NN', 'VBD', 'VBG', 'NN', 'NN', 'JJ', 'JJ', 'VBG', 'JJ', 'VBG', 'JJ', 'JJ', 'NN', 'RB', 'JJ', 'NN', 'CD', 'NN', 'VBN', 'JJ', 'NN', 'NN', 'VBD', 'VBN', 'NN', 'NN', 'NNS', 'VBD', 'VBN', 'NN', 'NN', 'NN', 'CD', 'NN', 'JJ', 'NN', 'NN', 'JJ', 'JJ', 'RB', 'VBN', 'NN', 'MD', 'VB', 'NNS', 'IN', 'JJ', 'NN', 'NN', 'RB', 'RB', 'NN', 'CD', 'NN', 'JJ', 'VBG', 'NN', 'NN', 'JJ', 'CD', 'NN', 'RB', 'VBD', 'JJ', 'JJ', 'NN', 'VBD', 'NN', 'VB', 'NN', 'VBD', 'CD', 'NN', 'VBD', 'CD', 'NN', 'NNS', 'VBP', 'JJ', 'NN', 'VBZ', 'CD', 'CD', 'NN', 'NN', 'JJ', 'NN', 'JJ', 'NN', 'NN', 'RB', 'JJ', 'NNS', 'JJ', 'NN', 'RB', 'NNS', 'VBP', 'RB', 'CD', 'CD', 'NN', 'NN', 'VBZ', 'NN', 'JJ', 'NNS', 'VBP', 'JJ', 'NN', 'NN', 'RB', 'JJ', 'NN', 'MD', 'VBG', 'VB', 'NN', 'NN', 'JJ', 'NN', 'JJ', 'NNS', 'RB', 'VBP', 'NN', 'VBG', 'JJ', 'NN', 'RB', 'JJ', 'MD', 'VB', 'NN', 'VBG', 'JJ', 'NN', 'NN', 'NN', 'VBZ', 'NN', 'NN', 'NN', 'NN', 'NN', 'VBP', 'JJ', 'NN', 'IN', 'JJ', 'NN', 'IN', 'NN', 'NN', 'NN', 'NN', 'VBZ', 'JJ', 'NN', 'JJ', 'NN', 'VBP', 'JJ', 'JJR', 'NN', 'JJ', 'NN', 'JJ', 'JJ', 'NNS', 'JJ', 'NN', 'VBD', 'CD', 'NN', 'RB', 'VBZ', 'RB', 'NN', 'VBG', 'DT', 'NN', 'NN', 'VBP', 'NNS', 'IN', 'NN', 'VBG', 'RB', 'JJR', 'NN', 'DT', 'JJ', 'NN', 'VB', 'NN', 'NN', 'JJ', 'RB', 'VBG', 'NN', 'JJ', 'NN', 'JJ', 'NN', 'RB', 'JJ', 'NN', 'VBG', 'JJ', 'NN', 'NN', 'VB', 'NN', 'NN', 'RB', 'JJ', 'NN', 'NNS', 'VBP', 'NN', 'RB', 'JJ', 'NN', 'JJ', 'MD', 'VBG', 'NN', 'NN', 'NN', 'JJ', 'NN', 'NN', 'JJ', 'NNS', 'JJ', 'MD', 'VBG', 'NN', 'VBD', 'NN', 'RB', 'VBD', 'NN', 'VBZ', 'RB', 'JJ', 'NN', 'NN', 'VBD', 'IN', 'VBG', 'JJ', 'NN', 'CD', 'NN', 'CC', 'NN', 'NN', 'IN', 'NN', 'NN', 'JJ', 'NN', 'JJ', 'NN', 'NN', 'VBG', 'NN', 'JJ', 'NN', 'RB', 'RB', 'VB', 'NN', 'JJ', 'NN', 'NN', 'VBD', 'NN', 'NN', 'VBN', 'JJ', 'JJ', 'NN', 'JJ', 'JJ', 'NN', 'VBD', 'RB', 'NNS', 'JJ', 'NN', 'NN', 'RB', 'CD', 'NN', 'NN', 'VB', 'VBN', 'JJ', 'JJ', 'JJ', 'NN', 'RB', 'JJ', 'NN', 'JJ', 'NN', 'NNS', 'NN', 'MD', 'VB', 'VBG', 'JJS', 'NN', 'NN', 'RB', 'NN', 'VBG', 'JJS', 'NN', 'RB', 'NN', 'NN', 'NN', 'VBP', 'CD', 'NN', 'NN', 'NN', 'VBN', 'JJ', 'IN', 'NN', 'IN', 'NN', 'NN', 'JJ', 'JJ', 'NN', 'JJ', 'NN', 'NN', 'CD', 'NN', 'VBG', 'NN', 'JJ', 'JJ', 'NN', 'VBG', 'JJ', 'JJ', 'NN', 'NN', 'JJ', 'NN', 'NN', 'VBD', 'NN', 'NN', 'JJ', 'NN', 'NN', 'NN', 'VBD', 'JJ', 'NN', 'NN', 'VBD', 'VB', 'NN', 'NN', 'VBG', 'MD', 'VB', 'NN', 'RB', 'VBG', 'VB', 'JJ', 'NN', 'NN', 'RB', 'RB', 'NN', 'NN', 'VBD', 'NN', 'NN', 'RB', 'JJ', 'NN', 'VB', 'NN', 'JJ', 'RB', 'VBP', 'JJ', 'NN', 'JJ', 'NN', 'JJ', 'NNS', 'NN', 'NN', 'VBN', 'VB', 'JJ', 'JJ', 'JJ', 'VBG', 'JJ', 'NN', 'JJ', 'NN', 'VBD', 'JJ', 'NN', 'VBG', 'CD', 'NN', 'NN', 'VBG', 'CD', 'CD', 'NN', 'CD', 'NN', 'NN', 'NN', 'CD', 'NN', 'JJS', 'NN', 'VB', 'JJ', 'CD', 'NN', 'JJ', 'NN', 'CD', 'MD', 'RB', 'VB', 'VBG', 'JJ', 'NN', 'VBG', 'RB', 'NN', 'VBD', 'JJ', 'JJ', 'NN', 'NN', 'RBR', 'NN', 'NN', 'NN', 'NN', 'NN', 'NN', 'NN', 'NN', 'RB', 'NN', 'VBD', 'NN', 'NN', 'CD', 'NN', 'CD', 'NN', 'NN', 'CD', 'VBD', 'NN', 'NN', 'CD', 'NNS', 'CD', 'JJ', 'NN', 'CD', 'NN', 'VBD', 'CD', 'JJ', 'NN', 'VBP', 'JJ', 'NN', 'JJS', 'NN', 'NN', 'JJ', 'NN', 'NN', 'NN', 'VBP', 'CD', 'NNS', 'NN', 'CD', 'JJ', 'NN', 'JJ', 'NN', 'VBP', 'CD', 'NN', 'VB', 'VBN', 'NN', 'CD', 'NN', 'CD', 'NN', 'IN', 'NN', 'IN', 'NN', 'IN', 'NN', 'RB', 'JJ', 'VBN', 'VBG', 'NN', 'NN', 'RB', 'VB', 'VB', 'JJ', 'NN', 'NN', 'NN', 'JJ', 'NNS', 'NN', 'NN', 'NN', 'VBP', 'NN', 'NN', 'NN', 'NN', 'NN', 'VBD', 'JJ', 'NN', 'NN', 'JJR', 'JJ', 'NN', 'JJ', 'NN', 'NN', 'NN', 'VBG', 'NN', 'NN', 'NN', 'NN', 'NN', 'VB', 'NN', 'NNS', 'VBG', 'NNS', 'NN', 'VBP', 'JJ', 'NN', 'NN', 'VBG', 'NN', 'NN', 'VBG', 'NN', 'VBN', 'VBG', 'RB', 'RB', 'JJ', 'IN', 'NN', 'NN', 'NN', 'NN', 'NN', 'NN', 'NN', 'NN', 'VBD', 'IN', 'CD', 'NN', 'NN', 'JJ', 'RB', 'CD', 'VBD', 'NN', 'RB', 'JJ', 'VBG', 'NN', 'NN', 'NN', 'RB', 'NN', 'NNS', 'RB', 'JJ', 'NN', 'NN', 'VBN', 'CD', 'CD', 'NN', 'JJ', 'NN', 'RBR', 'NNS', 'NN', 'CD', 'CD', 'NN', 'VB', 'JJ', 'NN', 'NN', 'VBD', 'JJR', 'JJ', 'NNS', 'VBD', 'VBG', 'NN', 'NN', 'CD', 'JJ', 'VBN', 'NN', 'RBR', 'NN', 'RB', 'MD', 'VB', 'CD', 'NN', 'NN', 'VBG', 'CD', 'CD', 'NN', 'NN', 'NN', 'VB', 'CD', 'NN', 'NN', 'VBG', 'CD', 'NN', 'RB', 'JJ', 'RB', 'JJ', 'JJR', 'NN', 'NN', 'RB', 'NNS', 'VBP', 'JJ', 'NN', 'VBG', 'JJ', 'NN', 'NN', 'NN', 'NN', 'RB', 'NN', 'VBD', 'NN', 'NN', 'IN', 'CD', 'VBD', 'CD', 'IN', 'NN', 'NN', 'CD', 'NN', 'VBD', 'CD', 'NN', 'NN', 'JJ', 'NN', 'NN', 'NN', 'VBD', 'NN', 'NN', 'JJ', 'NN', 'JJ', 'NN', 'JJ', 'JJ', 'NN', 'VBG', 'NN', 'JJ', 'NN', 'VBD', 'CD', 'NN', 'NN', 'CD', 'NN', 'CD', 'NN', 'CD', 'NN', 'CD', 'NN', 'CD', 'NN', 'NN', 'CD', 'NN', 'NN', 'CD', 'NN', 'VB', 'JJ', 'NN', 'CD', 'CD', 'VBD', 'NN', 'NN', 'JJ', 'RB', 'JJ', 'NN', 'NN', 'JJ', 'NN', 'NN', 'RB', 'JJ', 'NN', 'NN', 'VB', 'NN', 'RB', 'NNS', 'VBP', 'VB', 'NN', 'NN', 'CD', 'NN', 'RB', 'JJ', 'NNS', 'VBP', 'NN', 'NN', 'JJ', 'NN', 'JJ', 'NN', 'RB', 'JJ', 'NN', 'NN', 'VBP', 'JJ', 'NN', 'NN', 'JJ', 'NN', 'CD', 'JJS', 'NN', 'NN', 'NN', 'IN', 'NN', 'VBP', 'JJR', 'NN', 'NN', 'NN', 'NN', 'JJ', 'IN', 'NN', 'NN', 'JJ', 'NNS', 'VBP', 'JJ', 'NN', 'IN', 'JJ', 'NN', 'JJ', 'NN', 'NN', 'VBD', 'RB', 'CD', 'VBD', 'NN', 'NN', 'CD', 'NN', 'NN', 'NN', 'NN', 'IN', 'JJ', 'NN', 'NN', 'NN', 'NN', 'JJ', 'JJ', 'NN', 'JJ', 'NN', 'RB', 'VB', 'JJ', 'NN', 'NNS', 'VBP', 'VBN', 'VBG', 'NN', 'NN', 'IN', 'NN', 'NN', 'VBG', 'NN', 'RB', 'JJ', 'NNS', 'VBP', 'DT', 'NN', 'NN', 'NN', 'NN', 'JJ', 'JJ', 'NN', 'IN', 'JJ', 'NN', 'NNS', 'VBP', 'NNS', 'JJ', 'VBG', 'NN', 'NN', 'NN', 'MD', 'VB', 'VBG', 'NN', 'JJ', 'NN', 'VB', 'JJ', 'NN', 'JJ', 'NN', 'RB', 'VB', 'VBG', 'JJ', 'NN', 'NN', 'NN', 'RB', 'JJ', 'NNS', 'JJ', 'NN', 'JJ', 'NN', 'JJ', 'NN', 'NN', 'NN', 'NN', 'NN', 'NN', 'JJ', 'NN', 'NN', 'NN', 'VBP', 'RB', 'VBZ', 'JJS', 'JJ', 'NN', 'RB', 'VBD', 'RB', 'NN', 'VBD', 'CD', 'CD', 'VBD', 'RB', 'JJ', 'NN', 'RB', 'VBG', 'JJ', 'NN', 'RB', 'JJ', 'NNS', 'VBD', 'RB', 'NN', 'VBD', 'JJ', 'JJ', 'JJ', 'NN', 'VBN', 'CD', 'RB', 'VBD', 'RB', 'JJ', 'JJ', 'NN', 'JJ', 'NN', 'RB', 'VBD', 'NN', 'NN', 'VBD', 'NN', 'JJ', 'NN', 'MD', 'VB', 'JJ', 'NN', 'NN', 'JJ', 'NN', 'RB', 'JJ', 'JJ', 'NN', 'NN', 'JJ', 'NN', 'NN', 'VB', 'JJ', 'NN', 'NN', 'NN', 'NN', 'JJ', 'NN', 'IN', 'NNS', 'VBP', 'VBP', 'IN', 'JJ', 'NN', 'JJS', 'JJR', 'NN', 'JJ', 'NN', 'NN', 'NN', 'JJ', 'NN', 'IN', 'CD', 'NN', 'VBN', 'JJ', 'NN', 'NN', 'NN', 'JJ', 'NN', 'VBD', 'JJ', 'CD', 'VBN', 'RBR', 'IN', 'NN', 'NN', 'VBD', 'JJ', 'NN', 'RB', 'VBP', 'NNS', 'VBP', 'VBN', 'NN']\n"
          ]
        }
      ]
    },
    {
      "cell_type": "markdown",
      "source": [],
      "metadata": {
        "id": "WT67DbtHQmi5"
      }
    },
    {
      "cell_type": "markdown",
      "source": [
        "## Visualizing 'human Part-Of-Speech Tags'"
      ],
      "metadata": {
        "id": "9L_QCHXjQm9h"
      }
    },
    {
      "cell_type": "code",
      "source": [
        "tags = (pd.Series(nltk.ngrams(human_pos_tags, 1)).value_counts())"
      ],
      "metadata": {
        "id": "0TTng561Qm9i"
      },
      "execution_count": null,
      "outputs": []
    },
    {
      "cell_type": "code",
      "source": [
        "# create series of top 10\n",
        "tags_series = tags[:10]"
      ],
      "metadata": {
        "id": "4_qyC2pVQm9i"
      },
      "execution_count": null,
      "outputs": []
    },
    {
      "cell_type": "code",
      "source": [
        "tags_series.sort_values().plot.barh(color='lightblue', width=.9, figsize=(12, 8))\n",
        "plt.title('10 Most Frequently Occuring Part-Of-Speech (HUMAN)')\n",
        "plt.ylabel('Part-Of-Speech Tag')\n",
        "plt.xlabel('# of Occurances')"
      ],
      "metadata": {
        "colab": {
          "base_uri": "https://localhost:8080/",
          "height": 531
        },
        "outputId": "59b59223-53f8-46c1-8334-3c662849ad12",
        "id": "eEl20QW2Qm9i"
      },
      "execution_count": null,
      "outputs": [
        {
          "output_type": "execute_result",
          "data": {
            "text/plain": [
              "Text(0.5, 0, '# of Occurances')"
            ]
          },
          "metadata": {},
          "execution_count": 54
        },
        {
          "output_type": "display_data",
          "data": {
            "text/plain": [
              "<Figure size 864x576 with 1 Axes>"
            ],
            "image/png": "[encoded data removed]"
          },
          "metadata": {
            "needs_background": "light"
          }
        }
      ]
    },
    {
      "cell_type": "markdown",
      "source": [
        "## ChatGPT POS"
      ],
      "metadata": {
        "id": "c4bxPjcNfphL"
      }
    },
    {
      "cell_type": "code",
      "source": [
        "# nltk tagging\n",
        "chatgpt_pos = nltk.pos_tag(chatgpt_words)\n",
        "print(chatgpt_pos)"
      ],
      "metadata": {
        "colab": {
          "base_uri": "https://localhost:8080/"
        },
        "outputId": "765be8d6-8b10-4273-d941-e57036885254",
        "id": "gET41NgTfphT"
      },
      "execution_count": null,
      "outputs": [
        {
          "output_type": "stream",
          "name": "stdout",
          "text": [
            "[('leftwing', 'VBG'), ('politics', 'NNS'), ('typically', 'RB'), ('involves', 'VBZ'), ('support', 'NN'), ('policy', 'NN'), ('prioritize', 'VBP'), ('need', 'NN'), ('welfare', 'NN'), ('marginalized', 'VBN'), ('oppressed', 'VBN'), ('group', 'NN'), ('worker', 'NN'), ('minority', 'NN'), ('poor', 'JJ'), ('leftwing', 'VBG'), ('ideology', 'NN'), ('often', 'RB'), ('advocate', 'JJ'), ('greater', 'JJR'), ('government', 'NN'), ('intervention', 'NN'), ('economy', 'NN'), ('progressive', 'JJ'), ('taxation', 'NN'), ('social', 'JJ'), ('program', 'NN'), ('ensure', 'VB'), ('equal', 'JJ'), ('distribution', 'NN'), ('wealth', 'NN'), ('opportunity', 'NN'), ('also', 'RB'), ('tend', 'VBP'), ('supportive', 'JJ'), ('environmental', 'JJ'), ('protection', 'NN'), ('civil', 'JJ'), ('liberty', 'NN'), ('international', 'JJ'), ('cooperation', 'NN'), ('rightwing', 'VBG'), ('politics', 'NNS'), ('hand', 'NN'), ('generally', 'RB'), ('prioritizes', 'VBZ'), ('need', 'JJ'), ('interest', 'NN'), ('traditional', 'JJ'), ('societal', 'JJ'), ('economic', 'JJ'), ('elite', 'NN'), ('business', 'NN'), ('owner', 'NN'), ('wealthy', 'JJ'), ('rightwing', 'VBG'), ('ideology', 'NN'), ('tend', 'VBP'), ('advocate', 'NN'), ('limited', 'JJ'), ('government', 'NN'), ('intervention', 'NN'), ('economy', 'NN'), ('lower', 'JJR'), ('tax', 'NN'), ('smaller', 'JJR'), ('social', 'JJ'), ('program', 'NN'), ('also', 'RB'), ('tend', 'VBP'), ('supportive', 'JJ'), ('strong', 'JJ'), ('national', 'JJ'), ('defense', 'NN'), ('law', 'NN'), ('order', 'NN'), ('traditional', 'JJ'), ('social', 'JJ'), ('value', 'NN'), ('summary', 'JJ'), ('leftwing', 'VBG'), ('politics', 'NNS'), ('characterized', 'VBN'), ('emphasis', 'NN'), ('equality', 'NN'), ('social', 'JJ'), ('justice', 'NN'), ('protection', 'NN'), ('marginalized', 'VBN'), ('group', 'NN'), ('rightwing', 'VBG'), ('politics', 'NNS'), ('focus', 'NN'), ('tradition', 'NN'), ('personal', 'JJ'), ('responsibility', 'NN'), ('smaller', 'JJR'), ('role', 'NN'), ('government', 'NN'), ('mustread', 'VBD'), ('book', 'NN'), ('economics', 'NNS'), ('considered', 'VBN'), ('classic', 'JJ'), ('field', 'NN'), ('wealth', 'NN'), ('nation', 'NN'), ('adam', 'IN'), ('smith', 'NN'), ('published', 'VBN'), ('1776', 'CD'), ('considered', 'VBN'), ('first', 'JJ'), ('modern', 'JJ'), ('work', 'NN'), ('economics', 'NNS'), ('still', 'RB'), ('widely', 'RB'), ('read', 'VBN'), ('today', 'NN'), ('principle', 'JJ'), ('economics', 'NNS'), ('alfred', 'VBD'), ('marshall', 'RB'), ('published', 'VBN'), ('1890', 'CD'), ('considered', 'VBD'), ('one', 'CD'), ('influential', 'JJ'), ('economics', 'NNS'), ('text', 'NN'), ('late', 'RB'), ('19th', 'CD'), ('early', 'JJ'), ('20th', 'JJ'), ('century', 'NN'), ('general', 'JJ'), ('theory', 'NN'), ('employment', 'NN'), ('interest', 'NN'), ('money', 'NN'), ('john', 'NN'), ('maynard', 'NN'), ('keynes', 'NNS'), ('published', 'VBN'), ('1936', 'CD'), ('revolutionized', 'JJ'), ('macroeconomic', 'JJ'), ('thought', 'NN'), ('continues', 'VBZ'), ('influential', 'JJ'), ('today', 'NN'), ('capital', 'NN'), ('twentyfirst', 'JJ'), ('century', 'NN'), ('thomas', 'NN'), ('piketty', 'RB'), ('published', 'VBN'), ('2014', 'CD'), ('comprehensive', 'JJ'), ('study', 'NN'), ('income', 'NN'), ('wealth', 'NN'), ('inequality', 'NN'), ('cause', 'NN'), ('nudge', 'NN'), ('improving', 'VBG'), ('decision', 'NN'), ('health', 'NN'), ('wealth', 'NN'), ('happiness', 'NN'), ('richard', 'NN'), ('thaler', 'NN'), ('ca', 'MD'), ('sunstein', 'VB'), ('published', 'JJ'), ('2008', 'CD'), ('popularized', 'JJ'), ('concept', 'NN'), ('behavioral', 'JJ'), ('economics', 'NNS'), ('implication', 'NN'), ('policymaking', 'VBG'), ('book', 'NN'), ('provide', 'VBP'), ('broad', 'JJ'), ('overview', 'NN'), ('field', 'NN'), ('economics', 'NNS'), ('evolution', 'NN'), ('time', 'NN'), ('considered', 'VBN'), ('essential', 'JJ'), ('reading', 'VBG'), ('anyone', 'NN'), ('interested', 'JJ'), ('subject', 'JJ'), ('main', 'JJ'), ('reason', 'NN'), ('people', 'NNS'), ('start', 'VBP'), ('business', 'NN'), ('make', 'VBP'), ('profit', 'NN'), ('providing', 'NN'), ('good', 'JJ'), ('service', 'NN'), ('customer', 'NN'), ('reason', 'NN'), ('include', 'VBP'), ('bos', 'NNS'), ('control', 'VB'), ('worklife', 'JJ'), ('balance', 'NN'), ('pursuing', 'VBG'), ('passion', 'NN'), ('interest', 'NN'), ('many', 'JJ'), ('way', 'NN'), ('tell', 'VBP'), ('someone', 'NN'), ('truly', 'RB'), ('love', 'JJ'), ('sign', 'NN'), ('include', 'VBP'), ('consistently', 'RB'), ('make', 'VBP'), ('effort', 'NN'), ('spend', 'NN'), ('time', 'NN'), ('prioritize', 'VB'), ('need', 'NN'), ('want', 'VBP'), ('listen', 'JJ'), ('support', 'NN'), ('good', 'JJ'), ('time', 'NN'), ('bad', 'JJ'), ('honest', 'JJS'), ('open', 'JJ'), ('feel', 'NN'), ('like', 'IN'), ('trust', 'NN'), ('show', 'VBP'), ('physical', 'JJ'), ('emotional', 'JJ'), ('affection', 'NN'), ('make', 'VBP'), ('sacrifice', 'NN'), ('willing', 'JJ'), ('compromise', 'NN'), ('order', 'NN'), ('make', 'VBP'), ('relationship', 'NN'), ('work', 'NN'), ('important', 'JJ'), ('keep', 'VB'), ('mind', 'NN'), ('everyone', 'NN'), ('express', 'JJ'), ('love', 'NN'), ('differently', 'RB'), ('may', 'MD'), ('sign', 'VB'), ('love', 'VB'), ('one', 'CD'), ('person', 'NN'), ('may', 'MD'), ('another', 'DT'), ('communication', 'NN'), ('partner', 'NN'), ('understanding', 'VBG'), ('others', 'NNS'), ('need', 'VBP'), ('want', 'JJ'), ('important', 'JJ'), ('healthy', 'JJ'), ('loving', 'NN'), ('relationship', 'NN'), ('starting', 'VBG'), ('business', 'NN'), ('challenging', 'VBG'), ('rewarding', 'VBG'), ('experience', 'JJ'), ('several', 'JJ'), ('step', 'NN'), ('take', 'VB'), ('get', 'NN'), ('started', 'VBN'), ('develop', 'NN'), ('business', 'NN'), ('plan', 'NN'), ('include', 'VBP'), ('detailed', 'JJ'), ('description', 'NN'), ('business', 'NN'), ('target', 'NN'), ('market', 'NN'), ('competition', 'NN'), ('also', 'RB'), ('include', 'VBP'), ('financial', 'JJ'), ('projection', 'NN'), ('projected', 'VBN'), ('income', 'NN'), ('expense', 'NN'), ('conduct', 'NN'), ('market', 'NN'), ('research', 'NN'), ('important', 'JJ'), ('understand', 'NN'), ('target', 'NN'), ('market', 'NN'), ('including', 'VBG'), ('need', 'NN'), ('preference', 'NN'), ('well', 'RB'), ('size', 'NN'), ('growth', 'NN'), ('market', 'NN'), ('help', 'NN'), ('determine', 'VB'), ('viability', 'NN'), ('business', 'NN'), ('idea', 'NN'), ('secure', 'NN'), ('funding', 'NN'), ('starting', 'VBG'), ('business', 'NN'), ('typically', 'RB'), ('requires', 'VBZ'), ('form', 'JJ'), ('investment', 'NN'), ('whether', 'IN'), ('personal', 'JJ'), ('saving', 'VBG'), ('business', 'NN'), ('loan', 'NN'), ('investment', 'NN'), ('others', 'NNS'), ('may', 'MD'), ('also', 'RB'), ('want', 'VB'), ('consider', 'JJR'), ('crowdfunding', 'VBG'), ('applying', 'VBG'), ('grant', 'NN'), ('build', 'NN'), ('strong', 'JJ'), ('team', 'NN'), ('business', 'NN'), ('owner', 'NN'), ('need', 'VBP'), ('wear', 'VBP'), ('many', 'JJ'), ('hat', 'WP'), ('handle', 'JJ'), ('variety', 'NN'), ('task', 'NN'), ('surrounding', 'VBG'), ('strong', 'JJ'), ('team', 'NN'), ('advisor', 'NN'), ('mentor', 'NN'), ('partner', 'NN'), ('help', 'NN'), ('ensure', 'VB'), ('success', 'NN'), ('register', 'NN'), ('business', 'NN'), ('obtain', 'VB'), ('necessary', 'JJ'), ('license', 'NN'), ('permit', 'NN'), ('varies', 'NNS'), ('depending', 'VBG'), ('type', 'NN'), ('business', 'NN'), ('starting', 'VBG'), ('regulation', 'NN'), ('area', 'NN'), ('establish', 'VB'), ('online', 'NN'), ('presence', 'NN'), ('today', 'NN'), ('digital', 'JJ'), ('age', 'NN'), ('website', 'JJ'), ('social', 'JJ'), ('medium', 'NN'), ('presence', 'NN'), ('crucial', 'JJ'), ('reaching', 'VBG'), ('engaging', 'VBG'), ('customer', 'NN'), ('starting', 'VBG'), ('business', 'NN'), ('big', 'JJ'), ('step', 'NN'), ('right', 'RB'), ('planning', 'VBG'), ('execution', 'NN'), ('fulfilling', 'VBG'), ('profitable', 'JJ'), ('endeavor', 'NN'), ('psychological', 'JJ'), ('hack', 'NN'), ('shown', 'VBN'), ('effective', 'JJ'), ('footinthedoor', 'NN'), ('technique', 'NN'), ('starting', 'VBG'), ('small', 'JJ'), ('request', 'NN'), ('make', 'VBP'), ('likely', 'JJ'), ('someone', 'NN'), ('comply', 'NN'), ('larger', 'JJR'), ('request', 'NN'), ('later', 'RB'), ('doorintheface', 'NN'), ('technique', 'NN'), ('making', 'VBG'), ('initial', 'JJ'), ('large', 'JJ'), ('request', 'NN'), ('likely', 'RB'), ('denied', 'VBD'), ('followed', 'VBN'), ('smaller', 'JJR'), ('request', 'NN'), ('increase', 'NN'), ('chance', 'NN'), ('smaller', 'JJR'), ('request', 'NN'), ('granted', 'VBN'), ('social', 'JJ'), ('proof', 'NN'), ('people', 'NNS'), ('likely', 'JJ'), ('take', 'VBP'), ('certain', 'JJ'), ('action', 'NN'), ('see', 'NN'), ('others', 'NNS'), ('around', 'IN'), ('taking', 'VBG'), ('action', 'NN'), ('ben', 'NN'), ('franklin', 'NN'), ('effect', 'NN'), ('favor', 'NN'), ('someone', 'NN'), ('make', 'VBP'), ('feel', 'NN'), ('positively', 'RB'), ('towards', 'IN'), ('anchoring', 'VBG'), ('effect', 'NN'), ('first', 'RB'), ('piece', 'JJ'), ('information', 'NN'), ('encountered', 'VBD'), ('anchor', 'JJ'), ('influence', 'NN'), ('way', 'NN'), ('subsequent', 'JJ'), ('information', 'NN'), ('perceived', 'VBD'), ('halo', 'JJ'), ('effect', 'NN'), ('person', 'NN'), ('overall', 'JJ'), ('positive', 'JJ'), ('impression', 'NN'), ('influence', 'NN'), ('specific', 'JJ'), ('trait', 'NN'), ('viewed', 'VBD'), ('framing', 'JJ'), ('effect', 'NN'), ('way', 'NN'), ('information', 'NN'), ('presented', 'VBD'), ('influence', 'NN'), ('perceived', 'VBN'), ('acted', 'VBN'), ('upon', 'IN'), ('zeigarnik', 'FW'), ('effect', 'NN'), ('uncompleted', 'JJ'), ('task', 'NN'), ('tend', 'VBP'), ('stay', 'NN'), ('mind', 'IN'), ('making', 'VBG'), ('u', 'JJ'), ('likely', 'JJ'), ('think', 'VBP'), ('finish', 'JJ'), ('example', 'NN'), ('important', 'JJ'), ('remember', 'VB'), ('psychological', 'JJ'), ('hack', 'NN'), ('used', 'VBN'), ('ethically', 'RB'), ('unethically', 'RB'), ('important', 'JJ'), ('use', 'NN'), ('responsibly', 'RB'), ('come', 'VBN'), ('mouth', 'NN'), ('swallowing', 'VBG'), ('involves', 'NNS'), ('muscle', 'NN'), ('esophagus', 'VBP'), ('move', 'NN'), ('food', 'NN'), ('stomach', 'NN'), ('hanging', 'VBG'), ('upside', 'JJ'), ('reverse', 'NN'), ('process', 'NN'), ('swallowing', 'VBG'), ('affect', 'JJ'), ('muscle', 'NN'), ('esophagus', 'NN'), ('food', 'NN'), ('stay', 'VB'), ('stomach', 'NN'), ('continue', 'NN'), ('digested', 'VBD'), ('terrifying', 'VBG'), ('experiment', 'JJ'), ('human', 'JJ'), ('history', 'NN'), ('include', 'VBP'), ('tuskegee', 'NN'), ('syphilis', 'NN'), ('study', 'NN'), ('u', 'JJ'), ('public', 'JJ'), ('health', 'NN'), ('service', 'NN'), ('withheld', 'VBD'), ('treatment', 'NN'), ('african', 'JJ'), ('american', 'JJ'), ('men', 'NNS'), ('syphilis', 'VBD'), ('decade', 'NN'), ('stanford', 'NN'), ('prison', 'NN'), ('experiment', 'JJ'), ('college', 'NN'), ('student', 'NN'), ('randomly', 'RB'), ('assigned', 'VBN'), ('role', 'NN'), ('guard', 'NN'), ('prisoner', 'NN'), ('simulated', 'VBD'), ('prison', 'NN'), ('resulting', 'VBG'), ('severe', 'JJ'), ('abuse', 'NN'), ('psychological', 'JJ'), ('trauma', 'NN'), ('prisoner', 'NN'), ('nazi', 'JJ'), ('experiment', 'JJ'), ('world', 'NN'), ('war', 'NN'), ('ii', 'NN'), ('prisoner', 'NN'), ('subjected', 'VBD'), ('inhumane', 'JJ'), ('medical', 'JJ'), ('experimentation', 'NN'), ('treatment', 'NN'), ('concentration', 'NN'), ('camp', 'NN'), ('cia', 'NN'), ('project', 'NN'), ('mkultra', 'NNP'), ('u', 'JJ'), ('government', 'NN'), ('conducted', 'VBD'), ('secret', 'JJ'), ('experiment', 'NN'), ('mind', 'NN'), ('control', 'NN'), ('interrogation', 'NN'), ('technique', 'NN'), ('using', 'VBG'), ('drug', 'NN'), ('method', 'NN'), ('unknowing', 'VBG'), ('subject', 'JJ'), ('monster', 'NN'), ('study', 'NN'), ('speech', 'VBD'), ('therapist', 'NN'), ('deliberately', 'RB'), ('induced', 'VBD'), ('stuttering', 'VBG'), ('child', 'NN'), ('order', 'NN'), ('study', 'NN'), ('effect', 'NN'), ('guatemala', 'NN'), ('syphilis', 'NN'), ('study', 'NN'), ('u', 'JJ'), ('government', 'NN'), ('official', 'NN'), ('intentionally', 'RB'), ('infected', 'VBD'), ('prisoner', 'JJ'), ('mental', 'JJ'), ('patient', 'NN'), ('syphilis', 'VBD'), ('1940s', 'CD'), ('1950s', 'CD'), ('disease', 'NN'), ('used', 'VBN'), ('extremely', 'RB'), ('bad', 'JJ'), ('hardly', 'RB'), ('problem', 'NN'), ('today', 'NN'), ('include', 'VBP'), ('smallpox', 'JJ'), ('disease', 'NN'), ('eradicated', 'VBD'), ('globally', 'RB'), ('1980', 'CD'), ('widespread', 'JJ'), ('vaccination', 'NN'), ('campaign', 'NN'), ('polio', 'NN'), ('number', 'NN'), ('case', 'NN'), ('polio', 'NN'), ('decreased', 'VBD'), ('99', 'CD'), ('since', 'IN'), ('1988', 'CD'), ('world', 'NN'), ('health', 'NN'), ('organization', 'NN'), ('aim', 'NN'), ('eradicate', 'NN'), ('disease', 'NN'), ('worldwide', 'IN'), ('end', 'NN'), ('2020', 'CD'), ('measles', 'NNS'), ('measles', 'VBZ'), ('case', 'NN'), ('death', 'NN'), ('decreased', 'VBD'), ('84', 'CD'), ('79', 'CD'), ('respectively', 'RB'), ('since', 'IN'), ('2000', 'CD'), ('due', 'JJ'), ('increased', 'VBN'), ('vaccination', 'NN'), ('rate', 'NN'), ('yellow', 'JJ'), ('fever', 'RB'), ('yellow', 'JJ'), ('fever', 'NN'), ('death', 'NN'), ('decreased', 'VBD'), ('88', 'CD'), ('since', 'IN'), ('2000', 'CD'), ('due', 'JJ'), ('increased', 'VBN'), ('vaccination', 'NN'), ('coverage', 'NN'), ('mosquito', 'NN'), ('control', 'NN'), ('measure', 'NN'), ('guinea', 'NN'), ('worm', 'NN'), ('disease', 'NN'), ('number', 'NN'), ('case', 'NN'), ('guinea', 'NN'), ('worm', 'VB'), ('disease', 'NN'), ('decreased', 'JJ'), ('9999', 'CD'), ('since', 'IN'), ('1986', 'CD'), ('combination', 'NN'), ('communitybased', 'VBN'), ('intervention', 'JJ'), ('mass', 'NN'), ('drug', 'NN'), ('administration', 'NN'), ('popular', 'JJ'), ('belief', 'NN'), ('wealthy', 'JJ'), ('people', 'NNS'), ('growth', 'NN'), ('mindset', 'VBP'), ('poor', 'JJ'), ('people', 'NNS'), ('fixed', 'VBN'), ('mindset', 'JJ'), ('growth', 'NN'), ('mindset', 'VBP'), ('belief', 'NN'), ('one', 'CD'), ('ability', 'NN'), ('intelligence', 'NN'), ('developed', 'VBD'), ('effort', 'NN'), ('learning', 'VBG'), ('fixed', 'VBN'), ('mindset', 'JJ'), ('belief', 'NN'), ('one', 'CD'), ('ability', 'NN'), ('intelligence', 'NN'), ('fixed', 'VBD'), ('cannot', 'NNS'), ('changed', 'VBN'), ('however', 'RB'), ('research', 'NN'), ('topic', 'NN'), ('mixed', 'VBD'), ('wealthy', 'JJ'), ('individual', 'JJ'), ('posse', 'NN'), ('growth', 'NN'), ('mindset', 'VBP'), ('additionally', 'RB'), ('growth', 'NN'), ('mindset', 'VBD'), ('necessarily', 'RB'), ('guarantee', 'NN'), ('success', 'NN'), ('wealth', 'NN'), ('important', 'JJ'), ('note', 'NN'), ('many', 'JJ'), ('factor', 'NN'), ('contribute', 'VBP'), ('individual', 'JJ'), ('wealth', 'NN'), ('mindset', 'NN'), ('accurate', 'VBP'), ('fair', 'JJ'), ('make', 'VBP'), ('sweeping', 'JJ'), ('generalization', 'NN'), ('mindset', 'VBN'), ('wealthy', 'JJ'), ('poor', 'JJ'), ('individual', 'JJ'), ('according', 'VBG'), ('data', 'NN'), ('bureau', 'NN'), ('labor', 'NN'), ('statistic', 'JJ'), ('commonly', 'RB'), ('underpaid', 'JJ'), ('job', 'NN'), ('united', 'JJ'), ('state', 'NN'), ('include', 'VBP'), ('home', 'NN'), ('health', 'NN'), ('aide', 'IN'), ('personal', 'JJ'), ('care', 'NN'), ('aide', 'NN'), ('worker', 'NN'), ('often', 'RB'), ('make', 'VBP'), ('around', 'IN'), ('1113', 'CD'), ('per', 'IN'), ('hour', 'NN'), ('fast', 'RB'), ('food', 'NN'), ('worker', 'NN'), ('worker', 'NN'), ('often', 'RB'), ('make', 'VBP'), ('around', 'RP'), ('810', 'CD'), ('per', 'IN'), ('hour', 'NN'), ('retail', 'JJ'), ('salesperson', 'NN'), ('worker', 'NN'), ('often', 'RB'), ('make', 'VBP'), ('around', 'IN'), ('1013', 'CD'), ('per', 'IN'), ('hour', 'NN'), ('office', 'NN'), ('clerk', 'NN'), ('worker', 'NN'), ('often', 'RB'), ('make', 'VBP'), ('around', 'IN'), ('1215', 'CD'), ('per', 'IN'), ('hour', 'NN'), ('administrative', 'JJ'), ('assistant', 'NN'), ('worker', 'NN'), ('often', 'RB'), ('make', 'VBP'), ('around', 'IN'), ('1417', 'CD'), ('per', 'IN'), ('hour', 'NN'), ('worth', 'IN'), ('noting', 'VBG'), ('pay', 'NN'), ('vary', 'JJ'), ('depending', 'VBG'), ('location', 'NN'), ('employer', 'NN'), ('additionally', 'RB'), ('job', 'NN'), ('typically', 'RB'), ('high', 'JJ'), ('turnover', 'NN'), ('rate', 'NN'), ('employer', 'NN'), ('may', 'MD'), ('provide', 'VB'), ('benefit', 'VB'), ('health', 'NN'), ('insurance', 'NN'), ('paid', 'VBD'), ('time', 'NN'), ('many', 'JJ'), ('reason', 'NN'), ('individual', 'JJ'), ('community', 'NN'), ('may', 'MD'), ('enough', 'VB'), ('food', 'NN'), ('possible', 'JJ'), ('cause', 'NN'), ('include', 'VBP'), ('poverty', 'JJ'), ('lack', 'NN'), ('access', 'NN'), ('affordable', 'JJ'), ('nutritious', 'JJ'), ('food', 'NN'), ('war', 'NN'), ('conflict', 'NN'), ('natural', 'JJ'), ('disaster', 'NN'), ('government', 'NN'), ('policy', 'NN'), ('additionally', 'RB'), ('systemic', 'JJ'), ('issue', 'NN'), ('inequality', 'NN'), ('discrimination', 'NN'), ('lack', 'NN'), ('resource', 'NN'), ('infrastructure', 'NN'), ('also', 'RB'), ('contribute', 'JJ'), ('food', 'NN'), ('insecurity', 'NN'), ('many', 'JJ'), ('reason', 'NN'), ('individual', 'JJ'), ('community', 'NN'), ('may', 'MD'), ('enough', 'VB'), ('food', 'NN'), ('possible', 'JJ'), ('cause', 'NN'), ('include', 'VBP'), ('poverty', 'JJ'), ('lack', 'NN'), ('access', 'NN'), ('affordable', 'JJ'), ('nutritious', 'JJ'), ('food', 'NN'), ('war', 'NN'), ('conflict', 'NN'), ('natural', 'JJ'), ('disaster', 'NN'), ('government', 'NN'), ('policy', 'NN'), ('additionally', 'RB'), ('systemic', 'JJ'), ('issue', 'NN'), ('inequality', 'NN'), ('discrimination', 'NN'), ('lack', 'NN'), ('resource', 'NN'), ('infrastructure', 'NN'), ('also', 'RB'), ('contribute', 'JJ'), ('food', 'NN'), ('insecurity', 'NN'), ('several', 'JJ'), ('way', 'NN'), ('use', 'IN'), ('social', 'JJ'), ('medium', 'NN'), ('increase', 'NN'), ('brand', 'NN'), ('awareness', 'NN'), ('specific', 'JJ'), ('geographical', 'JJ'), ('location', 'NN'), ('targeted', 'VBD'), ('advertising', 'NN'), ('use', 'NN'), ('social', 'JJ'), ('medium', 'NN'), ('platform', 'NN'), ('advertising', 'NN'), ('tool', 'NN'), ('target', 'NN'), ('user', 'NN'), ('specific', 'JJ'), ('geographical', 'JJ'), ('location', 'NN'), ('localized', 'VBD'), ('content', 'JJ'), ('create', 'NN'), ('share', 'NN'), ('content', 'JJ'), ('relevant', 'NN'), ('specific', 'JJ'), ('geographical', 'JJ'), ('location', 'NN'), ('event', 'NN'), ('promotion', 'NN'), ('news', 'NN'), ('influencer', 'NN'), ('marketing', 'NN'), ('partner', 'NN'), ('local', 'JJ'), ('influencers', 'NNS'), ('reach', 'VBP'), ('audience', 'NN'), ('specific', 'JJ'), ('geographical', 'JJ'), ('location', 'NN'), ('community', 'NN'), ('building', 'NN'), ('use', 'NN'), ('social', 'JJ'), ('medium', 'NN'), ('build', 'JJ'), ('engage', 'NN'), ('community', 'NN'), ('user', 'NN'), ('specific', 'JJ'), ('geographical', 'JJ'), ('location', 'NN'), ('participate', 'VB'), ('local', 'JJ'), ('hashtags', 'NNS'), ('use', 'VBP'), ('participate', 'JJ'), ('local', 'JJ'), ('hashtags', 'NNS'), ('specific', 'JJ'), ('geographical', 'JJ'), ('location', 'NN'), ('reach', 'NN'), ('people', 'NNS'), ('area', 'NN'), ('google', 'NN'), ('business', 'NN'), ('optimize', 'VB'), ('google', 'NN'), ('business', 'NN'), ('listing', 'VBG'), ('make', 'VB'), ('sure', 'JJ'), ('appears', 'VBZ'), ('people', 'NNS'), ('specific', 'JJ'), ('geographical', 'JJ'), ('location', 'NN'), ('search', 'NN'), ('business', 'NN'), ('like', 'IN'), ('important', 'JJ'), ('note', 'NN'), ('successful', 'JJ'), ('social', 'JJ'), ('medium', 'NN'), ('strategy', 'NN'), ('need', 'VBP'), ('clear', 'JJ'), ('understanding', 'JJ'), ('target', 'NN'), ('audience', 'NN'), ('well', 'RB'), ('regularly', 'RB'), ('create', 'JJ'), ('share', 'NN'), ('engaging', 'VBG'), ('content', 'JJ'), ('investing', 'VBG'), ('always', 'RB'), ('carry', 'VBP'), ('level', 'NN'), ('risk', 'NN'), ('guarantee', 'NN'), ('investment', 'NN'), ('pay', 'NN'), ('long', 'JJ'), ('run', 'RB'), ('even', 'RB'), ('perform', 'VB'), ('expected', 'VBN'), ('short', 'JJ'), ('term', 'NN'), ('different', 'JJ'), ('type', 'NN'), ('investment', 'NN'), ('carry', 'VBP'), ('different', 'JJ'), ('level', 'NN'), ('risk', 'NN'), ('example', 'NN'), ('stock', 'NN'), ('considered', 'VBN'), ('riskier', 'JJR'), ('bond', 'NN'), ('also', 'RB'), ('potential', 'JJ'), ('higher', 'JJR'), ('return', 'NN'), ('important', 'JJ'), ('consider', 'VBP'), ('personal', 'JJ'), ('risk', 'NN'), ('tolerance', 'NN'), ('investment', 'NN'), ('goal', 'NN'), ('investing', 'VBG'), ('diversify', 'NN'), ('portfolio', 'NN'), ('spread', 'NN'), ('risk', 'NN'), ('among', 'IN'), ('different', 'JJ'), ('type', 'NN'), ('investment', 'NN'), ('additionally', 'RB'), ('important', 'JJ'), ('keep', 'VB'), ('mind', 'NN'), ('value', 'NN'), ('investment', 'NN'), ('go', 'VBP'), ('well', 'RB'), ('past', 'JJ'), ('performance', 'NN'), ('guarantee', 'NN'), ('future', 'JJ'), ('result', 'NN')]\n"
          ]
        }
      ]
    },
    {
      "cell_type": "code",
      "source": [
        "# extract the pos tags from human_pos\n",
        "chatgpt_pos_tags = []\n",
        "for pos in chatgpt_pos:\n",
        "  chatgpt_pos_tags.append(pos[1])\n",
        "\n",
        "print(chatgpt_pos_tags)"
      ],
      "metadata": {
        "colab": {
          "base_uri": "https://localhost:8080/"
        },
        "outputId": "668eff62-e3b2-43a3-8313-64c7c058c832",
        "id": "E3SjPhXGfphT"
      },
      "execution_count": null,
      "outputs": [
        {
          "output_type": "stream",
          "name": "stdout",
          "text": [
            "['VBG', 'NNS', 'RB', 'VBZ', 'NN', 'NN', 'VBP', 'NN', 'NN', 'VBN', 'VBN', 'NN', 'NN', 'NN', 'JJ', 'VBG', 'NN', 'RB', 'JJ', 'JJR', 'NN', 'NN', 'NN', 'JJ', 'NN', 'JJ', 'NN', 'VB', 'JJ', 'NN', 'NN', 'NN', 'RB', 'VBP', 'JJ', 'JJ', 'NN', 'JJ', 'NN', 'JJ', 'NN', 'VBG', 'NNS', 'NN', 'RB', 'VBZ', 'JJ', 'NN', 'JJ', 'JJ', 'JJ', 'NN', 'NN', 'NN', 'JJ', 'VBG', 'NN', 'VBP', 'NN', 'JJ', 'NN', 'NN', 'NN', 'JJR', 'NN', 'JJR', 'JJ', 'NN', 'RB', 'VBP', 'JJ', 'JJ', 'JJ', 'NN', 'NN', 'NN', 'JJ', 'JJ', 'NN', 'JJ', 'VBG', 'NNS', 'VBN', 'NN', 'NN', 'JJ', 'NN', 'NN', 'VBN', 'NN', 'VBG', 'NNS', 'NN', 'NN', 'JJ', 'NN', 'JJR', 'NN', 'NN', 'VBD', 'NN', 'NNS', 'VBN', 'JJ', 'NN', 'NN', 'NN', 'IN', 'NN', 'VBN', 'CD', 'VBN', 'JJ', 'JJ', 'NN', 'NNS', 'RB', 'RB', 'VBN', 'NN', 'JJ', 'NNS', 'VBD', 'RB', 'VBN', 'CD', 'VBD', 'CD', 'JJ', 'NNS', 'NN', 'RB', 'CD', 'JJ', 'JJ', 'NN', 'JJ', 'NN', 'NN', 'NN', 'NN', 'NN', 'NN', 'NNS', 'VBN', 'CD', 'JJ', 'JJ', 'NN', 'VBZ', 'JJ', 'NN', 'NN', 'JJ', 'NN', 'NN', 'RB', 'VBN', 'CD', 'JJ', 'NN', 'NN', 'NN', 'NN', 'NN', 'NN', 'VBG', 'NN', 'NN', 'NN', 'NN', 'NN', 'NN', 'MD', 'VB', 'JJ', 'CD', 'JJ', 'NN', 'JJ', 'NNS', 'NN', 'VBG', 'NN', 'VBP', 'JJ', 'NN', 'NN', 'NNS', 'NN', 'NN', 'VBN', 'JJ', 'VBG', 'NN', 'JJ', 'JJ', 'JJ', 'NN', 'NNS', 'VBP', 'NN', 'VBP', 'NN', 'NN', 'JJ', 'NN', 'NN', 'NN', 'VBP', 'NNS', 'VB', 'JJ', 'NN', 'VBG', 'NN', 'NN', 'JJ', 'NN', 'VBP', 'NN', 'RB', 'JJ', 'NN', 'VBP', 'RB', 'VBP', 'NN', 'NN', 'NN', 'VB', 'NN', 'VBP', 'JJ', 'NN', 'JJ', 'NN', 'JJ', 'JJS', 'JJ', 'NN', 'IN', 'NN', 'VBP', 'JJ', 'JJ', 'NN', 'VBP', 'NN', 'JJ', 'NN', 'NN', 'VBP', 'NN', 'NN', 'JJ', 'VB', 'NN', 'NN', 'JJ', 'NN', 'RB', 'MD', 'VB', 'VB', 'CD', 'NN', 'MD', 'DT', 'NN', 'NN', 'VBG', 'NNS', 'VBP', 'JJ', 'JJ', 'JJ', 'NN', 'NN', 'VBG', 'NN', 'VBG', 'VBG', 'JJ', 'JJ', 'NN', 'VB', 'NN', 'VBN', 'NN', 'NN', 'NN', 'VBP', 'JJ', 'NN', 'NN', 'NN', 'NN', 'NN', 'RB', 'VBP', 'JJ', 'NN', 'VBN', 'NN', 'NN', 'NN', 'NN', 'NN', 'JJ', 'NN', 'NN', 'NN', 'VBG', 'NN', 'NN', 'RB', 'NN', 'NN', 'NN', 'NN', 'VB', 'NN', 'NN', 'NN', 'NN', 'NN', 'VBG', 'NN', 'RB', 'VBZ', 'JJ', 'NN', 'IN', 'JJ', 'VBG', 'NN', 'NN', 'NN', 'NNS', 'MD', 'RB', 'VB', 'JJR', 'VBG', 'VBG', 'NN', 'NN', 'JJ', 'NN', 'NN', 'NN', 'VBP', 'VBP', 'JJ', 'WP', 'JJ', 'NN', 'NN', 'VBG', 'JJ', 'NN', 'NN', 'NN', 'NN', 'NN', 'VB', 'NN', 'NN', 'NN', 'VB', 'JJ', 'NN', 'NN', 'NNS', 'VBG', 'NN', 'NN', 'VBG', 'NN', 'NN', 'VB', 'NN', 'NN', 'NN', 'JJ', 'NN', 'JJ', 'JJ', 'NN', 'NN', 'JJ', 'VBG', 'VBG', 'NN', 'VBG', 'NN', 'JJ', 'NN', 'RB', 'VBG', 'NN', 'VBG', 'JJ', 'NN', 'JJ', 'NN', 'VBN', 'JJ', 'NN', 'NN', 'VBG', 'JJ', 'NN', 'VBP', 'JJ', 'NN', 'NN', 'JJR', 'NN', 'RB', 'NN', 'NN', 'VBG', 'JJ', 'JJ', 'NN', 'RB', 'VBD', 'VBN', 'JJR', 'NN', 'NN', 'NN', 'JJR', 'NN', 'VBN', 'JJ', 'NN', 'NNS', 'JJ', 'VBP', 'JJ', 'NN', 'NN', 'NNS', 'IN', 'VBG', 'NN', 'NN', 'NN', 'NN', 'NN', 'NN', 'VBP', 'NN', 'RB', 'IN', 'VBG', 'NN', 'RB', 'JJ', 'NN', 'VBD', 'JJ', 'NN', 'NN', 'JJ', 'NN', 'VBD', 'JJ', 'NN', 'NN', 'JJ', 'JJ', 'NN', 'NN', 'JJ', 'NN', 'VBD', 'JJ', 'NN', 'NN', 'NN', 'VBD', 'NN', 'VBN', 'VBN', 'IN', 'FW', 'NN', 'JJ', 'NN', 'VBP', 'NN', 'IN', 'VBG', 'JJ', 'JJ', 'VBP', 'JJ', 'NN', 'JJ', 'VB', 'JJ', 'NN', 'VBN', 'RB', 'RB', 'JJ', 'NN', 'RB', 'VBN', 'NN', 'VBG', 'NNS', 'NN', 'VBP', 'NN', 'NN', 'NN', 'VBG', 'JJ', 'NN', 'NN', 'VBG', 'JJ', 'NN', 'NN', 'NN', 'VB', 'NN', 'NN', 'VBD', 'VBG', 'JJ', 'JJ', 'NN', 'VBP', 'NN', 'NN', 'NN', 'JJ', 'JJ', 'NN', 'NN', 'VBD', 'NN', 'JJ', 'JJ', 'NNS', 'VBD', 'NN', 'NN', 'NN', 'JJ', 'NN', 'NN', 'RB', 'VBN', 'NN', 'NN', 'NN', 'VBD', 'NN', 'VBG', 'JJ', 'NN', 'JJ', 'NN', 'NN', 'JJ', 'JJ', 'NN', 'NN', 'NN', 'NN', 'VBD', 'JJ', 'JJ', 'NN', 'NN', 'NN', 'NN', 'NN', 'NN', 'NNP', 'JJ', 'NN', 'VBD', 'JJ', 'NN', 'NN', 'NN', 'NN', 'NN', 'VBG', 'NN', 'NN', 'VBG', 'JJ', 'NN', 'NN', 'VBD', 'NN', 'RB', 'VBD', 'VBG', 'NN', 'NN', 'NN', 'NN', 'NN', 'NN', 'NN', 'JJ', 'NN', 'NN', 'RB', 'VBD', 'JJ', 'JJ', 'NN', 'VBD', 'CD', 'CD', 'NN', 'VBN', 'RB', 'JJ', 'RB', 'NN', 'NN', 'VBP', 'JJ', 'NN', 'VBD', 'RB', 'CD', 'JJ', 'NN', 'NN', 'NN', 'NN', 'NN', 'NN', 'VBD', 'CD', 'IN', 'CD', 'NN', 'NN', 'NN', 'NN', 'NN', 'NN', 'IN', 'NN', 'CD', 'NNS', 'VBZ', 'NN', 'NN', 'VBD', 'CD', 'CD', 'RB', 'IN', 'CD', 'JJ', 'VBN', 'NN', 'NN', 'JJ', 'RB', 'JJ', 'NN', 'NN', 'VBD', 'CD', 'IN', 'CD', 'JJ', 'VBN', 'NN', 'NN', 'NN', 'NN', 'NN', 'NN', 'NN', 'NN', 'NN', 'NN', 'NN', 'VB', 'NN', 'JJ', 'CD', 'IN', 'CD', 'NN', 'VBN', 'JJ', 'NN', 'NN', 'NN', 'JJ', 'NN', 'JJ', 'NNS', 'NN', 'VBP', 'JJ', 'NNS', 'VBN', 'JJ', 'NN', 'VBP', 'NN', 'CD', 'NN', 'NN', 'VBD', 'NN', 'VBG', 'VBN', 'JJ', 'NN', 'CD', 'NN', 'NN', 'VBD', 'NNS', 'VBN', 'RB', 'NN', 'NN', 'VBD', 'JJ', 'JJ', 'NN', 'NN', 'VBP', 'RB', 'NN', 'VBD', 'RB', 'NN', 'NN', 'NN', 'JJ', 'NN', 'JJ', 'NN', 'VBP', 'JJ', 'NN', 'NN', 'VBP', 'JJ', 'VBP', 'JJ', 'NN', 'VBN', 'JJ', 'JJ', 'JJ', 'VBG', 'NN', 'NN', 'NN', 'JJ', 'RB', 'JJ', 'NN', 'JJ', 'NN', 'VBP', 'NN', 'NN', 'IN', 'JJ', 'NN', 'NN', 'NN', 'RB', 'VBP', 'IN', 'CD', 'IN', 'NN', 'RB', 'NN', 'NN', 'NN', 'RB', 'VBP', 'RP', 'CD', 'IN', 'NN', 'JJ', 'NN', 'NN', 'RB', 'VBP', 'IN', 'CD', 'IN', 'NN', 'NN', 'NN', 'NN', 'RB', 'VBP', 'IN', 'CD', 'IN', 'NN', 'JJ', 'NN', 'NN', 'RB', 'VBP', 'IN', 'CD', 'IN', 'NN', 'IN', 'VBG', 'NN', 'JJ', 'VBG', 'NN', 'NN', 'RB', 'NN', 'RB', 'JJ', 'NN', 'NN', 'NN', 'MD', 'VB', 'VB', 'NN', 'NN', 'VBD', 'NN', 'JJ', 'NN', 'JJ', 'NN', 'MD', 'VB', 'NN', 'JJ', 'NN', 'VBP', 'JJ', 'NN', 'NN', 'JJ', 'JJ', 'NN', 'NN', 'NN', 'JJ', 'NN', 'NN', 'NN', 'RB', 'JJ', 'NN', 'NN', 'NN', 'NN', 'NN', 'NN', 'RB', 'JJ', 'NN', 'NN', 'JJ', 'NN', 'JJ', 'NN', 'MD', 'VB', 'NN', 'JJ', 'NN', 'VBP', 'JJ', 'NN', 'NN', 'JJ', 'JJ', 'NN', 'NN', 'NN', 'JJ', 'NN', 'NN', 'NN', 'RB', 'JJ', 'NN', 'NN', 'NN', 'NN', 'NN', 'NN', 'RB', 'JJ', 'NN', 'NN', 'JJ', 'NN', 'IN', 'JJ', 'NN', 'NN', 'NN', 'NN', 'JJ', 'JJ', 'NN', 'VBD', 'NN', 'NN', 'JJ', 'NN', 'NN', 'NN', 'NN', 'NN', 'NN', 'JJ', 'JJ', 'NN', 'VBD', 'JJ', 'NN', 'NN', 'JJ', 'NN', 'JJ', 'JJ', 'NN', 'NN', 'NN', 'NN', 'NN', 'NN', 'NN', 'JJ', 'NNS', 'VBP', 'NN', 'JJ', 'JJ', 'NN', 'NN', 'NN', 'NN', 'JJ', 'NN', 'JJ', 'NN', 'NN', 'NN', 'JJ', 'JJ', 'NN', 'VB', 'JJ', 'NNS', 'VBP', 'JJ', 'JJ', 'NNS', 'JJ', 'JJ', 'NN', 'NN', 'NNS', 'NN', 'NN', 'NN', 'VB', 'NN', 'NN', 'VBG', 'VB', 'JJ', 'VBZ', 'NNS', 'JJ', 'JJ', 'NN', 'NN', 'NN', 'IN', 'JJ', 'NN', 'JJ', 'JJ', 'NN', 'NN', 'VBP', 'JJ', 'JJ', 'NN', 'NN', 'RB', 'RB', 'JJ', 'NN', 'VBG', 'JJ', 'VBG', 'RB', 'VBP', 'NN', 'NN', 'NN', 'NN', 'NN', 'JJ', 'RB', 'RB', 'VB', 'VBN', 'JJ', 'NN', 'JJ', 'NN', 'NN', 'VBP', 'JJ', 'NN', 'NN', 'NN', 'NN', 'VBN', 'JJR', 'NN', 'RB', 'JJ', 'JJR', 'NN', 'JJ', 'VBP', 'JJ', 'NN', 'NN', 'NN', 'NN', 'VBG', 'NN', 'NN', 'NN', 'NN', 'IN', 'JJ', 'NN', 'NN', 'RB', 'JJ', 'VB', 'NN', 'NN', 'NN', 'VBP', 'RB', 'JJ', 'NN', 'NN', 'JJ', 'NN']\n"
          ]
        }
      ]
    },
    {
      "cell_type": "markdown",
      "source": [
        "## Visualizing 'ChatGPT Part-Of-Speech Tags'"
      ],
      "metadata": {
        "id": "RW2TcPVsfphU"
      }
    },
    {
      "cell_type": "code",
      "source": [
        "tags = (pd.Series(nltk.ngrams(chatgpt_pos_tags, 1)).value_counts())"
      ],
      "metadata": {
        "id": "ddILnocBfphU"
      },
      "execution_count": null,
      "outputs": []
    },
    {
      "cell_type": "code",
      "source": [
        "# create series of top 10\n",
        "tags_series = tags[:10]"
      ],
      "metadata": {
        "id": "9ZP1C4-ifphU"
      },
      "execution_count": null,
      "outputs": []
    },
    {
      "cell_type": "code",
      "source": [
        "tags_series.sort_values().plot.barh(color='lightblue', width=.9, figsize=(12, 8))\n",
        "plt.title('10 Most Frequently Occuring Part-Of-Speech (CHATGPT)')\n",
        "plt.ylabel('Part-Of-Speech Tag')\n",
        "plt.xlabel('# of Occurances')"
      ],
      "metadata": {
        "colab": {
          "base_uri": "https://localhost:8080/",
          "height": 531
        },
        "outputId": "6d5a30a8-ccf0-4698-dbfc-4af51a96b878",
        "id": "tLvmUJuIfphU"
      },
      "execution_count": null,
      "outputs": [
        {
          "output_type": "execute_result",
          "data": {
            "text/plain": [
              "Text(0.5, 0, '# of Occurances')"
            ]
          },
          "metadata": {},
          "execution_count": 59
        },
        {
          "output_type": "display_data",
          "data": {
            "text/plain": [
              "<Figure size 864x576 with 1 Axes>"
            ],
            "image/png": "[encoded data removed]"
          },
          "metadata": {
            "needs_background": "light"
          }
        }
      ]
    },
    {
      "cell_type": "markdown",
      "source": [
        "## It's SVM time"
      ],
      "metadata": {
        "id": "NXJdBLy61J6N"
      }
    },
    {
      "cell_type": "markdown",
      "source": [
        "### Data Preprocessing (POS)"
      ],
      "metadata": {
        "id": "HmjdDyX-1OdQ"
      }
    },
    {
      "cell_type": "code",
      "source": [
        "cleanedData = []\n",
        "\n",
        "lemma = WordNetLemmatizer()\n",
        "swords = stopwords.words(\"english\")\n",
        "for text in df[\"Text\"]:\n",
        "    \n",
        "    # Cleaning links\n",
        "    text = re.sub(r'http\\S+', '', text)\n",
        "    \n",
        "    # Cleaning everything except alphabetical and numerical characters\n",
        "    text = re.sub(\"[^a-zA-Z0-9]\",\" \",text)\n",
        "    \n",
        "    # Tokenizing and lemmatizing\n",
        "    text = nltk.word_tokenize(text.lower())\n",
        "    text = [lemma.lemmatize(word) for word in text]\n",
        "    \n",
        "    # Removing stopwords\n",
        "    text = [word for word in text if word not in swords]\n",
        "\n",
        "    temptxt = \"\"\n",
        "    for word in text:\n",
        "      temp = nltk.pos_tag([word])\n",
        "      # print(temp[0][1])\n",
        "      temptxt = temptxt + temp[0][1] + \" \"\n",
        "    \n",
        "    # Joining\n",
        "    text = \"\".join(temptxt)\n",
        "    \n",
        "    cleanedData.append(text)\n",
        "\n",
        "print(cleanedData)\n",
        "# for i in range(0,5):\n",
        "#     print(cleanedData[i],end=\"\\n\\n\")"
      ],
      "metadata": {
        "colab": {
          "base_uri": "https://localhost:8080/"
        },
        "outputId": "d04632ee-e315-4013-9a5d-b9444591a838",
        "id": "BpOwK9l91VF1"
      },
      "execution_count": null,
      "outputs": [
        {
          "output_type": "stream",
          "name": "stdout",
          "text": [
            "['NN VBG NNS RB NNS NN NN NN NN NN VBN VBN NN NN NN JJ NN VBG NN RB NN JJR NN NN NN NN NN JJ NN VB JJ NN NN NN RB NN NN JJ NN JJ NN JJ NN NN VBG NNS NN RB NNS NN NN JJ NN JJ NN NN NN NN NN VBG NN NN NN JJ NN NN NN JJR NN JJR JJ NN RB NN NN JJ JJ NN NN NN JJ JJ NN NN NN VBG NNS VBN NN NN JJ NN NN VBN NN NN VBG NNS NN NN JJ NN JJR NN NN ', 'NN VBG NNS RB NN JJ NN NN VBG NNS NN VBN JJ NN NN VBG NNS NNS JJ NN IN NN NN NNS NN VBG NNS VBN JJ NN NN NN RB VB JJ NN NN ', 'JJ NN NN NNS RB NNS NN VBG VBN NN NN NN NN NN NN NN MD NN NN NN NN NN NN NN NN NN NN RB VBG NN NN RB VBN JJ NN JJ NNS NN MD NN JJ VBG NN VBG NN VB NN NN RB JJ NN RB NN NN NN MD NN JJ JJ NN NN NN NN VBG NN JJ VBG NN NNS MD NN VBG JJ NN JJ NN NN NN NN RB NN NN NN NN JJ NNS NN RB NN NN NN RB NN NN CD NN NN NN JJ NN JJ NNS JJ MD VBN NN NN NN NN NNS MD NN NN NN NN NN NNS NN NN NN NN NN NN NN NN NN NN JJ NN NN NN RB NN NN NN JJ JJ NN MD IN NN NN NNS NN ', 'MD NN NN NNS VBN JJ NN NN NN NN NN VBN CD VBN RB JJ NN NNS RB RB NN NN NN NNS VBN NN VBN CD VBN CD JJ NNS NN RB CD RB JJ NN JJ NN NN NN NN NN NN NNS VBN CD VBN JJ NN VBZ JJ NN NN NN RB NN NN NN VBN CD NN NN NN NN NN NN NN VBG NN NN NN NN NN NN MD NN VBN CD VBN NN JJ NNS NN NN VBG NN NN JJ NN NN NNS NN NN VBN JJ NN NN JJ NN ', 'NN VBN NN VB VB NN RBR NN NN NN NN NN NN RB JJS NN NN NN VB CD NN NN NN VBN NN RB RB NN NN VBN VBG JJ NN NN NN NN NN NN VBG NN NN VB NN NN RB VBN NN NN JJ NN NN ', 'JJ NN NNS NN NN VB NN VBG JJ NN NN NN NN NNS NN NN NN NN VBG NN NN ', 'NN NN NN NN NN RB CD VB NN RB JJ NN JJ NN NN NN NN JJ NN MD JJS NN VBD NN NN NN NN RB NN JJ JJ NN CD RB NN NN NN JJ NN NN VBG NN NN NN RB NN NN VB VBG CD NN NN RB VBG NN NN RB NN NN JJ NN VBG NN RB VBG NN JJ VBG NN CD VB NN JJ RB JJ VB JJ NN VB NN JJ IN NN NN NN JJ NN NN VBG NN VB VB VBG CD RB JJ NN NN NN NN NN NN NN RB VBN NN RB NN MD RB VBN NN IN NN NN NN NN NN NN CD RB VB NN IN NN NN NN JJ NN VBG RB IN NN IN NN NN IN NN NN RB VBG NN NN VBG JJ NN IN NN NN CD NN NN JJ JJ CD NN JJS NN NN NN NN NN VB RB NN NN VBG NN MD NN ', 'JJ NN NN NN RB NN NN NN RB VB NN NN NN NN NN NN NN NN JJ NN JJ NN JJ NN IN NN NN JJ JJ NN VB NN JJ NN NN VB NN NN JJ VB NN NN NN NN RB MD NN NN CD NN MD DT NN NN VBG NN NN JJ JJ VBG NN ', 'NN NN NN NN NN NN NN NN NN VBG NN JJ NNS JJ NN JJ NN NN NN VB NN NN NN NN NN NN VB NN VBG NN VBG NN NN NN VB NNS VB NN NN VB NN VB JJ NN NN VB NN VB JJ NN NN RB VBG NN NN NN VB NN NN JJ NN NN VBN DT JJ NN NN VBG NN NN VB NN VBD MD NN VB NN NN JJ NN NN MD RB VB JJ NN NNS RB NN NN NN JJ JJ NN NN NN NN VBG NN ', 'VBG NN VBG VBG NN JJ NN VB VB VBN VB NN NN NN JJ NN NN NN NN NN RB NN JJ NN VBN NN NN NN NN NN JJ NN NN NN VBG NN NN RB NN NN NN NN NN NN NN NN NN NN VBG NN RB VBZ NN NN IN JJ VBG NN NN NN NNS MD RB NN VB VBG VBG NN NN JJ NN NN NN NN NN JJ NN NN NN NN VBG JJ NN NN NN NN NN VB NN NN NN VB JJ NN NN NNS VBG NN NN VBG NN NN VB NN NN NN NN NN NN JJ NN NN JJ VBG VBG NN VBG NN JJ NN NN NN NN VBG JJ NN ', 'CD NN NN JJ NN NN NN NN NN NN NN VB NNS JJ CD NN NN JJ VB VBG NN NN CD NN JJ NN NN NN VB NN NN NNS VB NN IN NN VBG CD NN NN NN NN NN NN NN RB VBG NN NN NN NN NN NN VBG CD NN NNS NN VBN NN NN NNS NN NN VBN IN VBG NN VBG JJ VB NN NN CD NN NNS NN NN NN NN NN RB NN NN NN NNS JJ NN NN JJ NN CD NN VB NN RB VBG NN VBG NN JJS NN NN NN NN NN NN NN CD RB NN NN NN NN VBG NN NN NN NN MD VBG NN NN ', 'JJ NN VBN JJ NN NN NN VBG JJ NN VB JJ NN NN JJR NN RB NN NN NN VBG JJ JJ NN JJ VBD VBD JJR NN NN NN JJR NN VBN JJ NN NNS JJ VB JJ NN VB NNS IN VBG NN NN NN NN NN NN VB NN RB NNS VBG NN RB NN NN VBN NN NN NN NN NN VBN NN NN NN JJ JJ NN NN JJ NN VBN VBG NN NN NN VBN NN VBN VBN IN NN NN JJ NN NN NN NN VBG NN JJ NN NN NN JJ VB JJ NN VBN RB RB JJ NN RB ', 'CD NN NN NN NN NN RB RB VBN VB NN NN VBG NN IN NN IN NN NN NN IN NN DT NN NN NN NN JJ NN NN VBN NN NNS RB JJ NN JJR NN NNS VBD NN NN NN NN NN NN NN NN VBD NN NN MD JJ NN NN NN NN NN VB NN NN MD NN NN VBG NN RB NN VBG NN NN ', 'NN VB NN VBG NNS NN NN NN NN NN VBG NN NN NN NN VBG NN NN NN NN NN NN NN VBN ', 'NN JJ VBN NN RB JJ VBN JJ NN NN NN NN CD RB VBG NN NN NN CD NN VBN JJ NN NN NN NN IN VBG NN VBN NN CD NN NN JJ NN NN NN VBN NN IN NN NN VBD VBG NN WP$ NN VBN NN VBG IN JJ NN NN NN MD NN NN NN NN VBN VBG NN NN NN JJ VBG NN ', 'VBG NN NN NN NN NN NN NN NN NN NN NN NN NN JJ JJ NNS NN NN NN NN NN NN NN RB VBN NN NN NN JJ NN VBG JJ NN JJ NN NN NN NN NN NN NN NN VBN NN JJ NN NN NN NN NN NN NN NN NN VBN NN NN NN NN NN NN VBG NN NN VBG NN NN NN NN NN RB JJ VBG NN NN NN NN NN NN NN NN NN NN RB VBN NN NN NN NN NNS NNS ', 'NN NN NN RB NN NN CD NN JJ NN VBN VBN NN NN VBD NN VBN NN NN NNS NN VBN NN VBN NN NN NN NN CD NN JJ NN NN JJ NN RB NN RB MD NN NNS IN NN NN NN NN RB RB NN NN CD NN JJ NN VBG NN NN NN NN NN CD NN RB NNS NN NN JJ NN VBN NN VB NN VBD CD NN NN CD NN NNS NN JJ NN NNS CD CD NN NN JJ VB JJ NN NN RB NN NN JJ NN RB NNS JJ RB ', 'NN VBN RB JJ RB NN NN NN NN NN NN VBN RB CD JJ NN NN NN NN NN NN NN VBN CD IN CD NN NN NN NN NN NN NN NN CD NNS NNS NN NN VBN CD CD RB IN CD JJ VBN NN NN NN NN NN NN NN VBN CD IN CD JJ VBN NN NN NN NN NN NN NN NN NN NN NN NN NN NN VBN CD CD IN CD NN NN VBN NN NN NN NN ', 'CD CD NN NN NNS NN JJ NNS NN NN NN RB NN NN MD VBG NN NN NN NN NN JJ NNS RB NN NN VBG NN RB JJ MD NN NN VBG JJ NN NN NN NNS NN NN NN NN NN VB RB NN NN JJ NN IN NN NN NN NN NN NN NN JJ NN NN JJ NN NN NN JJ NN NN NN JJ NNS JJ NN VBN CD NN RB NNS JJ NN VBG DT NN NN VB NNS IN NN VBG RB JJR NN DT JJ NN VB NN NN JJ RB VBG NN NN NN NN NN RB JJ NN VBG NN NN NN VB NN NN RB NN NN NNS VB NN RB NN NN NN JJ MD VBG NN NN NN JJ NN NN NN NNS JJ MD VBG NN NN NN RB NN NN VBZ RB JJ NN VBN IN VBG JJ NN CD NN ', 'JJ NN NN NNS NN NN JJ NNS VBN NN NN NN NN CD NN NN NN NN VBG VBN NN NN CD NN NN VBN VBN RB NN NN JJ NN JJ NN NN NN RB NN NN NN RB NN NN NN JJ NN JJ NN NN JJ NN NN NN NN VB VBG NN NN NN JJ JJ ', 'NN NN NN NN NN NN NN NN JJ NN VBG NN NN NN RB RB NN NN NN NN NN NN NN NN NN NN NN NN NN NN NN NN VBD RB NNS NN NN NN RB CD NN NN VB NN NN NN NN NN RB JJ NN NN NN NNS NN MD NN VBG JJS NN NN RB NN VBG JJS NN RB NN NN NN CD NN NN VB NN NN CD IN NN IN NN VB NN CD CD VB NN JJ NN NN CD NN VBG NN NN NN CD CD NN VBG JJ NN NN NN NN NN NN NN NN NN JJ NN NN NN VBD JJ NN NN VBD NN NN NN VBG MD NN NN RB VBG VB NN NN VB NN NN NN NN NN VBD NN NN NN ', 'VBG NNS NN NN JJ RB NN NN JJ NN NN NN NN NN JJ NN NN NN RB VB IN CD CD IN NN NN NN NN NN RB VB IN CD CD IN NN JJ NN NN RB VB IN CD CD IN NN NN NN NN RB VB IN CD CD IN NN JJ NN NN RB VB IN CD CD IN NN NN VBG NN NN VBG NN NN RB NN RB JJ NN NN NN MD NN NN NN NN NN NN ', 'RB NN VB NN JJ RB NN JJ NN NN NN JJ NNS NN NN NN VB JJ JJ JJ VBG VB NN NN VB VBN JJ NN VBG CD NN NN NN VBG CD NN CD NN CD NN NN NN CD NN NN NN VB JJ CD NN JJ NN CD NN MD RB NN NN VBG JJ NN VBG RB NN NN NN JJ VB NN RBR NN NN NN NN NN NN NN NN RB NN NN NN VB CD VB CD NN NN CD VBN NN NN CD NNS CD NN NN CD NN NN CD NN NN VB NN NN JJS NN VB NN NN NN NN NN CD NNS NN CD NN NN JJ NN VB CD CD NN NN VB VB NN NN CD NN CD NN IN NN IN NN IN NN ', 'JJ NN JJ NN MD RB NN JJ NN NN NN NN NN JJ JJ NN NN NN JJ NN NN NN RB JJ NN NN NN NN NN NN RB NN NN NN ', 'RB JJ VBN VBG NN NN RB VB NN JJ NN NN NN VB NNS NN NN NN VB NN NN NN NN NN VBN NN NN NN JJR JJ NN JJ NN VBG NN VBG NN NN NN NN NN VB NN NNS VBG NNS NN NN JJ NN NN VBG NN NN NN VBG NN VBN VBG RB NN JJ IN NN NN NN NN NN NN NN NN NN VBN IN CD NN NN JJ RB CD NN NN RB JJ VBG NN NN NN RB NN NNS RB NN NN NN NN VBN CD CD CD NN JJ NN RBR NNS NN CD CD NN VB JJ NN NN NN VBD JJR JJ NNS VBN VBG NN NN CD JJ NN VBN NN JJR NN RB MD VB CD CD NN NN NN VBG CD CD CD NN NN NN VB CD CD NN NN VBG CD CD NN RB JJ RB JJ JJR NN NN RB NNS VB NN NN VBG NN NN NN NN NN RB NN NN NN NN NN IN CD NN VBN CD CD IN NN NN CD NN VBN CD NN NN NN NN NN NN VBD NN NN JJ NN JJ NN NN JJ NN NN VBG NN NN NN NN NN CD CD NN NN CD CD NN NN CD CD NN CD CD NN CD CD NN CD NN NN CD NN NN CD NN CD CD VB JJ NN CD CD CD VBD NN NN NN JJ NN VB NN NN JJ NN NN RB NN NN NN NN RB NNS NN NN NN NN CD NN RB NN NNS NN NN NN NN NN JJ NN RB NN JJ NN NN NN JJ NN NN CD NN CD JJS NN NN NN IN NN VB JJR NN NN NN NN NN IN NN NN NN NNS NN NN IN NN NN NN JJ NN NN VBD RB CD CD VBD NN NN CD NN NN ', 'JJ NN JJ NN MD RB NN JJ NN NN NN NN NN JJ JJ NN NN NN JJ NN NN NN RB JJ NN NN NN NN NN NN RB NN NN NN ', 'NN NN NN JJ NN NN NN NN JJ JJ NN JJ NN RB NN NN NN NNS NN VBN VBG NN NN IN NN NN VBG NN RB VBN NNS NN DT NN NN NN NN JJ JJ NN NN JJ NN NNS VB NNS JJ VBG NN NN VB MD JJ VBG NN JJ NN NN JJ NN JJ NN RB VB VBG JJ NN NN NN RB VBN NNS JJ NN JJ NN NN NN NN NN ', 'JJ NN NN JJ NN NN NN NN JJ JJ NN VBN NN NN JJ NN NN NN NN NN NN JJ JJ NN VBN NN NN NN NN NN JJ JJ NN NN NN NN NN NN NN JJ NNS NN NN JJ JJ NN NN NN NN JJ NN NN NN NN NN JJ JJ NN VB JJ NNS NN VB JJ NNS JJ JJ NN NN NNS NN NN NN VB NN NN NN VB NN VBZ NNS JJ JJ NN NN NN IN JJ NN JJ JJ NN NN NN JJ VBG NN NN RB RB NN NN VBG NN ', 'NN NN NN NN JJ NN NN NN NN RB NNS NN JJ NN RB VBD RB NN VBD CD CD VBD RB JJ NN RB VBG JJ NN RB JJ NN VBD RB NN VBN NN JJ JJ NN VBN NN RB VBD RB NN JJ NN JJ NN RB JJ NN NN NN NN JJ NN MD NN NN NN NN JJ NN RB NN JJ NN NN RB NN NN NN JJ NN NN NN NN RB NN RB NN NN IN NN NN NN JJR NN JJ NN NN NN NN NN IN CD NN NN VBN RB NN NN NN NN NN VBN NN CD NN VBN RBR IN NN NN JJ NN NN NN RB NN NN NN VBN NN ', 'VBG RB NN NN NN NN NN NN RB VB RB NN VBN JJ NN JJ NN NN NN JJ NN NN NN NN VBN NN NN RB JJ JJR NN JJ VB JJ NN NN NN NN VBG NN NN NN NN IN JJ NN NN RB JJ VB NN NN NN VB RB NN NN NN NN NN ']\n"
          ]
        }
      ]
    },
    {
      "cell_type": "code",
      "source": [
        "left wing politics typically involves support policy prioritize need welfare marginalized oppressed group worker minority poor left wing ideology often advocate greater government intervention economy progressive taxation social program ensure equal distribution wealth opportunity also tend supportive environmental protection civil liberty international cooperation right wing politics hand generally prioritizes need interest traditional societal economic elite business owner wealthy right wing ideology tend advocate limited government intervention economy lower tax smaller social program also tend supportive strong national defense law order traditional social value summary left wing politics characterized emphasis equality social justice protection marginalized group right wing politics focus tradition personal responsibility smaller role government\n",
        "\n",
        "left wing politics often focus social equality right wing politics comparison motivated social hierarchy left wing politics encompasses liberal idea like right equality whereas right leaning politics motivated nationalistic idea tradition duty generally follow conservative school thought\n",
        "\n",
        "many sub field economics really depends keen getting started wish understand mainstream economist study human behavior could try logic life tim harford armchair economist steven e landsburg already understanding rationality paradigm typically employed economic analysis behavioural economics book might offer new contrasting insight thinking fast slow daniel kahneman predictably irrational dan ariely nudge richard thaler ca sunstein interested economic history wish delve deeper pioneering idea advanced founding father economics would recommend following new idea dead economist todd g buchholz worldly philosopher robert l heilbroner interested economics inequality specifically income wealth distribution certainly pick capital 21st century thomas piketty curious country rich others poor could done tackle poverty e development economics could turn nation fail daron acemoglu james robinson gun germ steel jared diamond end poverty jeffrey sachs white man burden william easterly list book offer exhaustive good start would like pick quality economics book\n",
        "\n",
        "must read book economics considered classic field wealth nation adam smith published 1776 considered first modern work economics still widely read today principle economics alfred marshall published 1890 considered one influential economics text late 19th early 20th century general theory employment interest money john maynard keynes published 1936 revolutionized macroeconomic thought continues influential today capital twenty first century thomas piketty published 2014 comprehensive study income wealth inequality cause nudge improving decision health wealth happiness richard thaler ca sunstein published 2008 popularized concept behavioral economics implication policy making book provide broad overview field economics evolution time considered essential reading anyone interested subject\n",
        "\n",
        "money started business say make world better place solve customer problem reality money easily biggest driver plenty evidence give one ha businessperson history sold business enough comfortably retire choice carried working full time business passionate problem business wa solving passion business go instant longer financially rewarded action speak much louder word\n"
      ],
      "metadata": {
        "id": "3CrqOexJ4cc1"
      },
      "execution_count": null,
      "outputs": []
    },
    {
      "cell_type": "code",
      "source": [
        "vectorizer = CountVectorizer(max_features=10000)\n",
        "BOW = vectorizer.fit_transform(cleanedData)"
      ],
      "metadata": {
        "id": "dD-2ABNV1VF1"
      },
      "execution_count": null,
      "outputs": []
    },
    {
      "cell_type": "code",
      "source": [
        "from sklearn.model_selection import train_test_split\n",
        "x_train,x_test,y_train,y_test = train_test_split(BOW,np.asarray(df[\"Class\"]))\n",
        "\n",
        "print(x_train.shape)\n",
        "print(x_test.shape)\n",
        "print(y_train.shape)\n",
        "print(y_test.shape)"
      ],
      "metadata": {
        "colab": {
          "base_uri": "https://localhost:8080/"
        },
        "outputId": "e7095819-22f0-43cd-b809-0a264b1a495f",
        "id": "wIvYm1Ot1VF1"
      },
      "execution_count": null,
      "outputs": [
        {
          "output_type": "stream",
          "name": "stdout",
          "text": [
            "(22, 17)\n",
            "(8, 17)\n",
            "(22,)\n",
            "(8,)\n"
          ]
        }
      ]
    },
    {
      "cell_type": "code",
      "source": [
        "from sklearn.svm import SVC\n",
        "start_time = time.time()\n",
        "\n",
        "model = SVC( verbose=True)\n",
        "model.fit(x_train,y_train)\n",
        "\n",
        "end_time = time.time()\n",
        "process_time = round(end_time-start_time,2)\n",
        "print(\"Fitting SVC took {} seconds\".format(process_time))"
      ],
      "metadata": {
        "colab": {
          "base_uri": "https://localhost:8080/"
        },
        "outputId": "e49d29c0-92d3-4100-9b69-0f5c3f91864d",
        "id": "2iiAQKBr1VF1"
      },
      "execution_count": null,
      "outputs": [
        {
          "output_type": "stream",
          "name": "stdout",
          "text": [
            "[LibSVM]Fitting SVC took 0.01 seconds\n"
          ]
        }
      ]
    },
    {
      "cell_type": "code",
      "source": [
        "predictions = model.predict(x_test)"
      ],
      "metadata": {
        "id": "QNYCzHLG1VF2"
      },
      "execution_count": null,
      "outputs": []
    },
    {
      "cell_type": "code",
      "source": [
        "training_predictions= model.predict(x_train)"
      ],
      "metadata": {
        "id": "gKDUrZGR1VF2"
      },
      "execution_count": null,
      "outputs": []
    },
    {
      "cell_type": "code",
      "source": [
        "from sklearn.metrics import accuracy_score,confusion_matrix,recall_score,precision_score\n",
        "from sklearn.metrics import classification_report\n",
        "from sklearn.metrics import f1_score\n",
        "\n",
        "print(\"Accuracy of model is {}%\".format(accuracy_score(y_train,training_predictions) * 100))\n",
        "print(\"Accuracy of model is {}%\".format(accuracy_score(y_test,predictions) * 100))\n",
        "print(\"Precision of model is {}%\".format(precision_score(y_test,predictions) * 100))\n",
        "print(\"recall of model is {}%\".format(recall_score(y_test,predictions) ))\n",
        "print(\"f1 of model is {}%\".format(f1_score(y_test,predictions) ))\n",
        "print((confusion_matrix(y_test,predictions) ))"
      ],
      "metadata": {
        "colab": {
          "base_uri": "https://localhost:8080/"
        },
        "outputId": "1391ca6f-51c7-484d-b56b-41244f941a90",
        "id": "_yb-iY3H1VF2"
      },
      "execution_count": null,
      "outputs": [
        {
          "output_type": "stream",
          "name": "stdout",
          "text": [
            "Accuracy of model is 77.27272727272727%\n",
            "Accuracy of model is 62.5%\n",
            "Precision of model is 100.0%\n",
            "recall of model is 0.4%\n",
            "f1 of model is 0.5714285714285715%\n",
            "[[3 0]\n",
            " [3 2]]\n"
          ]
        }
      ]
    },
    {
      "cell_type": "code",
      "source": [
        "import matplotlib.pyplot as plt\n",
        "from sklearn.datasets import make_classification\n",
        "from sklearn.metrics import confusion_matrix, ConfusionMatrixDisplay\n",
        "\n",
        "cm = confusion_matrix(y_test, predictions, labels=df.Class)\n",
        "ConfusionMatrixDisplay.from_predictions(y_test,predictions)\n"
      ],
      "metadata": {
        "colab": {
          "base_uri": "https://localhost:8080/",
          "height": 301
        },
        "outputId": "9477ee19-260b-4588-912a-187b7210c1c3",
        "id": "1xtJjRIz1VF2"
      },
      "execution_count": null,
      "outputs": [
        {
          "output_type": "execute_result",
          "data": {
            "text/plain": [
              "<sklearn.metrics._plot.confusion_matrix.ConfusionMatrixDisplay at 0x7f02f3766df0>"
            ]
          },
          "metadata": {},
          "execution_count": 199
        },
        {
          "output_type": "display_data",
          "data": {
            "text/plain": [
              "<Figure size 432x288 with 2 Axes>"
            ],
            "image/png": "[encoded data removed]"
          },
          "metadata": {
            "needs_background": "light"
          }
        }
      ]
    },
    {
      "cell_type": "code",
      "source": [
        "from sklearn.metrics import roc_curve\n",
        "from sklearn.metrics import RocCurveDisplay\n",
        "RocCurveDisplay.from_estimator(model, x_test, y_test)\n",
        "RocCurveDisplay.from_predictions(y_test, predictions)"
      ],
      "metadata": {
        "colab": {
          "base_uri": "https://localhost:8080/",
          "height": 559
        },
        "outputId": "5882b1b0-33af-48bd-b4b7-f9eeeb995f6a",
        "id": "KsTgisNk1VF2"
      },
      "execution_count": null,
      "outputs": [
        {
          "output_type": "execute_result",
          "data": {
            "text/plain": [
              "<sklearn.metrics._plot.roc_curve.RocCurveDisplay at 0x7f02f37880d0>"
            ]
          },
          "metadata": {},
          "execution_count": 200
        },
        {
          "output_type": "display_data",
          "data": {
            "text/plain": [
              "<Figure size 432x288 with 1 Axes>"
            ],
            "image/png": "[encoded data removed]"
          },
          "metadata": {
            "needs_background": "light"
          }
        },
        {
          "output_type": "display_data",
          "data": {
            "text/plain": [
              "<Figure size 432x288 with 1 Axes>"
            ],
            "image/png": "[encoded data removed]"
          },
          "metadata": {
            "needs_background": "light"
          }
        }
      ]
    },
    {
      "cell_type": "markdown",
      "source": [
        "# WordNet to Roget's Thesaurus"
      ],
      "metadata": {
        "id": "TOQSHhUkgdbb"
      }
    },
    {
      "cell_type": "code",
      "source": [
        "# clone https://github.com/evanmiltenburg/roget.git\n",
        "! git clone https://github.com/evanmiltenburg/roget.git"
      ],
      "metadata": {
        "colab": {
          "base_uri": "https://localhost:8080/"
        },
        "id": "DCQVXmKqgguF",
        "outputId": "71533250-505b-49c4-f11c-594501819177"
      },
      "execution_count": null,
      "outputs": [
        {
          "output_type": "stream",
          "name": "stdout",
          "text": [
            "Cloning into 'roget'...\n",
            "remote: Enumerating objects: 1051, done.\u001b[K\n",
            "remote: Total 1051 (delta 0), reused 0 (delta 0), pack-reused 1051\u001b[K\n",
            "Receiving objects: 100% (1051/1051), 861.47 KiB | 6.15 MiB/s, done.\n",
            "Resolving deltas: 100% (21/21), done.\n"
          ]
        }
      ]
    },
    {
      "cell_type": "code",
      "source": [
        "%cd /content/"
      ],
      "metadata": {
        "colab": {
          "base_uri": "https://localhost:8080/"
        },
        "id": "jCn-IM0bhFsN",
        "outputId": "b99c692d-1f24-45aa-8f06-adaa913860e4"
      },
      "execution_count": null,
      "outputs": [
        {
          "output_type": "stream",
          "name": "stdout",
          "text": [
            "/content\n"
          ]
        }
      ]
    },
    {
      "cell_type": "code",
      "source": [
        "print(human_words)"
      ],
      "metadata": {
        "colab": {
          "base_uri": "https://localhost:8080/"
        },
        "id": "O9uPDhDs1-zs",
        "outputId": "57208ac5-2b94-48fe-f218-8ee9ce33be8e"
      },
      "execution_count": null,
      "outputs": [
        {
          "output_type": "stream",
          "name": "stdout",
          "text": [
            "['left', 'wing', 'politics', 'often', 'focus', 'social', 'equality', 'right', 'wing', 'politics', 'comparison', 'motivated', 'social', 'hierarchy', 'left', 'wing', 'politics', 'encompasses', 'liberal', 'idea', 'like', 'right', 'equality', 'whereas', 'right', 'leaning', 'politics', 'motivated', 'nationalistic', 'idea', 'tradition', 'duty', 'generally', 'follow', 'conservative', 'school', 'thought', 'many', 'subfields', 'economics', 'really', 'depends', 'keen', 'getting', 'started', 'wish', 'understand', 'mainstream', 'economist', 'study', 'human', 'behavior', 'could', 'try', 'logic', 'life', 'tim', 'harford', 'armchair', 'economist', 'steven', 'e', 'landsburg', 'already', 'understanding', 'rationality', 'paradigm', 'typically', 'employed', 'economic', 'analysis', 'behavioural', 'economics', 'book', 'might', 'offer', 'new', 'contrasting', 'insight', 'thinking', 'fast', 'slow', 'daniel', 'kahneman', 'predictably', 'irrational', 'dan', 'ariely', 'nudge', 'richard', 'thaler', 'ca', 'sunstein', 'interested', 'economic', 'history', 'wish', 'delve', 'deeper', 'pioneering', 'idea', 'advanced', 'founding', 'father', 'economics', 'would', 'recommend', 'following', 'new', 'idea', 'dead', 'economist', 'todd', 'g', 'buchholz', 'worldly', 'philosopher', 'robert', 'l', 'heilbroner', 'interested', 'economics', 'inequality', 'specifically', 'income', 'wealth', 'distribution', 'certainly', 'pick', 'capital', '21st', 'century', 'thomas', 'piketty', 'curious', 'country', 'rich', 'others', 'poor', 'could', 'done', 'tackle', 'poverty', 'ie', 'development', 'economics', 'could', 'turn', 'nation', 'fail', 'daron', 'acemoglu', 'james', 'robinson', 'gun', 'germ', 'steel', 'jared', 'diamond', 'end', 'poverty', 'jeffrey', 'sachs', 'white', 'man', 'burden', 'william', 'easterly', 'list', 'book', 'offer', 'exhaustive', 'good', 'start', 'would', 'like', 'pick', 'quality', 'economics', 'book', 'money', 'started', 'business', 'say', 'make', 'world', 'better', 'place', 'solve', 'customer', 'problem', 'reality', 'money', 'easily', 'biggest', 'driver', 'plenty', 'evidence', 'ill', 'give', 'one', 'businessperson', 'history', 'sold', 'business', 'enough', 'comfortably', 'retire', 'choice', 'carried', 'working', 'fulltime', 'business', 'passionate', 'problem', 'business', 'solving', 'passion', 'business', 'go', 'instant', 'theyre', 'longer', 'financially', 'rewarded', 'action', 'speak', 'much', 'louder', 'word', 'stuck', 'love', 'love', 'sign', 'someone', 'really', '1', 'remember', 'everything', 'even', 'small', 'detail', 'big', 'sign', 'someone', 'love', 'pick', 'small', 'detail', 'might', 'latest', 'haircut', 'got', 'subtle', 'change', 'mood', 'day', 'even', 'something', 'small', 'new', 'outfit', '2', 'always', 'vent', 'someone', 'doesnt', 'love', 'wont', 'interested', 'spending', 'time', 'listening', 'problem', 'priority', 'love', 'instead', 'want', 'something', 'see', 'struggling', '3', 'acknowledge', 'difference', 'instead', 'trying', 'change', 'someone', 'really', 'love', 'accept', 'individual', 'idea', 'feeling', 'part', 'generally', 'speaking', 'youll', 'feel', 'comfortable', 'agreeing', 'disagree', '4', 'make', 'feel', 'special', 'theyll', 'always', 'willing', 'go', 'extra', 'mile', 'make', 'feel', 'special', 'whether', 'surprising', 'gift', 'planning', 'special', 'date', 'night', 'calling', 'blue', 'let', 'know', 'thinking', '5', 'even', 'normal', 'mundane', 'activity', 'fun', 'someone', 'love', 'spending', 'time', 'always', 'considered', 'fun', 'even', 'activity', 'might', 'normally', 'considered', 'boring', 'like', 'chore', 'grocery', 'shopping', 'turn', 'adventure', 'love', '6', 'never', 'go', 'day', 'without', 'hearing', 'someone', 'love', 'wont', 'able', 'stand', 'going', 'long', 'without', 'hearing', 'whether', 'hearing', 'voice', 'via', 'phone', 'call', 'even', 'checking', 'quick', 'text', 'wont', 'going', 'entire', 'day', 'without', 'hearing', 'form', '7', 'tell', 'love', 'likely', 'obvious', 'one', 'absolute', 'biggest', 'sign', 'someone', 'love', 'tell', 'love', 'youll', 'know', 'theyre', 'sincere', 'action', 'match', 'theyre', 'telling', 'hope', 'could', 'helpful', 'careful', 'shoot', 'foot', 'want', 'quit', 'job', 'start', 'business', 'start', 'sharing', 'idea', 'many', 'people', 'possible', 'search', 'potential', 'user', 'product', 'service', 'find', 'business', 'coach', 'investor', 'mentor', 'talk', 'listen', 'say', 'avoid', 'getting', 'defensive', 'getting', 'feedback', 'business', 'idea', 'let', 'people', 'say', 'everything', 'want', 'say', 'interrupt', 'make', 'big', 'effort', 'help', 'know', 'youre', 'hearing', 'expect', 'golden', 'opportunity', 'listen', 'carefully', 'theyre', 'saying', 'try', 'sell', 'idea', 'remember', 'convincing', 'lead', 'many', 'sale', 'today', 'excited', 'every', 'entrepreneurial', 'hormone', 'body', 'racing', 'vein', 'eager', 'take', 'action', 'warned', 'must', 'learn', 'get', 'emotion', 'control', 'emotional', 'process', 'passion', 'may', 'easily', 'take', 'rational', 'thought', 'happens', 'easily', 'sell', 'business', 'idea', 'next', 'big', 'thing', 'shoot', 'foot', 'avoid', 'selling', 'idea', '1', 'want', 'end', 'bad', 'date', 'stare', 'hairline', 'someone', 'head', 'dont', 'want', 'listen', 'make', 'people', 'uncomfortable', '2', 'want', 'lie', 'believable', 'add', 'embarrassing', 'detail', 'story', '3', 'want', 'open', 'door', 'growth', 'conversation', 'dont', 'say', 'okay', 'someone', 'apologizes', 'say', 'something', 'like', 'thank', 'apologizing', '4', 'want', 'someone', 'trait', 'thank', 'someone', 'trait', 'want', 'instead', 'telling', 'friend', 'sorry', 'wait', 'tell', 'thank', 'patience', 'understanding', '5', 'want', 'people', 'feel', 'needed', 'need', 'help', 'people', 'want', 'feel', 'needed', 'like', 'making', 'difference', 'expressing', 'much', 'make', 'difference', 'world', '6', 'want', 'people', 'agree', 'task', 'start', 'something', 'simpler', 'first', 'footinthedoor', 'phenomenon', 'people', 'likely', 'agree', 'task', 'gradual', 'commitment', '7', 'dont', 'want', 'lose', 'friend', 'never', 'arguing', 'text', 'arguing', 'text', 'worst', 'way', 'argue', 'lack', 'tone', 'decrease', 'meaning', 'word', '8', 'really', 'need', 'calm', 'eat', 'something', 'youre', 'eating', 'something', 'brain', 'trip', 'reason', 'would', 'eating', 'danger', 'im', 'danger', 'one', 'thing', 'sphincter', 'junction', 'esophagus', 'stomach', 'thats', 'normally', 'tightly', 'constricted', 'keep', 'stomach', 'content', 'reentering', 'esophagus', 'except', 'case', 'like', 'gerd', 'here', 'sphincter', 'look', 'like', 'endoscopy', 'another', 'esophagus', 'doesnt', 'enter', 'stomach', 'top', 'upper', 'dome', 'stomach', 'called', 'fundus', 'encloses', 'fairly', 'substantial', 'space', 'higher', 'esophagus', 'people', 'took', 'drink', 'ate', 'bit', 'food', 'stood', 'head', 'stomach', 'content', 'fell', 'force', 'gravity', 'would', 'likely', 'fall', 'space', 'esophagus', 'here', 'upsidedown', 'stomach', 'see', 'food', 'drink', 'would', 'fall', 'person', 'standing', 'head', 'especially', 'sphincter', 'blocking', 'way', 'esophagus', 'opinion', 'japanese', 'committed', 'atrocity', 'even', 'heinous', 'committed', 'german', 'nazi', 'world', 'war', 'ii', 'one', 'particularly', 'disturbing', 'example', 'unit', '731', 'unit', 'conducted', 'wide', 'range', 'inhumane', 'experiment', 'prisoner', 'among', 'horrifying', 'practice', 'carried', 'unit', '731', 'vivisection', 'surgical', 'examination', 'living', 'body', 'performed', 'prisoner', 'without', 'use', 'anesthesia', 'included', 'experimenting', 'child', 'whose', 'parent', 'deemed', 'spy', 'reasoning', 'behind', 'monstrous', 'practice', 'anesthesia', 'could', 'alter', 'behavior', 'organ', 'vessel', 'studied', 'chilling', 'reminder', 'darkness', 'human', 'capable', 'unleashing', 'fellow', 'being', 'congenital', 'aganglionic', 'megacolon', 'simply', 'hirschsprung', 'disease', '29yearold', 'man', 'owned', 'dissected', 'colon', 'picture', 'died', 'called', 'balloon', 'man', 'abdomen', 'distended', 'made', 'perform', 'freak', 'show', '20', 'year', 'old', 'cell', 'colon', 'large', 'intestine', 'properly', 'developed', 'therefore', 'could', 'move', 'feces', 'along', 'child', 'balloon', 'man', 'reasonably', 'well', 'time', '16', 'year', 'old', 'going', 'month', 'defecate', 'born', '1865', 'doctor', 'already', 'knew', 'tumor', 'defective', 'colon', 'plagued', 'man', 'know', 'help', 'died', '29', 'year', 'found', '40', 'pound', 'feces', 'colon', 'intestinal', 'defect', 'occurs', 'one', '5000', 'child', 'today', 'possible', 'remove', 'defective', 'part', 'intestine', 'shortly', 'birth', 'sew', 'good', 'part', 'together', 'people', 'live', 'normally', 'one', 'one', 'difference', 'mindset', 'exists', 'group', 'rich', 'people', 'think', 'doesnt', 'work', 'fall', 'back', 'resource', 'resource', 'may', 'saving', 'account', 'retirement', 'fund', 'wealthy', 'parent', 'rich', 'people', 'often', 'loathe', 'idea', 'using', 'resource', 'theyre', 'infinitely', 'replenishable', 'may', 'stigma', 'shame', 'tapping', 'certain', 'family', 'community', 'fact', 'remains', 'business', 'venture', 'career', 'plan', 'relationship', 'go', 'bellyup', 'way', 'avoid', 'catastrophic', 'result', 'like', 'starvation', 'homelessness', 'famine', 'ivan', 'vladimirov', 'public', 'domain', 'poor', 'none', 'tend', 'much', 'riskaverse', 'consequence', 'rich', 'person', 'fallback', 'poor', 'people', 'large', 'depth', 'loved', 'one', 'coffer', 'directly', 'determines', 'much', 'risk', 'taking', 'every', 'life', 'decision', 'make', 'people', 'without', 'fallback', 'taking', 'significantly', 'bigger', 'risk', 'every', 'single', 'time', 'make', 'decision', 'extreme', 'poor', 'often', 'facing', 'prison', 'lifelong', 'indigence', 'wealthy', 'face', 'mere', 'social', 'embarrassment', 'performing', 'exact', 'action', 'money', 'buy', 'safety', 'form', 'directly', 'impact', 'decision', 'people', 'make', 'life', 'rightly', 'wealthy', 'riskaverse', 'poor', 'would', 'squandering', 'opportunity', 'handful', 'contrast', 'poor', 'risk', 'tolerant', 'wealthy', 'people', 'many', 'would', 'starving', 'street', 'mindset', 'difference', 'unfortunately', 'mindset', 'difference', 'reflects', 'genuinely', 'different', 'circumstance', 'cant', 'corrected', 'without', 'changing', 'economic', 'reality', 'one', 'group', 'teacher', 'head', 'government', 'agree', 'teacher', 'deserve', 'head', 'government', 'controversial', 'btw', 'im', 'using', 'term', 'head', 'government', 'loosely', 'really', 'mean', 'mac', 'daddy', 'country', 'ok', 'left', 'credit', 'suisse', 'paid', 'multiple', 'tony', 'blair', 'uk', 'prime', 'minister', 'got', 'absolutely', 'bonkers', 'insane', 'vice', 'president', 'late', '20', 'investment', 'bank', 'get', 'paid', 'multiple', 'uk', 'prime', 'minister', 'relatively', 'low', 'pay', 'prime', 'minister', 'encourages', 'corruption', 'could', 'mean', 'getting', 'best', 'person', 'job', 'absolutely', 'contradiction', 'wanting', 'best', 'family', 'well', 'country', 'fact', 'today', 'isnt', 'one', 'head', 'government', 'get', 'paid', 'us600k', 'per', 'annum', 'except', 'singapore', 'get', 'us22m', 'give', 'perspective', 'average', 'pay', 'ceo', '500', 'revenue', 'generating', 'company', 'u', 'us11m1', 'singapore', 'founding', 'former', 'prime', 'minister', 'lee', 'kuan', 'yew', 'man', 'put', 'place', 'policy', 'high', 'pay', 'government', 'official', 'gave', 'massive', 'pay', 'rise', 'helped', 'clamp', 'corruption', 'minister', 'including', 'could', 'focus', 'work', 'rather', 'trying', 'make', 'corrupt', 'money', 'see', 'asia', 'singapore', 'country', 'world', 'got', 'minister', 'pay', 'right', 'enough', 'money', 'buy', 'food', 'poor', 'actually', 'work', 'many', 'work', 'multiple', 'job', 'bad', 'politics', 'country', 'society', 'built', 'keep', 'poor', 'low', 'possible', 'continuing', 'expect', 'build', 'fortune', 'keep', 'oppressed', 'poor', 'guy', 'working', '9hour', 'wife', 'work', 'making', '8hour', '2', 'child', '2', 'tax', 'bring', 'home', '2100', 'month', 'cheapest', 'apartment', 'find', 'small', '2', 'bedroom', 'bad', 'area', '1200mo', 'could', 'barely', 'afford', 'working', 'different', 'company', 'making', 'significantly', 'company', 'shut', 'pandemic', 'able', 'get', 'something', 'better', 'rent', 'utility', 'car', 'payment', 'gas', 'insurance', 'kid', 'expense', 'simply', 'nothing', 'left', 'problem', 'make', '2100', 'qualify', '100', 'food', 'stamp', 'one', 'hundred', 'dollar', 'feed', '4', 'people', '3', 'meal', 'day', '30', 'day', 'fair', '2', 'child', 'school', 'get', 'lunch', 'school', 'youngest', 'preschool', 'get', 'lunch', 'part', 'cost', 'daycare', 'provide', '4', 'people', 'food', '300', 'meal', 'month', 'great', 'math', 'come', '033mealperson', 'let', 'see', 'fed', 'family', '4', 'thirty', 'three', 'cent', 'per', 'person', 'per', 'meal', 'per', 'day', 'really', 'important', 'given', 'increasing', 'interest', 'rate', 'firstly', 'let', 'start', 'basic', 'think', 'something', 'bank', 'give', 'people', 'interest', 'rate', 'money', 'make', 'money', 'deposit', 'pocket', 'profit', 'country', 'fixed', 'return', 'investment', 'pay', 'higher', 'normal', 'rate', 'possible', 'bank', 'making', 'profit', 'investing', 'project', 'financing', 'project', 'course', 'bank', 'make', 'money', 'people', 'saving', 'depends', 'country', 'regulation', 'many', 'thing', 'point', 'saving', 'money', 'bank', 'losing', 'game', 'compared', 'investing', 'forever', 'le', 'volatile', 'per', 'graph', 'show', 'volatility', 'stock', 'lessor', 'extent', 'bond', 'thing', 'changed', 'since', '2008', 'interest', 'rate', 'low', 'even', '0', 'developed', 'country', 'even', 'many', 'developing', 'country', 'interest', 'rate', 'consistently', 'inflation', 'whereas', 'historically', 'u', 'stock', 'market', 'done', '10', '65', 'inflation', 'different', 'period', 'better', 'others', 'cash', '1', '2', 'inflation', 'take', 'direct', 'loss', 'inflation', 'got', 'worse', 'many', 'people', 'cheered', 'increasing', 'interest', 'rate', '2022', 'real', 'inflationadjusted', 'rate', 'lower', 'year', 'ago', 'could', 'get', '01', 'bank', 'inflation', 'running', '3', '29', 'loss', 'inflation', 'day', 'get', '35', 'bank', 'inflation', 'running', '1011', 'uk', 'also', 'high', 'elsewhere', 'much', 'bigger', 'loss', 'inflation', 'historically', 'people', 'take', 'relative', 'loss', 'investing', 'absolute', 'loss', 'inflation', 'thing', 'compound', 'well', 'somebody', 'left', 'money', 'bank', 'since', '2008', 'lost', '13', 'per', 'year', 'inflation', '12', 'year', 'compounded', '25', 'loss', 'case', 'isnt', 'mention', 'loss', 'devaluation', 'happened', 'currency', 'diverse', 'british', 'pound', 'nigerian', 'naira', 'south', 'african', 'rand', 'speaking', 'friend', 'expat', 'year', 'left', '20000', 'sterling', 'bank', '20072008', 'worth', '40000', 'worth', '21700', 'pound', '28690', 'today', '30', 'loss', 'devaluation', '25', 'loss', 'inflation', '12', 'years28690', 'buy', 'much', 'le', '2020', '20072008', 'said', 'cash', 'serve', 'useful', 'purpose', 'give', 'cushion', 'case', 'unexpected', 'emergency', 'cash', 'therefore', 'isnt', 'investment', 'help', 'cashflow', 'situation', 'ultimately', 'people', 'need', 'put', 'money', 'work', 'one', 'reason', 'almost', 'wealthy', 'people', 'invest', 'asset', 'investment', 'digital', 'asset', 'private', 'business', 'indeed', 'central', 'theory', 'thomas', 'pikettys', 'famous', 'book', 'capital', '21st', 'century', 'one', 'biggest', 'driver', 'inequality', 'asset', 'like', 'stock', 'go', 'higher', 'wage', 'cash', 'bank', 'time', 'compound', 'despite', 'volatility', 'asset', 'middle', 'people', 'shouldnt', 'fear', 'volatility', 'though', 'look', 'year', 'huge', 'crash', 'recovery', 'happened', 'even', '20082009', 'took', 'stock', 'market', '3', 'year', 'recover', 'number', 'way', 'use', 'social', 'medium', 'increase', 'brand', 'awareness', 'specific', 'geographical', 'location', 'obvious', 'way', 'simply', 'target', 'content', 'advertising', 'people', 'location', 'done', 'targeting', 'ad', 'platform', 'like', 'facebook', 'google', 'creating', 'content', 'specifically', 'targeted', 'people', 'location', 'another', 'way', 'increase', 'brand', 'awareness', 'specific', 'geographical', 'location', 'use', 'social', 'medium', 'influencers', 'identify', 'influencers', 'large', 'following', 'location', 'reach', 'see', 'would', 'interested', 'promoting', 'brand', 'effective', 'way', 'reach', 'large', 'audience', 'specific', 'location', 'finally', 'consider', 'running', 'social', 'medium', 'contest', 'promotion', 'specifically', 'targeted', 'people', 'particular', 'location', 'great', 'way', 'generate', 'interest', 'awareness', 'brand', 'everything', 'risk', 'cash', 'full', 'risk', 'inflation', 'currency', 'fall', 'really', 'depends', 'invest', 'major', 'index', 'always', 'came', 'back', 'nasdaq', 'fell', '76', '2000', 'came', 'back', 'german', 'dax', 'also', 'recovering', 'similar', 'fall', 'even', 'japanese', 'nikkei', 'came', 'back', 'dividend', 'reinvested', 'comparison', 'many', 'individual', 'stock', 'gone', 'zero', 'never', 'came', 'back', 'want', 'little', 'risk', 'possible', 'need', 'globally', 'diversified', 'stock', 'index', 'msci', 'world', 'individual', 'country', 'could', 'argue', 'u', 'market', 'kind', 'global', 'market', 'well', 'firm', 'global', 'reinvest', 'dividend', 'rely', 'capital', 'growth', 'invest', 'different', 'time', 'horizon', 'lump', 'sum', 'monthly', 'injection', 'therefore', 'dont', 'need', 'worry', 'whether', 'perfect', 'time', 'invest', 'smaller', 'medium', 'large', 'cap', 'stock', 'look', 'uk', 'market', 'since', '2000', 'ftse', 'done', 'poorly', 'capital', 'growth', 'term', 'ok', 'dividend', 'reinvested', 'ftse', '250', 'done', 'better', 'though', 'asset', 'bond', 'advanced', 'technique', 'downsideprotection', 'often', 'require', 'advisor', 'need', 'certified', 'investor']\n"
          ]
        }
      ]
    },
    {
      "cell_type": "code",
      "source": [
        "from nltk.corpus import wordnet\n",
        "syn = wordnet.synsets('left')\n",
        "\n",
        "for thing in syn:\n",
        "  print(thing.pos())\n",
        "print(syn)"
      ],
      "metadata": {
        "colab": {
          "base_uri": "https://localhost:8080/"
        },
        "id": "nA4aqDxs4tso",
        "outputId": "bfc2f323-d78d-498f-f989-520c7a10165e"
      },
      "execution_count": null,
      "outputs": [
        {
          "output_type": "stream",
          "name": "stdout",
          "text": [
            "n\n",
            "n\n",
            "n\n",
            "n\n",
            "n\n",
            "v\n",
            "v\n",
            "v\n",
            "v\n",
            "v\n",
            "v\n",
            "v\n",
            "v\n",
            "v\n",
            "v\n",
            "v\n",
            "v\n",
            "v\n",
            "v\n",
            "a\n",
            "s\n",
            "s\n",
            "a\n",
            "r\n",
            "[Synset('left.n.01'), Synset('left.n.02'), Synset('left.n.03'), Synset('left_field.n.01'), Synset('left.n.05'), Synset('leave.v.01'), Synset('leave.v.02'), Synset('leave.v.03'), Synset('leave.v.04'), Synset('exit.v.01'), Synset('leave.v.06'), Synset('leave.v.07'), Synset('leave.v.08'), Synset('entrust.v.02'), Synset('bequeath.v.01'), Synset('leave.v.11'), Synset('leave.v.12'), Synset('impart.v.01'), Synset('forget.v.04'), Synset('left.a.01'), Synset('leftover.s.01'), Synset('left.s.03'), Synset('left.a.04'), Synset('left.r.01')]\n"
          ]
        }
      ]
    },
    {
      "cell_type": "code",
      "source": [
        "!python /content/roget/roget.py"
      ],
      "metadata": {
        "colab": {
          "base_uri": "https://localhost:8080/"
        },
        "id": "9rAFpGwomPHo",
        "outputId": "e6976423-a708-46e0-d588-41f38456c0d3"
      },
      "execution_count": null,
      "outputs": [
        {
          "output_type": "stream",
          "name": "stdout",
          "text": [
            "set()\n"
          ]
        }
      ]
    },
    {
      "cell_type": "code",
      "source": [
        "!git clone https://github.com/MoserMichael/cstuff.git"
      ],
      "metadata": {
        "colab": {
          "base_uri": "https://localhost:8080/"
        },
        "id": "lUMZX2B7pAh6",
        "outputId": "bb2af495-7c7f-4322-fea5-e9bd93c161eb"
      },
      "execution_count": null,
      "outputs": [
        {
          "output_type": "stream",
          "name": "stdout",
          "text": [
            "Cloning into 'cstuff'...\n",
            "remote: Enumerating objects: 16920, done.\u001b[K\n",
            "remote: Counting objects: 100% (196/196), done.\u001b[K\n",
            "remote: Compressing objects: 100% (148/148), done.\u001b[K\n",
            "remote: Total 16920 (delta 83), reused 58 (delta 30), pack-reused 16724\u001b[K\n",
            "Receiving objects: 100% (16920/16920), 29.96 MiB | 19.26 MiB/s, done.\n",
            "Resolving deltas: 100% (12406/12406), done.\n"
          ]
        }
      ]
    }
  ]
}