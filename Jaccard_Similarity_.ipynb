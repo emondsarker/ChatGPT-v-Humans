{
  "cells": [
    {
      "cell_type": "code",
      "execution_count": 1,
      "metadata": {
        "id": "UqDFwb5Jf4RQ"
      },
      "outputs": [],
      "source": [
        "from nltk.translate.bleu_score import sentence_bleu, SmoothingFunction\n",
        "import pandas as pd\n",
        "import string"
      ]
    },
    {
      "cell_type": "code",
      "execution_count": 2,
      "metadata": {
        "id": "XlT-rXMIkVH1"
      },
      "outputs": [],
      "source": [
        "df = pd.read_csv('/content/drive/MyDrive/ChatGPTvHumans/yahoo_answers_csv/humans_v_davinci_5050.csv')"
      ]
    },
    {
      "cell_type": "code",
      "execution_count": 3,
      "metadata": {
        "id": "w65rV9lSknbJ"
      },
      "outputs": [],
      "source": [
        "df_human = df[0:4954]\n",
        "df_chatgpt = df[4954:9908]"
      ]
    },
    {
      "cell_type": "code",
      "execution_count": 4,
      "metadata": {
        "colab": {
          "base_uri": "https://localhost:8080/"
        },
        "id": "kejm9ixKlZXg",
        "outputId": "4f71257b-aafa-46ae-b42e-aa869de8b915"
      },
      "outputs": [
        {
          "output_type": "stream",
          "name": "stdout",
          "text": [
            "                                                data  label\n",
            "0  good communication is what does it.  Can you m...  human\n",
            "1  this provides camouflage - predator vision is ...  human\n",
            "2                                         waterspout  human\n",
            "3  One difference between a Bachelors and a Maste...  human\n",
            "4  Premenstrual syndrome (PMS) is a group of symp...  human                                                    data    label\n",
            "4954  Friendship clicks when two people have common ...  davinci\n",
            "4955  Zebras have stripes for a few reasons. Firstly...  davinci\n",
            "4956  The itsy bitsy spider climbed up the water spout.  davinci\n",
            "4957  A Bachelor's degree usually takes four years t...  davinci\n",
            "4958  PMS, or premenstrual syndrome, is a combinatio...  davinci\n",
            "                                                   data  label\n",
            "4949  Russia doenst even have close to the weaposn w...  human\n",
            "4950  Most common causes of epistaxis (nosebleed) ar...  human\n",
            "4951  The book is controversial because it dealt wit...  human\n",
            "4952  Depends on where you live and how large an are...  human\n",
            "4953  It is more expensive to go to a concert, than ...  human                                                    data    label\n",
            "9903  Both Russia and the United States have powerfu...  davinci\n",
            "9904  This could be caused by a burst of high blood ...  davinci\n",
            "9905  The novel \"Peyton Place\" by Grace Metalious wa...  davinci\n",
            "9906  Well, predicting the weather can be really dif...  davinci\n",
            "9907  The price of a rock band concert ticket can va...  davinci\n"
          ]
        }
      ],
      "source": [
        "print(df_human.head(),df_chatgpt.head())\n",
        "print(df_human.tail(),df_chatgpt.tail())"
      ]
    },
    {
      "cell_type": "code",
      "execution_count": 5,
      "metadata": {
        "id": "J4D3yI0klz6v"
      },
      "outputs": [],
      "source": [
        "# just get the data column so we can look thru each answer\n",
        "human_data = df_human['data']\n",
        "chatgpt_data = df_chatgpt['data']"
      ]
    },
    {
      "cell_type": "code",
      "source": [
        "# check length\n",
        "print(len(human_data))\n",
        "print(len(chatgpt_data))"
      ],
      "metadata": {
        "colab": {
          "base_uri": "https://localhost:8080/"
        },
        "id": "WsyiqPNIlPtT",
        "outputId": "604d7a4a-ddf1-4cd2-88f2-9aea2366ccc6"
      },
      "execution_count": 6,
      "outputs": [
        {
          "output_type": "stream",
          "name": "stdout",
          "text": [
            "4954\n",
            "4954\n"
          ]
        }
      ]
    },
    {
      "cell_type": "markdown",
      "source": [
        "# Jaccard Sparrow"
      ],
      "metadata": {
        "id": "4IRn0AOTlXn2"
      }
    },
    {
      "cell_type": "code",
      "source": [
        "def Jaccard_Similarity(doc1, doc2): \n",
        "    \n",
        "    # List the unique words in a document\n",
        "    words_doc1 = set(doc1.lower().split()) \n",
        "    words_doc2 = set(doc2.lower().split())\n",
        "    \n",
        "    # Find the intersection of words list of doc1 & doc2\n",
        "    intersection = words_doc1.intersection(words_doc2)\n",
        "\n",
        "    # Find the union of words list of doc1 & doc2\n",
        "    union = words_doc1.union(words_doc2)\n",
        "        \n",
        "    # Calculate Jaccard similarity score \n",
        "    # using length of intersection set divided by length of union set\n",
        "    return float(len(intersection)) / len(union)"
      ],
      "metadata": {
        "id": "_v0S_11ulCx0"
      },
      "execution_count": 7,
      "outputs": []
    },
    {
      "cell_type": "markdown",
      "source": [
        "## Jaccard Similarity per answer basis"
      ],
      "metadata": {
        "id": "HByjPjkGlDos"
      }
    },
    {
      "cell_type": "code",
      "source": [
        "df_jaccard1 = pd.DataFrame(columns=[\"human\",\"davinci\",\"jaccard_similarity\"])\n",
        "index = 0\n",
        "for human, chatgpt in zip(human_data, chatgpt_data):\n",
        "  similarity = Jaccard_Similarity(str(human), str(chatgpt))\n",
        "  df_jaccard1.loc[index,[\"human\"]] = human\n",
        "  df_jaccard1.loc[index,[\"davinci\"]] = chatgpt\n",
        "  df_jaccard1.loc[index,[\"similarity\"]] = similarity\n",
        "  index = index + 1"
      ],
      "metadata": {
        "colab": {
          "base_uri": "https://localhost:8080/",
          "height": 322
        },
        "id": "z98R7m3zlDWj",
        "outputId": "f58721a2-6c10-4281-f4c7-621c19cb95d9"
      },
      "execution_count": 9,
      "outputs": [
        {
          "output_type": "error",
          "ename": "AttributeError",
          "evalue": "ignored",
          "traceback": [
            "\u001b[0;31m---------------------------------------------------------------------------\u001b[0m",
            "\u001b[0;31mAttributeError\u001b[0m                            Traceback (most recent call last)",
            "\u001b[0;32m<ipython-input-9-a5bc9d16207d>\u001b[0m in \u001b[0;36m<module>\u001b[0;34m\u001b[0m\n\u001b[1;32m      7\u001b[0m   \u001b[0mdf_jaccard1\u001b[0m\u001b[0;34m.\u001b[0m\u001b[0mloc\u001b[0m\u001b[0;34m[\u001b[0m\u001b[0mindex\u001b[0m\u001b[0;34m,\u001b[0m\u001b[0;34m[\u001b[0m\u001b[0;34m\"similarity\"\u001b[0m\u001b[0;34m]\u001b[0m\u001b[0;34m]\u001b[0m \u001b[0;34m=\u001b[0m \u001b[0msimilarity\u001b[0m\u001b[0;34m\u001b[0m\u001b[0;34m\u001b[0m\u001b[0m\n\u001b[1;32m      8\u001b[0m   \u001b[0mindex\u001b[0m \u001b[0;34m=\u001b[0m \u001b[0mindex\u001b[0m \u001b[0;34m+\u001b[0m \u001b[0;36m1\u001b[0m\u001b[0;34m\u001b[0m\u001b[0;34m\u001b[0m\u001b[0m\n\u001b[0;32m----> 9\u001b[0;31m \u001b[0mdf\u001b[0m\u001b[0;34m.\u001b[0m\u001b[0mjaccard1\u001b[0m\u001b[0;34m.\u001b[0m\u001b[0mhead\u001b[0m\u001b[0;34m(\u001b[0m\u001b[0;36m100\u001b[0m\u001b[0;34m)\u001b[0m\u001b[0;34m\u001b[0m\u001b[0;34m\u001b[0m\u001b[0m\n\u001b[0m",
            "\u001b[0;32m/usr/local/lib/python3.8/dist-packages/pandas/core/generic.py\u001b[0m in \u001b[0;36m__getattr__\u001b[0;34m(self, name)\u001b[0m\n\u001b[1;32m   5485\u001b[0m         ):\n\u001b[1;32m   5486\u001b[0m             \u001b[0;32mreturn\u001b[0m \u001b[0mself\u001b[0m\u001b[0;34m[\u001b[0m\u001b[0mname\u001b[0m\u001b[0;34m]\u001b[0m\u001b[0;34m\u001b[0m\u001b[0;34m\u001b[0m\u001b[0m\n\u001b[0;32m-> 5487\u001b[0;31m         \u001b[0;32mreturn\u001b[0m \u001b[0mobject\u001b[0m\u001b[0;34m.\u001b[0m\u001b[0m__getattribute__\u001b[0m\u001b[0;34m(\u001b[0m\u001b[0mself\u001b[0m\u001b[0;34m,\u001b[0m \u001b[0mname\u001b[0m\u001b[0;34m)\u001b[0m\u001b[0;34m\u001b[0m\u001b[0;34m\u001b[0m\u001b[0m\n\u001b[0m\u001b[1;32m   5488\u001b[0m \u001b[0;34m\u001b[0m\u001b[0m\n\u001b[1;32m   5489\u001b[0m     \u001b[0;32mdef\u001b[0m \u001b[0m__setattr__\u001b[0m\u001b[0;34m(\u001b[0m\u001b[0mself\u001b[0m\u001b[0;34m,\u001b[0m \u001b[0mname\u001b[0m\u001b[0;34m:\u001b[0m \u001b[0mstr\u001b[0m\u001b[0;34m,\u001b[0m \u001b[0mvalue\u001b[0m\u001b[0;34m)\u001b[0m \u001b[0;34m->\u001b[0m \u001b[0;32mNone\u001b[0m\u001b[0;34m:\u001b[0m\u001b[0;34m\u001b[0m\u001b[0;34m\u001b[0m\u001b[0m\n",
            "\u001b[0;31mAttributeError\u001b[0m: 'DataFrame' object has no attribute 'jaccard1'"
          ]
        }
      ]
    },
    {
      "cell_type": "code",
      "source": [
        "df_jaccard1.head(100)"
      ],
      "metadata": {
        "colab": {
          "base_uri": "https://localhost:8080/",
          "height": 424
        },
        "id": "Ec4M189-nlPa",
        "outputId": "f8f3642c-609b-4378-ece4-d10b13e3870e"
      },
      "execution_count": 10,
      "outputs": [
        {
          "output_type": "execute_result",
          "data": {
            "text/plain": [
              "                                                human  \\\n",
              "0   good communication is what does it.  Can you m...   \n",
              "1   this provides camouflage - predator vision is ...   \n",
              "2                                          waterspout   \n",
              "3   One difference between a Bachelors and a Maste...   \n",
              "4   Premenstrual syndrome (PMS) is a group of symp...   \n",
              "..                                                ...   \n",
              "95  The Xiphoid, attached to the sternum is bone w...   \n",
              "96  I think yes! due to the technology we have, al...   \n",
              "97  No, both the full-screen (ASIN: B00005N89B) an...   \n",
              "98  it's b/c it's in HTML. at the bottom of the e-...   \n",
              "99  Like THAT (1st link) ^_^. It looks like our ke...   \n",
              "\n",
              "                                              davinci jaccard_similarity  \\\n",
              "0   Friendship clicks when two people have common ...                NaN   \n",
              "1   Zebras have stripes for a few reasons. Firstly...                NaN   \n",
              "2   The itsy bitsy spider climbed up the water spout.                NaN   \n",
              "3   A Bachelor's degree usually takes four years t...                NaN   \n",
              "4   PMS, or premenstrual syndrome, is a combinatio...                NaN   \n",
              "..                                                ...                ...   \n",
              "95                                          Wishbone.                NaN   \n",
              "96  I don't know. It's certainly possible, but it ...                NaN   \n",
              "97  Yes, there is a Spanish-language DVD version o...                NaN   \n",
              "98  It could be because the email you received was...                NaN   \n",
              "99  A Japanese keyboard typically looks similar to...                NaN   \n",
              "\n",
              "    similarity  \n",
              "0     0.054054  \n",
              "1     0.072464  \n",
              "2     0.000000  \n",
              "3     0.106796  \n",
              "4     0.250000  \n",
              "..         ...  \n",
              "95    0.000000  \n",
              "96    0.112500  \n",
              "97    0.054054  \n",
              "98    0.089286  \n",
              "99    0.080000  \n",
              "\n",
              "[100 rows x 4 columns]"
            ],
            "text/html": [
              "\n",
              "  <div id=\"df-a9949845-bab2-438f-82cc-e7f8951bbc17\">\n",
              "    <div class=\"colab-df-container\">\n",
              "      <div>\n",
              "<style scoped>\n",
              "    .dataframe tbody tr th:only-of-type {\n",
              "        vertical-align: middle;\n",
              "    }\n",
              "\n",
              "    .dataframe tbody tr th {\n",
              "        vertical-align: top;\n",
              "    }\n",
              "\n",
              "    .dataframe thead th {\n",
              "        text-align: right;\n",
              "    }\n",
              "</style>\n",
              "<table border=\"1\" class=\"dataframe\">\n",
              "  <thead>\n",
              "    <tr style=\"text-align: right;\">\n",
              "      <th></th>\n",
              "      <th>human</th>\n",
              "      <th>davinci</th>\n",
              "      <th>jaccard_similarity</th>\n",
              "      <th>similarity</th>\n",
              "    </tr>\n",
              "  </thead>\n",
              "  <tbody>\n",
              "    <tr>\n",
              "      <th>0</th>\n",
              "      <td>good communication is what does it.  Can you m...</td>\n",
              "      <td>Friendship clicks when two people have common ...</td>\n",
              "      <td>NaN</td>\n",
              "      <td>0.054054</td>\n",
              "    </tr>\n",
              "    <tr>\n",
              "      <th>1</th>\n",
              "      <td>this provides camouflage - predator vision is ...</td>\n",
              "      <td>Zebras have stripes for a few reasons. Firstly...</td>\n",
              "      <td>NaN</td>\n",
              "      <td>0.072464</td>\n",
              "    </tr>\n",
              "    <tr>\n",
              "      <th>2</th>\n",
              "      <td>waterspout</td>\n",
              "      <td>The itsy bitsy spider climbed up the water spout.</td>\n",
              "      <td>NaN</td>\n",
              "      <td>0.000000</td>\n",
              "    </tr>\n",
              "    <tr>\n",
              "      <th>3</th>\n",
              "      <td>One difference between a Bachelors and a Maste...</td>\n",
              "      <td>A Bachelor's degree usually takes four years t...</td>\n",
              "      <td>NaN</td>\n",
              "      <td>0.106796</td>\n",
              "    </tr>\n",
              "    <tr>\n",
              "      <th>4</th>\n",
              "      <td>Premenstrual syndrome (PMS) is a group of symp...</td>\n",
              "      <td>PMS, or premenstrual syndrome, is a combinatio...</td>\n",
              "      <td>NaN</td>\n",
              "      <td>0.250000</td>\n",
              "    </tr>\n",
              "    <tr>\n",
              "      <th>...</th>\n",
              "      <td>...</td>\n",
              "      <td>...</td>\n",
              "      <td>...</td>\n",
              "      <td>...</td>\n",
              "    </tr>\n",
              "    <tr>\n",
              "      <th>95</th>\n",
              "      <td>The Xiphoid, attached to the sternum is bone w...</td>\n",
              "      <td>Wishbone.</td>\n",
              "      <td>NaN</td>\n",
              "      <td>0.000000</td>\n",
              "    </tr>\n",
              "    <tr>\n",
              "      <th>96</th>\n",
              "      <td>I think yes! due to the technology we have, al...</td>\n",
              "      <td>I don't know. It's certainly possible, but it ...</td>\n",
              "      <td>NaN</td>\n",
              "      <td>0.112500</td>\n",
              "    </tr>\n",
              "    <tr>\n",
              "      <th>97</th>\n",
              "      <td>No, both the full-screen (ASIN: B00005N89B) an...</td>\n",
              "      <td>Yes, there is a Spanish-language DVD version o...</td>\n",
              "      <td>NaN</td>\n",
              "      <td>0.054054</td>\n",
              "    </tr>\n",
              "    <tr>\n",
              "      <th>98</th>\n",
              "      <td>it's b/c it's in HTML. at the bottom of the e-...</td>\n",
              "      <td>It could be because the email you received was...</td>\n",
              "      <td>NaN</td>\n",
              "      <td>0.089286</td>\n",
              "    </tr>\n",
              "    <tr>\n",
              "      <th>99</th>\n",
              "      <td>Like THAT (1st link) ^_^. It looks like our ke...</td>\n",
              "      <td>A Japanese keyboard typically looks similar to...</td>\n",
              "      <td>NaN</td>\n",
              "      <td>0.080000</td>\n",
              "    </tr>\n",
              "  </tbody>\n",
              "</table>\n",
              "<p>100 rows × 4 columns</p>\n",
              "</div>\n",
              "      <button class=\"colab-df-convert\" onclick=\"convertToInteractive('df-a9949845-bab2-438f-82cc-e7f8951bbc17')\"\n",
              "              title=\"Convert this dataframe to an interactive table.\"\n",
              "              style=\"display:none;\">\n",
              "        \n",
              "  <svg xmlns=\"http://www.w3.org/2000/svg\" height=\"24px\"viewBox=\"0 0 24 24\"\n",
              "       width=\"24px\">\n",
              "    <path d=\"M0 0h24v24H0V0z\" fill=\"none\"/>\n",
              "    <path d=\"M18.56 5.44l.94 2.06.94-2.06 2.06-.94-2.06-.94-.94-2.06-.94 2.06-2.06.94zm-11 1L8.5 8.5l.94-2.06 2.06-.94-2.06-.94L8.5 2.5l-.94 2.06-2.06.94zm10 10l.94 2.06.94-2.06 2.06-.94-2.06-.94-.94-2.06-.94 2.06-2.06.94z\"/><path d=\"M17.41 7.96l-1.37-1.37c-.4-.4-.92-.59-1.43-.59-.52 0-1.04.2-1.43.59L10.3 9.45l-7.72 7.72c-.78.78-.78 2.05 0 2.83L4 21.41c.39.39.9.59 1.41.59.51 0 1.02-.2 1.41-.59l7.78-7.78 2.81-2.81c.8-.78.8-2.07 0-2.86zM5.41 20L4 18.59l7.72-7.72 1.47 1.35L5.41 20z\"/>\n",
              "  </svg>\n",
              "      </button>\n",
              "      \n",
              "  <style>\n",
              "    .colab-df-container {\n",
              "      display:flex;\n",
              "      flex-wrap:wrap;\n",
              "      gap: 12px;\n",
              "    }\n",
              "\n",
              "    .colab-df-convert {\n",
              "      background-color: #E8F0FE;\n",
              "      border: none;\n",
              "      border-radius: 50%;\n",
              "      cursor: pointer;\n",
              "      display: none;\n",
              "      fill: #1967D2;\n",
              "      height: 32px;\n",
              "      padding: 0 0 0 0;\n",
              "      width: 32px;\n",
              "    }\n",
              "\n",
              "    .colab-df-convert:hover {\n",
              "      background-color: #E2EBFA;\n",
              "      box-shadow: 0px 1px 2px rgba(60, 64, 67, 0.3), 0px 1px 3px 1px rgba(60, 64, 67, 0.15);\n",
              "      fill: #174EA6;\n",
              "    }\n",
              "\n",
              "    [theme=dark] .colab-df-convert {\n",
              "      background-color: #3B4455;\n",
              "      fill: #D2E3FC;\n",
              "    }\n",
              "\n",
              "    [theme=dark] .colab-df-convert:hover {\n",
              "      background-color: #434B5C;\n",
              "      box-shadow: 0px 1px 3px 1px rgba(0, 0, 0, 0.15);\n",
              "      filter: drop-shadow(0px 1px 2px rgba(0, 0, 0, 0.3));\n",
              "      fill: #FFFFFF;\n",
              "    }\n",
              "  </style>\n",
              "\n",
              "      <script>\n",
              "        const buttonEl =\n",
              "          document.querySelector('#df-a9949845-bab2-438f-82cc-e7f8951bbc17 button.colab-df-convert');\n",
              "        buttonEl.style.display =\n",
              "          google.colab.kernel.accessAllowed ? 'block' : 'none';\n",
              "\n",
              "        async function convertToInteractive(key) {\n",
              "          const element = document.querySelector('#df-a9949845-bab2-438f-82cc-e7f8951bbc17');\n",
              "          const dataTable =\n",
              "            await google.colab.kernel.invokeFunction('convertToInteractive',\n",
              "                                                     [key], {});\n",
              "          if (!dataTable) return;\n",
              "\n",
              "          const docLinkHtml = 'Like what you see? Visit the ' +\n",
              "            '<a target=\"_blank\" href=https://colab.research.google.com/notebooks/data_table.ipynb>data table notebook</a>'\n",
              "            + ' to learn more about interactive tables.';\n",
              "          element.innerHTML = '';\n",
              "          dataTable['output_type'] = 'display_data';\n",
              "          await google.colab.output.renderOutput(dataTable, element);\n",
              "          const docLink = document.createElement('div');\n",
              "          docLink.innerHTML = docLinkHtml;\n",
              "          element.appendChild(docLink);\n",
              "        }\n",
              "      </script>\n",
              "    </div>\n",
              "  </div>\n",
              "  "
            ]
          },
          "metadata": {},
          "execution_count": 10
        }
      ]
    },
    {
      "cell_type": "code",
      "source": [
        "df_jaccard1.to_csv('/content/drive/MyDrive/ChatGPTvHumans/yahoo_answers_csv/humans_v_davinci_jaccard.csv')"
      ],
      "metadata": {
        "id": "egilwAh9nucT"
      },
      "execution_count": 11,
      "outputs": []
    },
    {
      "cell_type": "markdown",
      "source": [
        "## Jaccard Similarity per corpus"
      ],
      "metadata": {
        "id": "Q4jDDnB8oGO2"
      }
    },
    {
      "cell_type": "code",
      "source": [
        "# make the corpus\n",
        "\n",
        "human_corpus = \"\"\n",
        "chatgpt_corpus = \"\"\n",
        "\n",
        "for human, chatgpt in zip(human_data, chatgpt_data):\n",
        "  human = str(human)\n",
        "  human = human.translate(str.maketrans('','', string.punctuation))\n",
        "  chatgpt = str(chatgpt)\n",
        "  chatgpt = chatgpt.translate(str.maketrans('','', string.punctuation))\n",
        "  \n",
        "  # concat \n",
        "  human_corpus = human_corpus + human\n",
        "  chatgpt_corpus = chatgpt_corpus + chatgpt"
      ],
      "metadata": {
        "id": "ErhvaA7KpKsz"
      },
      "execution_count": 20,
      "outputs": []
    },
    {
      "cell_type": "code",
      "source": [
        "similarity = Jaccard_Similarity(human_corpus, chatgpt_corpus)\n",
        "print(\"Jaccard Similarity based on corpus is \", similarity)"
      ],
      "metadata": {
        "colab": {
          "base_uri": "https://localhost:8080/"
        },
        "outputId": "56cae474-d4d9-4b96-c075-d89f2e80b26b",
        "id": "oeHsLyWzoGO2"
      },
      "execution_count": 22,
      "outputs": [
        {
          "output_type": "stream",
          "name": "stdout",
          "text": [
            "Jaccard Similarity based on corpus is  0.2543823292781042\n"
          ]
        }
      ]
    }
  ],
  "metadata": {
    "colab": {
      "provenance": []
    },
    "kernelspec": {
      "display_name": "Python 3",
      "name": "python3"
    },
    "language_info": {
      "name": "python"
    }
  },
  "nbformat": 4,
  "nbformat_minor": 0
}